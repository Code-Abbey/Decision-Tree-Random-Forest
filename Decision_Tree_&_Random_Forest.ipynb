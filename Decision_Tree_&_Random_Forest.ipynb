{
  "nbformat": 4,
  "nbformat_minor": 0,
  "metadata": {
    "colab": {
      "name": "Decision Tree & Random Forest.ipynb",
      "provenance": [],
      "mount_file_id": "1J2KKzZ-rw8R_EHhx45QSdOuWD3kPb2Lv",
      "authorship_tag": "ABX9TyORngGuh9oQU7fBuiDoyycs",
      "include_colab_link": true
    },
    "kernelspec": {
      "name": "python3",
      "display_name": "Python 3"
    },
    "language_info": {
      "name": "python"
    }
  },
  "cells": [
    {
      "cell_type": "markdown",
      "metadata": {
        "id": "view-in-github",
        "colab_type": "text"
      },
      "source": [
        "<a href=\"https://colab.research.google.com/github/Code-Abbey/Decision-Tree-Random-Forest/blob/main/Decision_Tree_%26_Random_Forest.ipynb\" target=\"_parent\"><img src=\"https://colab.research.google.com/assets/colab-badge.svg\" alt=\"Open In Colab\"/></a>"
      ]
    },
    {
      "cell_type": "code",
      "execution_count": 1,
      "metadata": {
        "id": "wOpfMeUxVFya"
      },
      "outputs": [],
      "source": [
        "import pandas as pd"
      ]
    },
    {
      "cell_type": "code",
      "source": [
        "#Load Dataset\n",
        "df = pd.read_csv(\"/content/drive/MyDrive/Machine Learning/titanic-passengers.csv\", delimiter=\";\")"
      ],
      "metadata": {
        "id": "NDmZaUQgVbu5"
      },
      "execution_count": 2,
      "outputs": []
    },
    {
      "cell_type": "code",
      "source": [
        "#Show dataset head\n",
        "df.head()"
      ],
      "metadata": {
        "colab": {
          "base_uri": "https://localhost:8080/",
          "height": 206
        },
        "id": "yIHp-vyoV7vu",
        "outputId": "bd5091db-e7f9-4178-bce9-6d09f6c89d16"
      },
      "execution_count": 3,
      "outputs": [
        {
          "output_type": "execute_result",
          "data": {
            "text/html": [
              "<div>\n",
              "<style scoped>\n",
              "    .dataframe tbody tr th:only-of-type {\n",
              "        vertical-align: middle;\n",
              "    }\n",
              "\n",
              "    .dataframe tbody tr th {\n",
              "        vertical-align: top;\n",
              "    }\n",
              "\n",
              "    .dataframe thead th {\n",
              "        text-align: right;\n",
              "    }\n",
              "</style>\n",
              "<table border=\"1\" class=\"dataframe\">\n",
              "  <thead>\n",
              "    <tr style=\"text-align: right;\">\n",
              "      <th></th>\n",
              "      <th>PassengerId</th>\n",
              "      <th>Survived</th>\n",
              "      <th>Pclass</th>\n",
              "      <th>Name</th>\n",
              "      <th>Sex</th>\n",
              "      <th>Age</th>\n",
              "      <th>SibSp</th>\n",
              "      <th>Parch</th>\n",
              "      <th>Ticket</th>\n",
              "      <th>Fare</th>\n",
              "      <th>Cabin</th>\n",
              "      <th>Embarked</th>\n",
              "    </tr>\n",
              "  </thead>\n",
              "  <tbody>\n",
              "    <tr>\n",
              "      <th>0</th>\n",
              "      <td>343</td>\n",
              "      <td>No</td>\n",
              "      <td>2</td>\n",
              "      <td>Collander, Mr. Erik Gustaf</td>\n",
              "      <td>male</td>\n",
              "      <td>28.0</td>\n",
              "      <td>0</td>\n",
              "      <td>0</td>\n",
              "      <td>248740</td>\n",
              "      <td>13.0000</td>\n",
              "      <td>NaN</td>\n",
              "      <td>S</td>\n",
              "    </tr>\n",
              "    <tr>\n",
              "      <th>1</th>\n",
              "      <td>76</td>\n",
              "      <td>No</td>\n",
              "      <td>3</td>\n",
              "      <td>Moen, Mr. Sigurd Hansen</td>\n",
              "      <td>male</td>\n",
              "      <td>25.0</td>\n",
              "      <td>0</td>\n",
              "      <td>0</td>\n",
              "      <td>348123</td>\n",
              "      <td>7.6500</td>\n",
              "      <td>F G73</td>\n",
              "      <td>S</td>\n",
              "    </tr>\n",
              "    <tr>\n",
              "      <th>2</th>\n",
              "      <td>641</td>\n",
              "      <td>No</td>\n",
              "      <td>3</td>\n",
              "      <td>Jensen, Mr. Hans Peder</td>\n",
              "      <td>male</td>\n",
              "      <td>20.0</td>\n",
              "      <td>0</td>\n",
              "      <td>0</td>\n",
              "      <td>350050</td>\n",
              "      <td>7.8542</td>\n",
              "      <td>NaN</td>\n",
              "      <td>S</td>\n",
              "    </tr>\n",
              "    <tr>\n",
              "      <th>3</th>\n",
              "      <td>568</td>\n",
              "      <td>No</td>\n",
              "      <td>3</td>\n",
              "      <td>Palsson, Mrs. Nils (Alma Cornelia Berglund)</td>\n",
              "      <td>female</td>\n",
              "      <td>29.0</td>\n",
              "      <td>0</td>\n",
              "      <td>4</td>\n",
              "      <td>349909</td>\n",
              "      <td>21.0750</td>\n",
              "      <td>NaN</td>\n",
              "      <td>S</td>\n",
              "    </tr>\n",
              "    <tr>\n",
              "      <th>4</th>\n",
              "      <td>672</td>\n",
              "      <td>No</td>\n",
              "      <td>1</td>\n",
              "      <td>Davidson, Mr. Thornton</td>\n",
              "      <td>male</td>\n",
              "      <td>31.0</td>\n",
              "      <td>1</td>\n",
              "      <td>0</td>\n",
              "      <td>F.C. 12750</td>\n",
              "      <td>52.0000</td>\n",
              "      <td>B71</td>\n",
              "      <td>S</td>\n",
              "    </tr>\n",
              "  </tbody>\n",
              "</table>\n",
              "</div>"
            ],
            "text/plain": [
              "   PassengerId Survived  Pclass  ...     Fare  Cabin  Embarked\n",
              "0          343       No       2  ...  13.0000    NaN         S\n",
              "1           76       No       3  ...   7.6500  F G73         S\n",
              "2          641       No       3  ...   7.8542    NaN         S\n",
              "3          568       No       3  ...  21.0750    NaN         S\n",
              "4          672       No       1  ...  52.0000    B71         S\n",
              "\n",
              "[5 rows x 12 columns]"
            ]
          },
          "metadata": {},
          "execution_count": 3
        }
      ]
    },
    {
      "cell_type": "markdown",
      "source": [
        "**Dataset Info.**"
      ],
      "metadata": {
        "id": "kV6IH-tIWWis"
      }
    },
    {
      "cell_type": "code",
      "source": [
        "df.shape"
      ],
      "metadata": {
        "colab": {
          "base_uri": "https://localhost:8080/"
        },
        "id": "djgF-0mQWEhi",
        "outputId": "00cea63f-fc73-499c-edaa-d986ba44cedb"
      },
      "execution_count": 4,
      "outputs": [
        {
          "output_type": "execute_result",
          "data": {
            "text/plain": [
              "(891, 12)"
            ]
          },
          "metadata": {},
          "execution_count": 4
        }
      ]
    },
    {
      "cell_type": "code",
      "source": [
        "df.info()"
      ],
      "metadata": {
        "colab": {
          "base_uri": "https://localhost:8080/"
        },
        "id": "6_ov6Lv3WQXa",
        "outputId": "952da216-8c10-497e-b442-4e82f8489bf2"
      },
      "execution_count": 5,
      "outputs": [
        {
          "output_type": "stream",
          "name": "stdout",
          "text": [
            "<class 'pandas.core.frame.DataFrame'>\n",
            "RangeIndex: 891 entries, 0 to 890\n",
            "Data columns (total 12 columns):\n",
            " #   Column       Non-Null Count  Dtype  \n",
            "---  ------       --------------  -----  \n",
            " 0   PassengerId  891 non-null    int64  \n",
            " 1   Survived     891 non-null    object \n",
            " 2   Pclass       891 non-null    int64  \n",
            " 3   Name         891 non-null    object \n",
            " 4   Sex          891 non-null    object \n",
            " 5   Age          714 non-null    float64\n",
            " 6   SibSp        891 non-null    int64  \n",
            " 7   Parch        891 non-null    int64  \n",
            " 8   Ticket       891 non-null    object \n",
            " 9   Fare         891 non-null    float64\n",
            " 10  Cabin        204 non-null    object \n",
            " 11  Embarked     889 non-null    object \n",
            "dtypes: float64(2), int64(4), object(6)\n",
            "memory usage: 83.7+ KB\n"
          ]
        }
      ]
    },
    {
      "cell_type": "markdown",
      "source": [
        "**Finding Missing Value**"
      ],
      "metadata": {
        "id": "7yg6L-VoWnbn"
      }
    },
    {
      "cell_type": "code",
      "source": [
        "df.isnull()"
      ],
      "metadata": {
        "colab": {
          "base_uri": "https://localhost:8080/",
          "height": 424
        },
        "id": "N1_EVgBtWsNs",
        "outputId": "b67c0272-4ff9-4c03-dbc4-e45c5595cd9a"
      },
      "execution_count": 6,
      "outputs": [
        {
          "output_type": "execute_result",
          "data": {
            "text/html": [
              "<div>\n",
              "<style scoped>\n",
              "    .dataframe tbody tr th:only-of-type {\n",
              "        vertical-align: middle;\n",
              "    }\n",
              "\n",
              "    .dataframe tbody tr th {\n",
              "        vertical-align: top;\n",
              "    }\n",
              "\n",
              "    .dataframe thead th {\n",
              "        text-align: right;\n",
              "    }\n",
              "</style>\n",
              "<table border=\"1\" class=\"dataframe\">\n",
              "  <thead>\n",
              "    <tr style=\"text-align: right;\">\n",
              "      <th></th>\n",
              "      <th>PassengerId</th>\n",
              "      <th>Survived</th>\n",
              "      <th>Pclass</th>\n",
              "      <th>Name</th>\n",
              "      <th>Sex</th>\n",
              "      <th>Age</th>\n",
              "      <th>SibSp</th>\n",
              "      <th>Parch</th>\n",
              "      <th>Ticket</th>\n",
              "      <th>Fare</th>\n",
              "      <th>Cabin</th>\n",
              "      <th>Embarked</th>\n",
              "    </tr>\n",
              "  </thead>\n",
              "  <tbody>\n",
              "    <tr>\n",
              "      <th>0</th>\n",
              "      <td>False</td>\n",
              "      <td>False</td>\n",
              "      <td>False</td>\n",
              "      <td>False</td>\n",
              "      <td>False</td>\n",
              "      <td>False</td>\n",
              "      <td>False</td>\n",
              "      <td>False</td>\n",
              "      <td>False</td>\n",
              "      <td>False</td>\n",
              "      <td>True</td>\n",
              "      <td>False</td>\n",
              "    </tr>\n",
              "    <tr>\n",
              "      <th>1</th>\n",
              "      <td>False</td>\n",
              "      <td>False</td>\n",
              "      <td>False</td>\n",
              "      <td>False</td>\n",
              "      <td>False</td>\n",
              "      <td>False</td>\n",
              "      <td>False</td>\n",
              "      <td>False</td>\n",
              "      <td>False</td>\n",
              "      <td>False</td>\n",
              "      <td>False</td>\n",
              "      <td>False</td>\n",
              "    </tr>\n",
              "    <tr>\n",
              "      <th>2</th>\n",
              "      <td>False</td>\n",
              "      <td>False</td>\n",
              "      <td>False</td>\n",
              "      <td>False</td>\n",
              "      <td>False</td>\n",
              "      <td>False</td>\n",
              "      <td>False</td>\n",
              "      <td>False</td>\n",
              "      <td>False</td>\n",
              "      <td>False</td>\n",
              "      <td>True</td>\n",
              "      <td>False</td>\n",
              "    </tr>\n",
              "    <tr>\n",
              "      <th>3</th>\n",
              "      <td>False</td>\n",
              "      <td>False</td>\n",
              "      <td>False</td>\n",
              "      <td>False</td>\n",
              "      <td>False</td>\n",
              "      <td>False</td>\n",
              "      <td>False</td>\n",
              "      <td>False</td>\n",
              "      <td>False</td>\n",
              "      <td>False</td>\n",
              "      <td>True</td>\n",
              "      <td>False</td>\n",
              "    </tr>\n",
              "    <tr>\n",
              "      <th>4</th>\n",
              "      <td>False</td>\n",
              "      <td>False</td>\n",
              "      <td>False</td>\n",
              "      <td>False</td>\n",
              "      <td>False</td>\n",
              "      <td>False</td>\n",
              "      <td>False</td>\n",
              "      <td>False</td>\n",
              "      <td>False</td>\n",
              "      <td>False</td>\n",
              "      <td>False</td>\n",
              "      <td>False</td>\n",
              "    </tr>\n",
              "    <tr>\n",
              "      <th>...</th>\n",
              "      <td>...</td>\n",
              "      <td>...</td>\n",
              "      <td>...</td>\n",
              "      <td>...</td>\n",
              "      <td>...</td>\n",
              "      <td>...</td>\n",
              "      <td>...</td>\n",
              "      <td>...</td>\n",
              "      <td>...</td>\n",
              "      <td>...</td>\n",
              "      <td>...</td>\n",
              "      <td>...</td>\n",
              "    </tr>\n",
              "    <tr>\n",
              "      <th>886</th>\n",
              "      <td>False</td>\n",
              "      <td>False</td>\n",
              "      <td>False</td>\n",
              "      <td>False</td>\n",
              "      <td>False</td>\n",
              "      <td>False</td>\n",
              "      <td>False</td>\n",
              "      <td>False</td>\n",
              "      <td>False</td>\n",
              "      <td>False</td>\n",
              "      <td>True</td>\n",
              "      <td>False</td>\n",
              "    </tr>\n",
              "    <tr>\n",
              "      <th>887</th>\n",
              "      <td>False</td>\n",
              "      <td>False</td>\n",
              "      <td>False</td>\n",
              "      <td>False</td>\n",
              "      <td>False</td>\n",
              "      <td>False</td>\n",
              "      <td>False</td>\n",
              "      <td>False</td>\n",
              "      <td>False</td>\n",
              "      <td>False</td>\n",
              "      <td>True</td>\n",
              "      <td>False</td>\n",
              "    </tr>\n",
              "    <tr>\n",
              "      <th>888</th>\n",
              "      <td>False</td>\n",
              "      <td>False</td>\n",
              "      <td>False</td>\n",
              "      <td>False</td>\n",
              "      <td>False</td>\n",
              "      <td>False</td>\n",
              "      <td>False</td>\n",
              "      <td>False</td>\n",
              "      <td>False</td>\n",
              "      <td>False</td>\n",
              "      <td>True</td>\n",
              "      <td>False</td>\n",
              "    </tr>\n",
              "    <tr>\n",
              "      <th>889</th>\n",
              "      <td>False</td>\n",
              "      <td>False</td>\n",
              "      <td>False</td>\n",
              "      <td>False</td>\n",
              "      <td>False</td>\n",
              "      <td>True</td>\n",
              "      <td>False</td>\n",
              "      <td>False</td>\n",
              "      <td>False</td>\n",
              "      <td>False</td>\n",
              "      <td>True</td>\n",
              "      <td>False</td>\n",
              "    </tr>\n",
              "    <tr>\n",
              "      <th>890</th>\n",
              "      <td>False</td>\n",
              "      <td>False</td>\n",
              "      <td>False</td>\n",
              "      <td>False</td>\n",
              "      <td>False</td>\n",
              "      <td>False</td>\n",
              "      <td>False</td>\n",
              "      <td>False</td>\n",
              "      <td>False</td>\n",
              "      <td>False</td>\n",
              "      <td>True</td>\n",
              "      <td>False</td>\n",
              "    </tr>\n",
              "  </tbody>\n",
              "</table>\n",
              "<p>891 rows × 12 columns</p>\n",
              "</div>"
            ],
            "text/plain": [
              "     PassengerId  Survived  Pclass   Name  ...  Ticket   Fare  Cabin  Embarked\n",
              "0          False     False   False  False  ...   False  False   True     False\n",
              "1          False     False   False  False  ...   False  False  False     False\n",
              "2          False     False   False  False  ...   False  False   True     False\n",
              "3          False     False   False  False  ...   False  False   True     False\n",
              "4          False     False   False  False  ...   False  False  False     False\n",
              "..           ...       ...     ...    ...  ...     ...    ...    ...       ...\n",
              "886        False     False   False  False  ...   False  False   True     False\n",
              "887        False     False   False  False  ...   False  False   True     False\n",
              "888        False     False   False  False  ...   False  False   True     False\n",
              "889        False     False   False  False  ...   False  False   True     False\n",
              "890        False     False   False  False  ...   False  False   True     False\n",
              "\n",
              "[891 rows x 12 columns]"
            ]
          },
          "metadata": {},
          "execution_count": 6
        }
      ]
    },
    {
      "cell_type": "code",
      "source": [
        "#Numbers of missing values in each column\n",
        "df.isnull().sum()"
      ],
      "metadata": {
        "colab": {
          "base_uri": "https://localhost:8080/"
        },
        "id": "8ry9SgMUWzYQ",
        "outputId": "545a9d04-2511-4c2b-92f0-9979ff219799"
      },
      "execution_count": 7,
      "outputs": [
        {
          "output_type": "execute_result",
          "data": {
            "text/plain": [
              "PassengerId      0\n",
              "Survived         0\n",
              "Pclass           0\n",
              "Name             0\n",
              "Sex              0\n",
              "Age            177\n",
              "SibSp            0\n",
              "Parch            0\n",
              "Ticket           0\n",
              "Fare             0\n",
              "Cabin          687\n",
              "Embarked         2\n",
              "dtype: int64"
            ]
          },
          "metadata": {},
          "execution_count": 7
        }
      ]
    },
    {
      "cell_type": "markdown",
      "source": [
        "**Replacing Missing Numerical Values with the appropriate values**"
      ],
      "metadata": {
        "id": "_LX_HFNmXWZ2"
      }
    },
    {
      "cell_type": "code",
      "source": [
        "#Replacing Missing Numerical Values of the \"Age\" Feature\n",
        "df[\"Age\"].fillna(df[\"Age\"].mean(), inplace= True)"
      ],
      "metadata": {
        "id": "RyLFMtK9XL0R"
      },
      "execution_count": 8,
      "outputs": []
    },
    {
      "cell_type": "markdown",
      "source": [
        "**Replacing Missing Categorical Values with the appropriate values**"
      ],
      "metadata": {
        "id": "HmCB6olvXs9v"
      }
    },
    {
      "cell_type": "code",
      "source": [
        "#Number of Elements per Category of the \"Cabin\" Feature\n",
        "print(df[\"Cabin\"].value_counts())"
      ],
      "metadata": {
        "colab": {
          "base_uri": "https://localhost:8080/"
        },
        "id": "HHkNUuNBXhoN",
        "outputId": "fa0857ed-901e-41db-8e0a-0a052d254b06"
      },
      "execution_count": 9,
      "outputs": [
        {
          "output_type": "stream",
          "name": "stdout",
          "text": [
            "G6             4\n",
            "B96 B98        4\n",
            "C23 C25 C27    4\n",
            "F33            3\n",
            "D              3\n",
            "              ..\n",
            "E46            1\n",
            "F E69          1\n",
            "D48            1\n",
            "A5             1\n",
            "B37            1\n",
            "Name: Cabin, Length: 147, dtype: int64\n"
          ]
        }
      ]
    },
    {
      "cell_type": "code",
      "source": [
        "#Replacing Missing Categorical Values of the \"Cabin\" Feature\n",
        "df[\"Cabin\"].fillna(\"G6\", inplace= True)"
      ],
      "metadata": {
        "id": "9-H7nREyX0mQ"
      },
      "execution_count": 10,
      "outputs": []
    },
    {
      "cell_type": "code",
      "source": [
        "#Number of Elements per Category of the \"Embarked\" Feature\n",
        "print(df[\"Embarked\"].value_counts())"
      ],
      "metadata": {
        "colab": {
          "base_uri": "https://localhost:8080/"
        },
        "id": "Er30c1pjYHG_",
        "outputId": "e491716e-8e09-428a-ba86-a8bdffa1c884"
      },
      "execution_count": 11,
      "outputs": [
        {
          "output_type": "stream",
          "name": "stdout",
          "text": [
            "S    644\n",
            "C    168\n",
            "Q     77\n",
            "Name: Embarked, dtype: int64\n"
          ]
        }
      ]
    },
    {
      "cell_type": "code",
      "source": [
        "#Replacing Missing Categorical Values of the \"Embarked\" Feature\n",
        "df[\"Embarked\"].fillna(\"S\", inplace= True)"
      ],
      "metadata": {
        "id": "vU5a9iZIYWAo"
      },
      "execution_count": 12,
      "outputs": []
    },
    {
      "cell_type": "markdown",
      "source": [
        "**Verifiy Data**"
      ],
      "metadata": {
        "id": "WafyeKjaYpz8"
      }
    },
    {
      "cell_type": "code",
      "source": [
        "#Checkout for any missing values\n",
        "df.isnull().sum()"
      ],
      "metadata": {
        "colab": {
          "base_uri": "https://localhost:8080/"
        },
        "id": "G6jbLFb5Yj6g",
        "outputId": "50cad91e-e948-4a51-eb70-aac414f60e99"
      },
      "execution_count": 13,
      "outputs": [
        {
          "output_type": "execute_result",
          "data": {
            "text/plain": [
              "PassengerId    0\n",
              "Survived       0\n",
              "Pclass         0\n",
              "Name           0\n",
              "Sex            0\n",
              "Age            0\n",
              "SibSp          0\n",
              "Parch          0\n",
              "Ticket         0\n",
              "Fare           0\n",
              "Cabin          0\n",
              "Embarked       0\n",
              "dtype: int64"
            ]
          },
          "metadata": {},
          "execution_count": 13
        }
      ]
    },
    {
      "cell_type": "markdown",
      "source": [
        "**Data Visualization**\n",
        "\n",
        "Distribution of the most important features"
      ],
      "metadata": {
        "id": "xbFfkKRLY6BO"
      }
    },
    {
      "cell_type": "code",
      "source": [
        "#\"Age\" Feature Distribution\n",
        "import matplotlib.pyplot as plt \n",
        "plt.title (\"Histogram of Different Ages\")\n",
        "plt.xlabel(\"Age\")\n",
        "df[\"Age\"].plot.hist()"
      ],
      "metadata": {
        "colab": {
          "base_uri": "https://localhost:8080/",
          "height": 312
        },
        "id": "gu1bcB0eY2ge",
        "outputId": "d263c55b-5063-4ed3-a9d8-539c3d29504b"
      },
      "execution_count": 14,
      "outputs": [
        {
          "output_type": "execute_result",
          "data": {
            "text/plain": [
              "<matplotlib.axes._subplots.AxesSubplot at 0x7fd38fd572d0>"
            ]
          },
          "metadata": {},
          "execution_count": 14
        },
        {
          "output_type": "display_data",
          "data": {
            "image/png": "[encoded data removed]",
            "text/plain": [
              "<Figure size 432x288 with 1 Axes>"
            ]
          },
          "metadata": {
            "needs_background": "light"
          }
        }
      ]
    },
    {
      "cell_type": "code",
      "source": [
        "#\"Sex\" Feature Distribution\n",
        "import seaborn as sns\n",
        "sns.countplot(x= \"Sex\", data= df)\n",
        "plt.xticks(rotation=-45)"
      ],
      "metadata": {
        "colab": {
          "base_uri": "https://localhost:8080/",
          "height": 320
        },
        "id": "EQumVyVLZXPT",
        "outputId": "5ad708dc-3a27-465d-b5f0-1317e92f66b6"
      },
      "execution_count": 15,
      "outputs": [
        {
          "output_type": "execute_result",
          "data": {
            "text/plain": [
              "(array([0, 1]), <a list of 2 Text major ticklabel objects>)"
            ]
          },
          "metadata": {},
          "execution_count": 15
        },
        {
          "output_type": "display_data",
          "data": {
            "image/png": "[encoded data removed]",
            "text/plain": [
              "<Figure size 432x288 with 1 Axes>"
            ]
          },
          "metadata": {
            "needs_background": "light"
          }
        }
      ]
    },
    {
      "cell_type": "code",
      "source": [
        "#\"Pclass\" Feature Distribution\n",
        "sns.countplot(x= \"Pclass\", data= df)\n",
        "plt.xticks(rotation=-45)"
      ],
      "metadata": {
        "colab": {
          "base_uri": "https://localhost:8080/",
          "height": 298
        },
        "id": "QnDuTGUZZhB_",
        "outputId": "d94558e7-0adb-4872-94bc-19dd64d0c85f"
      },
      "execution_count": 16,
      "outputs": [
        {
          "output_type": "execute_result",
          "data": {
            "text/plain": [
              "(array([0, 1, 2]), <a list of 3 Text major ticklabel objects>)"
            ]
          },
          "metadata": {},
          "execution_count": 16
        },
        {
          "output_type": "display_data",
          "data": {
            "image/png": "[encoded data removed]",
            "text/plain": [
              "<Figure size 432x288 with 1 Axes>"
            ]
          },
          "metadata": {
            "needs_background": "light"
          }
        }
      ]
    },
    {
      "cell_type": "markdown",
      "source": [
        "*The majority of passengers boarded 3rd class*"
      ],
      "metadata": {
        "id": "yuNqbFGkZxXv"
      }
    },
    {
      "cell_type": "code",
      "source": [
        "#\"Embarked\" Feature Distribution\n",
        "sns.countplot(x= \"Embarked\",data= df)\n",
        "plt.xticks(rotation=-45)"
      ],
      "metadata": {
        "colab": {
          "base_uri": "https://localhost:8080/",
          "height": 299
        },
        "id": "7BaVNYt1Zr6c",
        "outputId": "782395d0-728e-41c0-db3a-c80a8a87f469"
      },
      "execution_count": 17,
      "outputs": [
        {
          "output_type": "execute_result",
          "data": {
            "text/plain": [
              "(array([0, 1, 2]), <a list of 3 Text major ticklabel objects>)"
            ]
          },
          "metadata": {},
          "execution_count": 17
        },
        {
          "output_type": "display_data",
          "data": {
            "image/png": "[encoded data removed]",
            "text/plain": [
              "<Figure size 432x288 with 1 Axes>"
            ]
          },
          "metadata": {
            "needs_background": "light"
          }
        }
      ]
    },
    {
      "cell_type": "markdown",
      "source": [
        "*The majority of passengers embarked at S (Southampton)*"
      ],
      "metadata": {
        "id": "V4EZfSpdaVeG"
      }
    },
    {
      "cell_type": "markdown",
      "source": [
        "**Data Correlation**"
      ],
      "metadata": {
        "id": "yP722jqvcsGZ"
      }
    },
    {
      "cell_type": "code",
      "source": [
        "#Correlation between \"Sex\" and \"Age\"\n",
        "g=sns.FacetGrid(df, row= \"Survived\", col=\"Sex\")\n",
        "g.map(plt.hist, \"Age\", bins=20)"
      ],
      "metadata": {
        "colab": {
          "base_uri": "https://localhost:8080/",
          "height": 458
        },
        "id": "JpDtMGI0aOI_",
        "outputId": "3ae4de94-4f65-4daa-e416-939732d8105e"
      },
      "execution_count": 18,
      "outputs": [
        {
          "output_type": "execute_result",
          "data": {
            "text/plain": [
              "<seaborn.axisgrid.FacetGrid at 0x7fd37d1bda50>"
            ]
          },
          "metadata": {},
          "execution_count": 18
        },
        {
          "output_type": "display_data",
          "data": {
            "image/png": "[encoded data removed]",
            "text/plain": [
              "<Figure size 432x432 with 4 Axes>"
            ]
          },
          "metadata": {
            "needs_background": "light"
          }
        }
      ]
    },
    {
      "cell_type": "code",
      "source": [
        "#Correlation between \"Pclass\" and \"Embarked\"\n",
        "grid=sns.FacetGrid(df, row= \"Survived\", col=\"Pclass\")\n",
        "grid.map(plt.hist, \"Embarked\", bins=20)"
      ],
      "metadata": {
        "colab": {
          "base_uri": "https://localhost:8080/",
          "height": 458
        },
        "id": "G6PUxl6uagaW",
        "outputId": "d74898bd-9a4f-451d-dba9-a7fb3d5e0062"
      },
      "execution_count": 19,
      "outputs": [
        {
          "output_type": "execute_result",
          "data": {
            "text/plain": [
              "<seaborn.axisgrid.FacetGrid at 0x7fd374ef8810>"
            ]
          },
          "metadata": {},
          "execution_count": 19
        },
        {
          "output_type": "display_data",
          "data": {
            "image/png": "[encoded data removed]",
            "text/plain": [
              "<Figure size 648x432 with 6 Axes>"
            ]
          },
          "metadata": {
            "needs_background": "light"
          }
        }
      ]
    },
    {
      "cell_type": "code",
      "source": [
        "#Correlation Heatmap\n",
        "def plot_correlation_map( df ):\n",
        "\n",
        "    corr = df.corr()\n",
        "\n",
        "    s , ax = plt.subplots( figsize =( 12 , 10 ) )\n",
        "\n",
        "    cmap = sns.diverging_palette( 220 , 10 , as_cmap = True )\n",
        "\n",
        "    s = sns.heatmap(\n",
        "\n",
        "        corr, \n",
        "\n",
        "        cmap = cmap,\n",
        "\n",
        "        square=True, \n",
        "\n",
        "        cbar_kws={ 'shrink' : .9 }, \n",
        "\n",
        "        ax=ax, \n",
        "\n",
        "        annot = True, \n",
        "\n",
        "        annot_kws = { 'fontsize' : 12 }\n",
        "        \n",
        "    )\n",
        "\n",
        "plot_correlation_map(df)"
      ],
      "metadata": {
        "colab": {
          "base_uri": "https://localhost:8080/",
          "height": 584
        },
        "id": "tu-dg4pwbAYM",
        "outputId": "d0116b26-1112-49e4-cf19-3c80936025a4"
      },
      "execution_count": 20,
      "outputs": [
        {
          "output_type": "display_data",
          "data": {
            "image/png": "[encoded data removed]",
            "text/plain": [
              "<Figure size 864x720 with 2 Axes>"
            ]
          },
          "metadata": {
            "needs_background": "light"
          }
        }
      ]
    },
    {
      "cell_type": "markdown",
      "source": [
        "  To start with, the number of male passengers we extracted from the \"Sex\" feature distribution is much higher than the number of female passengers. From the correlation between \"Age\" and \"Sex\" features above, we can deduce that females are more likely to survive than males. Also, according to the \"Age\" feature distribution, most passengers are in 15-35 years range. However, a large number of passengers that are between 15 and 25 years old did not survive the incident.\n",
        "\n",
        "  We then visualized the correlation between \"Pclass\" and \"Embarked\" features which supplied us with the information that the 3rd class passengers are more likely to be dead than other classes and 1st class passengers are more likely to survive than other classes.\n",
        "\n",
        " In addition, passengers who embarked at C had a higher survival rate than people who embarked at S or Q. Last but not least, the function we defined was used to build a correlation heatmap which is, in fact, a graphical representation of correlation matrix representing correlation between all the different features of our dataset.\n",
        "\n",
        "  The value of correlation can take any values between -1 and 1. Values closer to zero means there is no linear relationship between the two variables. The closer to 1 the correlation is, the more positively correlated the variables are. The closer to -1 the correlation is, the more negatively correlated the variables are. For example, the correlation between SibSp and Parch variables is equal to 0.41. They are somehow considered to have a moderate positive relationship which means that parents and siblings like to travel together. Also, the correlation between Pclass and Fare variables is equal to -0.55. They have a strong negative correlation which means that higher economic classes (\"Pclasses\") pay more for their trip (\"Fare\")."
      ],
      "metadata": {
        "id": "do_2t8mJbpTF"
      }
    },
    {
      "cell_type": "code",
      "source": [
        "#Correlation grouby between \"Pclass\" and \"Survived\"\n",
        "cleanup= {\"Survived\": {\"No\":0,\"Yes\":1}}\n",
        "df.replace(cleanup, inplace=True)\n",
        "df[[\"Pclass\",\"Survived\"]].groupby([\"Pclass\"], as_index=True).mean()"
      ],
      "metadata": {
        "colab": {
          "base_uri": "https://localhost:8080/",
          "height": 175
        },
        "id": "YIlRKvfRbT0e",
        "outputId": "6310c248-db4d-440b-c351-aa92e8ddd3ca"
      },
      "execution_count": 21,
      "outputs": [
        {
          "output_type": "execute_result",
          "data": {
            "text/html": [
              "<div>\n",
              "<style scoped>\n",
              "    .dataframe tbody tr th:only-of-type {\n",
              "        vertical-align: middle;\n",
              "    }\n",
              "\n",
              "    .dataframe tbody tr th {\n",
              "        vertical-align: top;\n",
              "    }\n",
              "\n",
              "    .dataframe thead th {\n",
              "        text-align: right;\n",
              "    }\n",
              "</style>\n",
              "<table border=\"1\" class=\"dataframe\">\n",
              "  <thead>\n",
              "    <tr style=\"text-align: right;\">\n",
              "      <th></th>\n",
              "      <th>Survived</th>\n",
              "    </tr>\n",
              "    <tr>\n",
              "      <th>Pclass</th>\n",
              "      <th></th>\n",
              "    </tr>\n",
              "  </thead>\n",
              "  <tbody>\n",
              "    <tr>\n",
              "      <th>1</th>\n",
              "      <td>0.629630</td>\n",
              "    </tr>\n",
              "    <tr>\n",
              "      <th>2</th>\n",
              "      <td>0.472826</td>\n",
              "    </tr>\n",
              "    <tr>\n",
              "      <th>3</th>\n",
              "      <td>0.242363</td>\n",
              "    </tr>\n",
              "  </tbody>\n",
              "</table>\n",
              "</div>"
            ],
            "text/plain": [
              "        Survived\n",
              "Pclass          \n",
              "1       0.629630\n",
              "2       0.472826\n",
              "3       0.242363"
            ]
          },
          "metadata": {},
          "execution_count": 21
        }
      ]
    },
    {
      "cell_type": "markdown",
      "source": [
        "**Drop useless columns**"
      ],
      "metadata": {
        "id": "gq9bzVzgdDtW"
      }
    },
    {
      "cell_type": "code",
      "source": [
        "new_data= df.copy()\n",
        "new_data= new_data.drop([\"PassengerId\", \"Name\", \"Ticket\", \"Cabin\"], axis=1)\n",
        "new_data.head()"
      ],
      "metadata": {
        "colab": {
          "base_uri": "https://localhost:8080/",
          "height": 206
        },
        "id": "Kaqz7-6Gc5Nw",
        "outputId": "354d87f4-b0f1-4d21-dc07-3a2d2325163c"
      },
      "execution_count": 22,
      "outputs": [
        {
          "output_type": "execute_result",
          "data": {
            "text/html": [
              "<div>\n",
              "<style scoped>\n",
              "    .dataframe tbody tr th:only-of-type {\n",
              "        vertical-align: middle;\n",
              "    }\n",
              "\n",
              "    .dataframe tbody tr th {\n",
              "        vertical-align: top;\n",
              "    }\n",
              "\n",
              "    .dataframe thead th {\n",
              "        text-align: right;\n",
              "    }\n",
              "</style>\n",
              "<table border=\"1\" class=\"dataframe\">\n",
              "  <thead>\n",
              "    <tr style=\"text-align: right;\">\n",
              "      <th></th>\n",
              "      <th>Survived</th>\n",
              "      <th>Pclass</th>\n",
              "      <th>Sex</th>\n",
              "      <th>Age</th>\n",
              "      <th>SibSp</th>\n",
              "      <th>Parch</th>\n",
              "      <th>Fare</th>\n",
              "      <th>Embarked</th>\n",
              "    </tr>\n",
              "  </thead>\n",
              "  <tbody>\n",
              "    <tr>\n",
              "      <th>0</th>\n",
              "      <td>0</td>\n",
              "      <td>2</td>\n",
              "      <td>male</td>\n",
              "      <td>28.0</td>\n",
              "      <td>0</td>\n",
              "      <td>0</td>\n",
              "      <td>13.0000</td>\n",
              "      <td>S</td>\n",
              "    </tr>\n",
              "    <tr>\n",
              "      <th>1</th>\n",
              "      <td>0</td>\n",
              "      <td>3</td>\n",
              "      <td>male</td>\n",
              "      <td>25.0</td>\n",
              "      <td>0</td>\n",
              "      <td>0</td>\n",
              "      <td>7.6500</td>\n",
              "      <td>S</td>\n",
              "    </tr>\n",
              "    <tr>\n",
              "      <th>2</th>\n",
              "      <td>0</td>\n",
              "      <td>3</td>\n",
              "      <td>male</td>\n",
              "      <td>20.0</td>\n",
              "      <td>0</td>\n",
              "      <td>0</td>\n",
              "      <td>7.8542</td>\n",
              "      <td>S</td>\n",
              "    </tr>\n",
              "    <tr>\n",
              "      <th>3</th>\n",
              "      <td>0</td>\n",
              "      <td>3</td>\n",
              "      <td>female</td>\n",
              "      <td>29.0</td>\n",
              "      <td>0</td>\n",
              "      <td>4</td>\n",
              "      <td>21.0750</td>\n",
              "      <td>S</td>\n",
              "    </tr>\n",
              "    <tr>\n",
              "      <th>4</th>\n",
              "      <td>0</td>\n",
              "      <td>1</td>\n",
              "      <td>male</td>\n",
              "      <td>31.0</td>\n",
              "      <td>1</td>\n",
              "      <td>0</td>\n",
              "      <td>52.0000</td>\n",
              "      <td>S</td>\n",
              "    </tr>\n",
              "  </tbody>\n",
              "</table>\n",
              "</div>"
            ],
            "text/plain": [
              "   Survived  Pclass     Sex   Age  SibSp  Parch     Fare Embarked\n",
              "0         0       2    male  28.0      0      0  13.0000        S\n",
              "1         0       3    male  25.0      0      0   7.6500        S\n",
              "2         0       3    male  20.0      0      0   7.8542        S\n",
              "3         0       3  female  29.0      0      4  21.0750        S\n",
              "4         0       1    male  31.0      1      0  52.0000        S"
            ]
          },
          "metadata": {},
          "execution_count": 22
        }
      ]
    },
    {
      "cell_type": "markdown",
      "source": [
        "**Create a new column \"Title\"**"
      ],
      "metadata": {
        "id": "tf7b6ZHTdYqI"
      }
    },
    {
      "cell_type": "code",
      "source": [
        "new_data['Title'] = df.Name.apply(lambda x: x.split(',')[1].split('.')[0].strip())\n",
        "new_data.head()"
      ],
      "metadata": {
        "colab": {
          "base_uri": "https://localhost:8080/",
          "height": 206
        },
        "id": "QeCx1ZwWdH05",
        "outputId": "3b73f614-64e1-4aff-e862-da37927022c4"
      },
      "execution_count": 23,
      "outputs": [
        {
          "output_type": "execute_result",
          "data": {
            "text/html": [
              "<div>\n",
              "<style scoped>\n",
              "    .dataframe tbody tr th:only-of-type {\n",
              "        vertical-align: middle;\n",
              "    }\n",
              "\n",
              "    .dataframe tbody tr th {\n",
              "        vertical-align: top;\n",
              "    }\n",
              "\n",
              "    .dataframe thead th {\n",
              "        text-align: right;\n",
              "    }\n",
              "</style>\n",
              "<table border=\"1\" class=\"dataframe\">\n",
              "  <thead>\n",
              "    <tr style=\"text-align: right;\">\n",
              "      <th></th>\n",
              "      <th>Survived</th>\n",
              "      <th>Pclass</th>\n",
              "      <th>Sex</th>\n",
              "      <th>Age</th>\n",
              "      <th>SibSp</th>\n",
              "      <th>Parch</th>\n",
              "      <th>Fare</th>\n",
              "      <th>Embarked</th>\n",
              "      <th>Title</th>\n",
              "    </tr>\n",
              "  </thead>\n",
              "  <tbody>\n",
              "    <tr>\n",
              "      <th>0</th>\n",
              "      <td>0</td>\n",
              "      <td>2</td>\n",
              "      <td>male</td>\n",
              "      <td>28.0</td>\n",
              "      <td>0</td>\n",
              "      <td>0</td>\n",
              "      <td>13.0000</td>\n",
              "      <td>S</td>\n",
              "      <td>Mr</td>\n",
              "    </tr>\n",
              "    <tr>\n",
              "      <th>1</th>\n",
              "      <td>0</td>\n",
              "      <td>3</td>\n",
              "      <td>male</td>\n",
              "      <td>25.0</td>\n",
              "      <td>0</td>\n",
              "      <td>0</td>\n",
              "      <td>7.6500</td>\n",
              "      <td>S</td>\n",
              "      <td>Mr</td>\n",
              "    </tr>\n",
              "    <tr>\n",
              "      <th>2</th>\n",
              "      <td>0</td>\n",
              "      <td>3</td>\n",
              "      <td>male</td>\n",
              "      <td>20.0</td>\n",
              "      <td>0</td>\n",
              "      <td>0</td>\n",
              "      <td>7.8542</td>\n",
              "      <td>S</td>\n",
              "      <td>Mr</td>\n",
              "    </tr>\n",
              "    <tr>\n",
              "      <th>3</th>\n",
              "      <td>0</td>\n",
              "      <td>3</td>\n",
              "      <td>female</td>\n",
              "      <td>29.0</td>\n",
              "      <td>0</td>\n",
              "      <td>4</td>\n",
              "      <td>21.0750</td>\n",
              "      <td>S</td>\n",
              "      <td>Mrs</td>\n",
              "    </tr>\n",
              "    <tr>\n",
              "      <th>4</th>\n",
              "      <td>0</td>\n",
              "      <td>1</td>\n",
              "      <td>male</td>\n",
              "      <td>31.0</td>\n",
              "      <td>1</td>\n",
              "      <td>0</td>\n",
              "      <td>52.0000</td>\n",
              "      <td>S</td>\n",
              "      <td>Mr</td>\n",
              "    </tr>\n",
              "  </tbody>\n",
              "</table>\n",
              "</div>"
            ],
            "text/plain": [
              "   Survived  Pclass     Sex   Age  SibSp  Parch     Fare Embarked Title\n",
              "0         0       2    male  28.0      0      0  13.0000        S    Mr\n",
              "1         0       3    male  25.0      0      0   7.6500        S    Mr\n",
              "2         0       3    male  20.0      0      0   7.8542        S    Mr\n",
              "3         0       3  female  29.0      0      4  21.0750        S   Mrs\n",
              "4         0       1    male  31.0      1      0  52.0000        S    Mr"
            ]
          },
          "metadata": {},
          "execution_count": 23
        }
      ]
    },
    {
      "cell_type": "code",
      "source": [
        "#Number of Elements per Category of the \"Title\" Feature\n",
        "print(new_data[\"Title\"].value_counts())"
      ],
      "metadata": {
        "colab": {
          "base_uri": "https://localhost:8080/"
        },
        "id": "Wkr3rsT4dcz2",
        "outputId": "4f810785-48e0-4442-f11d-f23be9062471"
      },
      "execution_count": 24,
      "outputs": [
        {
          "output_type": "stream",
          "name": "stdout",
          "text": [
            "Mr              517\n",
            "Miss            182\n",
            "Mrs             125\n",
            "Master           40\n",
            "Dr                7\n",
            "Rev               6\n",
            "Col               2\n",
            "Major             2\n",
            "Mlle              2\n",
            "Lady              1\n",
            "Ms                1\n",
            "Jonkheer          1\n",
            "Capt              1\n",
            "the Countess      1\n",
            "Mme               1\n",
            "Sir               1\n",
            "Don               1\n",
            "Name: Title, dtype: int64\n"
          ]
        }
      ]
    },
    {
      "cell_type": "markdown",
      "source": [
        "**Correlation between \"Title\" and \"Age\"**"
      ],
      "metadata": {
        "id": "iK-E_c8TdsjW"
      }
    },
    {
      "cell_type": "code",
      "source": [
        "new_data[[\"Age\", \"Title\"]].groupby([\"Title\"], as_index=True).mean()"
      ],
      "metadata": {
        "colab": {
          "base_uri": "https://localhost:8080/",
          "height": 614
        },
        "id": "QnAsMvmOdlHg",
        "outputId": "9363f316-6ca1-47cf-fdf0-30f441bcf473"
      },
      "execution_count": 25,
      "outputs": [
        {
          "output_type": "execute_result",
          "data": {
            "text/html": [
              "<div>\n",
              "<style scoped>\n",
              "    .dataframe tbody tr th:only-of-type {\n",
              "        vertical-align: middle;\n",
              "    }\n",
              "\n",
              "    .dataframe tbody tr th {\n",
              "        vertical-align: top;\n",
              "    }\n",
              "\n",
              "    .dataframe thead th {\n",
              "        text-align: right;\n",
              "    }\n",
              "</style>\n",
              "<table border=\"1\" class=\"dataframe\">\n",
              "  <thead>\n",
              "    <tr style=\"text-align: right;\">\n",
              "      <th></th>\n",
              "      <th>Age</th>\n",
              "    </tr>\n",
              "    <tr>\n",
              "      <th>Title</th>\n",
              "      <th></th>\n",
              "    </tr>\n",
              "  </thead>\n",
              "  <tbody>\n",
              "    <tr>\n",
              "      <th>Capt</th>\n",
              "      <td>70.000000</td>\n",
              "    </tr>\n",
              "    <tr>\n",
              "      <th>Col</th>\n",
              "      <td>58.000000</td>\n",
              "    </tr>\n",
              "    <tr>\n",
              "      <th>Don</th>\n",
              "      <td>40.000000</td>\n",
              "    </tr>\n",
              "    <tr>\n",
              "      <th>Dr</th>\n",
              "      <td>40.242731</td>\n",
              "    </tr>\n",
              "    <tr>\n",
              "      <th>Jonkheer</th>\n",
              "      <td>38.000000</td>\n",
              "    </tr>\n",
              "    <tr>\n",
              "      <th>Lady</th>\n",
              "      <td>48.000000</td>\n",
              "    </tr>\n",
              "    <tr>\n",
              "      <th>Major</th>\n",
              "      <td>48.500000</td>\n",
              "    </tr>\n",
              "    <tr>\n",
              "      <th>Master</th>\n",
              "      <td>7.086662</td>\n",
              "    </tr>\n",
              "    <tr>\n",
              "      <th>Miss</th>\n",
              "      <td>23.341584</td>\n",
              "    </tr>\n",
              "    <tr>\n",
              "      <th>Mlle</th>\n",
              "      <td>24.000000</td>\n",
              "    </tr>\n",
              "    <tr>\n",
              "      <th>Mme</th>\n",
              "      <td>24.000000</td>\n",
              "    </tr>\n",
              "    <tr>\n",
              "      <th>Mr</th>\n",
              "      <td>31.753762</td>\n",
              "    </tr>\n",
              "    <tr>\n",
              "      <th>Mrs</th>\n",
              "      <td>35.055080</td>\n",
              "    </tr>\n",
              "    <tr>\n",
              "      <th>Ms</th>\n",
              "      <td>28.000000</td>\n",
              "    </tr>\n",
              "    <tr>\n",
              "      <th>Rev</th>\n",
              "      <td>43.166667</td>\n",
              "    </tr>\n",
              "    <tr>\n",
              "      <th>Sir</th>\n",
              "      <td>49.000000</td>\n",
              "    </tr>\n",
              "    <tr>\n",
              "      <th>the Countess</th>\n",
              "      <td>33.000000</td>\n",
              "    </tr>\n",
              "  </tbody>\n",
              "</table>\n",
              "</div>"
            ],
            "text/plain": [
              "                    Age\n",
              "Title                  \n",
              "Capt          70.000000\n",
              "Col           58.000000\n",
              "Don           40.000000\n",
              "Dr            40.242731\n",
              "Jonkheer      38.000000\n",
              "Lady          48.000000\n",
              "Major         48.500000\n",
              "Master         7.086662\n",
              "Miss          23.341584\n",
              "Mlle          24.000000\n",
              "Mme           24.000000\n",
              "Mr            31.753762\n",
              "Mrs           35.055080\n",
              "Ms            28.000000\n",
              "Rev           43.166667\n",
              "Sir           49.000000\n",
              "the Countess  33.000000"
            ]
          },
          "metadata": {},
          "execution_count": 25
        }
      ]
    },
    {
      "cell_type": "markdown",
      "source": [
        "**Correlation between \"Title\" and \"Fare\"**"
      ],
      "metadata": {
        "id": "nCB9krA3eOwM"
      }
    },
    {
      "cell_type": "code",
      "source": [
        "new_data[[\"Fare\", \"Title\"]].groupby([\"Title\"], as_index=True).mean()"
      ],
      "metadata": {
        "colab": {
          "base_uri": "https://localhost:8080/",
          "height": 614
        },
        "id": "nfQ5oWeXdxpx",
        "outputId": "3311e6d9-f0d7-42b2-906e-56eedcebaab5"
      },
      "execution_count": 26,
      "outputs": [
        {
          "output_type": "execute_result",
          "data": {
            "text/html": [
              "<div>\n",
              "<style scoped>\n",
              "    .dataframe tbody tr th:only-of-type {\n",
              "        vertical-align: middle;\n",
              "    }\n",
              "\n",
              "    .dataframe tbody tr th {\n",
              "        vertical-align: top;\n",
              "    }\n",
              "\n",
              "    .dataframe thead th {\n",
              "        text-align: right;\n",
              "    }\n",
              "</style>\n",
              "<table border=\"1\" class=\"dataframe\">\n",
              "  <thead>\n",
              "    <tr style=\"text-align: right;\">\n",
              "      <th></th>\n",
              "      <th>Fare</th>\n",
              "    </tr>\n",
              "    <tr>\n",
              "      <th>Title</th>\n",
              "      <th></th>\n",
              "    </tr>\n",
              "  </thead>\n",
              "  <tbody>\n",
              "    <tr>\n",
              "      <th>Capt</th>\n",
              "      <td>71.000000</td>\n",
              "    </tr>\n",
              "    <tr>\n",
              "      <th>Col</th>\n",
              "      <td>31.025000</td>\n",
              "    </tr>\n",
              "    <tr>\n",
              "      <th>Don</th>\n",
              "      <td>27.720800</td>\n",
              "    </tr>\n",
              "    <tr>\n",
              "      <th>Dr</th>\n",
              "      <td>49.168457</td>\n",
              "    </tr>\n",
              "    <tr>\n",
              "      <th>Jonkheer</th>\n",
              "      <td>0.000000</td>\n",
              "    </tr>\n",
              "    <tr>\n",
              "      <th>Lady</th>\n",
              "      <td>39.600000</td>\n",
              "    </tr>\n",
              "    <tr>\n",
              "      <th>Major</th>\n",
              "      <td>28.525000</td>\n",
              "    </tr>\n",
              "    <tr>\n",
              "      <th>Master</th>\n",
              "      <td>34.703125</td>\n",
              "    </tr>\n",
              "    <tr>\n",
              "      <th>Miss</th>\n",
              "      <td>43.797873</td>\n",
              "    </tr>\n",
              "    <tr>\n",
              "      <th>Mlle</th>\n",
              "      <td>59.402100</td>\n",
              "    </tr>\n",
              "    <tr>\n",
              "      <th>Mme</th>\n",
              "      <td>69.300000</td>\n",
              "    </tr>\n",
              "    <tr>\n",
              "      <th>Mr</th>\n",
              "      <td>24.441560</td>\n",
              "    </tr>\n",
              "    <tr>\n",
              "      <th>Mrs</th>\n",
              "      <td>45.138533</td>\n",
              "    </tr>\n",
              "    <tr>\n",
              "      <th>Ms</th>\n",
              "      <td>13.000000</td>\n",
              "    </tr>\n",
              "    <tr>\n",
              "      <th>Rev</th>\n",
              "      <td>18.312500</td>\n",
              "    </tr>\n",
              "    <tr>\n",
              "      <th>Sir</th>\n",
              "      <td>56.929200</td>\n",
              "    </tr>\n",
              "    <tr>\n",
              "      <th>the Countess</th>\n",
              "      <td>86.500000</td>\n",
              "    </tr>\n",
              "  </tbody>\n",
              "</table>\n",
              "</div>"
            ],
            "text/plain": [
              "                   Fare\n",
              "Title                  \n",
              "Capt          71.000000\n",
              "Col           31.025000\n",
              "Don           27.720800\n",
              "Dr            49.168457\n",
              "Jonkheer       0.000000\n",
              "Lady          39.600000\n",
              "Major         28.525000\n",
              "Master        34.703125\n",
              "Miss          43.797873\n",
              "Mlle          59.402100\n",
              "Mme           69.300000\n",
              "Mr            24.441560\n",
              "Mrs           45.138533\n",
              "Ms            13.000000\n",
              "Rev           18.312500\n",
              "Sir           56.929200\n",
              "the Countess  86.500000"
            ]
          },
          "metadata": {},
          "execution_count": 26
        }
      ]
    },
    {
      "cell_type": "markdown",
      "source": [
        "**Correlation between \"Title\" and \"Pclass\"**"
      ],
      "metadata": {
        "id": "EPHWC6PSee6n"
      }
    },
    {
      "cell_type": "code",
      "source": [
        "new_data[[\"Pclass\", \"Title\"]].groupby([\"Title\"], as_index=True).mean()"
      ],
      "metadata": {
        "colab": {
          "base_uri": "https://localhost:8080/",
          "height": 614
        },
        "id": "GDez6hIzeUDW",
        "outputId": "9a50365a-7901-46d0-cd88-c947b5a929ec"
      },
      "execution_count": 27,
      "outputs": [
        {
          "output_type": "execute_result",
          "data": {
            "text/html": [
              "<div>\n",
              "<style scoped>\n",
              "    .dataframe tbody tr th:only-of-type {\n",
              "        vertical-align: middle;\n",
              "    }\n",
              "\n",
              "    .dataframe tbody tr th {\n",
              "        vertical-align: top;\n",
              "    }\n",
              "\n",
              "    .dataframe thead th {\n",
              "        text-align: right;\n",
              "    }\n",
              "</style>\n",
              "<table border=\"1\" class=\"dataframe\">\n",
              "  <thead>\n",
              "    <tr style=\"text-align: right;\">\n",
              "      <th></th>\n",
              "      <th>Pclass</th>\n",
              "    </tr>\n",
              "    <tr>\n",
              "      <th>Title</th>\n",
              "      <th></th>\n",
              "    </tr>\n",
              "  </thead>\n",
              "  <tbody>\n",
              "    <tr>\n",
              "      <th>Capt</th>\n",
              "      <td>1.000000</td>\n",
              "    </tr>\n",
              "    <tr>\n",
              "      <th>Col</th>\n",
              "      <td>1.000000</td>\n",
              "    </tr>\n",
              "    <tr>\n",
              "      <th>Don</th>\n",
              "      <td>1.000000</td>\n",
              "    </tr>\n",
              "    <tr>\n",
              "      <th>Dr</th>\n",
              "      <td>1.285714</td>\n",
              "    </tr>\n",
              "    <tr>\n",
              "      <th>Jonkheer</th>\n",
              "      <td>1.000000</td>\n",
              "    </tr>\n",
              "    <tr>\n",
              "      <th>Lady</th>\n",
              "      <td>1.000000</td>\n",
              "    </tr>\n",
              "    <tr>\n",
              "      <th>Major</th>\n",
              "      <td>1.000000</td>\n",
              "    </tr>\n",
              "    <tr>\n",
              "      <th>Master</th>\n",
              "      <td>2.625000</td>\n",
              "    </tr>\n",
              "    <tr>\n",
              "      <th>Miss</th>\n",
              "      <td>2.307692</td>\n",
              "    </tr>\n",
              "    <tr>\n",
              "      <th>Mlle</th>\n",
              "      <td>1.000000</td>\n",
              "    </tr>\n",
              "    <tr>\n",
              "      <th>Mme</th>\n",
              "      <td>1.000000</td>\n",
              "    </tr>\n",
              "    <tr>\n",
              "      <th>Mr</th>\n",
              "      <td>2.410058</td>\n",
              "    </tr>\n",
              "    <tr>\n",
              "      <th>Mrs</th>\n",
              "      <td>2.000000</td>\n",
              "    </tr>\n",
              "    <tr>\n",
              "      <th>Ms</th>\n",
              "      <td>2.000000</td>\n",
              "    </tr>\n",
              "    <tr>\n",
              "      <th>Rev</th>\n",
              "      <td>2.000000</td>\n",
              "    </tr>\n",
              "    <tr>\n",
              "      <th>Sir</th>\n",
              "      <td>1.000000</td>\n",
              "    </tr>\n",
              "    <tr>\n",
              "      <th>the Countess</th>\n",
              "      <td>1.000000</td>\n",
              "    </tr>\n",
              "  </tbody>\n",
              "</table>\n",
              "</div>"
            ],
            "text/plain": [
              "                Pclass\n",
              "Title                 \n",
              "Capt          1.000000\n",
              "Col           1.000000\n",
              "Don           1.000000\n",
              "Dr            1.285714\n",
              "Jonkheer      1.000000\n",
              "Lady          1.000000\n",
              "Major         1.000000\n",
              "Master        2.625000\n",
              "Miss          2.307692\n",
              "Mlle          1.000000\n",
              "Mme           1.000000\n",
              "Mr            2.410058\n",
              "Mrs           2.000000\n",
              "Ms            2.000000\n",
              "Rev           2.000000\n",
              "Sir           1.000000\n",
              "the Countess  1.000000"
            ]
          },
          "metadata": {},
          "execution_count": 27
        }
      ]
    },
    {
      "cell_type": "markdown",
      "source": [
        "**Correlation between \"Title\" and \"Sex\"**"
      ],
      "metadata": {
        "id": "g9561EaUerHM"
      }
    },
    {
      "cell_type": "code",
      "source": [
        "g=sns.FacetGrid(new_data, col=\"Sex\")\n",
        "g.map(plt.hist, \"Title\", bins=20)"
      ],
      "metadata": {
        "colab": {
          "base_uri": "https://localhost:8080/",
          "height": 242
        },
        "id": "R3YqUYmRei-I",
        "outputId": "207cb703-1d83-4c94-8cee-44e0116b4440"
      },
      "execution_count": 28,
      "outputs": [
        {
          "output_type": "execute_result",
          "data": {
            "text/plain": [
              "<seaborn.axisgrid.FacetGrid at 0x7fd374107750>"
            ]
          },
          "metadata": {},
          "execution_count": 28
        },
        {
          "output_type": "display_data",
          "data": {
            "image/png": "[encoded data removed]",
            "text/plain": [
              "<Figure size 432x216 with 2 Axes>"
            ]
          },
          "metadata": {
            "needs_background": "light"
          }
        }
      ]
    },
    {
      "cell_type": "markdown",
      "source": [
        "**Creating a Dictionary**"
      ],
      "metadata": {
        "id": "NMT59SoQfJBH"
      }
    },
    {
      "cell_type": "code",
      "source": [
        "Title_Dictionary={\"Capt\": \"Officer\",\n",
        "                  \n",
        "                  \"Col\": \"Officer\", \n",
        "                  \n",
        "                  \"Major\": \"Officer\",\n",
        "                  \n",
        "                  \"Dr\": \"Officer\", \n",
        "                  \n",
        "                  \"Rev\": \"Officer\",\n",
        "                  \n",
        "                  \"Jonkheer\": \"Royalty\",\n",
        "                  \n",
        "                  \"Don\": \"Royalty\", \n",
        "                  \n",
        "                  \"Sir\": \"Royalty\",\n",
        "                  \n",
        "                  \"Lady\": \"Royalty\",\n",
        "                  \n",
        "                  \"the Countess\": \"Royalty\",\n",
        "                  \n",
        "                  \"Dona\": \"Royalty\", \n",
        "                  \n",
        "                  \"Mme\": \"Miss\",\n",
        "                  \n",
        "                  \"Mlle\": \"Miss\",\n",
        "                  \n",
        "                  \"Miss\": \"Miss\",\n",
        "                  \n",
        "                  \"Ms\": \"Mrs\", \n",
        "                  \n",
        "                  \"Mr\": \"Mrs\",\n",
        "                  \n",
        "                  \"Mrs\": \"Mrs\",\n",
        "\n",
        "                  \"Master\": \"Master\" \n",
        "}"
      ],
      "metadata": {
        "id": "j7jebhwYfDrh"
      },
      "execution_count": 29,
      "outputs": []
    },
    {
      "cell_type": "markdown",
      "source": [
        "**Add the Dictonary as a column to the DataFrame**"
      ],
      "metadata": {
        "id": "yKuG81Khgae4"
      }
    },
    {
      "cell_type": "code",
      "source": [
        "new_data['Title'] = new_data['Title'].map(Title_Dictionary)\n",
        "new_data.head()"
      ],
      "metadata": {
        "colab": {
          "base_uri": "https://localhost:8080/",
          "height": 206
        },
        "id": "HzIoxhA_gTDO",
        "outputId": "a5f525a8-fbf5-4377-9edf-04ef3dcf536d"
      },
      "execution_count": 30,
      "outputs": [
        {
          "output_type": "execute_result",
          "data": {
            "text/html": [
              "<div>\n",
              "<style scoped>\n",
              "    .dataframe tbody tr th:only-of-type {\n",
              "        vertical-align: middle;\n",
              "    }\n",
              "\n",
              "    .dataframe tbody tr th {\n",
              "        vertical-align: top;\n",
              "    }\n",
              "\n",
              "    .dataframe thead th {\n",
              "        text-align: right;\n",
              "    }\n",
              "</style>\n",
              "<table border=\"1\" class=\"dataframe\">\n",
              "  <thead>\n",
              "    <tr style=\"text-align: right;\">\n",
              "      <th></th>\n",
              "      <th>Survived</th>\n",
              "      <th>Pclass</th>\n",
              "      <th>Sex</th>\n",
              "      <th>Age</th>\n",
              "      <th>SibSp</th>\n",
              "      <th>Parch</th>\n",
              "      <th>Fare</th>\n",
              "      <th>Embarked</th>\n",
              "      <th>Title</th>\n",
              "    </tr>\n",
              "  </thead>\n",
              "  <tbody>\n",
              "    <tr>\n",
              "      <th>0</th>\n",
              "      <td>0</td>\n",
              "      <td>2</td>\n",
              "      <td>male</td>\n",
              "      <td>28.0</td>\n",
              "      <td>0</td>\n",
              "      <td>0</td>\n",
              "      <td>13.0000</td>\n",
              "      <td>S</td>\n",
              "      <td>Mrs</td>\n",
              "    </tr>\n",
              "    <tr>\n",
              "      <th>1</th>\n",
              "      <td>0</td>\n",
              "      <td>3</td>\n",
              "      <td>male</td>\n",
              "      <td>25.0</td>\n",
              "      <td>0</td>\n",
              "      <td>0</td>\n",
              "      <td>7.6500</td>\n",
              "      <td>S</td>\n",
              "      <td>Mrs</td>\n",
              "    </tr>\n",
              "    <tr>\n",
              "      <th>2</th>\n",
              "      <td>0</td>\n",
              "      <td>3</td>\n",
              "      <td>male</td>\n",
              "      <td>20.0</td>\n",
              "      <td>0</td>\n",
              "      <td>0</td>\n",
              "      <td>7.8542</td>\n",
              "      <td>S</td>\n",
              "      <td>Mrs</td>\n",
              "    </tr>\n",
              "    <tr>\n",
              "      <th>3</th>\n",
              "      <td>0</td>\n",
              "      <td>3</td>\n",
              "      <td>female</td>\n",
              "      <td>29.0</td>\n",
              "      <td>0</td>\n",
              "      <td>4</td>\n",
              "      <td>21.0750</td>\n",
              "      <td>S</td>\n",
              "      <td>Mrs</td>\n",
              "    </tr>\n",
              "    <tr>\n",
              "      <th>4</th>\n",
              "      <td>0</td>\n",
              "      <td>1</td>\n",
              "      <td>male</td>\n",
              "      <td>31.0</td>\n",
              "      <td>1</td>\n",
              "      <td>0</td>\n",
              "      <td>52.0000</td>\n",
              "      <td>S</td>\n",
              "      <td>Mrs</td>\n",
              "    </tr>\n",
              "  </tbody>\n",
              "</table>\n",
              "</div>"
            ],
            "text/plain": [
              "   Survived  Pclass     Sex   Age  SibSp  Parch     Fare Embarked Title\n",
              "0         0       2    male  28.0      0      0  13.0000        S   Mrs\n",
              "1         0       3    male  25.0      0      0   7.6500        S   Mrs\n",
              "2         0       3    male  20.0      0      0   7.8542        S   Mrs\n",
              "3         0       3  female  29.0      0      4  21.0750        S   Mrs\n",
              "4         0       1    male  31.0      1      0  52.0000        S   Mrs"
            ]
          },
          "metadata": {},
          "execution_count": 30
        }
      ]
    },
    {
      "cell_type": "markdown",
      "source": [
        "**New Number of Elements per Category of the \"Title\" Featuret**"
      ],
      "metadata": {
        "id": "ZsIX22GRgv56"
      }
    },
    {
      "cell_type": "code",
      "source": [
        "print(new_data[\"Title\"].value_counts())"
      ],
      "metadata": {
        "colab": {
          "base_uri": "https://localhost:8080/"
        },
        "id": "NzreuYYVgf2K",
        "outputId": "d8fc4525-2aea-407c-98cd-42ac7347d857"
      },
      "execution_count": 31,
      "outputs": [
        {
          "output_type": "stream",
          "name": "stdout",
          "text": [
            "Mrs        643\n",
            "Miss       185\n",
            "Master      40\n",
            "Officer     18\n",
            "Royalty      5\n",
            "Name: Title, dtype: int64\n"
          ]
        }
      ]
    },
    {
      "cell_type": "markdown",
      "source": [
        "**Visualize the same correlations**"
      ],
      "metadata": {
        "id": "AtB_-abNhSXz"
      }
    },
    {
      "cell_type": "code",
      "source": [
        "#Between \"Title\" and \"Age\"\n",
        "new_data[[\"Age\", \"Title\"]].groupby([\"Title\"], as_index=True).mean()"
      ],
      "metadata": {
        "colab": {
          "base_uri": "https://localhost:8080/",
          "height": 238
        },
        "id": "97a7kmByg2e6",
        "outputId": "9db6eebf-2c95-4d0a-e6d2-edd8b2942a75"
      },
      "execution_count": 32,
      "outputs": [
        {
          "output_type": "execute_result",
          "data": {
            "text/html": [
              "<div>\n",
              "<style scoped>\n",
              "    .dataframe tbody tr th:only-of-type {\n",
              "        vertical-align: middle;\n",
              "    }\n",
              "\n",
              "    .dataframe tbody tr th {\n",
              "        vertical-align: top;\n",
              "    }\n",
              "\n",
              "    .dataframe thead th {\n",
              "        text-align: right;\n",
              "    }\n",
              "</style>\n",
              "<table border=\"1\" class=\"dataframe\">\n",
              "  <thead>\n",
              "    <tr style=\"text-align: right;\">\n",
              "      <th></th>\n",
              "      <th>Age</th>\n",
              "    </tr>\n",
              "    <tr>\n",
              "      <th>Title</th>\n",
              "      <th></th>\n",
              "    </tr>\n",
              "  </thead>\n",
              "  <tbody>\n",
              "    <tr>\n",
              "      <th>Master</th>\n",
              "      <td>7.086662</td>\n",
              "    </tr>\n",
              "    <tr>\n",
              "      <th>Miss</th>\n",
              "      <td>23.352261</td>\n",
              "    </tr>\n",
              "    <tr>\n",
              "      <th>Mrs</th>\n",
              "      <td>32.389705</td>\n",
              "    </tr>\n",
              "    <tr>\n",
              "      <th>Officer</th>\n",
              "      <td>45.761062</td>\n",
              "    </tr>\n",
              "    <tr>\n",
              "      <th>Royalty</th>\n",
              "      <td>41.600000</td>\n",
              "    </tr>\n",
              "  </tbody>\n",
              "</table>\n",
              "</div>"
            ],
            "text/plain": [
              "               Age\n",
              "Title             \n",
              "Master    7.086662\n",
              "Miss     23.352261\n",
              "Mrs      32.389705\n",
              "Officer  45.761062\n",
              "Royalty  41.600000"
            ]
          },
          "metadata": {},
          "execution_count": 32
        }
      ]
    },
    {
      "cell_type": "code",
      "source": [
        "#Between \"Title\" and \"Fare\"\n",
        "new_data[[\"Fare\", \"Title\"]].groupby([\"Title\"], as_index=True).mean()"
      ],
      "metadata": {
        "colab": {
          "base_uri": "https://localhost:8080/",
          "height": 238
        },
        "id": "jUB06YEmhawa",
        "outputId": "2c86e26a-bd83-4a64-bf74-e503de3adc20"
      },
      "execution_count": 33,
      "outputs": [
        {
          "output_type": "execute_result",
          "data": {
            "text/html": [
              "<div>\n",
              "<style scoped>\n",
              "    .dataframe tbody tr th:only-of-type {\n",
              "        vertical-align: middle;\n",
              "    }\n",
              "\n",
              "    .dataframe tbody tr th {\n",
              "        vertical-align: top;\n",
              "    }\n",
              "\n",
              "    .dataframe thead th {\n",
              "        text-align: right;\n",
              "    }\n",
              "</style>\n",
              "<table border=\"1\" class=\"dataframe\">\n",
              "  <thead>\n",
              "    <tr style=\"text-align: right;\">\n",
              "      <th></th>\n",
              "      <th>Fare</th>\n",
              "    </tr>\n",
              "    <tr>\n",
              "      <th>Title</th>\n",
              "      <th></th>\n",
              "    </tr>\n",
              "  </thead>\n",
              "  <tbody>\n",
              "    <tr>\n",
              "      <th>Master</th>\n",
              "      <td>34.703125</td>\n",
              "    </tr>\n",
              "    <tr>\n",
              "      <th>Miss</th>\n",
              "      <td>44.104416</td>\n",
              "    </tr>\n",
              "    <tr>\n",
              "      <th>Mrs</th>\n",
              "      <td>28.447283</td>\n",
              "    </tr>\n",
              "    <tr>\n",
              "      <th>Officer</th>\n",
              "      <td>35.786344</td>\n",
              "    </tr>\n",
              "    <tr>\n",
              "      <th>Royalty</th>\n",
              "      <td>42.150000</td>\n",
              "    </tr>\n",
              "  </tbody>\n",
              "</table>\n",
              "</div>"
            ],
            "text/plain": [
              "              Fare\n",
              "Title             \n",
              "Master   34.703125\n",
              "Miss     44.104416\n",
              "Mrs      28.447283\n",
              "Officer  35.786344\n",
              "Royalty  42.150000"
            ]
          },
          "metadata": {},
          "execution_count": 33
        }
      ]
    },
    {
      "cell_type": "code",
      "source": [
        "#Between \"Title\" and \"Pclass\"\n",
        "new_data[[\"Pclass\", \"Title\"]].groupby([\"Title\"], as_index=True).mean()"
      ],
      "metadata": {
        "colab": {
          "base_uri": "https://localhost:8080/",
          "height": 238
        },
        "id": "pOVroYj0hi9p",
        "outputId": "722ec653-8989-45eb-ad5a-5f5189d23f22"
      },
      "execution_count": 34,
      "outputs": [
        {
          "output_type": "execute_result",
          "data": {
            "text/html": [
              "<div>\n",
              "<style scoped>\n",
              "    .dataframe tbody tr th:only-of-type {\n",
              "        vertical-align: middle;\n",
              "    }\n",
              "\n",
              "    .dataframe tbody tr th {\n",
              "        vertical-align: top;\n",
              "    }\n",
              "\n",
              "    .dataframe thead th {\n",
              "        text-align: right;\n",
              "    }\n",
              "</style>\n",
              "<table border=\"1\" class=\"dataframe\">\n",
              "  <thead>\n",
              "    <tr style=\"text-align: right;\">\n",
              "      <th></th>\n",
              "      <th>Pclass</th>\n",
              "    </tr>\n",
              "    <tr>\n",
              "      <th>Title</th>\n",
              "      <th></th>\n",
              "    </tr>\n",
              "  </thead>\n",
              "  <tbody>\n",
              "    <tr>\n",
              "      <th>Master</th>\n",
              "      <td>2.625000</td>\n",
              "    </tr>\n",
              "    <tr>\n",
              "      <th>Miss</th>\n",
              "      <td>2.286486</td>\n",
              "    </tr>\n",
              "    <tr>\n",
              "      <th>Mrs</th>\n",
              "      <td>2.329705</td>\n",
              "    </tr>\n",
              "    <tr>\n",
              "      <th>Officer</th>\n",
              "      <td>1.444444</td>\n",
              "    </tr>\n",
              "    <tr>\n",
              "      <th>Royalty</th>\n",
              "      <td>1.000000</td>\n",
              "    </tr>\n",
              "  </tbody>\n",
              "</table>\n",
              "</div>"
            ],
            "text/plain": [
              "           Pclass\n",
              "Title            \n",
              "Master   2.625000\n",
              "Miss     2.286486\n",
              "Mrs      2.329705\n",
              "Officer  1.444444\n",
              "Royalty  1.000000"
            ]
          },
          "metadata": {},
          "execution_count": 34
        }
      ]
    },
    {
      "cell_type": "code",
      "source": [
        "#Between \"Title\" and \"Sex\"\n",
        "g=sns.FacetGrid(new_data, col=\"Sex\")\n",
        "g.map(plt.hist, \"Title\", bins=20)"
      ],
      "metadata": {
        "colab": {
          "base_uri": "https://localhost:8080/",
          "height": 242
        },
        "id": "P6Y6jdIbhotB",
        "outputId": "541b4fb9-a076-4785-be9e-3cb12d0b1318"
      },
      "execution_count": 35,
      "outputs": [
        {
          "output_type": "execute_result",
          "data": {
            "text/plain": [
              "<seaborn.axisgrid.FacetGrid at 0x7fd373e637d0>"
            ]
          },
          "metadata": {},
          "execution_count": 35
        },
        {
          "output_type": "display_data",
          "data": {
            "image/png": "[encoded data removed]",
            "text/plain": [
              "<Figure size 432x216 with 2 Axes>"
            ]
          },
          "metadata": {
            "needs_background": "light"
          }
        }
      ]
    },
    {
      "cell_type": "code",
      "source": [
        "#Create a new Feature \"FamilySize\" from \"SibSp\" and \"Parch\" Features\n",
        "new_data[\"FamilySize\"]= new_data[\"SibSp\"]+new_data[\"Parch\"]\n",
        "new_data= new_data.drop(\"SibSp\", axis= 1)\n",
        "new_data= new_data.drop(\"Parch\", axis= 1)"
      ],
      "metadata": {
        "id": "jxyBKsoShyBM"
      },
      "execution_count": 36,
      "outputs": []
    },
    {
      "cell_type": "code",
      "source": [
        "#Show the Head of the New Dataset\n",
        "new_data.head()"
      ],
      "metadata": {
        "colab": {
          "base_uri": "https://localhost:8080/",
          "height": 206
        },
        "id": "R5v7d6gHjIW5",
        "outputId": "df65dce7-7fdb-4fd8-b11e-11422909b715"
      },
      "execution_count": 37,
      "outputs": [
        {
          "output_type": "execute_result",
          "data": {
            "text/html": [
              "<div>\n",
              "<style scoped>\n",
              "    .dataframe tbody tr th:only-of-type {\n",
              "        vertical-align: middle;\n",
              "    }\n",
              "\n",
              "    .dataframe tbody tr th {\n",
              "        vertical-align: top;\n",
              "    }\n",
              "\n",
              "    .dataframe thead th {\n",
              "        text-align: right;\n",
              "    }\n",
              "</style>\n",
              "<table border=\"1\" class=\"dataframe\">\n",
              "  <thead>\n",
              "    <tr style=\"text-align: right;\">\n",
              "      <th></th>\n",
              "      <th>Survived</th>\n",
              "      <th>Pclass</th>\n",
              "      <th>Sex</th>\n",
              "      <th>Age</th>\n",
              "      <th>Fare</th>\n",
              "      <th>Embarked</th>\n",
              "      <th>Title</th>\n",
              "      <th>FamilySize</th>\n",
              "    </tr>\n",
              "  </thead>\n",
              "  <tbody>\n",
              "    <tr>\n",
              "      <th>0</th>\n",
              "      <td>0</td>\n",
              "      <td>2</td>\n",
              "      <td>male</td>\n",
              "      <td>28.0</td>\n",
              "      <td>13.0000</td>\n",
              "      <td>S</td>\n",
              "      <td>Mrs</td>\n",
              "      <td>0</td>\n",
              "    </tr>\n",
              "    <tr>\n",
              "      <th>1</th>\n",
              "      <td>0</td>\n",
              "      <td>3</td>\n",
              "      <td>male</td>\n",
              "      <td>25.0</td>\n",
              "      <td>7.6500</td>\n",
              "      <td>S</td>\n",
              "      <td>Mrs</td>\n",
              "      <td>0</td>\n",
              "    </tr>\n",
              "    <tr>\n",
              "      <th>2</th>\n",
              "      <td>0</td>\n",
              "      <td>3</td>\n",
              "      <td>male</td>\n",
              "      <td>20.0</td>\n",
              "      <td>7.8542</td>\n",
              "      <td>S</td>\n",
              "      <td>Mrs</td>\n",
              "      <td>0</td>\n",
              "    </tr>\n",
              "    <tr>\n",
              "      <th>3</th>\n",
              "      <td>0</td>\n",
              "      <td>3</td>\n",
              "      <td>female</td>\n",
              "      <td>29.0</td>\n",
              "      <td>21.0750</td>\n",
              "      <td>S</td>\n",
              "      <td>Mrs</td>\n",
              "      <td>4</td>\n",
              "    </tr>\n",
              "    <tr>\n",
              "      <th>4</th>\n",
              "      <td>0</td>\n",
              "      <td>1</td>\n",
              "      <td>male</td>\n",
              "      <td>31.0</td>\n",
              "      <td>52.0000</td>\n",
              "      <td>S</td>\n",
              "      <td>Mrs</td>\n",
              "      <td>1</td>\n",
              "    </tr>\n",
              "  </tbody>\n",
              "</table>\n",
              "</div>"
            ],
            "text/plain": [
              "   Survived  Pclass     Sex   Age     Fare Embarked Title  FamilySize\n",
              "0         0       2    male  28.0  13.0000        S   Mrs           0\n",
              "1         0       3    male  25.0   7.6500        S   Mrs           0\n",
              "2         0       3    male  20.0   7.8542        S   Mrs           0\n",
              "3         0       3  female  29.0  21.0750        S   Mrs           4\n",
              "4         0       1    male  31.0  52.0000        S   Mrs           1"
            ]
          },
          "metadata": {},
          "execution_count": 37
        }
      ]
    },
    {
      "cell_type": "code",
      "source": [
        "#Correlation between \"Survived\" and \"FamilySize\"\n",
        "new_data[[\"Survived\", \"FamilySize\"]].groupby([\"FamilySize\"], as_index=True).mean()"
      ],
      "metadata": {
        "colab": {
          "base_uri": "https://localhost:8080/",
          "height": 363
        },
        "id": "yTZ0luuHjMHP",
        "outputId": "eefdd6c5-10cc-4968-81cf-fdd0b7ca28b5"
      },
      "execution_count": 39,
      "outputs": [
        {
          "output_type": "execute_result",
          "data": {
            "text/html": [
              "<div>\n",
              "<style scoped>\n",
              "    .dataframe tbody tr th:only-of-type {\n",
              "        vertical-align: middle;\n",
              "    }\n",
              "\n",
              "    .dataframe tbody tr th {\n",
              "        vertical-align: top;\n",
              "    }\n",
              "\n",
              "    .dataframe thead th {\n",
              "        text-align: right;\n",
              "    }\n",
              "</style>\n",
              "<table border=\"1\" class=\"dataframe\">\n",
              "  <thead>\n",
              "    <tr style=\"text-align: right;\">\n",
              "      <th></th>\n",
              "      <th>Survived</th>\n",
              "    </tr>\n",
              "    <tr>\n",
              "      <th>FamilySize</th>\n",
              "      <th></th>\n",
              "    </tr>\n",
              "  </thead>\n",
              "  <tbody>\n",
              "    <tr>\n",
              "      <th>0</th>\n",
              "      <td>0.303538</td>\n",
              "    </tr>\n",
              "    <tr>\n",
              "      <th>1</th>\n",
              "      <td>0.552795</td>\n",
              "    </tr>\n",
              "    <tr>\n",
              "      <th>2</th>\n",
              "      <td>0.578431</td>\n",
              "    </tr>\n",
              "    <tr>\n",
              "      <th>3</th>\n",
              "      <td>0.724138</td>\n",
              "    </tr>\n",
              "    <tr>\n",
              "      <th>4</th>\n",
              "      <td>0.200000</td>\n",
              "    </tr>\n",
              "    <tr>\n",
              "      <th>5</th>\n",
              "      <td>0.136364</td>\n",
              "    </tr>\n",
              "    <tr>\n",
              "      <th>6</th>\n",
              "      <td>0.333333</td>\n",
              "    </tr>\n",
              "    <tr>\n",
              "      <th>7</th>\n",
              "      <td>0.000000</td>\n",
              "    </tr>\n",
              "    <tr>\n",
              "      <th>10</th>\n",
              "      <td>0.000000</td>\n",
              "    </tr>\n",
              "  </tbody>\n",
              "</table>\n",
              "</div>"
            ],
            "text/plain": [
              "            Survived\n",
              "FamilySize          \n",
              "0           0.303538\n",
              "1           0.552795\n",
              "2           0.578431\n",
              "3           0.724138\n",
              "4           0.200000\n",
              "5           0.136364\n",
              "6           0.333333\n",
              "7           0.000000\n",
              "10          0.000000"
            ]
          },
          "metadata": {},
          "execution_count": 39
        }
      ]
    },
    {
      "cell_type": "code",
      "source": [
        "g=sns.FacetGrid(new_data, col=\"Survived\")\n",
        "g.map(plt.hist, \"FamilySize\", bins=20)"
      ],
      "metadata": {
        "colab": {
          "base_uri": "https://localhost:8080/",
          "height": 242
        },
        "id": "U6Rc-DmNjZnL",
        "outputId": "ec7b37d1-22cf-476f-c7e1-ce04f63e7edc"
      },
      "execution_count": 40,
      "outputs": [
        {
          "output_type": "execute_result",
          "data": {
            "text/plain": [
              "<seaborn.axisgrid.FacetGrid at 0x7fd373c2b590>"
            ]
          },
          "metadata": {},
          "execution_count": 40
        },
        {
          "output_type": "display_data",
          "data": {
            "image/png": "[encoded data removed]",
            "text/plain": [
              "<Figure size 432x216 with 2 Axes>"
            ]
          },
          "metadata": {
            "needs_background": "light"
          }
        }
      ]
    },
    {
      "cell_type": "markdown",
      "source": [
        "*\"FamilySize\" feature is useful as it shows us that survival rates are better when passengers are accompanied rather than alone.*"
      ],
      "metadata": {
        "id": "ysbjQamQjkxM"
      }
    },
    {
      "cell_type": "markdown",
      "source": [
        "**Features Transformation**"
      ],
      "metadata": {
        "id": "uFO0AVCVjsLU"
      }
    },
    {
      "cell_type": "code",
      "source": [
        "from sklearn.preprocessing import LabelEncoder"
      ],
      "metadata": {
        "id": "FxuATksTjg9R"
      },
      "execution_count": 41,
      "outputs": []
    },
    {
      "cell_type": "code",
      "source": [
        "encoder=LabelEncoder()\n",
        "new_data[\"Title\"]=encoder.fit_transform(new_data[\"Title\"])\n",
        "new_data[\"Embarked\"]=encoder.fit_transform(new_data[\"Embarked\"])\n",
        "new_data[\"Sex\"]=encoder.fit_transform(new_data[\"Sex\"])\n",
        "new_data"
      ],
      "metadata": {
        "colab": {
          "base_uri": "https://localhost:8080/",
          "height": 424
        },
        "id": "m5vpNpCTjxZS",
        "outputId": "3e0f2493-ddcb-4d04-8ee4-21c294ba8790"
      },
      "execution_count": 42,
      "outputs": [
        {
          "output_type": "execute_result",
          "data": {
            "text/html": [
              "<div>\n",
              "<style scoped>\n",
              "    .dataframe tbody tr th:only-of-type {\n",
              "        vertical-align: middle;\n",
              "    }\n",
              "\n",
              "    .dataframe tbody tr th {\n",
              "        vertical-align: top;\n",
              "    }\n",
              "\n",
              "    .dataframe thead th {\n",
              "        text-align: right;\n",
              "    }\n",
              "</style>\n",
              "<table border=\"1\" class=\"dataframe\">\n",
              "  <thead>\n",
              "    <tr style=\"text-align: right;\">\n",
              "      <th></th>\n",
              "      <th>Survived</th>\n",
              "      <th>Pclass</th>\n",
              "      <th>Sex</th>\n",
              "      <th>Age</th>\n",
              "      <th>Fare</th>\n",
              "      <th>Embarked</th>\n",
              "      <th>Title</th>\n",
              "      <th>FamilySize</th>\n",
              "    </tr>\n",
              "  </thead>\n",
              "  <tbody>\n",
              "    <tr>\n",
              "      <th>0</th>\n",
              "      <td>0</td>\n",
              "      <td>2</td>\n",
              "      <td>1</td>\n",
              "      <td>28.000000</td>\n",
              "      <td>13.0000</td>\n",
              "      <td>2</td>\n",
              "      <td>2</td>\n",
              "      <td>0</td>\n",
              "    </tr>\n",
              "    <tr>\n",
              "      <th>1</th>\n",
              "      <td>0</td>\n",
              "      <td>3</td>\n",
              "      <td>1</td>\n",
              "      <td>25.000000</td>\n",
              "      <td>7.6500</td>\n",
              "      <td>2</td>\n",
              "      <td>2</td>\n",
              "      <td>0</td>\n",
              "    </tr>\n",
              "    <tr>\n",
              "      <th>2</th>\n",
              "      <td>0</td>\n",
              "      <td>3</td>\n",
              "      <td>1</td>\n",
              "      <td>20.000000</td>\n",
              "      <td>7.8542</td>\n",
              "      <td>2</td>\n",
              "      <td>2</td>\n",
              "      <td>0</td>\n",
              "    </tr>\n",
              "    <tr>\n",
              "      <th>3</th>\n",
              "      <td>0</td>\n",
              "      <td>3</td>\n",
              "      <td>0</td>\n",
              "      <td>29.000000</td>\n",
              "      <td>21.0750</td>\n",
              "      <td>2</td>\n",
              "      <td>2</td>\n",
              "      <td>4</td>\n",
              "    </tr>\n",
              "    <tr>\n",
              "      <th>4</th>\n",
              "      <td>0</td>\n",
              "      <td>1</td>\n",
              "      <td>1</td>\n",
              "      <td>31.000000</td>\n",
              "      <td>52.0000</td>\n",
              "      <td>2</td>\n",
              "      <td>2</td>\n",
              "      <td>1</td>\n",
              "    </tr>\n",
              "    <tr>\n",
              "      <th>...</th>\n",
              "      <td>...</td>\n",
              "      <td>...</td>\n",
              "      <td>...</td>\n",
              "      <td>...</td>\n",
              "      <td>...</td>\n",
              "      <td>...</td>\n",
              "      <td>...</td>\n",
              "      <td>...</td>\n",
              "    </tr>\n",
              "    <tr>\n",
              "      <th>886</th>\n",
              "      <td>1</td>\n",
              "      <td>2</td>\n",
              "      <td>0</td>\n",
              "      <td>14.000000</td>\n",
              "      <td>30.0708</td>\n",
              "      <td>0</td>\n",
              "      <td>2</td>\n",
              "      <td>1</td>\n",
              "    </tr>\n",
              "    <tr>\n",
              "      <th>887</th>\n",
              "      <td>0</td>\n",
              "      <td>3</td>\n",
              "      <td>1</td>\n",
              "      <td>22.000000</td>\n",
              "      <td>7.2292</td>\n",
              "      <td>0</td>\n",
              "      <td>2</td>\n",
              "      <td>0</td>\n",
              "    </tr>\n",
              "    <tr>\n",
              "      <th>888</th>\n",
              "      <td>0</td>\n",
              "      <td>3</td>\n",
              "      <td>0</td>\n",
              "      <td>30.000000</td>\n",
              "      <td>8.6625</td>\n",
              "      <td>2</td>\n",
              "      <td>1</td>\n",
              "      <td>0</td>\n",
              "    </tr>\n",
              "    <tr>\n",
              "      <th>889</th>\n",
              "      <td>0</td>\n",
              "      <td>3</td>\n",
              "      <td>1</td>\n",
              "      <td>29.699118</td>\n",
              "      <td>7.8958</td>\n",
              "      <td>2</td>\n",
              "      <td>2</td>\n",
              "      <td>0</td>\n",
              "    </tr>\n",
              "    <tr>\n",
              "      <th>890</th>\n",
              "      <td>1</td>\n",
              "      <td>2</td>\n",
              "      <td>0</td>\n",
              "      <td>19.000000</td>\n",
              "      <td>26.0000</td>\n",
              "      <td>2</td>\n",
              "      <td>1</td>\n",
              "      <td>0</td>\n",
              "    </tr>\n",
              "  </tbody>\n",
              "</table>\n",
              "<p>891 rows × 8 columns</p>\n",
              "</div>"
            ],
            "text/plain": [
              "     Survived  Pclass  Sex        Age     Fare  Embarked  Title  FamilySize\n",
              "0           0       2    1  28.000000  13.0000         2      2           0\n",
              "1           0       3    1  25.000000   7.6500         2      2           0\n",
              "2           0       3    1  20.000000   7.8542         2      2           0\n",
              "3           0       3    0  29.000000  21.0750         2      2           4\n",
              "4           0       1    1  31.000000  52.0000         2      2           1\n",
              "..        ...     ...  ...        ...      ...       ...    ...         ...\n",
              "886         1       2    0  14.000000  30.0708         0      2           1\n",
              "887         0       3    1  22.000000   7.2292         0      2           0\n",
              "888         0       3    0  30.000000   8.6625         2      1           0\n",
              "889         0       3    1  29.699118   7.8958         2      2           0\n",
              "890         1       2    0  19.000000  26.0000         2      1           0\n",
              "\n",
              "[891 rows x 8 columns]"
            ]
          },
          "metadata": {},
          "execution_count": 42
        }
      ]
    },
    {
      "cell_type": "markdown",
      "source": [
        "# **Decision Tree**\n",
        "Features' Extraction"
      ],
      "metadata": {
        "id": "nW1ej6Suj7BR"
      }
    },
    {
      "cell_type": "code",
      "source": [
        "X = new_data[[\"Pclass\", \"Age\", \"Sex\", \"FamilySize\", \"Fare\", \"Title\"]]\n",
        "y = new_data[\"Survived\"]"
      ],
      "metadata": {
        "id": "0n6ZtYjNjz3k"
      },
      "execution_count": 43,
      "outputs": []
    },
    {
      "cell_type": "code",
      "source": [
        "#Split the dataset into train and test sets\n",
        "from sklearn.model_selection import train_test_split"
      ],
      "metadata": {
        "id": "fWWFdD8HkC8u"
      },
      "execution_count": 44,
      "outputs": []
    },
    {
      "cell_type": "code",
      "source": [
        "X_train,X_test,y_train,y_test = train_test_split(X,y,test_size=0.2,random_state=10)"
      ],
      "metadata": {
        "id": "AjYcPLJekGrr"
      },
      "execution_count": 45,
      "outputs": []
    },
    {
      "cell_type": "code",
      "source": [
        "#Applying Tree algorithm\n",
        "from sklearn import tree   \n",
        "from sklearn.tree import DecisionTreeClassifier#"
      ],
      "metadata": {
        "id": "m_NyeWsXkLCl"
      },
      "execution_count": 47,
      "outputs": []
    },
    {
      "cell_type": "code",
      "source": [
        "dt = tree.DecisionTreeClassifier() "
      ],
      "metadata": {
        "id": "DdF6cOI0kNRX"
      },
      "execution_count": 48,
      "outputs": []
    },
    {
      "cell_type": "code",
      "source": [
        "#Fitting training data\n",
        "model= dt.fit(X_train, y_train)"
      ],
      "metadata": {
        "id": "B4oRy-RNkVU3"
      },
      "execution_count": 49,
      "outputs": []
    },
    {
      "cell_type": "code",
      "source": [
        "#Testing model's performance\n",
        "y_pred= model.predict(X_test)"
      ],
      "metadata": {
        "id": "f8NREhcEka6I"
      },
      "execution_count": 50,
      "outputs": []
    },
    {
      "cell_type": "code",
      "source": [
        "#Performance of the Decision Tree\n",
        "from sklearn.metrics import accuracy_score"
      ],
      "metadata": {
        "id": "FpfmShSSkeRe"
      },
      "execution_count": 51,
      "outputs": []
    },
    {
      "cell_type": "code",
      "source": [
        "print(\"score:{}\".format(accuracy_score(y_test, y_pred)))"
      ],
      "metadata": {
        "colab": {
          "base_uri": "https://localhost:8080/"
        },
        "id": "oHnNUpLGknAD",
        "outputId": "eb701f36-d235-4767-d4a2-10f22f7e13ed"
      },
      "execution_count": 52,
      "outputs": [
        {
          "output_type": "stream",
          "name": "stdout",
          "text": [
            "score:0.7653631284916201\n"
          ]
        }
      ]
    },
    {
      "cell_type": "markdown",
      "source": [
        "#**Decision Tree Visualization**"
      ],
      "metadata": {
        "id": "v5AGrBY2lA40"
      }
    },
    {
      "cell_type": "code",
      "source": [
        "import graphviz"
      ],
      "metadata": {
        "id": "oRUnva87kztE"
      },
      "execution_count": 53,
      "outputs": []
    },
    {
      "cell_type": "code",
      "source": [
        "dot_data= tree.export_graphviz(model , out_file=None)\n",
        "graph= graphviz.Source(dot_data)\n",
        "graph.render(\"new_data\")\n",
        "graph"
      ],
      "metadata": {
        "colab": {
          "base_uri": "https://localhost:8080/",
          "height": 1000
        },
        "id": "FEjjkjpNlKkm",
        "outputId": "c6b7eca7-d780-4ff1-cc96-1e08c91f9d40"
      },
      "execution_count": 54,
      "outputs": [
        {
          "output_type": "execute_result",
          "data": {
            "text/plain": [
              "<graphviz.files.Source at 0x7fd36e899b90>"
            ],
            "image/svg+xml": "<?xml version=\"1.0\" encoding=\"UTF-8\" standalone=\"no\"?>\n<!DOCTYPE svg PUBLIC \"-//W3C//DTD SVG 1.1//EN\"\n \"http://www.w3.org/Graphics/SVG/1.1/DTD/svg11.dtd\">\n<!-- Generated by graphviz version 2.40.1 (20161225.0304)\n -->\n<!-- Title: Tree Pages: 1 -->\n<svg width=\"5474pt\" height=\"2037pt\"\n viewBox=\"0.00 0.00 5474.00 2037.00\" xmlns=\"http://www.w3.org/2000/svg\" xmlns:xlink=\"http://www.w3.org/1999/xlink\">\n<g id=\"graph0\" class=\"graph\" transform=\"scale(1 1) rotate(0) translate(4 2033)\">\n<title>Tree</title>\n<polygon fill=\"#ffffff\" stroke=\"transparent\" points=\"-4,4 -4,-2033 5470,-2033 5470,4 -4,4\"/>\n<!-- 0 -->\n<g id=\"node1\" class=\"node\">\n<title>0</title>\n<polygon fill=\"none\" stroke=\"#000000\" points=\"2191.5,-2029 2059.5,-2029 2059.5,-1961 2191.5,-1961 2191.5,-2029\"/>\n<text text-anchor=\"middle\" x=\"2125.5\" y=\"-2013.8\" font-family=\"Helvetica,sans-Serif\" font-size=\"14.00\" fill=\"#000000\">X[2] &lt;= 0.5</text>\n<text text-anchor=\"middle\" x=\"2125.5\" y=\"-1998.8\" font-family=\"Helvetica,sans-Serif\" font-size=\"14.00\" fill=\"#000000\">gini = 0.469</text>\n<text text-anchor=\"middle\" x=\"2125.5\" y=\"-1983.8\" font-family=\"Helvetica,sans-Serif\" font-size=\"14.00\" fill=\"#000000\">samples = 712</text>\n<text text-anchor=\"middle\" x=\"2125.5\" y=\"-1968.8\" font-family=\"Helvetica,sans-Serif\" font-size=\"14.00\" fill=\"#000000\">value = [444, 268]</text>\n</g>\n<!-- 1 -->\n<g id=\"node2\" class=\"node\">\n<title>1</title>\n<polygon fill=\"none\" stroke=\"#000000\" points=\"1629.5,-1925 1505.5,-1925 1505.5,-1857 1629.5,-1857 1629.5,-1925\"/>\n<text text-anchor=\"middle\" x=\"1567.5\" y=\"-1909.8\" font-family=\"Helvetica,sans-Serif\" font-size=\"14.00\" fill=\"#000000\">X[0] &lt;= 2.5</text>\n<text text-anchor=\"middle\" x=\"1567.5\" y=\"-1894.8\" font-family=\"Helvetica,sans-Serif\" font-size=\"14.00\" fill=\"#000000\">gini = 0.39</text>\n<text text-anchor=\"middle\" x=\"1567.5\" y=\"-1879.8\" font-family=\"Helvetica,sans-Serif\" font-size=\"14.00\" fill=\"#000000\">samples = 252</text>\n<text text-anchor=\"middle\" x=\"1567.5\" y=\"-1864.8\" font-family=\"Helvetica,sans-Serif\" font-size=\"14.00\" fill=\"#000000\">value = [67, 185]</text>\n</g>\n<!-- 0&#45;&gt;1 -->\n<g id=\"edge1\" class=\"edge\">\n<title>0&#45;&gt;1</title>\n<path fill=\"none\" stroke=\"#000000\" d=\"M2059.2988,-1982.6614C1953.8982,-1963.0169 1748.7394,-1924.7794 1639.6916,-1904.4551\"/>\n<polygon fill=\"#000000\" stroke=\"#000000\" points=\"1640.2376,-1900.9966 1629.7656,-1902.6051 1638.955,-1907.8781 1640.2376,-1900.9966\"/>\n<text text-anchor=\"middle\" x=\"1643.905\" y=\"-1919.5224\" font-family=\"Helvetica,sans-Serif\" font-size=\"14.00\" fill=\"#000000\">True</text>\n</g>\n<!-- 108 -->\n<g id=\"node109\" class=\"node\">\n<title>108</title>\n<polygon fill=\"none\" stroke=\"#000000\" points=\"2653.5,-1925 2529.5,-1925 2529.5,-1857 2653.5,-1857 2653.5,-1925\"/>\n<text text-anchor=\"middle\" x=\"2591.5\" y=\"-1909.8\" font-family=\"Helvetica,sans-Serif\" font-size=\"14.00\" fill=\"#000000\">X[0] &lt;= 1.5</text>\n<text text-anchor=\"middle\" x=\"2591.5\" y=\"-1894.8\" font-family=\"Helvetica,sans-Serif\" font-size=\"14.00\" fill=\"#000000\">gini = 0.296</text>\n<text text-anchor=\"middle\" x=\"2591.5\" y=\"-1879.8\" font-family=\"Helvetica,sans-Serif\" font-size=\"14.00\" fill=\"#000000\">samples = 460</text>\n<text text-anchor=\"middle\" x=\"2591.5\" y=\"-1864.8\" font-family=\"Helvetica,sans-Serif\" font-size=\"14.00\" fill=\"#000000\">value = [377, 83]</text>\n</g>\n<!-- 0&#45;&gt;108 -->\n<g id=\"edge108\" class=\"edge\">\n<title>0&#45;&gt;108</title>\n<path fill=\"none\" stroke=\"#000000\" d=\"M2191.7715,-1980.2098C2278.4786,-1960.8588 2429.8748,-1927.0709 2519.3816,-1907.0951\"/>\n<polygon fill=\"#000000\" stroke=\"#000000\" points=\"2520.1826,-1910.5025 2529.1801,-1904.9083 2518.6578,-1903.6706 2520.1826,-1910.5025\"/>\n<text text-anchor=\"middle\" x=\"2515.7774\" y=\"-1922.312\" font-family=\"Helvetica,sans-Serif\" font-size=\"14.00\" fill=\"#000000\">False</text>\n</g>\n<!-- 2 -->\n<g id=\"node3\" class=\"node\">\n<title>2</title>\n<polygon fill=\"none\" stroke=\"#000000\" points=\"838.5,-1821 722.5,-1821 722.5,-1753 838.5,-1753 838.5,-1821\"/>\n<text text-anchor=\"middle\" x=\"780.5\" y=\"-1805.8\" font-family=\"Helvetica,sans-Serif\" font-size=\"14.00\" fill=\"#000000\">X[1] &lt;= 2.5</text>\n<text text-anchor=\"middle\" x=\"780.5\" y=\"-1790.8\" font-family=\"Helvetica,sans-Serif\" font-size=\"14.00\" fill=\"#000000\">gini = 0.1</text>\n<text text-anchor=\"middle\" x=\"780.5\" y=\"-1775.8\" font-family=\"Helvetica,sans-Serif\" font-size=\"14.00\" fill=\"#000000\">samples = 133</text>\n<text text-anchor=\"middle\" x=\"780.5\" y=\"-1760.8\" font-family=\"Helvetica,sans-Serif\" font-size=\"14.00\" fill=\"#000000\">value = [7, 126]</text>\n</g>\n<!-- 1&#45;&gt;2 -->\n<g id=\"edge2\" class=\"edge\">\n<title>1&#45;&gt;2</title>\n<path fill=\"none\" stroke=\"#000000\" d=\"M1505.4169,-1882.7959C1360.3005,-1863.6191 999.7811,-1815.9774 848.7584,-1796.0202\"/>\n<polygon fill=\"#000000\" stroke=\"#000000\" points=\"849.0576,-1792.5294 838.6852,-1794.689 848.1405,-1799.469 849.0576,-1792.5294\"/>\n</g>\n<!-- 31 -->\n<g id=\"node32\" class=\"node\">\n<title>31</title>\n<polygon fill=\"none\" stroke=\"#000000\" points=\"1625.5,-1821 1509.5,-1821 1509.5,-1753 1625.5,-1753 1625.5,-1821\"/>\n<text text-anchor=\"middle\" x=\"1567.5\" y=\"-1805.8\" font-family=\"Helvetica,sans-Serif\" font-size=\"14.00\" fill=\"#000000\">X[4] &lt;= 23.35</text>\n<text text-anchor=\"middle\" x=\"1567.5\" y=\"-1790.8\" font-family=\"Helvetica,sans-Serif\" font-size=\"14.00\" fill=\"#000000\">gini = 0.5</text>\n<text text-anchor=\"middle\" x=\"1567.5\" y=\"-1775.8\" font-family=\"Helvetica,sans-Serif\" font-size=\"14.00\" fill=\"#000000\">samples = 119</text>\n<text text-anchor=\"middle\" x=\"1567.5\" y=\"-1760.8\" font-family=\"Helvetica,sans-Serif\" font-size=\"14.00\" fill=\"#000000\">value = [60, 59]</text>\n</g>\n<!-- 1&#45;&gt;31 -->\n<g id=\"edge31\" class=\"edge\">\n<title>1&#45;&gt;31</title>\n<path fill=\"none\" stroke=\"#000000\" d=\"M1567.5,-1856.9465C1567.5,-1848.776 1567.5,-1839.9318 1567.5,-1831.3697\"/>\n<polygon fill=\"#000000\" stroke=\"#000000\" points=\"1571.0001,-1831.13 1567.5,-1821.13 1564.0001,-1831.13 1571.0001,-1831.13\"/>\n</g>\n<!-- 3 -->\n<g id=\"node4\" class=\"node\">\n<title>3</title>\n<polygon fill=\"none\" stroke=\"#000000\" points=\"704,-1709.5 605,-1709.5 605,-1656.5 704,-1656.5 704,-1709.5\"/>\n<text text-anchor=\"middle\" x=\"654.5\" y=\"-1694.3\" font-family=\"Helvetica,sans-Serif\" font-size=\"14.00\" fill=\"#000000\">gini = 0.0</text>\n<text text-anchor=\"middle\" x=\"654.5\" y=\"-1679.3\" font-family=\"Helvetica,sans-Serif\" font-size=\"14.00\" fill=\"#000000\">samples = 1</text>\n<text text-anchor=\"middle\" x=\"654.5\" y=\"-1664.3\" font-family=\"Helvetica,sans-Serif\" font-size=\"14.00\" fill=\"#000000\">value = [1, 0]</text>\n</g>\n<!-- 2&#45;&gt;3 -->\n<g id=\"edge3\" class=\"edge\">\n<title>2&#45;&gt;3</title>\n<path fill=\"none\" stroke=\"#000000\" d=\"M739.2429,-1752.9465C724.8303,-1741.0504 708.6873,-1727.726 694.3883,-1715.9237\"/>\n<polygon fill=\"#000000\" stroke=\"#000000\" points=\"696.5971,-1713.2086 686.6569,-1709.5422 692.1411,-1718.6071 696.5971,-1713.2086\"/>\n</g>\n<!-- 4 -->\n<g id=\"node5\" class=\"node\">\n<title>4</title>\n<polygon fill=\"none\" stroke=\"#000000\" points=\"838.5,-1717 722.5,-1717 722.5,-1649 838.5,-1649 838.5,-1717\"/>\n<text text-anchor=\"middle\" x=\"780.5\" y=\"-1701.8\" font-family=\"Helvetica,sans-Serif\" font-size=\"14.00\" fill=\"#000000\">X[4] &lt;= 26.125</text>\n<text text-anchor=\"middle\" x=\"780.5\" y=\"-1686.8\" font-family=\"Helvetica,sans-Serif\" font-size=\"14.00\" fill=\"#000000\">gini = 0.087</text>\n<text text-anchor=\"middle\" x=\"780.5\" y=\"-1671.8\" font-family=\"Helvetica,sans-Serif\" font-size=\"14.00\" fill=\"#000000\">samples = 132</text>\n<text text-anchor=\"middle\" x=\"780.5\" y=\"-1656.8\" font-family=\"Helvetica,sans-Serif\" font-size=\"14.00\" fill=\"#000000\">value = [6, 126]</text>\n</g>\n<!-- 2&#45;&gt;4 -->\n<g id=\"edge4\" class=\"edge\">\n<title>2&#45;&gt;4</title>\n<path fill=\"none\" stroke=\"#000000\" d=\"M780.5,-1752.9465C780.5,-1744.776 780.5,-1735.9318 780.5,-1727.3697\"/>\n<polygon fill=\"#000000\" stroke=\"#000000\" points=\"784.0001,-1727.13 780.5,-1717.13 777.0001,-1727.13 784.0001,-1727.13\"/>\n</g>\n<!-- 5 -->\n<g id=\"node6\" class=\"node\">\n<title>5</title>\n<polygon fill=\"none\" stroke=\"#000000\" points=\"639,-1613 532,-1613 532,-1545 639,-1545 639,-1613\"/>\n<text text-anchor=\"middle\" x=\"585.5\" y=\"-1597.8\" font-family=\"Helvetica,sans-Serif\" font-size=\"14.00\" fill=\"#000000\">X[1] &lt;= 55.5</text>\n<text text-anchor=\"middle\" x=\"585.5\" y=\"-1582.8\" font-family=\"Helvetica,sans-Serif\" font-size=\"14.00\" fill=\"#000000\">gini = 0.198</text>\n<text text-anchor=\"middle\" x=\"585.5\" y=\"-1567.8\" font-family=\"Helvetica,sans-Serif\" font-size=\"14.00\" fill=\"#000000\">samples = 45</text>\n<text text-anchor=\"middle\" x=\"585.5\" y=\"-1552.8\" font-family=\"Helvetica,sans-Serif\" font-size=\"14.00\" fill=\"#000000\">value = [5, 40]</text>\n</g>\n<!-- 4&#45;&gt;5 -->\n<g id=\"edge5\" class=\"edge\">\n<title>4&#45;&gt;5</title>\n<path fill=\"none\" stroke=\"#000000\" d=\"M722.2577,-1651.9374C698.8721,-1639.4651 671.8692,-1625.0636 648.0671,-1612.3691\"/>\n<polygon fill=\"#000000\" stroke=\"#000000\" points=\"649.5863,-1609.2127 639.1156,-1607.595 646.2921,-1615.3892 649.5863,-1609.2127\"/>\n</g>\n<!-- 24 -->\n<g id=\"node25\" class=\"node\">\n<title>24</title>\n<polygon fill=\"none\" stroke=\"#000000\" points=\"834,-1613 727,-1613 727,-1545 834,-1545 834,-1613\"/>\n<text text-anchor=\"middle\" x=\"780.5\" y=\"-1597.8\" font-family=\"Helvetica,sans-Serif\" font-size=\"14.00\" fill=\"#000000\">X[3] &lt;= 2.5</text>\n<text text-anchor=\"middle\" x=\"780.5\" y=\"-1582.8\" font-family=\"Helvetica,sans-Serif\" font-size=\"14.00\" fill=\"#000000\">gini = 0.023</text>\n<text text-anchor=\"middle\" x=\"780.5\" y=\"-1567.8\" font-family=\"Helvetica,sans-Serif\" font-size=\"14.00\" fill=\"#000000\">samples = 87</text>\n<text text-anchor=\"middle\" x=\"780.5\" y=\"-1552.8\" font-family=\"Helvetica,sans-Serif\" font-size=\"14.00\" fill=\"#000000\">value = [1, 86]</text>\n</g>\n<!-- 4&#45;&gt;24 -->\n<g id=\"edge24\" class=\"edge\">\n<title>4&#45;&gt;24</title>\n<path fill=\"none\" stroke=\"#000000\" d=\"M780.5,-1648.9465C780.5,-1640.776 780.5,-1631.9318 780.5,-1623.3697\"/>\n<polygon fill=\"#000000\" stroke=\"#000000\" points=\"784.0001,-1623.13 780.5,-1613.13 777.0001,-1623.13 784.0001,-1623.13\"/>\n</g>\n<!-- 6 -->\n<g id=\"node7\" class=\"node\">\n<title>6</title>\n<polygon fill=\"none\" stroke=\"#000000\" points=\"503,-1509 396,-1509 396,-1441 503,-1441 503,-1509\"/>\n<text text-anchor=\"middle\" x=\"449.5\" y=\"-1493.8\" font-family=\"Helvetica,sans-Serif\" font-size=\"14.00\" fill=\"#000000\">X[1] &lt;= 27.5</text>\n<text text-anchor=\"middle\" x=\"449.5\" y=\"-1478.8\" font-family=\"Helvetica,sans-Serif\" font-size=\"14.00\" fill=\"#000000\">gini = 0.165</text>\n<text text-anchor=\"middle\" x=\"449.5\" y=\"-1463.8\" font-family=\"Helvetica,sans-Serif\" font-size=\"14.00\" fill=\"#000000\">samples = 44</text>\n<text text-anchor=\"middle\" x=\"449.5\" y=\"-1448.8\" font-family=\"Helvetica,sans-Serif\" font-size=\"14.00\" fill=\"#000000\">value = [4, 40]</text>\n</g>\n<!-- 5&#45;&gt;6 -->\n<g id=\"edge6\" class=\"edge\">\n<title>5&#45;&gt;6</title>\n<path fill=\"none\" stroke=\"#000000\" d=\"M540.9685,-1544.9465C528.6403,-1535.519 515.1391,-1525.1946 502.385,-1515.4415\"/>\n<polygon fill=\"#000000\" stroke=\"#000000\" points=\"504.2012,-1512.4243 494.1315,-1509.13 499.949,-1517.9848 504.2012,-1512.4243\"/>\n</g>\n<!-- 23 -->\n<g id=\"node24\" class=\"node\">\n<title>23</title>\n<polygon fill=\"none\" stroke=\"#000000\" points=\"635,-1501.5 536,-1501.5 536,-1448.5 635,-1448.5 635,-1501.5\"/>\n<text text-anchor=\"middle\" x=\"585.5\" y=\"-1486.3\" font-family=\"Helvetica,sans-Serif\" font-size=\"14.00\" fill=\"#000000\">gini = 0.0</text>\n<text text-anchor=\"middle\" x=\"585.5\" y=\"-1471.3\" font-family=\"Helvetica,sans-Serif\" font-size=\"14.00\" fill=\"#000000\">samples = 1</text>\n<text text-anchor=\"middle\" x=\"585.5\" y=\"-1456.3\" font-family=\"Helvetica,sans-Serif\" font-size=\"14.00\" fill=\"#000000\">value = [1, 0]</text>\n</g>\n<!-- 5&#45;&gt;23 -->\n<g id=\"edge23\" class=\"edge\">\n<title>5&#45;&gt;23</title>\n<path fill=\"none\" stroke=\"#000000\" d=\"M585.5,-1544.9465C585.5,-1534.2621 585.5,-1522.4254 585.5,-1511.5742\"/>\n<polygon fill=\"#000000\" stroke=\"#000000\" points=\"589.0001,-1511.5421 585.5,-1501.5422 582.0001,-1511.5422 589.0001,-1511.5421\"/>\n</g>\n<!-- 7 -->\n<g id=\"node8\" class=\"node\">\n<title>7</title>\n<polygon fill=\"none\" stroke=\"#000000\" points=\"370,-1405 263,-1405 263,-1337 370,-1337 370,-1405\"/>\n<text text-anchor=\"middle\" x=\"316.5\" y=\"-1389.8\" font-family=\"Helvetica,sans-Serif\" font-size=\"14.00\" fill=\"#000000\">X[1] &lt;= 25.5</text>\n<text text-anchor=\"middle\" x=\"316.5\" y=\"-1374.8\" font-family=\"Helvetica,sans-Serif\" font-size=\"14.00\" fill=\"#000000\">gini = 0.32</text>\n<text text-anchor=\"middle\" x=\"316.5\" y=\"-1359.8\" font-family=\"Helvetica,sans-Serif\" font-size=\"14.00\" fill=\"#000000\">samples = 15</text>\n<text text-anchor=\"middle\" x=\"316.5\" y=\"-1344.8\" font-family=\"Helvetica,sans-Serif\" font-size=\"14.00\" fill=\"#000000\">value = [3, 12]</text>\n</g>\n<!-- 6&#45;&gt;7 -->\n<g id=\"edge7\" class=\"edge\">\n<title>6&#45;&gt;7</title>\n<path fill=\"none\" stroke=\"#000000\" d=\"M405.9508,-1440.9465C393.8946,-1431.519 380.6911,-1421.1946 368.2184,-1411.4415\"/>\n<polygon fill=\"#000000\" stroke=\"#000000\" points=\"370.1806,-1408.5328 360.147,-1405.13 365.8686,-1414.0471 370.1806,-1408.5328\"/>\n</g>\n<!-- 16 -->\n<g id=\"node17\" class=\"node\">\n<title>16</title>\n<polygon fill=\"none\" stroke=\"#000000\" points=\"505,-1405 394,-1405 394,-1337 505,-1337 505,-1405\"/>\n<text text-anchor=\"middle\" x=\"449.5\" y=\"-1389.8\" font-family=\"Helvetica,sans-Serif\" font-size=\"14.00\" fill=\"#000000\">X[4] &lt;= 25.965</text>\n<text text-anchor=\"middle\" x=\"449.5\" y=\"-1374.8\" font-family=\"Helvetica,sans-Serif\" font-size=\"14.00\" fill=\"#000000\">gini = 0.067</text>\n<text text-anchor=\"middle\" x=\"449.5\" y=\"-1359.8\" font-family=\"Helvetica,sans-Serif\" font-size=\"14.00\" fill=\"#000000\">samples = 29</text>\n<text text-anchor=\"middle\" x=\"449.5\" y=\"-1344.8\" font-family=\"Helvetica,sans-Serif\" font-size=\"14.00\" fill=\"#000000\">value = [1, 28]</text>\n</g>\n<!-- 6&#45;&gt;16 -->\n<g id=\"edge16\" class=\"edge\">\n<title>6&#45;&gt;16</title>\n<path fill=\"none\" stroke=\"#000000\" d=\"M449.5,-1440.9465C449.5,-1432.776 449.5,-1423.9318 449.5,-1415.3697\"/>\n<polygon fill=\"#000000\" stroke=\"#000000\" points=\"453.0001,-1415.13 449.5,-1405.13 446.0001,-1415.13 453.0001,-1415.13\"/>\n</g>\n<!-- 8 -->\n<g id=\"node9\" class=\"node\">\n<title>8</title>\n<polygon fill=\"none\" stroke=\"#000000\" points=\"220,-1301 113,-1301 113,-1233 220,-1233 220,-1301\"/>\n<text text-anchor=\"middle\" x=\"166.5\" y=\"-1285.8\" font-family=\"Helvetica,sans-Serif\" font-size=\"14.00\" fill=\"#000000\">X[1] &lt;= 23.5</text>\n<text text-anchor=\"middle\" x=\"166.5\" y=\"-1270.8\" font-family=\"Helvetica,sans-Serif\" font-size=\"14.00\" fill=\"#000000\">gini = 0.153</text>\n<text text-anchor=\"middle\" x=\"166.5\" y=\"-1255.8\" font-family=\"Helvetica,sans-Serif\" font-size=\"14.00\" fill=\"#000000\">samples = 12</text>\n<text text-anchor=\"middle\" x=\"166.5\" y=\"-1240.8\" font-family=\"Helvetica,sans-Serif\" font-size=\"14.00\" fill=\"#000000\">value = [1, 11]</text>\n</g>\n<!-- 7&#45;&gt;8 -->\n<g id=\"edge8\" class=\"edge\">\n<title>7&#45;&gt;8</title>\n<path fill=\"none\" stroke=\"#000000\" d=\"M267.3844,-1336.9465C253.5281,-1327.3395 238.3283,-1316.8009 224.0261,-1306.8848\"/>\n<polygon fill=\"#000000\" stroke=\"#000000\" points=\"225.9382,-1303.9515 215.726,-1301.13 221.9497,-1309.7041 225.9382,-1303.9515\"/>\n</g>\n<!-- 13 -->\n<g id=\"node14\" class=\"node\">\n<title>13</title>\n<polygon fill=\"none\" stroke=\"#000000\" points=\"366,-1301 267,-1301 267,-1233 366,-1233 366,-1301\"/>\n<text text-anchor=\"middle\" x=\"316.5\" y=\"-1285.8\" font-family=\"Helvetica,sans-Serif\" font-size=\"14.00\" fill=\"#000000\">X[3] &lt;= 0.5</text>\n<text text-anchor=\"middle\" x=\"316.5\" y=\"-1270.8\" font-family=\"Helvetica,sans-Serif\" font-size=\"14.00\" fill=\"#000000\">gini = 0.444</text>\n<text text-anchor=\"middle\" x=\"316.5\" y=\"-1255.8\" font-family=\"Helvetica,sans-Serif\" font-size=\"14.00\" fill=\"#000000\">samples = 3</text>\n<text text-anchor=\"middle\" x=\"316.5\" y=\"-1240.8\" font-family=\"Helvetica,sans-Serif\" font-size=\"14.00\" fill=\"#000000\">value = [2, 1]</text>\n</g>\n<!-- 7&#45;&gt;13 -->\n<g id=\"edge13\" class=\"edge\">\n<title>7&#45;&gt;13</title>\n<path fill=\"none\" stroke=\"#000000\" d=\"M316.5,-1336.9465C316.5,-1328.776 316.5,-1319.9318 316.5,-1311.3697\"/>\n<polygon fill=\"#000000\" stroke=\"#000000\" points=\"320.0001,-1311.13 316.5,-1301.13 313.0001,-1311.13 320.0001,-1311.13\"/>\n</g>\n<!-- 9 -->\n<g id=\"node10\" class=\"node\">\n<title>9</title>\n<polygon fill=\"none\" stroke=\"#000000\" points=\"99,-1189.5 0,-1189.5 0,-1136.5 99,-1136.5 99,-1189.5\"/>\n<text text-anchor=\"middle\" x=\"49.5\" y=\"-1174.3\" font-family=\"Helvetica,sans-Serif\" font-size=\"14.00\" fill=\"#000000\">gini = 0.0</text>\n<text text-anchor=\"middle\" x=\"49.5\" y=\"-1159.3\" font-family=\"Helvetica,sans-Serif\" font-size=\"14.00\" fill=\"#000000\">samples = 8</text>\n<text text-anchor=\"middle\" x=\"49.5\" y=\"-1144.3\" font-family=\"Helvetica,sans-Serif\" font-size=\"14.00\" fill=\"#000000\">value = [0, 8]</text>\n</g>\n<!-- 8&#45;&gt;9 -->\n<g id=\"edge9\" class=\"edge\">\n<title>8&#45;&gt;9</title>\n<path fill=\"none\" stroke=\"#000000\" d=\"M128.1898,-1232.9465C114.9306,-1221.1606 100.0942,-1207.9726 86.9084,-1196.2519\"/>\n<polygon fill=\"#000000\" stroke=\"#000000\" points=\"89.1593,-1193.5699 79.3599,-1189.5422 84.5088,-1198.8018 89.1593,-1193.5699\"/>\n</g>\n<!-- 10 -->\n<g id=\"node11\" class=\"node\">\n<title>10</title>\n<polygon fill=\"none\" stroke=\"#000000\" points=\"216,-1197 117,-1197 117,-1129 216,-1129 216,-1197\"/>\n<text text-anchor=\"middle\" x=\"166.5\" y=\"-1181.8\" font-family=\"Helvetica,sans-Serif\" font-size=\"14.00\" fill=\"#000000\">X[4] &lt;= 19.5</text>\n<text text-anchor=\"middle\" x=\"166.5\" y=\"-1166.8\" font-family=\"Helvetica,sans-Serif\" font-size=\"14.00\" fill=\"#000000\">gini = 0.375</text>\n<text text-anchor=\"middle\" x=\"166.5\" y=\"-1151.8\" font-family=\"Helvetica,sans-Serif\" font-size=\"14.00\" fill=\"#000000\">samples = 4</text>\n<text text-anchor=\"middle\" x=\"166.5\" y=\"-1136.8\" font-family=\"Helvetica,sans-Serif\" font-size=\"14.00\" fill=\"#000000\">value = [1, 3]</text>\n</g>\n<!-- 8&#45;&gt;10 -->\n<g id=\"edge10\" class=\"edge\">\n<title>8&#45;&gt;10</title>\n<path fill=\"none\" stroke=\"#000000\" d=\"M166.5,-1232.9465C166.5,-1224.776 166.5,-1215.9318 166.5,-1207.3697\"/>\n<polygon fill=\"#000000\" stroke=\"#000000\" points=\"170.0001,-1207.13 166.5,-1197.13 163.0001,-1207.13 170.0001,-1207.13\"/>\n</g>\n<!-- 11 -->\n<g id=\"node12\" class=\"node\">\n<title>11</title>\n<polygon fill=\"none\" stroke=\"#000000\" points=\"158,-1085.5 59,-1085.5 59,-1032.5 158,-1032.5 158,-1085.5\"/>\n<text text-anchor=\"middle\" x=\"108.5\" y=\"-1070.3\" font-family=\"Helvetica,sans-Serif\" font-size=\"14.00\" fill=\"#000000\">gini = 0.5</text>\n<text text-anchor=\"middle\" x=\"108.5\" y=\"-1055.3\" font-family=\"Helvetica,sans-Serif\" font-size=\"14.00\" fill=\"#000000\">samples = 2</text>\n<text text-anchor=\"middle\" x=\"108.5\" y=\"-1040.3\" font-family=\"Helvetica,sans-Serif\" font-size=\"14.00\" fill=\"#000000\">value = [1, 1]</text>\n</g>\n<!-- 10&#45;&gt;11 -->\n<g id=\"edge11\" class=\"edge\">\n<title>10&#45;&gt;11</title>\n<path fill=\"none\" stroke=\"#000000\" d=\"M147.5086,-1128.9465C141.3657,-1117.9316 134.5399,-1105.6922 128.3373,-1094.5703\"/>\n<polygon fill=\"#000000\" stroke=\"#000000\" points=\"131.2299,-1092.5711 123.3024,-1085.5422 125.1163,-1095.9806 131.2299,-1092.5711\"/>\n</g>\n<!-- 12 -->\n<g id=\"node13\" class=\"node\">\n<title>12</title>\n<polygon fill=\"none\" stroke=\"#000000\" points=\"275,-1085.5 176,-1085.5 176,-1032.5 275,-1032.5 275,-1085.5\"/>\n<text text-anchor=\"middle\" x=\"225.5\" y=\"-1070.3\" font-family=\"Helvetica,sans-Serif\" font-size=\"14.00\" fill=\"#000000\">gini = 0.0</text>\n<text text-anchor=\"middle\" x=\"225.5\" y=\"-1055.3\" font-family=\"Helvetica,sans-Serif\" font-size=\"14.00\" fill=\"#000000\">samples = 2</text>\n<text text-anchor=\"middle\" x=\"225.5\" y=\"-1040.3\" font-family=\"Helvetica,sans-Serif\" font-size=\"14.00\" fill=\"#000000\">value = [0, 2]</text>\n</g>\n<!-- 10&#45;&gt;12 -->\n<g id=\"edge12\" class=\"edge\">\n<title>10&#45;&gt;12</title>\n<path fill=\"none\" stroke=\"#000000\" d=\"M185.8188,-1128.9465C192.0676,-1117.9316 199.0112,-1105.6922 205.3207,-1094.5703\"/>\n<polygon fill=\"#000000\" stroke=\"#000000\" points=\"208.5523,-1095.967 210.4424,-1085.5422 202.4638,-1092.513 208.5523,-1095.967\"/>\n</g>\n<!-- 14 -->\n<g id=\"node15\" class=\"node\">\n<title>14</title>\n<polygon fill=\"none\" stroke=\"#000000\" points=\"333,-1189.5 234,-1189.5 234,-1136.5 333,-1136.5 333,-1189.5\"/>\n<text text-anchor=\"middle\" x=\"283.5\" y=\"-1174.3\" font-family=\"Helvetica,sans-Serif\" font-size=\"14.00\" fill=\"#000000\">gini = 0.0</text>\n<text text-anchor=\"middle\" x=\"283.5\" y=\"-1159.3\" font-family=\"Helvetica,sans-Serif\" font-size=\"14.00\" fill=\"#000000\">samples = 1</text>\n<text text-anchor=\"middle\" x=\"283.5\" y=\"-1144.3\" font-family=\"Helvetica,sans-Serif\" font-size=\"14.00\" fill=\"#000000\">value = [0, 1]</text>\n</g>\n<!-- 13&#45;&gt;14 -->\n<g id=\"edge14\" class=\"edge\">\n<title>13&#45;&gt;14</title>\n<path fill=\"none\" stroke=\"#000000\" d=\"M305.6946,-1232.9465C302.2694,-1222.1519 298.471,-1210.1813 294.9989,-1199.2389\"/>\n<polygon fill=\"#000000\" stroke=\"#000000\" points=\"298.2827,-1198.0152 291.922,-1189.5422 291.6105,-1200.1324 298.2827,-1198.0152\"/>\n</g>\n<!-- 15 -->\n<g id=\"node16\" class=\"node\">\n<title>15</title>\n<polygon fill=\"none\" stroke=\"#000000\" points=\"450,-1189.5 351,-1189.5 351,-1136.5 450,-1136.5 450,-1189.5\"/>\n<text text-anchor=\"middle\" x=\"400.5\" y=\"-1174.3\" font-family=\"Helvetica,sans-Serif\" font-size=\"14.00\" fill=\"#000000\">gini = 0.0</text>\n<text text-anchor=\"middle\" x=\"400.5\" y=\"-1159.3\" font-family=\"Helvetica,sans-Serif\" font-size=\"14.00\" fill=\"#000000\">samples = 2</text>\n<text text-anchor=\"middle\" x=\"400.5\" y=\"-1144.3\" font-family=\"Helvetica,sans-Serif\" font-size=\"14.00\" fill=\"#000000\">value = [2, 0]</text>\n</g>\n<!-- 13&#45;&gt;15 -->\n<g id=\"edge15\" class=\"edge\">\n<title>13&#45;&gt;15</title>\n<path fill=\"none\" stroke=\"#000000\" d=\"M344.0047,-1232.9465C353.1683,-1221.6012 363.3811,-1208.9567 372.5761,-1197.5724\"/>\n<polygon fill=\"#000000\" stroke=\"#000000\" points=\"375.5015,-1199.5208 379.0621,-1189.5422 370.0559,-1195.1224 375.5015,-1199.5208\"/>\n</g>\n<!-- 17 -->\n<g id=\"node18\" class=\"node\">\n<title>17</title>\n<polygon fill=\"none\" stroke=\"#000000\" points=\"497,-1293.5 390,-1293.5 390,-1240.5 497,-1240.5 497,-1293.5\"/>\n<text text-anchor=\"middle\" x=\"443.5\" y=\"-1278.3\" font-family=\"Helvetica,sans-Serif\" font-size=\"14.00\" fill=\"#000000\">gini = 0.0</text>\n<text text-anchor=\"middle\" x=\"443.5\" y=\"-1263.3\" font-family=\"Helvetica,sans-Serif\" font-size=\"14.00\" fill=\"#000000\">samples = 23</text>\n<text text-anchor=\"middle\" x=\"443.5\" y=\"-1248.3\" font-family=\"Helvetica,sans-Serif\" font-size=\"14.00\" fill=\"#000000\">value = [0, 23]</text>\n</g>\n<!-- 16&#45;&gt;17 -->\n<g id=\"edge17\" class=\"edge\">\n<title>16&#45;&gt;17</title>\n<path fill=\"none\" stroke=\"#000000\" d=\"M447.5354,-1336.9465C446.919,-1326.2621 446.2361,-1314.4254 445.6101,-1303.5742\"/>\n<polygon fill=\"#000000\" stroke=\"#000000\" points=\"449.1015,-1303.3239 445.0313,-1293.5422 442.1131,-1303.7272 449.1015,-1303.3239\"/>\n</g>\n<!-- 18 -->\n<g id=\"node19\" class=\"node\">\n<title>18</title>\n<polygon fill=\"none\" stroke=\"#000000\" points=\"614,-1301 515,-1301 515,-1233 614,-1233 614,-1301\"/>\n<text text-anchor=\"middle\" x=\"564.5\" y=\"-1285.8\" font-family=\"Helvetica,sans-Serif\" font-size=\"14.00\" fill=\"#000000\">X[1] &lt;= 43.0</text>\n<text text-anchor=\"middle\" x=\"564.5\" y=\"-1270.8\" font-family=\"Helvetica,sans-Serif\" font-size=\"14.00\" fill=\"#000000\">gini = 0.278</text>\n<text text-anchor=\"middle\" x=\"564.5\" y=\"-1255.8\" font-family=\"Helvetica,sans-Serif\" font-size=\"14.00\" fill=\"#000000\">samples = 6</text>\n<text text-anchor=\"middle\" x=\"564.5\" y=\"-1240.8\" font-family=\"Helvetica,sans-Serif\" font-size=\"14.00\" fill=\"#000000\">value = [1, 5]</text>\n</g>\n<!-- 16&#45;&gt;18 -->\n<g id=\"edge18\" class=\"edge\">\n<title>16&#45;&gt;18</title>\n<path fill=\"none\" stroke=\"#000000\" d=\"M487.1553,-1336.9465C497.3813,-1327.6986 508.5618,-1317.5876 519.1641,-1307.9994\"/>\n<polygon fill=\"#000000\" stroke=\"#000000\" points=\"521.6908,-1310.4334 526.7601,-1301.13 516.9956,-1305.2416 521.6908,-1310.4334\"/>\n</g>\n<!-- 19 -->\n<g id=\"node20\" class=\"node\">\n<title>19</title>\n<polygon fill=\"none\" stroke=\"#000000\" points=\"567,-1189.5 468,-1189.5 468,-1136.5 567,-1136.5 567,-1189.5\"/>\n<text text-anchor=\"middle\" x=\"517.5\" y=\"-1174.3\" font-family=\"Helvetica,sans-Serif\" font-size=\"14.00\" fill=\"#000000\">gini = 0.0</text>\n<text text-anchor=\"middle\" x=\"517.5\" y=\"-1159.3\" font-family=\"Helvetica,sans-Serif\" font-size=\"14.00\" fill=\"#000000\">samples = 4</text>\n<text text-anchor=\"middle\" x=\"517.5\" y=\"-1144.3\" font-family=\"Helvetica,sans-Serif\" font-size=\"14.00\" fill=\"#000000\">value = [0, 4]</text>\n</g>\n<!-- 18&#45;&gt;19 -->\n<g id=\"edge19\" class=\"edge\">\n<title>18&#45;&gt;19</title>\n<path fill=\"none\" stroke=\"#000000\" d=\"M549.1104,-1232.9465C544.1823,-1222.0418 538.7118,-1209.9368 533.726,-1198.9043\"/>\n<polygon fill=\"#000000\" stroke=\"#000000\" points=\"536.8027,-1197.2134 529.495,-1189.5422 530.4239,-1200.0962 536.8027,-1197.2134\"/>\n</g>\n<!-- 20 -->\n<g id=\"node21\" class=\"node\">\n<title>20</title>\n<polygon fill=\"none\" stroke=\"#000000\" points=\"684,-1197 585,-1197 585,-1129 684,-1129 684,-1197\"/>\n<text text-anchor=\"middle\" x=\"634.5\" y=\"-1181.8\" font-family=\"Helvetica,sans-Serif\" font-size=\"14.00\" fill=\"#000000\">X[1] &lt;= 47.0</text>\n<text text-anchor=\"middle\" x=\"634.5\" y=\"-1166.8\" font-family=\"Helvetica,sans-Serif\" font-size=\"14.00\" fill=\"#000000\">gini = 0.5</text>\n<text text-anchor=\"middle\" x=\"634.5\" y=\"-1151.8\" font-family=\"Helvetica,sans-Serif\" font-size=\"14.00\" fill=\"#000000\">samples = 2</text>\n<text text-anchor=\"middle\" x=\"634.5\" y=\"-1136.8\" font-family=\"Helvetica,sans-Serif\" font-size=\"14.00\" fill=\"#000000\">value = [1, 1]</text>\n</g>\n<!-- 18&#45;&gt;20 -->\n<g id=\"edge20\" class=\"edge\">\n<title>18&#45;&gt;20</title>\n<path fill=\"none\" stroke=\"#000000\" d=\"M587.4206,-1232.9465C593.2826,-1224.2373 599.6598,-1214.7626 605.773,-1205.6801\"/>\n<polygon fill=\"#000000\" stroke=\"#000000\" points=\"608.8476,-1207.3802 611.5279,-1197.13 603.0405,-1203.4716 608.8476,-1207.3802\"/>\n</g>\n<!-- 21 -->\n<g id=\"node22\" class=\"node\">\n<title>21</title>\n<polygon fill=\"none\" stroke=\"#000000\" points=\"567,-1085.5 468,-1085.5 468,-1032.5 567,-1032.5 567,-1085.5\"/>\n<text text-anchor=\"middle\" x=\"517.5\" y=\"-1070.3\" font-family=\"Helvetica,sans-Serif\" font-size=\"14.00\" fill=\"#000000\">gini = 0.0</text>\n<text text-anchor=\"middle\" x=\"517.5\" y=\"-1055.3\" font-family=\"Helvetica,sans-Serif\" font-size=\"14.00\" fill=\"#000000\">samples = 1</text>\n<text text-anchor=\"middle\" x=\"517.5\" y=\"-1040.3\" font-family=\"Helvetica,sans-Serif\" font-size=\"14.00\" fill=\"#000000\">value = [1, 0]</text>\n</g>\n<!-- 20&#45;&gt;21 -->\n<g id=\"edge21\" class=\"edge\">\n<title>20&#45;&gt;21</title>\n<path fill=\"none\" stroke=\"#000000\" d=\"M596.1898,-1128.9465C582.9306,-1117.1606 568.0942,-1103.9726 554.9084,-1092.2519\"/>\n<polygon fill=\"#000000\" stroke=\"#000000\" points=\"557.1593,-1089.5699 547.3599,-1085.5422 552.5088,-1094.8018 557.1593,-1089.5699\"/>\n</g>\n<!-- 22 -->\n<g id=\"node23\" class=\"node\">\n<title>22</title>\n<polygon fill=\"none\" stroke=\"#000000\" points=\"684,-1085.5 585,-1085.5 585,-1032.5 684,-1032.5 684,-1085.5\"/>\n<text text-anchor=\"middle\" x=\"634.5\" y=\"-1070.3\" font-family=\"Helvetica,sans-Serif\" font-size=\"14.00\" fill=\"#000000\">gini = 0.0</text>\n<text text-anchor=\"middle\" x=\"634.5\" y=\"-1055.3\" font-family=\"Helvetica,sans-Serif\" font-size=\"14.00\" fill=\"#000000\">samples = 1</text>\n<text text-anchor=\"middle\" x=\"634.5\" y=\"-1040.3\" font-family=\"Helvetica,sans-Serif\" font-size=\"14.00\" fill=\"#000000\">value = [0, 1]</text>\n</g>\n<!-- 20&#45;&gt;22 -->\n<g id=\"edge22\" class=\"edge\">\n<title>20&#45;&gt;22</title>\n<path fill=\"none\" stroke=\"#000000\" d=\"M634.5,-1128.9465C634.5,-1118.2621 634.5,-1106.4254 634.5,-1095.5742\"/>\n<polygon fill=\"#000000\" stroke=\"#000000\" points=\"638.0001,-1095.5421 634.5,-1085.5422 631.0001,-1095.5422 638.0001,-1095.5421\"/>\n</g>\n<!-- 25 -->\n<g id=\"node26\" class=\"node\">\n<title>25</title>\n<polygon fill=\"none\" stroke=\"#000000\" points=\"771,-1501.5 664,-1501.5 664,-1448.5 771,-1448.5 771,-1501.5\"/>\n<text text-anchor=\"middle\" x=\"717.5\" y=\"-1486.3\" font-family=\"Helvetica,sans-Serif\" font-size=\"14.00\" fill=\"#000000\">gini = 0.0</text>\n<text text-anchor=\"middle\" x=\"717.5\" y=\"-1471.3\" font-family=\"Helvetica,sans-Serif\" font-size=\"14.00\" fill=\"#000000\">samples = 75</text>\n<text text-anchor=\"middle\" x=\"717.5\" y=\"-1456.3\" font-family=\"Helvetica,sans-Serif\" font-size=\"14.00\" fill=\"#000000\">value = [0, 75]</text>\n</g>\n<!-- 24&#45;&gt;25 -->\n<g id=\"edge25\" class=\"edge\">\n<title>24&#45;&gt;25</title>\n<path fill=\"none\" stroke=\"#000000\" d=\"M759.8714,-1544.9465C753.1322,-1533.8215 745.6363,-1521.4473 738.8455,-1510.237\"/>\n<polygon fill=\"#000000\" stroke=\"#000000\" points=\"741.7533,-1508.2818 733.5784,-1501.5422 735.7661,-1511.9087 741.7533,-1508.2818\"/>\n</g>\n<!-- 26 -->\n<g id=\"node27\" class=\"node\">\n<title>26</title>\n<polygon fill=\"none\" stroke=\"#000000\" points=\"896,-1509 789,-1509 789,-1441 896,-1441 896,-1509\"/>\n<text text-anchor=\"middle\" x=\"842.5\" y=\"-1493.8\" font-family=\"Helvetica,sans-Serif\" font-size=\"14.00\" fill=\"#000000\">X[1] &lt;= 24.5</text>\n<text text-anchor=\"middle\" x=\"842.5\" y=\"-1478.8\" font-family=\"Helvetica,sans-Serif\" font-size=\"14.00\" fill=\"#000000\">gini = 0.153</text>\n<text text-anchor=\"middle\" x=\"842.5\" y=\"-1463.8\" font-family=\"Helvetica,sans-Serif\" font-size=\"14.00\" fill=\"#000000\">samples = 12</text>\n<text text-anchor=\"middle\" x=\"842.5\" y=\"-1448.8\" font-family=\"Helvetica,sans-Serif\" font-size=\"14.00\" fill=\"#000000\">value = [1, 11]</text>\n</g>\n<!-- 24&#45;&gt;26 -->\n<g id=\"edge26\" class=\"edge\">\n<title>24&#45;&gt;26</title>\n<path fill=\"none\" stroke=\"#000000\" d=\"M800.8011,-1544.9465C805.9396,-1536.3271 811.5251,-1526.9579 816.8886,-1517.9611\"/>\n<polygon fill=\"#000000\" stroke=\"#000000\" points=\"820.0389,-1519.5117 822.1533,-1509.13 814.0263,-1515.9272 820.0389,-1519.5117\"/>\n</g>\n<!-- 27 -->\n<g id=\"node28\" class=\"node\">\n<title>27</title>\n<polygon fill=\"none\" stroke=\"#000000\" points=\"798,-1397.5 699,-1397.5 699,-1344.5 798,-1344.5 798,-1397.5\"/>\n<text text-anchor=\"middle\" x=\"748.5\" y=\"-1382.3\" font-family=\"Helvetica,sans-Serif\" font-size=\"14.00\" fill=\"#000000\">gini = 0.0</text>\n<text text-anchor=\"middle\" x=\"748.5\" y=\"-1367.3\" font-family=\"Helvetica,sans-Serif\" font-size=\"14.00\" fill=\"#000000\">samples = 9</text>\n<text text-anchor=\"middle\" x=\"748.5\" y=\"-1352.3\" font-family=\"Helvetica,sans-Serif\" font-size=\"14.00\" fill=\"#000000\">value = [0, 9]</text>\n</g>\n<!-- 26&#45;&gt;27 -->\n<g id=\"edge27\" class=\"edge\">\n<title>26&#45;&gt;27</title>\n<path fill=\"none\" stroke=\"#000000\" d=\"M811.7209,-1440.9465C801.3669,-1429.491 789.8158,-1416.711 779.4487,-1405.2412\"/>\n<polygon fill=\"#000000\" stroke=\"#000000\" points=\"781.792,-1402.614 772.49,-1397.5422 776.5989,-1407.3078 781.792,-1402.614\"/>\n</g>\n<!-- 28 -->\n<g id=\"node29\" class=\"node\">\n<title>28</title>\n<polygon fill=\"none\" stroke=\"#000000\" points=\"915,-1405 816,-1405 816,-1337 915,-1337 915,-1405\"/>\n<text text-anchor=\"middle\" x=\"865.5\" y=\"-1389.8\" font-family=\"Helvetica,sans-Serif\" font-size=\"14.00\" fill=\"#000000\">X[1] &lt;= 30.5</text>\n<text text-anchor=\"middle\" x=\"865.5\" y=\"-1374.8\" font-family=\"Helvetica,sans-Serif\" font-size=\"14.00\" fill=\"#000000\">gini = 0.444</text>\n<text text-anchor=\"middle\" x=\"865.5\" y=\"-1359.8\" font-family=\"Helvetica,sans-Serif\" font-size=\"14.00\" fill=\"#000000\">samples = 3</text>\n<text text-anchor=\"middle\" x=\"865.5\" y=\"-1344.8\" font-family=\"Helvetica,sans-Serif\" font-size=\"14.00\" fill=\"#000000\">value = [1, 2]</text>\n</g>\n<!-- 26&#45;&gt;28 -->\n<g id=\"edge28\" class=\"edge\">\n<title>26&#45;&gt;28</title>\n<path fill=\"none\" stroke=\"#000000\" d=\"M850.0311,-1440.9465C851.8578,-1432.6863 853.8369,-1423.7374 855.7499,-1415.0875\"/>\n<polygon fill=\"#000000\" stroke=\"#000000\" points=\"859.21,-1415.6499 857.952,-1405.13 852.3752,-1414.1383 859.21,-1415.6499\"/>\n</g>\n<!-- 29 -->\n<g id=\"node30\" class=\"node\">\n<title>29</title>\n<polygon fill=\"none\" stroke=\"#000000\" points=\"843,-1293.5 744,-1293.5 744,-1240.5 843,-1240.5 843,-1293.5\"/>\n<text text-anchor=\"middle\" x=\"793.5\" y=\"-1278.3\" font-family=\"Helvetica,sans-Serif\" font-size=\"14.00\" fill=\"#000000\">gini = 0.0</text>\n<text text-anchor=\"middle\" x=\"793.5\" y=\"-1263.3\" font-family=\"Helvetica,sans-Serif\" font-size=\"14.00\" fill=\"#000000\">samples = 1</text>\n<text text-anchor=\"middle\" x=\"793.5\" y=\"-1248.3\" font-family=\"Helvetica,sans-Serif\" font-size=\"14.00\" fill=\"#000000\">value = [1, 0]</text>\n</g>\n<!-- 28&#45;&gt;29 -->\n<g id=\"edge29\" class=\"edge\">\n<title>28&#45;&gt;29</title>\n<path fill=\"none\" stroke=\"#000000\" d=\"M841.9245,-1336.9465C834.1463,-1325.7113 825.4861,-1313.2021 817.6645,-1301.9043\"/>\n<polygon fill=\"#000000\" stroke=\"#000000\" points=\"820.4452,-1299.7719 811.8753,-1293.5422 814.6898,-1303.7564 820.4452,-1299.7719\"/>\n</g>\n<!-- 30 -->\n<g id=\"node31\" class=\"node\">\n<title>30</title>\n<polygon fill=\"none\" stroke=\"#000000\" points=\"960,-1293.5 861,-1293.5 861,-1240.5 960,-1240.5 960,-1293.5\"/>\n<text text-anchor=\"middle\" x=\"910.5\" y=\"-1278.3\" font-family=\"Helvetica,sans-Serif\" font-size=\"14.00\" fill=\"#000000\">gini = 0.0</text>\n<text text-anchor=\"middle\" x=\"910.5\" y=\"-1263.3\" font-family=\"Helvetica,sans-Serif\" font-size=\"14.00\" fill=\"#000000\">samples = 2</text>\n<text text-anchor=\"middle\" x=\"910.5\" y=\"-1248.3\" font-family=\"Helvetica,sans-Serif\" font-size=\"14.00\" fill=\"#000000\">value = [0, 2]</text>\n</g>\n<!-- 28&#45;&gt;30 -->\n<g id=\"edge30\" class=\"edge\">\n<title>28&#45;&gt;30</title>\n<path fill=\"none\" stroke=\"#000000\" d=\"M880.2347,-1336.9465C884.9531,-1326.0418 890.1908,-1313.9368 894.9645,-1302.9043\"/>\n<polygon fill=\"#000000\" stroke=\"#000000\" points=\"898.2564,-1304.1098 899.0154,-1293.5422 891.832,-1301.33 898.2564,-1304.1098\"/>\n</g>\n<!-- 32 -->\n<g id=\"node33\" class=\"node\">\n<title>32</title>\n<polygon fill=\"none\" stroke=\"#000000\" points=\"1540.5,-1717 1424.5,-1717 1424.5,-1649 1540.5,-1649 1540.5,-1717\"/>\n<text text-anchor=\"middle\" x=\"1482.5\" y=\"-1701.8\" font-family=\"Helvetica,sans-Serif\" font-size=\"14.00\" fill=\"#000000\">X[4] &lt;= 8.04</text>\n<text text-anchor=\"middle\" x=\"1482.5\" y=\"-1686.8\" font-family=\"Helvetica,sans-Serif\" font-size=\"14.00\" fill=\"#000000\">gini = 0.484</text>\n<text text-anchor=\"middle\" x=\"1482.5\" y=\"-1671.8\" font-family=\"Helvetica,sans-Serif\" font-size=\"14.00\" fill=\"#000000\">samples = 95</text>\n<text text-anchor=\"middle\" x=\"1482.5\" y=\"-1656.8\" font-family=\"Helvetica,sans-Serif\" font-size=\"14.00\" fill=\"#000000\">value = [39, 56]</text>\n</g>\n<!-- 31&#45;&gt;32 -->\n<g id=\"edge32\" class=\"edge\">\n<title>31&#45;&gt;32</title>\n<path fill=\"none\" stroke=\"#000000\" d=\"M1539.6678,-1752.9465C1532.403,-1744.0578 1524.4864,-1734.3716 1516.924,-1725.1188\"/>\n<polygon fill=\"#000000\" stroke=\"#000000\" points=\"1519.4331,-1722.658 1510.3947,-1717.13 1514.013,-1727.0878 1519.4331,-1722.658\"/>\n</g>\n<!-- 97 -->\n<g id=\"node98\" class=\"node\">\n<title>97</title>\n<polygon fill=\"none\" stroke=\"#000000\" points=\"1706,-1717 1599,-1717 1599,-1649 1706,-1649 1706,-1717\"/>\n<text text-anchor=\"middle\" x=\"1652.5\" y=\"-1701.8\" font-family=\"Helvetica,sans-Serif\" font-size=\"14.00\" fill=\"#000000\">X[3] &lt;= 1.5</text>\n<text text-anchor=\"middle\" x=\"1652.5\" y=\"-1686.8\" font-family=\"Helvetica,sans-Serif\" font-size=\"14.00\" fill=\"#000000\">gini = 0.219</text>\n<text text-anchor=\"middle\" x=\"1652.5\" y=\"-1671.8\" font-family=\"Helvetica,sans-Serif\" font-size=\"14.00\" fill=\"#000000\">samples = 24</text>\n<text text-anchor=\"middle\" x=\"1652.5\" y=\"-1656.8\" font-family=\"Helvetica,sans-Serif\" font-size=\"14.00\" fill=\"#000000\">value = [21, 3]</text>\n</g>\n<!-- 31&#45;&gt;97 -->\n<g id=\"edge97\" class=\"edge\">\n<title>31&#45;&gt;97</title>\n<path fill=\"none\" stroke=\"#000000\" d=\"M1595.3322,-1752.9465C1602.597,-1744.0578 1610.5136,-1734.3716 1618.076,-1725.1188\"/>\n<polygon fill=\"#000000\" stroke=\"#000000\" points=\"1620.987,-1727.0878 1624.6053,-1717.13 1615.5669,-1722.658 1620.987,-1727.0878\"/>\n</g>\n<!-- 33 -->\n<g id=\"node34\" class=\"node\">\n<title>33</title>\n<polygon fill=\"none\" stroke=\"#000000\" points=\"1346.5,-1613 1230.5,-1613 1230.5,-1545 1346.5,-1545 1346.5,-1613\"/>\n<text text-anchor=\"middle\" x=\"1288.5\" y=\"-1597.8\" font-family=\"Helvetica,sans-Serif\" font-size=\"14.00\" fill=\"#000000\">X[1] &lt;= 30.1</text>\n<text text-anchor=\"middle\" x=\"1288.5\" y=\"-1582.8\" font-family=\"Helvetica,sans-Serif\" font-size=\"14.00\" fill=\"#000000\">gini = 0.408</text>\n<text text-anchor=\"middle\" x=\"1288.5\" y=\"-1567.8\" font-family=\"Helvetica,sans-Serif\" font-size=\"14.00\" fill=\"#000000\">samples = 42</text>\n<text text-anchor=\"middle\" x=\"1288.5\" y=\"-1552.8\" font-family=\"Helvetica,sans-Serif\" font-size=\"14.00\" fill=\"#000000\">value = [12, 30]</text>\n</g>\n<!-- 32&#45;&gt;33 -->\n<g id=\"edge33\" class=\"edge\">\n<title>32&#45;&gt;33</title>\n<path fill=\"none\" stroke=\"#000000\" d=\"M1424.2936,-1651.7966C1402.7129,-1640.2275 1378.065,-1627.0142 1355.7445,-1615.0486\"/>\n<polygon fill=\"#000000\" stroke=\"#000000\" points=\"1357.1325,-1611.8215 1346.6653,-1610.1814 1353.8251,-1617.9909 1357.1325,-1611.8215\"/>\n</g>\n<!-- 62 -->\n<g id=\"node63\" class=\"node\">\n<title>62</title>\n<polygon fill=\"none\" stroke=\"#000000\" points=\"1540.5,-1613 1424.5,-1613 1424.5,-1545 1540.5,-1545 1540.5,-1613\"/>\n<text text-anchor=\"middle\" x=\"1482.5\" y=\"-1597.8\" font-family=\"Helvetica,sans-Serif\" font-size=\"14.00\" fill=\"#000000\">X[1] &lt;= 6.5</text>\n<text text-anchor=\"middle\" x=\"1482.5\" y=\"-1582.8\" font-family=\"Helvetica,sans-Serif\" font-size=\"14.00\" fill=\"#000000\">gini = 0.5</text>\n<text text-anchor=\"middle\" x=\"1482.5\" y=\"-1567.8\" font-family=\"Helvetica,sans-Serif\" font-size=\"14.00\" fill=\"#000000\">samples = 53</text>\n<text text-anchor=\"middle\" x=\"1482.5\" y=\"-1552.8\" font-family=\"Helvetica,sans-Serif\" font-size=\"14.00\" fill=\"#000000\">value = [27, 26]</text>\n</g>\n<!-- 32&#45;&gt;62 -->\n<g id=\"edge62\" class=\"edge\">\n<title>32&#45;&gt;62</title>\n<path fill=\"none\" stroke=\"#000000\" d=\"M1482.5,-1648.9465C1482.5,-1640.776 1482.5,-1631.9318 1482.5,-1623.3697\"/>\n<polygon fill=\"#000000\" stroke=\"#000000\" points=\"1486.0001,-1623.13 1482.5,-1613.13 1479.0001,-1623.13 1486.0001,-1623.13\"/>\n</g>\n<!-- 34 -->\n<g id=\"node35\" class=\"node\">\n<title>34</title>\n<polygon fill=\"none\" stroke=\"#000000\" points=\"1221,-1509 1114,-1509 1114,-1441 1221,-1441 1221,-1509\"/>\n<text text-anchor=\"middle\" x=\"1167.5\" y=\"-1493.8\" font-family=\"Helvetica,sans-Serif\" font-size=\"14.00\" fill=\"#000000\">X[4] &lt;= 6.987</text>\n<text text-anchor=\"middle\" x=\"1167.5\" y=\"-1478.8\" font-family=\"Helvetica,sans-Serif\" font-size=\"14.00\" fill=\"#000000\">gini = 0.355</text>\n<text text-anchor=\"middle\" x=\"1167.5\" y=\"-1463.8\" font-family=\"Helvetica,sans-Serif\" font-size=\"14.00\" fill=\"#000000\">samples = 39</text>\n<text text-anchor=\"middle\" x=\"1167.5\" y=\"-1448.8\" font-family=\"Helvetica,sans-Serif\" font-size=\"14.00\" fill=\"#000000\">value = [9, 30]</text>\n</g>\n<!-- 33&#45;&gt;34 -->\n<g id=\"edge34\" class=\"edge\">\n<title>33&#45;&gt;34</title>\n<path fill=\"none\" stroke=\"#000000\" d=\"M1248.8801,-1544.9465C1238.016,-1535.6088 1226.1282,-1525.3911 1214.8765,-1515.7203\"/>\n<polygon fill=\"#000000\" stroke=\"#000000\" points=\"1217.0741,-1512.994 1207.2089,-1509.13 1212.5113,-1518.3026 1217.0741,-1512.994\"/>\n</g>\n<!-- 61 -->\n<g id=\"node62\" class=\"node\">\n<title>61</title>\n<polygon fill=\"none\" stroke=\"#000000\" points=\"1338,-1501.5 1239,-1501.5 1239,-1448.5 1338,-1448.5 1338,-1501.5\"/>\n<text text-anchor=\"middle\" x=\"1288.5\" y=\"-1486.3\" font-family=\"Helvetica,sans-Serif\" font-size=\"14.00\" fill=\"#000000\">gini = 0.0</text>\n<text text-anchor=\"middle\" x=\"1288.5\" y=\"-1471.3\" font-family=\"Helvetica,sans-Serif\" font-size=\"14.00\" fill=\"#000000\">samples = 3</text>\n<text text-anchor=\"middle\" x=\"1288.5\" y=\"-1456.3\" font-family=\"Helvetica,sans-Serif\" font-size=\"14.00\" fill=\"#000000\">value = [3, 0]</text>\n</g>\n<!-- 33&#45;&gt;61 -->\n<g id=\"edge61\" class=\"edge\">\n<title>33&#45;&gt;61</title>\n<path fill=\"none\" stroke=\"#000000\" d=\"M1288.5,-1544.9465C1288.5,-1534.2621 1288.5,-1522.4254 1288.5,-1511.5742\"/>\n<polygon fill=\"#000000\" stroke=\"#000000\" points=\"1292.0001,-1511.5421 1288.5,-1501.5422 1285.0001,-1511.5422 1292.0001,-1511.5421\"/>\n</g>\n<!-- 35 -->\n<g id=\"node36\" class=\"node\">\n<title>35</title>\n<polygon fill=\"none\" stroke=\"#000000\" points=\"1096,-1397.5 997,-1397.5 997,-1344.5 1096,-1344.5 1096,-1397.5\"/>\n<text text-anchor=\"middle\" x=\"1046.5\" y=\"-1382.3\" font-family=\"Helvetica,sans-Serif\" font-size=\"14.00\" fill=\"#000000\">gini = 0.0</text>\n<text text-anchor=\"middle\" x=\"1046.5\" y=\"-1367.3\" font-family=\"Helvetica,sans-Serif\" font-size=\"14.00\" fill=\"#000000\">samples = 1</text>\n<text text-anchor=\"middle\" x=\"1046.5\" y=\"-1352.3\" font-family=\"Helvetica,sans-Serif\" font-size=\"14.00\" fill=\"#000000\">value = [1, 0]</text>\n</g>\n<!-- 34&#45;&gt;35 -->\n<g id=\"edge35\" class=\"edge\">\n<title>34&#45;&gt;35</title>\n<path fill=\"none\" stroke=\"#000000\" d=\"M1127.8801,-1440.9465C1114.1676,-1429.1606 1098.8239,-1415.9726 1085.1873,-1404.2519\"/>\n<polygon fill=\"#000000\" stroke=\"#000000\" points=\"1087.2459,-1401.4061 1077.3808,-1397.5422 1082.6831,-1406.7147 1087.2459,-1401.4061\"/>\n</g>\n<!-- 36 -->\n<g id=\"node37\" class=\"node\">\n<title>36</title>\n<polygon fill=\"none\" stroke=\"#000000\" points=\"1221,-1405 1114,-1405 1114,-1337 1221,-1337 1221,-1405\"/>\n<text text-anchor=\"middle\" x=\"1167.5\" y=\"-1389.8\" font-family=\"Helvetica,sans-Serif\" font-size=\"14.00\" fill=\"#000000\">X[3] &lt;= 0.5</text>\n<text text-anchor=\"middle\" x=\"1167.5\" y=\"-1374.8\" font-family=\"Helvetica,sans-Serif\" font-size=\"14.00\" fill=\"#000000\">gini = 0.332</text>\n<text text-anchor=\"middle\" x=\"1167.5\" y=\"-1359.8\" font-family=\"Helvetica,sans-Serif\" font-size=\"14.00\" fill=\"#000000\">samples = 38</text>\n<text text-anchor=\"middle\" x=\"1167.5\" y=\"-1344.8\" font-family=\"Helvetica,sans-Serif\" font-size=\"14.00\" fill=\"#000000\">value = [8, 30]</text>\n</g>\n<!-- 34&#45;&gt;36 -->\n<g id=\"edge36\" class=\"edge\">\n<title>34&#45;&gt;36</title>\n<path fill=\"none\" stroke=\"#000000\" d=\"M1167.5,-1440.9465C1167.5,-1432.776 1167.5,-1423.9318 1167.5,-1415.3697\"/>\n<polygon fill=\"#000000\" stroke=\"#000000\" points=\"1171.0001,-1415.13 1167.5,-1405.13 1164.0001,-1415.13 1171.0001,-1415.13\"/>\n</g>\n<!-- 37 -->\n<g id=\"node38\" class=\"node\">\n<title>37</title>\n<polygon fill=\"none\" stroke=\"#000000\" points=\"1100,-1301 993,-1301 993,-1233 1100,-1233 1100,-1301\"/>\n<text text-anchor=\"middle\" x=\"1046.5\" y=\"-1285.8\" font-family=\"Helvetica,sans-Serif\" font-size=\"14.00\" fill=\"#000000\">X[1] &lt;= 21.5</text>\n<text text-anchor=\"middle\" x=\"1046.5\" y=\"-1270.8\" font-family=\"Helvetica,sans-Serif\" font-size=\"14.00\" fill=\"#000000\">gini = 0.291</text>\n<text text-anchor=\"middle\" x=\"1046.5\" y=\"-1255.8\" font-family=\"Helvetica,sans-Serif\" font-size=\"14.00\" fill=\"#000000\">samples = 34</text>\n<text text-anchor=\"middle\" x=\"1046.5\" y=\"-1240.8\" font-family=\"Helvetica,sans-Serif\" font-size=\"14.00\" fill=\"#000000\">value = [6, 28]</text>\n</g>\n<!-- 36&#45;&gt;37 -->\n<g id=\"edge37\" class=\"edge\">\n<title>36&#45;&gt;37</title>\n<path fill=\"none\" stroke=\"#000000\" d=\"M1127.8801,-1336.9465C1117.016,-1327.6088 1105.1282,-1317.3911 1093.8765,-1307.7203\"/>\n<polygon fill=\"#000000\" stroke=\"#000000\" points=\"1096.0741,-1304.994 1086.2089,-1301.13 1091.5113,-1310.3026 1096.0741,-1304.994\"/>\n</g>\n<!-- 58 -->\n<g id=\"node59\" class=\"node\">\n<title>58</title>\n<polygon fill=\"none\" stroke=\"#000000\" points=\"1217,-1301 1118,-1301 1118,-1233 1217,-1233 1217,-1301\"/>\n<text text-anchor=\"middle\" x=\"1167.5\" y=\"-1285.8\" font-family=\"Helvetica,sans-Serif\" font-size=\"14.00\" fill=\"#000000\">X[1] &lt;= 22.0</text>\n<text text-anchor=\"middle\" x=\"1167.5\" y=\"-1270.8\" font-family=\"Helvetica,sans-Serif\" font-size=\"14.00\" fill=\"#000000\">gini = 0.5</text>\n<text text-anchor=\"middle\" x=\"1167.5\" y=\"-1255.8\" font-family=\"Helvetica,sans-Serif\" font-size=\"14.00\" fill=\"#000000\">samples = 4</text>\n<text text-anchor=\"middle\" x=\"1167.5\" y=\"-1240.8\" font-family=\"Helvetica,sans-Serif\" font-size=\"14.00\" fill=\"#000000\">value = [2, 2]</text>\n</g>\n<!-- 36&#45;&gt;58 -->\n<g id=\"edge58\" class=\"edge\">\n<title>36&#45;&gt;58</title>\n<path fill=\"none\" stroke=\"#000000\" d=\"M1167.5,-1336.9465C1167.5,-1328.776 1167.5,-1319.9318 1167.5,-1311.3697\"/>\n<polygon fill=\"#000000\" stroke=\"#000000\" points=\"1171.0001,-1311.13 1167.5,-1301.13 1164.0001,-1311.13 1171.0001,-1311.13\"/>\n</g>\n<!-- 38 -->\n<g id=\"node39\" class=\"node\">\n<title>38</title>\n<polygon fill=\"none\" stroke=\"#000000\" points=\"922,-1197 819,-1197 819,-1129 922,-1129 922,-1197\"/>\n<text text-anchor=\"middle\" x=\"870.5\" y=\"-1181.8\" font-family=\"Helvetica,sans-Serif\" font-size=\"14.00\" fill=\"#000000\">X[4] &lt;= 7.742</text>\n<text text-anchor=\"middle\" x=\"870.5\" y=\"-1166.8\" font-family=\"Helvetica,sans-Serif\" font-size=\"14.00\" fill=\"#000000\">gini = 0.444</text>\n<text text-anchor=\"middle\" x=\"870.5\" y=\"-1151.8\" font-family=\"Helvetica,sans-Serif\" font-size=\"14.00\" fill=\"#000000\">samples = 9</text>\n<text text-anchor=\"middle\" x=\"870.5\" y=\"-1136.8\" font-family=\"Helvetica,sans-Serif\" font-size=\"14.00\" fill=\"#000000\">value = [3, 6]</text>\n</g>\n<!-- 37&#45;&gt;38 -->\n<g id=\"edge38\" class=\"edge\">\n<title>37&#45;&gt;38</title>\n<path fill=\"none\" stroke=\"#000000\" d=\"M992.7379,-1235.2315C973.1887,-1223.6797 950.9688,-1210.5497 930.8845,-1198.6817\"/>\n<polygon fill=\"#000000\" stroke=\"#000000\" points=\"932.5139,-1195.5792 922.124,-1193.5051 928.9527,-1201.6057 932.5139,-1195.5792\"/>\n</g>\n<!-- 43 -->\n<g id=\"node44\" class=\"node\">\n<title>43</title>\n<polygon fill=\"none\" stroke=\"#000000\" points=\"1100,-1197 993,-1197 993,-1129 1100,-1129 1100,-1197\"/>\n<text text-anchor=\"middle\" x=\"1046.5\" y=\"-1181.8\" font-family=\"Helvetica,sans-Serif\" font-size=\"14.00\" fill=\"#000000\">X[4] &lt;= 7.902</text>\n<text text-anchor=\"middle\" x=\"1046.5\" y=\"-1166.8\" font-family=\"Helvetica,sans-Serif\" font-size=\"14.00\" fill=\"#000000\">gini = 0.211</text>\n<text text-anchor=\"middle\" x=\"1046.5\" y=\"-1151.8\" font-family=\"Helvetica,sans-Serif\" font-size=\"14.00\" fill=\"#000000\">samples = 25</text>\n<text text-anchor=\"middle\" x=\"1046.5\" y=\"-1136.8\" font-family=\"Helvetica,sans-Serif\" font-size=\"14.00\" fill=\"#000000\">value = [3, 22]</text>\n</g>\n<!-- 37&#45;&gt;43 -->\n<g id=\"edge43\" class=\"edge\">\n<title>37&#45;&gt;43</title>\n<path fill=\"none\" stroke=\"#000000\" d=\"M1046.5,-1232.9465C1046.5,-1224.776 1046.5,-1215.9318 1046.5,-1207.3697\"/>\n<polygon fill=\"#000000\" stroke=\"#000000\" points=\"1050.0001,-1207.13 1046.5,-1197.13 1043.0001,-1207.13 1050.0001,-1207.13\"/>\n</g>\n<!-- 39 -->\n<g id=\"node40\" class=\"node\">\n<title>39</title>\n<polygon fill=\"none\" stroke=\"#000000\" points=\"801,-1085.5 702,-1085.5 702,-1032.5 801,-1032.5 801,-1085.5\"/>\n<text text-anchor=\"middle\" x=\"751.5\" y=\"-1070.3\" font-family=\"Helvetica,sans-Serif\" font-size=\"14.00\" fill=\"#000000\">gini = 0.0</text>\n<text text-anchor=\"middle\" x=\"751.5\" y=\"-1055.3\" font-family=\"Helvetica,sans-Serif\" font-size=\"14.00\" fill=\"#000000\">samples = 4</text>\n<text text-anchor=\"middle\" x=\"751.5\" y=\"-1040.3\" font-family=\"Helvetica,sans-Serif\" font-size=\"14.00\" fill=\"#000000\">value = [0, 4]</text>\n</g>\n<!-- 38&#45;&gt;39 -->\n<g id=\"edge39\" class=\"edge\">\n<title>38&#45;&gt;39</title>\n<path fill=\"none\" stroke=\"#000000\" d=\"M831.5349,-1128.9465C818.0491,-1117.1606 802.9591,-1103.9726 789.5479,-1092.2519\"/>\n<polygon fill=\"#000000\" stroke=\"#000000\" points=\"791.7033,-1089.4874 781.8704,-1085.5422 787.0969,-1094.7582 791.7033,-1089.4874\"/>\n</g>\n<!-- 40 -->\n<g id=\"node41\" class=\"node\">\n<title>40</title>\n<polygon fill=\"none\" stroke=\"#000000\" points=\"922,-1093 819,-1093 819,-1025 922,-1025 922,-1093\"/>\n<text text-anchor=\"middle\" x=\"870.5\" y=\"-1077.8\" font-family=\"Helvetica,sans-Serif\" font-size=\"14.00\" fill=\"#000000\">X[4] &lt;= 7.867</text>\n<text text-anchor=\"middle\" x=\"870.5\" y=\"-1062.8\" font-family=\"Helvetica,sans-Serif\" font-size=\"14.00\" fill=\"#000000\">gini = 0.48</text>\n<text text-anchor=\"middle\" x=\"870.5\" y=\"-1047.8\" font-family=\"Helvetica,sans-Serif\" font-size=\"14.00\" fill=\"#000000\">samples = 5</text>\n<text text-anchor=\"middle\" x=\"870.5\" y=\"-1032.8\" font-family=\"Helvetica,sans-Serif\" font-size=\"14.00\" fill=\"#000000\">value = [3, 2]</text>\n</g>\n<!-- 38&#45;&gt;40 -->\n<g id=\"edge40\" class=\"edge\">\n<title>38&#45;&gt;40</title>\n<path fill=\"none\" stroke=\"#000000\" d=\"M870.5,-1128.9465C870.5,-1120.776 870.5,-1111.9318 870.5,-1103.3697\"/>\n<polygon fill=\"#000000\" stroke=\"#000000\" points=\"874.0001,-1103.13 870.5,-1093.13 867.0001,-1103.13 874.0001,-1103.13\"/>\n</g>\n<!-- 41 -->\n<g id=\"node42\" class=\"node\">\n<title>41</title>\n<polygon fill=\"none\" stroke=\"#000000\" points=\"750,-981.5 651,-981.5 651,-928.5 750,-928.5 750,-981.5\"/>\n<text text-anchor=\"middle\" x=\"700.5\" y=\"-966.3\" font-family=\"Helvetica,sans-Serif\" font-size=\"14.00\" fill=\"#000000\">gini = 0.0</text>\n<text text-anchor=\"middle\" x=\"700.5\" y=\"-951.3\" font-family=\"Helvetica,sans-Serif\" font-size=\"14.00\" fill=\"#000000\">samples = 3</text>\n<text text-anchor=\"middle\" x=\"700.5\" y=\"-936.3\" font-family=\"Helvetica,sans-Serif\" font-size=\"14.00\" fill=\"#000000\">value = [3, 0]</text>\n</g>\n<!-- 40&#45;&gt;41 -->\n<g id=\"edge41\" class=\"edge\">\n<title>40&#45;&gt;41</title>\n<path fill=\"none\" stroke=\"#000000\" d=\"M818.5707,-1027.2315C797.6382,-1014.4257 773.5355,-999.6806 752.5872,-986.8651\"/>\n<polygon fill=\"#000000\" stroke=\"#000000\" points=\"754.1777,-983.7351 743.8208,-981.5022 750.5247,-989.7064 754.1777,-983.7351\"/>\n</g>\n<!-- 42 -->\n<g id=\"node43\" class=\"node\">\n<title>42</title>\n<polygon fill=\"none\" stroke=\"#000000\" points=\"867,-981.5 768,-981.5 768,-928.5 867,-928.5 867,-981.5\"/>\n<text text-anchor=\"middle\" x=\"817.5\" y=\"-966.3\" font-family=\"Helvetica,sans-Serif\" font-size=\"14.00\" fill=\"#000000\">gini = 0.0</text>\n<text text-anchor=\"middle\" x=\"817.5\" y=\"-951.3\" font-family=\"Helvetica,sans-Serif\" font-size=\"14.00\" fill=\"#000000\">samples = 2</text>\n<text text-anchor=\"middle\" x=\"817.5\" y=\"-936.3\" font-family=\"Helvetica,sans-Serif\" font-size=\"14.00\" fill=\"#000000\">value = [0, 2]</text>\n</g>\n<!-- 40&#45;&gt;42 -->\n<g id=\"edge42\" class=\"edge\">\n<title>40&#45;&gt;42</title>\n<path fill=\"none\" stroke=\"#000000\" d=\"M853.1458,-1024.9465C847.5325,-1013.9316 841.295,-1001.6922 835.6272,-990.5703\"/>\n<polygon fill=\"#000000\" stroke=\"#000000\" points=\"838.6853,-988.8627 831.0263,-981.5422 832.4485,-992.0411 838.6853,-988.8627\"/>\n</g>\n<!-- 44 -->\n<g id=\"node45\" class=\"node\">\n<title>44</title>\n<polygon fill=\"none\" stroke=\"#000000\" points=\"1100,-1093 993,-1093 993,-1025 1100,-1025 1100,-1093\"/>\n<text text-anchor=\"middle\" x=\"1046.5\" y=\"-1077.8\" font-family=\"Helvetica,sans-Serif\" font-size=\"14.00\" fill=\"#000000\">X[4] &lt;= 7.681</text>\n<text text-anchor=\"middle\" x=\"1046.5\" y=\"-1062.8\" font-family=\"Helvetica,sans-Serif\" font-size=\"14.00\" fill=\"#000000\">gini = 0.165</text>\n<text text-anchor=\"middle\" x=\"1046.5\" y=\"-1047.8\" font-family=\"Helvetica,sans-Serif\" font-size=\"14.00\" fill=\"#000000\">samples = 22</text>\n<text text-anchor=\"middle\" x=\"1046.5\" y=\"-1032.8\" font-family=\"Helvetica,sans-Serif\" font-size=\"14.00\" fill=\"#000000\">value = [2, 20]</text>\n</g>\n<!-- 43&#45;&gt;44 -->\n<g id=\"edge44\" class=\"edge\">\n<title>43&#45;&gt;44</title>\n<path fill=\"none\" stroke=\"#000000\" d=\"M1046.5,-1128.9465C1046.5,-1120.776 1046.5,-1111.9318 1046.5,-1103.3697\"/>\n<polygon fill=\"#000000\" stroke=\"#000000\" points=\"1050.0001,-1103.13 1046.5,-1093.13 1043.0001,-1103.13 1050.0001,-1103.13\"/>\n</g>\n<!-- 55 -->\n<g id=\"node56\" class=\"node\">\n<title>55</title>\n<polygon fill=\"none\" stroke=\"#000000\" points=\"1226,-1093 1127,-1093 1127,-1025 1226,-1025 1226,-1093\"/>\n<text text-anchor=\"middle\" x=\"1176.5\" y=\"-1077.8\" font-family=\"Helvetica,sans-Serif\" font-size=\"14.00\" fill=\"#000000\">X[1] &lt;= 24.5</text>\n<text text-anchor=\"middle\" x=\"1176.5\" y=\"-1062.8\" font-family=\"Helvetica,sans-Serif\" font-size=\"14.00\" fill=\"#000000\">gini = 0.444</text>\n<text text-anchor=\"middle\" x=\"1176.5\" y=\"-1047.8\" font-family=\"Helvetica,sans-Serif\" font-size=\"14.00\" fill=\"#000000\">samples = 3</text>\n<text text-anchor=\"middle\" x=\"1176.5\" y=\"-1032.8\" font-family=\"Helvetica,sans-Serif\" font-size=\"14.00\" fill=\"#000000\">value = [1, 2]</text>\n</g>\n<!-- 43&#45;&gt;55 -->\n<g id=\"edge55\" class=\"edge\">\n<title>43&#45;&gt;55</title>\n<path fill=\"none\" stroke=\"#000000\" d=\"M1089.0669,-1128.9465C1100.8512,-1119.519 1113.7568,-1109.1946 1125.9481,-1099.4415\"/>\n<polygon fill=\"#000000\" stroke=\"#000000\" points=\"1128.2152,-1102.11 1133.8375,-1093.13 1123.8423,-1096.6439 1128.2152,-1102.11\"/>\n</g>\n<!-- 45 -->\n<g id=\"node46\" class=\"node\">\n<title>45</title>\n<polygon fill=\"none\" stroke=\"#000000\" points=\"984,-989 885,-989 885,-921 984,-921 984,-989\"/>\n<text text-anchor=\"middle\" x=\"934.5\" y=\"-973.8\" font-family=\"Helvetica,sans-Serif\" font-size=\"14.00\" fill=\"#000000\">X[4] &lt;= 7.59</text>\n<text text-anchor=\"middle\" x=\"934.5\" y=\"-958.8\" font-family=\"Helvetica,sans-Serif\" font-size=\"14.00\" fill=\"#000000\">gini = 0.32</text>\n<text text-anchor=\"middle\" x=\"934.5\" y=\"-943.8\" font-family=\"Helvetica,sans-Serif\" font-size=\"14.00\" fill=\"#000000\">samples = 5</text>\n<text text-anchor=\"middle\" x=\"934.5\" y=\"-928.8\" font-family=\"Helvetica,sans-Serif\" font-size=\"14.00\" fill=\"#000000\">value = [1, 4]</text>\n</g>\n<!-- 44&#45;&gt;45 -->\n<g id=\"edge45\" class=\"edge\">\n<title>44&#45;&gt;45</title>\n<path fill=\"none\" stroke=\"#000000\" d=\"M1009.827,-1024.9465C999.8677,-1015.6986 988.9789,-1005.5876 978.6532,-995.9994\"/>\n<polygon fill=\"#000000\" stroke=\"#000000\" points=\"980.9649,-993.3698 971.2554,-989.13 976.2018,-998.4993 980.9649,-993.3698\"/>\n</g>\n<!-- 48 -->\n<g id=\"node49\" class=\"node\">\n<title>48</title>\n<polygon fill=\"none\" stroke=\"#000000\" points=\"1109,-989 1002,-989 1002,-921 1109,-921 1109,-989\"/>\n<text text-anchor=\"middle\" x=\"1055.5\" y=\"-973.8\" font-family=\"Helvetica,sans-Serif\" font-size=\"14.00\" fill=\"#000000\">X[4] &lt;= 7.763</text>\n<text text-anchor=\"middle\" x=\"1055.5\" y=\"-958.8\" font-family=\"Helvetica,sans-Serif\" font-size=\"14.00\" fill=\"#000000\">gini = 0.111</text>\n<text text-anchor=\"middle\" x=\"1055.5\" y=\"-943.8\" font-family=\"Helvetica,sans-Serif\" font-size=\"14.00\" fill=\"#000000\">samples = 17</text>\n<text text-anchor=\"middle\" x=\"1055.5\" y=\"-928.8\" font-family=\"Helvetica,sans-Serif\" font-size=\"14.00\" fill=\"#000000\">value = [1, 16]</text>\n</g>\n<!-- 44&#45;&gt;48 -->\n<g id=\"edge48\" class=\"edge\">\n<title>44&#45;&gt;48</title>\n<path fill=\"none\" stroke=\"#000000\" d=\"M1049.4469,-1024.9465C1050.154,-1016.776 1050.9194,-1007.9318 1051.6603,-999.3697\"/>\n<polygon fill=\"#000000\" stroke=\"#000000\" points=\"1055.1712,-999.3945 1052.5464,-989.13 1048.1972,-998.791 1055.1712,-999.3945\"/>\n</g>\n<!-- 46 -->\n<g id=\"node47\" class=\"node\">\n<title>46</title>\n<polygon fill=\"none\" stroke=\"#000000\" points=\"867,-877.5 768,-877.5 768,-824.5 867,-824.5 867,-877.5\"/>\n<text text-anchor=\"middle\" x=\"817.5\" y=\"-862.3\" font-family=\"Helvetica,sans-Serif\" font-size=\"14.00\" fill=\"#000000\">gini = 0.0</text>\n<text text-anchor=\"middle\" x=\"817.5\" y=\"-847.3\" font-family=\"Helvetica,sans-Serif\" font-size=\"14.00\" fill=\"#000000\">samples = 4</text>\n<text text-anchor=\"middle\" x=\"817.5\" y=\"-832.3\" font-family=\"Helvetica,sans-Serif\" font-size=\"14.00\" fill=\"#000000\">value = [0, 4]</text>\n</g>\n<!-- 45&#45;&gt;46 -->\n<g id=\"edge46\" class=\"edge\">\n<title>45&#45;&gt;46</title>\n<path fill=\"none\" stroke=\"#000000\" d=\"M896.1898,-920.9465C882.9306,-909.1606 868.0942,-895.9726 854.9084,-884.2519\"/>\n<polygon fill=\"#000000\" stroke=\"#000000\" points=\"857.1593,-881.5699 847.3599,-877.5422 852.5088,-886.8018 857.1593,-881.5699\"/>\n</g>\n<!-- 47 -->\n<g id=\"node48\" class=\"node\">\n<title>47</title>\n<polygon fill=\"none\" stroke=\"#000000\" points=\"984,-877.5 885,-877.5 885,-824.5 984,-824.5 984,-877.5\"/>\n<text text-anchor=\"middle\" x=\"934.5\" y=\"-862.3\" font-family=\"Helvetica,sans-Serif\" font-size=\"14.00\" fill=\"#000000\">gini = 0.0</text>\n<text text-anchor=\"middle\" x=\"934.5\" y=\"-847.3\" font-family=\"Helvetica,sans-Serif\" font-size=\"14.00\" fill=\"#000000\">samples = 1</text>\n<text text-anchor=\"middle\" x=\"934.5\" y=\"-832.3\" font-family=\"Helvetica,sans-Serif\" font-size=\"14.00\" fill=\"#000000\">value = [1, 0]</text>\n</g>\n<!-- 45&#45;&gt;47 -->\n<g id=\"edge47\" class=\"edge\">\n<title>45&#45;&gt;47</title>\n<path fill=\"none\" stroke=\"#000000\" d=\"M934.5,-920.9465C934.5,-910.2621 934.5,-898.4254 934.5,-887.5742\"/>\n<polygon fill=\"#000000\" stroke=\"#000000\" points=\"938.0001,-887.5421 934.5,-877.5422 931.0001,-887.5422 938.0001,-887.5421\"/>\n</g>\n<!-- 49 -->\n<g id=\"node50\" class=\"node\">\n<title>49</title>\n<polygon fill=\"none\" stroke=\"#000000\" points=\"1109,-885 1002,-885 1002,-817 1109,-817 1109,-885\"/>\n<text text-anchor=\"middle\" x=\"1055.5\" y=\"-869.8\" font-family=\"Helvetica,sans-Serif\" font-size=\"14.00\" fill=\"#000000\">X[4] &lt;= 7.744</text>\n<text text-anchor=\"middle\" x=\"1055.5\" y=\"-854.8\" font-family=\"Helvetica,sans-Serif\" font-size=\"14.00\" fill=\"#000000\">gini = 0.165</text>\n<text text-anchor=\"middle\" x=\"1055.5\" y=\"-839.8\" font-family=\"Helvetica,sans-Serif\" font-size=\"14.00\" fill=\"#000000\">samples = 11</text>\n<text text-anchor=\"middle\" x=\"1055.5\" y=\"-824.8\" font-family=\"Helvetica,sans-Serif\" font-size=\"14.00\" fill=\"#000000\">value = [1, 10]</text>\n</g>\n<!-- 48&#45;&gt;49 -->\n<g id=\"edge49\" class=\"edge\">\n<title>48&#45;&gt;49</title>\n<path fill=\"none\" stroke=\"#000000\" d=\"M1055.5,-920.9465C1055.5,-912.776 1055.5,-903.9318 1055.5,-895.3697\"/>\n<polygon fill=\"#000000\" stroke=\"#000000\" points=\"1059.0001,-895.13 1055.5,-885.13 1052.0001,-895.13 1059.0001,-895.13\"/>\n</g>\n<!-- 54 -->\n<g id=\"node55\" class=\"node\">\n<title>54</title>\n<polygon fill=\"none\" stroke=\"#000000\" points=\"1226,-877.5 1127,-877.5 1127,-824.5 1226,-824.5 1226,-877.5\"/>\n<text text-anchor=\"middle\" x=\"1176.5\" y=\"-862.3\" font-family=\"Helvetica,sans-Serif\" font-size=\"14.00\" fill=\"#000000\">gini = 0.0</text>\n<text text-anchor=\"middle\" x=\"1176.5\" y=\"-847.3\" font-family=\"Helvetica,sans-Serif\" font-size=\"14.00\" fill=\"#000000\">samples = 6</text>\n<text text-anchor=\"middle\" x=\"1176.5\" y=\"-832.3\" font-family=\"Helvetica,sans-Serif\" font-size=\"14.00\" fill=\"#000000\">value = [0, 6]</text>\n</g>\n<!-- 48&#45;&gt;54 -->\n<g id=\"edge54\" class=\"edge\">\n<title>48&#45;&gt;54</title>\n<path fill=\"none\" stroke=\"#000000\" d=\"M1095.1199,-920.9465C1108.8324,-909.1606 1124.1761,-895.9726 1137.8127,-884.2519\"/>\n<polygon fill=\"#000000\" stroke=\"#000000\" points=\"1140.3169,-886.7147 1145.6192,-877.5422 1135.7541,-881.4061 1140.3169,-886.7147\"/>\n</g>\n<!-- 50 -->\n<g id=\"node51\" class=\"node\">\n<title>50</title>\n<polygon fill=\"none\" stroke=\"#000000\" points=\"1046,-773.5 947,-773.5 947,-720.5 1046,-720.5 1046,-773.5\"/>\n<text text-anchor=\"middle\" x=\"996.5\" y=\"-758.3\" font-family=\"Helvetica,sans-Serif\" font-size=\"14.00\" fill=\"#000000\">gini = 0.0</text>\n<text text-anchor=\"middle\" x=\"996.5\" y=\"-743.3\" font-family=\"Helvetica,sans-Serif\" font-size=\"14.00\" fill=\"#000000\">samples = 2</text>\n<text text-anchor=\"middle\" x=\"996.5\" y=\"-728.3\" font-family=\"Helvetica,sans-Serif\" font-size=\"14.00\" fill=\"#000000\">value = [0, 2]</text>\n</g>\n<!-- 49&#45;&gt;50 -->\n<g id=\"edge50\" class=\"edge\">\n<title>49&#45;&gt;50</title>\n<path fill=\"none\" stroke=\"#000000\" d=\"M1036.1812,-816.9465C1029.9324,-805.9316 1022.9888,-793.6922 1016.6793,-782.5703\"/>\n<polygon fill=\"#000000\" stroke=\"#000000\" points=\"1019.5362,-780.513 1011.5576,-773.5422 1013.4477,-783.967 1019.5362,-780.513\"/>\n</g>\n<!-- 51 -->\n<g id=\"node52\" class=\"node\">\n<title>51</title>\n<polygon fill=\"none\" stroke=\"#000000\" points=\"1167,-781 1064,-781 1064,-713 1167,-713 1167,-781\"/>\n<text text-anchor=\"middle\" x=\"1115.5\" y=\"-765.8\" font-family=\"Helvetica,sans-Serif\" font-size=\"14.00\" fill=\"#000000\">X[1] &lt;= 25.85</text>\n<text text-anchor=\"middle\" x=\"1115.5\" y=\"-750.8\" font-family=\"Helvetica,sans-Serif\" font-size=\"14.00\" fill=\"#000000\">gini = 0.198</text>\n<text text-anchor=\"middle\" x=\"1115.5\" y=\"-735.8\" font-family=\"Helvetica,sans-Serif\" font-size=\"14.00\" fill=\"#000000\">samples = 9</text>\n<text text-anchor=\"middle\" x=\"1115.5\" y=\"-720.8\" font-family=\"Helvetica,sans-Serif\" font-size=\"14.00\" fill=\"#000000\">value = [1, 8]</text>\n</g>\n<!-- 49&#45;&gt;51 -->\n<g id=\"edge51\" class=\"edge\">\n<title>49&#45;&gt;51</title>\n<path fill=\"none\" stroke=\"#000000\" d=\"M1075.1462,-816.9465C1080.119,-808.3271 1085.5243,-798.9579 1090.7148,-789.9611\"/>\n<polygon fill=\"#000000\" stroke=\"#000000\" points=\"1093.844,-791.5409 1095.8096,-781.13 1087.7807,-788.0428 1093.844,-791.5409\"/>\n</g>\n<!-- 52 -->\n<g id=\"node53\" class=\"node\">\n<title>52</title>\n<polygon fill=\"none\" stroke=\"#000000\" points=\"1107,-669.5 1008,-669.5 1008,-616.5 1107,-616.5 1107,-669.5\"/>\n<text text-anchor=\"middle\" x=\"1057.5\" y=\"-654.3\" font-family=\"Helvetica,sans-Serif\" font-size=\"14.00\" fill=\"#000000\">gini = 0.0</text>\n<text text-anchor=\"middle\" x=\"1057.5\" y=\"-639.3\" font-family=\"Helvetica,sans-Serif\" font-size=\"14.00\" fill=\"#000000\">samples = 1</text>\n<text text-anchor=\"middle\" x=\"1057.5\" y=\"-624.3\" font-family=\"Helvetica,sans-Serif\" font-size=\"14.00\" fill=\"#000000\">value = [0, 1]</text>\n</g>\n<!-- 51&#45;&gt;52 -->\n<g id=\"edge52\" class=\"edge\">\n<title>51&#45;&gt;52</title>\n<path fill=\"none\" stroke=\"#000000\" d=\"M1096.5086,-712.9465C1090.3657,-701.9316 1083.5399,-689.6922 1077.3373,-678.5703\"/>\n<polygon fill=\"#000000\" stroke=\"#000000\" points=\"1080.2299,-676.5711 1072.3024,-669.5422 1074.1163,-679.9806 1080.2299,-676.5711\"/>\n</g>\n<!-- 53 -->\n<g id=\"node54\" class=\"node\">\n<title>53</title>\n<polygon fill=\"none\" stroke=\"#000000\" points=\"1224,-669.5 1125,-669.5 1125,-616.5 1224,-616.5 1224,-669.5\"/>\n<text text-anchor=\"middle\" x=\"1174.5\" y=\"-654.3\" font-family=\"Helvetica,sans-Serif\" font-size=\"14.00\" fill=\"#000000\">gini = 0.219</text>\n<text text-anchor=\"middle\" x=\"1174.5\" y=\"-639.3\" font-family=\"Helvetica,sans-Serif\" font-size=\"14.00\" fill=\"#000000\">samples = 8</text>\n<text text-anchor=\"middle\" x=\"1174.5\" y=\"-624.3\" font-family=\"Helvetica,sans-Serif\" font-size=\"14.00\" fill=\"#000000\">value = [1, 7]</text>\n</g>\n<!-- 51&#45;&gt;53 -->\n<g id=\"edge53\" class=\"edge\">\n<title>51&#45;&gt;53</title>\n<path fill=\"none\" stroke=\"#000000\" d=\"M1134.8188,-712.9465C1141.0676,-701.9316 1148.0112,-689.6922 1154.3207,-678.5703\"/>\n<polygon fill=\"#000000\" stroke=\"#000000\" points=\"1157.5523,-679.967 1159.4424,-669.5422 1151.4638,-676.513 1157.5523,-679.967\"/>\n</g>\n<!-- 56 -->\n<g id=\"node57\" class=\"node\">\n<title>56</title>\n<polygon fill=\"none\" stroke=\"#000000\" points=\"1226,-981.5 1127,-981.5 1127,-928.5 1226,-928.5 1226,-981.5\"/>\n<text text-anchor=\"middle\" x=\"1176.5\" y=\"-966.3\" font-family=\"Helvetica,sans-Serif\" font-size=\"14.00\" fill=\"#000000\">gini = 0.0</text>\n<text text-anchor=\"middle\" x=\"1176.5\" y=\"-951.3\" font-family=\"Helvetica,sans-Serif\" font-size=\"14.00\" fill=\"#000000\">samples = 1</text>\n<text text-anchor=\"middle\" x=\"1176.5\" y=\"-936.3\" font-family=\"Helvetica,sans-Serif\" font-size=\"14.00\" fill=\"#000000\">value = [1, 0]</text>\n</g>\n<!-- 55&#45;&gt;56 -->\n<g id=\"edge56\" class=\"edge\">\n<title>55&#45;&gt;56</title>\n<path fill=\"none\" stroke=\"#000000\" d=\"M1176.5,-1024.9465C1176.5,-1014.2621 1176.5,-1002.4254 1176.5,-991.5742\"/>\n<polygon fill=\"#000000\" stroke=\"#000000\" points=\"1180.0001,-991.5421 1176.5,-981.5422 1173.0001,-991.5422 1180.0001,-991.5421\"/>\n</g>\n<!-- 57 -->\n<g id=\"node58\" class=\"node\">\n<title>57</title>\n<polygon fill=\"none\" stroke=\"#000000\" points=\"1343,-981.5 1244,-981.5 1244,-928.5 1343,-928.5 1343,-981.5\"/>\n<text text-anchor=\"middle\" x=\"1293.5\" y=\"-966.3\" font-family=\"Helvetica,sans-Serif\" font-size=\"14.00\" fill=\"#000000\">gini = 0.0</text>\n<text text-anchor=\"middle\" x=\"1293.5\" y=\"-951.3\" font-family=\"Helvetica,sans-Serif\" font-size=\"14.00\" fill=\"#000000\">samples = 2</text>\n<text text-anchor=\"middle\" x=\"1293.5\" y=\"-936.3\" font-family=\"Helvetica,sans-Serif\" font-size=\"14.00\" fill=\"#000000\">value = [0, 2]</text>\n</g>\n<!-- 55&#45;&gt;57 -->\n<g id=\"edge57\" class=\"edge\">\n<title>55&#45;&gt;57</title>\n<path fill=\"none\" stroke=\"#000000\" d=\"M1214.8102,-1024.9465C1228.0694,-1013.1606 1242.9058,-999.9726 1256.0916,-988.2519\"/>\n<polygon fill=\"#000000\" stroke=\"#000000\" points=\"1258.4912,-990.8018 1263.6401,-981.5422 1253.8407,-985.5699 1258.4912,-990.8018\"/>\n</g>\n<!-- 59 -->\n<g id=\"node60\" class=\"node\">\n<title>59</title>\n<polygon fill=\"none\" stroke=\"#000000\" points=\"1217,-1189.5 1118,-1189.5 1118,-1136.5 1217,-1136.5 1217,-1189.5\"/>\n<text text-anchor=\"middle\" x=\"1167.5\" y=\"-1174.3\" font-family=\"Helvetica,sans-Serif\" font-size=\"14.00\" fill=\"#000000\">gini = 0.0</text>\n<text text-anchor=\"middle\" x=\"1167.5\" y=\"-1159.3\" font-family=\"Helvetica,sans-Serif\" font-size=\"14.00\" fill=\"#000000\">samples = 2</text>\n<text text-anchor=\"middle\" x=\"1167.5\" y=\"-1144.3\" font-family=\"Helvetica,sans-Serif\" font-size=\"14.00\" fill=\"#000000\">value = [0, 2]</text>\n</g>\n<!-- 58&#45;&gt;59 -->\n<g id=\"edge59\" class=\"edge\">\n<title>58&#45;&gt;59</title>\n<path fill=\"none\" stroke=\"#000000\" d=\"M1167.5,-1232.9465C1167.5,-1222.2621 1167.5,-1210.4254 1167.5,-1199.5742\"/>\n<polygon fill=\"#000000\" stroke=\"#000000\" points=\"1171.0001,-1199.5421 1167.5,-1189.5422 1164.0001,-1199.5422 1171.0001,-1199.5421\"/>\n</g>\n<!-- 60 -->\n<g id=\"node61\" class=\"node\">\n<title>60</title>\n<polygon fill=\"none\" stroke=\"#000000\" points=\"1334,-1189.5 1235,-1189.5 1235,-1136.5 1334,-1136.5 1334,-1189.5\"/>\n<text text-anchor=\"middle\" x=\"1284.5\" y=\"-1174.3\" font-family=\"Helvetica,sans-Serif\" font-size=\"14.00\" fill=\"#000000\">gini = 0.0</text>\n<text text-anchor=\"middle\" x=\"1284.5\" y=\"-1159.3\" font-family=\"Helvetica,sans-Serif\" font-size=\"14.00\" fill=\"#000000\">samples = 2</text>\n<text text-anchor=\"middle\" x=\"1284.5\" y=\"-1144.3\" font-family=\"Helvetica,sans-Serif\" font-size=\"14.00\" fill=\"#000000\">value = [2, 0]</text>\n</g>\n<!-- 58&#45;&gt;60 -->\n<g id=\"edge60\" class=\"edge\">\n<title>58&#45;&gt;60</title>\n<path fill=\"none\" stroke=\"#000000\" d=\"M1205.8102,-1232.9465C1219.0694,-1221.1606 1233.9058,-1207.9726 1247.0916,-1196.2519\"/>\n<polygon fill=\"#000000\" stroke=\"#000000\" points=\"1249.4912,-1198.8018 1254.6401,-1189.5422 1244.8407,-1193.5699 1249.4912,-1198.8018\"/>\n</g>\n<!-- 63 -->\n<g id=\"node64\" class=\"node\">\n<title>63</title>\n<polygon fill=\"none\" stroke=\"#000000\" points=\"1467,-1509 1356,-1509 1356,-1441 1467,-1441 1467,-1509\"/>\n<text text-anchor=\"middle\" x=\"1411.5\" y=\"-1493.8\" font-family=\"Helvetica,sans-Serif\" font-size=\"14.00\" fill=\"#000000\">X[4] &lt;= 10.798</text>\n<text text-anchor=\"middle\" x=\"1411.5\" y=\"-1478.8\" font-family=\"Helvetica,sans-Serif\" font-size=\"14.00\" fill=\"#000000\">gini = 0.219</text>\n<text text-anchor=\"middle\" x=\"1411.5\" y=\"-1463.8\" font-family=\"Helvetica,sans-Serif\" font-size=\"14.00\" fill=\"#000000\">samples = 8</text>\n<text text-anchor=\"middle\" x=\"1411.5\" y=\"-1448.8\" font-family=\"Helvetica,sans-Serif\" font-size=\"14.00\" fill=\"#000000\">value = [1, 7]</text>\n</g>\n<!-- 62&#45;&gt;63 -->\n<g id=\"edge63\" class=\"edge\">\n<title>62&#45;&gt;63</title>\n<path fill=\"none\" stroke=\"#000000\" d=\"M1459.2519,-1544.9465C1453.245,-1536.1475 1446.7045,-1526.5672 1440.4457,-1517.3993\"/>\n<polygon fill=\"#000000\" stroke=\"#000000\" points=\"1443.3293,-1515.4155 1434.8003,-1509.13 1437.548,-1519.3623 1443.3293,-1515.4155\"/>\n</g>\n<!-- 66 -->\n<g id=\"node67\" class=\"node\">\n<title>66</title>\n<polygon fill=\"none\" stroke=\"#000000\" points=\"1601.5,-1509 1485.5,-1509 1485.5,-1441 1601.5,-1441 1601.5,-1509\"/>\n<text text-anchor=\"middle\" x=\"1543.5\" y=\"-1493.8\" font-family=\"Helvetica,sans-Serif\" font-size=\"14.00\" fill=\"#000000\">X[4] &lt;= 15.373</text>\n<text text-anchor=\"middle\" x=\"1543.5\" y=\"-1478.8\" font-family=\"Helvetica,sans-Serif\" font-size=\"14.00\" fill=\"#000000\">gini = 0.488</text>\n<text text-anchor=\"middle\" x=\"1543.5\" y=\"-1463.8\" font-family=\"Helvetica,sans-Serif\" font-size=\"14.00\" fill=\"#000000\">samples = 45</text>\n<text text-anchor=\"middle\" x=\"1543.5\" y=\"-1448.8\" font-family=\"Helvetica,sans-Serif\" font-size=\"14.00\" fill=\"#000000\">value = [26, 19]</text>\n</g>\n<!-- 62&#45;&gt;66 -->\n<g id=\"edge66\" class=\"edge\">\n<title>62&#45;&gt;66</title>\n<path fill=\"none\" stroke=\"#000000\" d=\"M1502.4737,-1544.9465C1507.5293,-1536.3271 1513.0247,-1526.9579 1518.3017,-1517.9611\"/>\n<polygon fill=\"#000000\" stroke=\"#000000\" points=\"1521.4411,-1519.5265 1523.4814,-1509.13 1515.4031,-1515.985 1521.4411,-1519.5265\"/>\n</g>\n<!-- 64 -->\n<g id=\"node65\" class=\"node\">\n<title>64</title>\n<polygon fill=\"none\" stroke=\"#000000\" points=\"1344,-1397.5 1245,-1397.5 1245,-1344.5 1344,-1344.5 1344,-1397.5\"/>\n<text text-anchor=\"middle\" x=\"1294.5\" y=\"-1382.3\" font-family=\"Helvetica,sans-Serif\" font-size=\"14.00\" fill=\"#000000\">gini = 0.0</text>\n<text text-anchor=\"middle\" x=\"1294.5\" y=\"-1367.3\" font-family=\"Helvetica,sans-Serif\" font-size=\"14.00\" fill=\"#000000\">samples = 1</text>\n<text text-anchor=\"middle\" x=\"1294.5\" y=\"-1352.3\" font-family=\"Helvetica,sans-Serif\" font-size=\"14.00\" fill=\"#000000\">value = [1, 0]</text>\n</g>\n<!-- 63&#45;&gt;64 -->\n<g id=\"edge64\" class=\"edge\">\n<title>63&#45;&gt;64</title>\n<path fill=\"none\" stroke=\"#000000\" d=\"M1373.1898,-1440.9465C1359.9306,-1429.1606 1345.0942,-1415.9726 1331.9084,-1404.2519\"/>\n<polygon fill=\"#000000\" stroke=\"#000000\" points=\"1334.1593,-1401.5699 1324.3599,-1397.5422 1329.5088,-1406.8018 1334.1593,-1401.5699\"/>\n</g>\n<!-- 65 -->\n<g id=\"node66\" class=\"node\">\n<title>65</title>\n<polygon fill=\"none\" stroke=\"#000000\" points=\"1461,-1397.5 1362,-1397.5 1362,-1344.5 1461,-1344.5 1461,-1397.5\"/>\n<text text-anchor=\"middle\" x=\"1411.5\" y=\"-1382.3\" font-family=\"Helvetica,sans-Serif\" font-size=\"14.00\" fill=\"#000000\">gini = 0.0</text>\n<text text-anchor=\"middle\" x=\"1411.5\" y=\"-1367.3\" font-family=\"Helvetica,sans-Serif\" font-size=\"14.00\" fill=\"#000000\">samples = 7</text>\n<text text-anchor=\"middle\" x=\"1411.5\" y=\"-1352.3\" font-family=\"Helvetica,sans-Serif\" font-size=\"14.00\" fill=\"#000000\">value = [0, 7]</text>\n</g>\n<!-- 63&#45;&gt;65 -->\n<g id=\"edge65\" class=\"edge\">\n<title>63&#45;&gt;65</title>\n<path fill=\"none\" stroke=\"#000000\" d=\"M1411.5,-1440.9465C1411.5,-1430.2621 1411.5,-1418.4254 1411.5,-1407.5742\"/>\n<polygon fill=\"#000000\" stroke=\"#000000\" points=\"1415.0001,-1407.5421 1411.5,-1397.5422 1408.0001,-1407.5422 1415.0001,-1407.5421\"/>\n</g>\n<!-- 67 -->\n<g id=\"node68\" class=\"node\">\n<title>67</title>\n<polygon fill=\"none\" stroke=\"#000000\" points=\"1590,-1405 1479,-1405 1479,-1337 1590,-1337 1590,-1405\"/>\n<text text-anchor=\"middle\" x=\"1534.5\" y=\"-1389.8\" font-family=\"Helvetica,sans-Serif\" font-size=\"14.00\" fill=\"#000000\">X[4] &lt;= 13.438</text>\n<text text-anchor=\"middle\" x=\"1534.5\" y=\"-1374.8\" font-family=\"Helvetica,sans-Serif\" font-size=\"14.00\" fill=\"#000000\">gini = 0.426</text>\n<text text-anchor=\"middle\" x=\"1534.5\" y=\"-1359.8\" font-family=\"Helvetica,sans-Serif\" font-size=\"14.00\" fill=\"#000000\">samples = 26</text>\n<text text-anchor=\"middle\" x=\"1534.5\" y=\"-1344.8\" font-family=\"Helvetica,sans-Serif\" font-size=\"14.00\" fill=\"#000000\">value = [18, 8]</text>\n</g>\n<!-- 66&#45;&gt;67 -->\n<g id=\"edge67\" class=\"edge\">\n<title>66&#45;&gt;67</title>\n<path fill=\"none\" stroke=\"#000000\" d=\"M1540.5531,-1440.9465C1539.846,-1432.776 1539.0806,-1423.9318 1538.3397,-1415.3697\"/>\n<polygon fill=\"#000000\" stroke=\"#000000\" points=\"1541.8028,-1414.791 1537.4536,-1405.13 1534.8288,-1415.3945 1541.8028,-1414.791\"/>\n</g>\n<!-- 82 -->\n<g id=\"node83\" class=\"node\">\n<title>82</title>\n<polygon fill=\"none\" stroke=\"#000000\" points=\"1715,-1405 1608,-1405 1608,-1337 1715,-1337 1715,-1405\"/>\n<text text-anchor=\"middle\" x=\"1661.5\" y=\"-1389.8\" font-family=\"Helvetica,sans-Serif\" font-size=\"14.00\" fill=\"#000000\">X[1] &lt;= 21.0</text>\n<text text-anchor=\"middle\" x=\"1661.5\" y=\"-1374.8\" font-family=\"Helvetica,sans-Serif\" font-size=\"14.00\" fill=\"#000000\">gini = 0.488</text>\n<text text-anchor=\"middle\" x=\"1661.5\" y=\"-1359.8\" font-family=\"Helvetica,sans-Serif\" font-size=\"14.00\" fill=\"#000000\">samples = 19</text>\n<text text-anchor=\"middle\" x=\"1661.5\" y=\"-1344.8\" font-family=\"Helvetica,sans-Serif\" font-size=\"14.00\" fill=\"#000000\">value = [8, 11]</text>\n</g>\n<!-- 66&#45;&gt;82 -->\n<g id=\"edge82\" class=\"edge\">\n<title>66&#45;&gt;82</title>\n<path fill=\"none\" stroke=\"#000000\" d=\"M1582.1376,-1440.9465C1592.6304,-1431.6986 1604.1026,-1421.5876 1614.9814,-1411.9994\"/>\n<polygon fill=\"#000000\" stroke=\"#000000\" points=\"1617.5877,-1414.3678 1622.7756,-1405.13 1612.9593,-1409.1163 1617.5877,-1414.3678\"/>\n</g>\n<!-- 68 -->\n<g id=\"node69\" class=\"node\">\n<title>68</title>\n<polygon fill=\"none\" stroke=\"#000000\" points=\"1575.5,-1301 1471.5,-1301 1471.5,-1233 1575.5,-1233 1575.5,-1301\"/>\n<text text-anchor=\"middle\" x=\"1523.5\" y=\"-1285.8\" font-family=\"Helvetica,sans-Serif\" font-size=\"14.00\" fill=\"#000000\">X[1] &lt;= 19.0</text>\n<text text-anchor=\"middle\" x=\"1523.5\" y=\"-1270.8\" font-family=\"Helvetica,sans-Serif\" font-size=\"14.00\" fill=\"#000000\">gini = 0.492</text>\n<text text-anchor=\"middle\" x=\"1523.5\" y=\"-1255.8\" font-family=\"Helvetica,sans-Serif\" font-size=\"14.00\" fill=\"#000000\">samples = 16</text>\n<text text-anchor=\"middle\" x=\"1523.5\" y=\"-1240.8\" font-family=\"Helvetica,sans-Serif\" font-size=\"14.00\" fill=\"#000000\">value = [9, 7]</text>\n</g>\n<!-- 67&#45;&gt;68 -->\n<g id=\"edge68\" class=\"edge\">\n<title>67&#45;&gt;68</title>\n<path fill=\"none\" stroke=\"#000000\" d=\"M1530.8982,-1336.9465C1530.0245,-1328.6863 1529.078,-1319.7374 1528.1631,-1311.0875\"/>\n<polygon fill=\"#000000\" stroke=\"#000000\" points=\"1531.6424,-1310.7064 1527.1099,-1301.13 1524.6812,-1311.4427 1531.6424,-1310.7064\"/>\n</g>\n<!-- 77 -->\n<g id=\"node78\" class=\"node\">\n<title>77</title>\n<polygon fill=\"none\" stroke=\"#000000\" points=\"1697.5,-1301 1593.5,-1301 1593.5,-1233 1697.5,-1233 1697.5,-1301\"/>\n<text text-anchor=\"middle\" x=\"1645.5\" y=\"-1285.8\" font-family=\"Helvetica,sans-Serif\" font-size=\"14.00\" fill=\"#000000\">X[1] &lt;= 16.0</text>\n<text text-anchor=\"middle\" x=\"1645.5\" y=\"-1270.8\" font-family=\"Helvetica,sans-Serif\" font-size=\"14.00\" fill=\"#000000\">gini = 0.18</text>\n<text text-anchor=\"middle\" x=\"1645.5\" y=\"-1255.8\" font-family=\"Helvetica,sans-Serif\" font-size=\"14.00\" fill=\"#000000\">samples = 10</text>\n<text text-anchor=\"middle\" x=\"1645.5\" y=\"-1240.8\" font-family=\"Helvetica,sans-Serif\" font-size=\"14.00\" fill=\"#000000\">value = [9, 1]</text>\n</g>\n<!-- 67&#45;&gt;77 -->\n<g id=\"edge77\" class=\"edge\">\n<title>67&#45;&gt;77</title>\n<path fill=\"none\" stroke=\"#000000\" d=\"M1570.8456,-1336.9465C1580.7159,-1327.6986 1591.5075,-1317.5876 1601.741,-1307.9994\"/>\n<polygon fill=\"#000000\" stroke=\"#000000\" points=\"1604.1684,-1310.5214 1609.0728,-1301.13 1599.3823,-1305.4131 1604.1684,-1310.5214\"/>\n</g>\n<!-- 69 -->\n<g id=\"node70\" class=\"node\">\n<title>69</title>\n<polygon fill=\"none\" stroke=\"#000000\" points=\"1451,-1189.5 1352,-1189.5 1352,-1136.5 1451,-1136.5 1451,-1189.5\"/>\n<text text-anchor=\"middle\" x=\"1401.5\" y=\"-1174.3\" font-family=\"Helvetica,sans-Serif\" font-size=\"14.00\" fill=\"#000000\">gini = 0.0</text>\n<text text-anchor=\"middle\" x=\"1401.5\" y=\"-1159.3\" font-family=\"Helvetica,sans-Serif\" font-size=\"14.00\" fill=\"#000000\">samples = 3</text>\n<text text-anchor=\"middle\" x=\"1401.5\" y=\"-1144.3\" font-family=\"Helvetica,sans-Serif\" font-size=\"14.00\" fill=\"#000000\">value = [0, 3]</text>\n</g>\n<!-- 68&#45;&gt;69 -->\n<g id=\"edge69\" class=\"edge\">\n<title>68&#45;&gt;69</title>\n<path fill=\"none\" stroke=\"#000000\" d=\"M1483.5526,-1232.9465C1469.7268,-1221.1606 1454.2564,-1207.9726 1440.5071,-1196.2519\"/>\n<polygon fill=\"#000000\" stroke=\"#000000\" points=\"1442.5168,-1193.366 1432.636,-1189.5422 1437.9756,-1198.6931 1442.5168,-1193.366\"/>\n</g>\n<!-- 70 -->\n<g id=\"node71\" class=\"node\">\n<title>70</title>\n<polygon fill=\"none\" stroke=\"#000000\" points=\"1580,-1197 1469,-1197 1469,-1129 1580,-1129 1580,-1197\"/>\n<text text-anchor=\"middle\" x=\"1524.5\" y=\"-1181.8\" font-family=\"Helvetica,sans-Serif\" font-size=\"14.00\" fill=\"#000000\">X[4] &lt;= 11.469</text>\n<text text-anchor=\"middle\" x=\"1524.5\" y=\"-1166.8\" font-family=\"Helvetica,sans-Serif\" font-size=\"14.00\" fill=\"#000000\">gini = 0.426</text>\n<text text-anchor=\"middle\" x=\"1524.5\" y=\"-1151.8\" font-family=\"Helvetica,sans-Serif\" font-size=\"14.00\" fill=\"#000000\">samples = 13</text>\n<text text-anchor=\"middle\" x=\"1524.5\" y=\"-1136.8\" font-family=\"Helvetica,sans-Serif\" font-size=\"14.00\" fill=\"#000000\">value = [9, 4]</text>\n</g>\n<!-- 68&#45;&gt;70 -->\n<g id=\"edge70\" class=\"edge\">\n<title>68&#45;&gt;70</title>\n<path fill=\"none\" stroke=\"#000000\" d=\"M1523.8274,-1232.9465C1523.906,-1224.776 1523.991,-1215.9318 1524.0734,-1207.3697\"/>\n<polygon fill=\"#000000\" stroke=\"#000000\" points=\"1527.5754,-1207.1632 1524.1718,-1197.13 1520.5757,-1207.0958 1527.5754,-1207.1632\"/>\n</g>\n<!-- 71 -->\n<g id=\"node72\" class=\"node\">\n<title>71</title>\n<polygon fill=\"none\" stroke=\"#000000\" points=\"1462.5,-1093 1358.5,-1093 1358.5,-1025 1462.5,-1025 1462.5,-1093\"/>\n<text text-anchor=\"middle\" x=\"1410.5\" y=\"-1077.8\" font-family=\"Helvetica,sans-Serif\" font-size=\"14.00\" fill=\"#000000\">X[1] &lt;= 30.35</text>\n<text text-anchor=\"middle\" x=\"1410.5\" y=\"-1062.8\" font-family=\"Helvetica,sans-Serif\" font-size=\"14.00\" fill=\"#000000\">gini = 0.298</text>\n<text text-anchor=\"middle\" x=\"1410.5\" y=\"-1047.8\" font-family=\"Helvetica,sans-Serif\" font-size=\"14.00\" fill=\"#000000\">samples = 11</text>\n<text text-anchor=\"middle\" x=\"1410.5\" y=\"-1032.8\" font-family=\"Helvetica,sans-Serif\" font-size=\"14.00\" fill=\"#000000\">value = [9, 2]</text>\n</g>\n<!-- 70&#45;&gt;71 -->\n<g id=\"edge71\" class=\"edge\">\n<title>70&#45;&gt;71</title>\n<path fill=\"none\" stroke=\"#000000\" d=\"M1487.1721,-1128.9465C1477.035,-1119.6986 1465.9517,-1109.5876 1455.4417,-1099.9994\"/>\n<polygon fill=\"#000000\" stroke=\"#000000\" points=\"1457.6583,-1097.284 1447.9117,-1093.13 1452.9405,-1102.4553 1457.6583,-1097.284\"/>\n</g>\n<!-- 76 -->\n<g id=\"node77\" class=\"node\">\n<title>76</title>\n<polygon fill=\"none\" stroke=\"#000000\" points=\"1580,-1085.5 1481,-1085.5 1481,-1032.5 1580,-1032.5 1580,-1085.5\"/>\n<text text-anchor=\"middle\" x=\"1530.5\" y=\"-1070.3\" font-family=\"Helvetica,sans-Serif\" font-size=\"14.00\" fill=\"#000000\">gini = 0.0</text>\n<text text-anchor=\"middle\" x=\"1530.5\" y=\"-1055.3\" font-family=\"Helvetica,sans-Serif\" font-size=\"14.00\" fill=\"#000000\">samples = 2</text>\n<text text-anchor=\"middle\" x=\"1530.5\" y=\"-1040.3\" font-family=\"Helvetica,sans-Serif\" font-size=\"14.00\" fill=\"#000000\">value = [0, 2]</text>\n</g>\n<!-- 70&#45;&gt;76 -->\n<g id=\"edge76\" class=\"edge\">\n<title>70&#45;&gt;76</title>\n<path fill=\"none\" stroke=\"#000000\" d=\"M1526.4646,-1128.9465C1527.081,-1118.2621 1527.7639,-1106.4254 1528.3899,-1095.5742\"/>\n<polygon fill=\"#000000\" stroke=\"#000000\" points=\"1531.8869,-1095.7272 1528.9687,-1085.5422 1524.8985,-1095.3239 1531.8869,-1095.7272\"/>\n</g>\n<!-- 72 -->\n<g id=\"node73\" class=\"node\">\n<title>72</title>\n<polygon fill=\"none\" stroke=\"#000000\" points=\"1460,-981.5 1361,-981.5 1361,-928.5 1460,-928.5 1460,-981.5\"/>\n<text text-anchor=\"middle\" x=\"1410.5\" y=\"-966.3\" font-family=\"Helvetica,sans-Serif\" font-size=\"14.00\" fill=\"#000000\">gini = 0.0</text>\n<text text-anchor=\"middle\" x=\"1410.5\" y=\"-951.3\" font-family=\"Helvetica,sans-Serif\" font-size=\"14.00\" fill=\"#000000\">samples = 8</text>\n<text text-anchor=\"middle\" x=\"1410.5\" y=\"-936.3\" font-family=\"Helvetica,sans-Serif\" font-size=\"14.00\" fill=\"#000000\">value = [8, 0]</text>\n</g>\n<!-- 71&#45;&gt;72 -->\n<g id=\"edge72\" class=\"edge\">\n<title>71&#45;&gt;72</title>\n<path fill=\"none\" stroke=\"#000000\" d=\"M1410.5,-1024.9465C1410.5,-1014.2621 1410.5,-1002.4254 1410.5,-991.5742\"/>\n<polygon fill=\"#000000\" stroke=\"#000000\" points=\"1414.0001,-991.5421 1410.5,-981.5422 1407.0001,-991.5422 1414.0001,-991.5421\"/>\n</g>\n<!-- 73 -->\n<g id=\"node74\" class=\"node\">\n<title>73</title>\n<polygon fill=\"none\" stroke=\"#000000\" points=\"1577,-989 1478,-989 1478,-921 1577,-921 1577,-989\"/>\n<text text-anchor=\"middle\" x=\"1527.5\" y=\"-973.8\" font-family=\"Helvetica,sans-Serif\" font-size=\"14.00\" fill=\"#000000\">X[5] &lt;= 1.5</text>\n<text text-anchor=\"middle\" x=\"1527.5\" y=\"-958.8\" font-family=\"Helvetica,sans-Serif\" font-size=\"14.00\" fill=\"#000000\">gini = 0.444</text>\n<text text-anchor=\"middle\" x=\"1527.5\" y=\"-943.8\" font-family=\"Helvetica,sans-Serif\" font-size=\"14.00\" fill=\"#000000\">samples = 3</text>\n<text text-anchor=\"middle\" x=\"1527.5\" y=\"-928.8\" font-family=\"Helvetica,sans-Serif\" font-size=\"14.00\" fill=\"#000000\">value = [1, 2]</text>\n</g>\n<!-- 71&#45;&gt;73 -->\n<g id=\"edge73\" class=\"edge\">\n<title>71&#45;&gt;73</title>\n<path fill=\"none\" stroke=\"#000000\" d=\"M1448.8102,-1024.9465C1459.2141,-1015.6986 1470.589,-1005.5876 1481.3757,-995.9994\"/>\n<polygon fill=\"#000000\" stroke=\"#000000\" points=\"1483.9549,-998.3896 1489.1038,-989.13 1479.3044,-993.1577 1483.9549,-998.3896\"/>\n</g>\n<!-- 74 -->\n<g id=\"node75\" class=\"node\">\n<title>74</title>\n<polygon fill=\"none\" stroke=\"#000000\" points=\"1519,-877.5 1420,-877.5 1420,-824.5 1519,-824.5 1519,-877.5\"/>\n<text text-anchor=\"middle\" x=\"1469.5\" y=\"-862.3\" font-family=\"Helvetica,sans-Serif\" font-size=\"14.00\" fill=\"#000000\">gini = 0.0</text>\n<text text-anchor=\"middle\" x=\"1469.5\" y=\"-847.3\" font-family=\"Helvetica,sans-Serif\" font-size=\"14.00\" fill=\"#000000\">samples = 1</text>\n<text text-anchor=\"middle\" x=\"1469.5\" y=\"-832.3\" font-family=\"Helvetica,sans-Serif\" font-size=\"14.00\" fill=\"#000000\">value = [1, 0]</text>\n</g>\n<!-- 73&#45;&gt;74 -->\n<g id=\"edge74\" class=\"edge\">\n<title>73&#45;&gt;74</title>\n<path fill=\"none\" stroke=\"#000000\" d=\"M1508.5086,-920.9465C1502.3657,-909.9316 1495.5399,-897.6922 1489.3373,-886.5703\"/>\n<polygon fill=\"#000000\" stroke=\"#000000\" points=\"1492.2299,-884.5711 1484.3024,-877.5422 1486.1163,-887.9806 1492.2299,-884.5711\"/>\n</g>\n<!-- 75 -->\n<g id=\"node76\" class=\"node\">\n<title>75</title>\n<polygon fill=\"none\" stroke=\"#000000\" points=\"1636,-877.5 1537,-877.5 1537,-824.5 1636,-824.5 1636,-877.5\"/>\n<text text-anchor=\"middle\" x=\"1586.5\" y=\"-862.3\" font-family=\"Helvetica,sans-Serif\" font-size=\"14.00\" fill=\"#000000\">gini = 0.0</text>\n<text text-anchor=\"middle\" x=\"1586.5\" y=\"-847.3\" font-family=\"Helvetica,sans-Serif\" font-size=\"14.00\" fill=\"#000000\">samples = 2</text>\n<text text-anchor=\"middle\" x=\"1586.5\" y=\"-832.3\" font-family=\"Helvetica,sans-Serif\" font-size=\"14.00\" fill=\"#000000\">value = [0, 2]</text>\n</g>\n<!-- 73&#45;&gt;75 -->\n<g id=\"edge75\" class=\"edge\">\n<title>73&#45;&gt;75</title>\n<path fill=\"none\" stroke=\"#000000\" d=\"M1546.8188,-920.9465C1553.0676,-909.9316 1560.0112,-897.6922 1566.3207,-886.5703\"/>\n<polygon fill=\"#000000\" stroke=\"#000000\" points=\"1569.5523,-887.967 1571.4424,-877.5422 1563.4638,-884.513 1569.5523,-887.967\"/>\n</g>\n<!-- 78 -->\n<g id=\"node79\" class=\"node\">\n<title>78</title>\n<polygon fill=\"none\" stroke=\"#000000\" points=\"1697,-1197 1598,-1197 1598,-1129 1697,-1129 1697,-1197\"/>\n<text text-anchor=\"middle\" x=\"1647.5\" y=\"-1181.8\" font-family=\"Helvetica,sans-Serif\" font-size=\"14.00\" fill=\"#000000\">X[5] &lt;= 1.5</text>\n<text text-anchor=\"middle\" x=\"1647.5\" y=\"-1166.8\" font-family=\"Helvetica,sans-Serif\" font-size=\"14.00\" fill=\"#000000\">gini = 0.444</text>\n<text text-anchor=\"middle\" x=\"1647.5\" y=\"-1151.8\" font-family=\"Helvetica,sans-Serif\" font-size=\"14.00\" fill=\"#000000\">samples = 3</text>\n<text text-anchor=\"middle\" x=\"1647.5\" y=\"-1136.8\" font-family=\"Helvetica,sans-Serif\" font-size=\"14.00\" fill=\"#000000\">value = [2, 1]</text>\n</g>\n<!-- 77&#45;&gt;78 -->\n<g id=\"edge78\" class=\"edge\">\n<title>77&#45;&gt;78</title>\n<path fill=\"none\" stroke=\"#000000\" d=\"M1646.1549,-1232.9465C1646.312,-1224.776 1646.4821,-1215.9318 1646.6467,-1207.3697\"/>\n<polygon fill=\"#000000\" stroke=\"#000000\" points=\"1650.1506,-1207.1955 1646.8437,-1197.13 1643.1519,-1207.0608 1650.1506,-1207.1955\"/>\n</g>\n<!-- 81 -->\n<g id=\"node82\" class=\"node\">\n<title>81</title>\n<polygon fill=\"none\" stroke=\"#000000\" points=\"1814,-1189.5 1715,-1189.5 1715,-1136.5 1814,-1136.5 1814,-1189.5\"/>\n<text text-anchor=\"middle\" x=\"1764.5\" y=\"-1174.3\" font-family=\"Helvetica,sans-Serif\" font-size=\"14.00\" fill=\"#000000\">gini = 0.0</text>\n<text text-anchor=\"middle\" x=\"1764.5\" y=\"-1159.3\" font-family=\"Helvetica,sans-Serif\" font-size=\"14.00\" fill=\"#000000\">samples = 7</text>\n<text text-anchor=\"middle\" x=\"1764.5\" y=\"-1144.3\" font-family=\"Helvetica,sans-Serif\" font-size=\"14.00\" fill=\"#000000\">value = [7, 0]</text>\n</g>\n<!-- 77&#45;&gt;81 -->\n<g id=\"edge81\" class=\"edge\">\n<title>77&#45;&gt;81</title>\n<path fill=\"none\" stroke=\"#000000\" d=\"M1684.4651,-1232.9465C1697.9509,-1221.1606 1713.0409,-1207.9726 1726.4521,-1196.2519\"/>\n<polygon fill=\"#000000\" stroke=\"#000000\" points=\"1728.9031,-1198.7582 1734.1296,-1189.5422 1724.2967,-1193.4874 1728.9031,-1198.7582\"/>\n</g>\n<!-- 79 -->\n<g id=\"node80\" class=\"node\">\n<title>79</title>\n<polygon fill=\"none\" stroke=\"#000000\" points=\"1697,-1085.5 1598,-1085.5 1598,-1032.5 1697,-1032.5 1697,-1085.5\"/>\n<text text-anchor=\"middle\" x=\"1647.5\" y=\"-1070.3\" font-family=\"Helvetica,sans-Serif\" font-size=\"14.00\" fill=\"#000000\">gini = 0.0</text>\n<text text-anchor=\"middle\" x=\"1647.5\" y=\"-1055.3\" font-family=\"Helvetica,sans-Serif\" font-size=\"14.00\" fill=\"#000000\">samples = 2</text>\n<text text-anchor=\"middle\" x=\"1647.5\" y=\"-1040.3\" font-family=\"Helvetica,sans-Serif\" font-size=\"14.00\" fill=\"#000000\">value = [2, 0]</text>\n</g>\n<!-- 78&#45;&gt;79 -->\n<g id=\"edge79\" class=\"edge\">\n<title>78&#45;&gt;79</title>\n<path fill=\"none\" stroke=\"#000000\" d=\"M1647.5,-1128.9465C1647.5,-1118.2621 1647.5,-1106.4254 1647.5,-1095.5742\"/>\n<polygon fill=\"#000000\" stroke=\"#000000\" points=\"1651.0001,-1095.5421 1647.5,-1085.5422 1644.0001,-1095.5422 1651.0001,-1095.5421\"/>\n</g>\n<!-- 80 -->\n<g id=\"node81\" class=\"node\">\n<title>80</title>\n<polygon fill=\"none\" stroke=\"#000000\" points=\"1814,-1085.5 1715,-1085.5 1715,-1032.5 1814,-1032.5 1814,-1085.5\"/>\n<text text-anchor=\"middle\" x=\"1764.5\" y=\"-1070.3\" font-family=\"Helvetica,sans-Serif\" font-size=\"14.00\" fill=\"#000000\">gini = 0.0</text>\n<text text-anchor=\"middle\" x=\"1764.5\" y=\"-1055.3\" font-family=\"Helvetica,sans-Serif\" font-size=\"14.00\" fill=\"#000000\">samples = 1</text>\n<text text-anchor=\"middle\" x=\"1764.5\" y=\"-1040.3\" font-family=\"Helvetica,sans-Serif\" font-size=\"14.00\" fill=\"#000000\">value = [0, 1]</text>\n</g>\n<!-- 78&#45;&gt;80 -->\n<g id=\"edge80\" class=\"edge\">\n<title>78&#45;&gt;80</title>\n<path fill=\"none\" stroke=\"#000000\" d=\"M1685.8102,-1128.9465C1699.0694,-1117.1606 1713.9058,-1103.9726 1727.0916,-1092.2519\"/>\n<polygon fill=\"#000000\" stroke=\"#000000\" points=\"1729.4912,-1094.8018 1734.6401,-1085.5422 1724.8407,-1089.5699 1729.4912,-1094.8018\"/>\n</g>\n<!-- 83 -->\n<g id=\"node84\" class=\"node\">\n<title>83</title>\n<polygon fill=\"none\" stroke=\"#000000\" points=\"1815,-1293.5 1716,-1293.5 1716,-1240.5 1815,-1240.5 1815,-1293.5\"/>\n<text text-anchor=\"middle\" x=\"1765.5\" y=\"-1278.3\" font-family=\"Helvetica,sans-Serif\" font-size=\"14.00\" fill=\"#000000\">gini = 0.0</text>\n<text text-anchor=\"middle\" x=\"1765.5\" y=\"-1263.3\" font-family=\"Helvetica,sans-Serif\" font-size=\"14.00\" fill=\"#000000\">samples = 3</text>\n<text text-anchor=\"middle\" x=\"1765.5\" y=\"-1248.3\" font-family=\"Helvetica,sans-Serif\" font-size=\"14.00\" fill=\"#000000\">value = [3, 0]</text>\n</g>\n<!-- 82&#45;&gt;83 -->\n<g id=\"edge83\" class=\"edge\">\n<title>82&#45;&gt;83</title>\n<path fill=\"none\" stroke=\"#000000\" d=\"M1695.5535,-1336.9465C1707.1191,-1325.3809 1720.0348,-1312.4652 1731.5893,-1300.9107\"/>\n<polygon fill=\"#000000\" stroke=\"#000000\" points=\"1734.3616,-1303.0881 1738.9578,-1293.5422 1729.4119,-1298.1384 1734.3616,-1303.0881\"/>\n</g>\n<!-- 84 -->\n<g id=\"node85\" class=\"node\">\n<title>84</title>\n<polygon fill=\"none\" stroke=\"#000000\" points=\"1940,-1301 1833,-1301 1833,-1233 1940,-1233 1940,-1301\"/>\n<text text-anchor=\"middle\" x=\"1886.5\" y=\"-1285.8\" font-family=\"Helvetica,sans-Serif\" font-size=\"14.00\" fill=\"#000000\">X[5] &lt;= 1.5</text>\n<text text-anchor=\"middle\" x=\"1886.5\" y=\"-1270.8\" font-family=\"Helvetica,sans-Serif\" font-size=\"14.00\" fill=\"#000000\">gini = 0.43</text>\n<text text-anchor=\"middle\" x=\"1886.5\" y=\"-1255.8\" font-family=\"Helvetica,sans-Serif\" font-size=\"14.00\" fill=\"#000000\">samples = 16</text>\n<text text-anchor=\"middle\" x=\"1886.5\" y=\"-1240.8\" font-family=\"Helvetica,sans-Serif\" font-size=\"14.00\" fill=\"#000000\">value = [5, 11]</text>\n</g>\n<!-- 82&#45;&gt;84 -->\n<g id=\"edge84\" class=\"edge\">\n<title>82&#45;&gt;84</title>\n<path fill=\"none\" stroke=\"#000000\" d=\"M1715.0075,-1340.9907C1717.8596,-1339.6008 1720.7022,-1338.2615 1723.5,-1337 1766.5621,-1317.5845 1780.3729,-1320.2708 1823.5,-1301 1823.5957,-1300.9572 1823.6915,-1300.9143 1823.7874,-1300.8714\"/>\n<polygon fill=\"#000000\" stroke=\"#000000\" points=\"1825.2292,-1304.061 1832.8093,-1296.6588 1822.2676,-1297.7183 1825.2292,-1304.061\"/>\n</g>\n<!-- 85 -->\n<g id=\"node86\" class=\"node\">\n<title>85</title>\n<polygon fill=\"none\" stroke=\"#000000\" points=\"1936,-1189.5 1837,-1189.5 1837,-1136.5 1936,-1136.5 1936,-1189.5\"/>\n<text text-anchor=\"middle\" x=\"1886.5\" y=\"-1174.3\" font-family=\"Helvetica,sans-Serif\" font-size=\"14.00\" fill=\"#000000\">gini = 0.0</text>\n<text text-anchor=\"middle\" x=\"1886.5\" y=\"-1159.3\" font-family=\"Helvetica,sans-Serif\" font-size=\"14.00\" fill=\"#000000\">samples = 4</text>\n<text text-anchor=\"middle\" x=\"1886.5\" y=\"-1144.3\" font-family=\"Helvetica,sans-Serif\" font-size=\"14.00\" fill=\"#000000\">value = [0, 4]</text>\n</g>\n<!-- 84&#45;&gt;85 -->\n<g id=\"edge85\" class=\"edge\">\n<title>84&#45;&gt;85</title>\n<path fill=\"none\" stroke=\"#000000\" d=\"M1886.5,-1232.9465C1886.5,-1222.2621 1886.5,-1210.4254 1886.5,-1199.5742\"/>\n<polygon fill=\"#000000\" stroke=\"#000000\" points=\"1890.0001,-1199.5421 1886.5,-1189.5422 1883.0001,-1199.5422 1890.0001,-1199.5421\"/>\n</g>\n<!-- 86 -->\n<g id=\"node87\" class=\"node\">\n<title>86</title>\n<polygon fill=\"none\" stroke=\"#000000\" points=\"2058.5,-1197 1954.5,-1197 1954.5,-1129 2058.5,-1129 2058.5,-1197\"/>\n<text text-anchor=\"middle\" x=\"2006.5\" y=\"-1181.8\" font-family=\"Helvetica,sans-Serif\" font-size=\"14.00\" fill=\"#000000\">X[1] &lt;= 25.0</text>\n<text text-anchor=\"middle\" x=\"2006.5\" y=\"-1166.8\" font-family=\"Helvetica,sans-Serif\" font-size=\"14.00\" fill=\"#000000\">gini = 0.486</text>\n<text text-anchor=\"middle\" x=\"2006.5\" y=\"-1151.8\" font-family=\"Helvetica,sans-Serif\" font-size=\"14.00\" fill=\"#000000\">samples = 12</text>\n<text text-anchor=\"middle\" x=\"2006.5\" y=\"-1136.8\" font-family=\"Helvetica,sans-Serif\" font-size=\"14.00\" fill=\"#000000\">value = [5, 7]</text>\n</g>\n<!-- 84&#45;&gt;86 -->\n<g id=\"edge86\" class=\"edge\">\n<title>84&#45;&gt;86</title>\n<path fill=\"none\" stroke=\"#000000\" d=\"M1925.7925,-1232.9465C1936.5667,-1223.6088 1948.3564,-1213.3911 1959.515,-1203.7203\"/>\n<polygon fill=\"#000000\" stroke=\"#000000\" points=\"1961.8546,-1206.3243 1967.1192,-1197.13 1957.2701,-1201.0344 1961.8546,-1206.3243\"/>\n</g>\n<!-- 87 -->\n<g id=\"node88\" class=\"node\">\n<title>87</title>\n<polygon fill=\"none\" stroke=\"#000000\" points=\"2056,-1085.5 1957,-1085.5 1957,-1032.5 2056,-1032.5 2056,-1085.5\"/>\n<text text-anchor=\"middle\" x=\"2006.5\" y=\"-1070.3\" font-family=\"Helvetica,sans-Serif\" font-size=\"14.00\" fill=\"#000000\">gini = 0.0</text>\n<text text-anchor=\"middle\" x=\"2006.5\" y=\"-1055.3\" font-family=\"Helvetica,sans-Serif\" font-size=\"14.00\" fill=\"#000000\">samples = 3</text>\n<text text-anchor=\"middle\" x=\"2006.5\" y=\"-1040.3\" font-family=\"Helvetica,sans-Serif\" font-size=\"14.00\" fill=\"#000000\">value = [0, 3]</text>\n</g>\n<!-- 86&#45;&gt;87 -->\n<g id=\"edge87\" class=\"edge\">\n<title>86&#45;&gt;87</title>\n<path fill=\"none\" stroke=\"#000000\" d=\"M2006.5,-1128.9465C2006.5,-1118.2621 2006.5,-1106.4254 2006.5,-1095.5742\"/>\n<polygon fill=\"#000000\" stroke=\"#000000\" points=\"2010.0001,-1095.5421 2006.5,-1085.5422 2003.0001,-1095.5422 2010.0001,-1095.5421\"/>\n</g>\n<!-- 88 -->\n<g id=\"node89\" class=\"node\">\n<title>88</title>\n<polygon fill=\"none\" stroke=\"#000000\" points=\"2177,-1093 2074,-1093 2074,-1025 2177,-1025 2177,-1093\"/>\n<text text-anchor=\"middle\" x=\"2125.5\" y=\"-1077.8\" font-family=\"Helvetica,sans-Serif\" font-size=\"14.00\" fill=\"#000000\">X[1] &lt;= 29.35</text>\n<text text-anchor=\"middle\" x=\"2125.5\" y=\"-1062.8\" font-family=\"Helvetica,sans-Serif\" font-size=\"14.00\" fill=\"#000000\">gini = 0.494</text>\n<text text-anchor=\"middle\" x=\"2125.5\" y=\"-1047.8\" font-family=\"Helvetica,sans-Serif\" font-size=\"14.00\" fill=\"#000000\">samples = 9</text>\n<text text-anchor=\"middle\" x=\"2125.5\" y=\"-1032.8\" font-family=\"Helvetica,sans-Serif\" font-size=\"14.00\" fill=\"#000000\">value = [5, 4]</text>\n</g>\n<!-- 86&#45;&gt;88 -->\n<g id=\"edge88\" class=\"edge\">\n<title>86&#45;&gt;88</title>\n<path fill=\"none\" stroke=\"#000000\" d=\"M2045.4651,-1128.9465C2056.1495,-1119.6088 2067.8409,-1109.3911 2078.9066,-1099.7203\"/>\n<polygon fill=\"#000000\" stroke=\"#000000\" points=\"2081.2209,-1102.346 2086.4474,-1093.13 2076.6145,-1097.0752 2081.2209,-1102.346\"/>\n</g>\n<!-- 89 -->\n<g id=\"node90\" class=\"node\">\n<title>89</title>\n<polygon fill=\"none\" stroke=\"#000000\" points=\"2175,-981.5 2076,-981.5 2076,-928.5 2175,-928.5 2175,-981.5\"/>\n<text text-anchor=\"middle\" x=\"2125.5\" y=\"-966.3\" font-family=\"Helvetica,sans-Serif\" font-size=\"14.00\" fill=\"#000000\">gini = 0.0</text>\n<text text-anchor=\"middle\" x=\"2125.5\" y=\"-951.3\" font-family=\"Helvetica,sans-Serif\" font-size=\"14.00\" fill=\"#000000\">samples = 2</text>\n<text text-anchor=\"middle\" x=\"2125.5\" y=\"-936.3\" font-family=\"Helvetica,sans-Serif\" font-size=\"14.00\" fill=\"#000000\">value = [2, 0]</text>\n</g>\n<!-- 88&#45;&gt;89 -->\n<g id=\"edge89\" class=\"edge\">\n<title>88&#45;&gt;89</title>\n<path fill=\"none\" stroke=\"#000000\" d=\"M2125.5,-1024.9465C2125.5,-1014.2621 2125.5,-1002.4254 2125.5,-991.5742\"/>\n<polygon fill=\"#000000\" stroke=\"#000000\" points=\"2129.0001,-991.5421 2125.5,-981.5422 2122.0001,-991.5422 2129.0001,-991.5421\"/>\n</g>\n<!-- 90 -->\n<g id=\"node91\" class=\"node\">\n<title>90</title>\n<polygon fill=\"none\" stroke=\"#000000\" points=\"2304,-989 2193,-989 2193,-921 2304,-921 2304,-989\"/>\n<text text-anchor=\"middle\" x=\"2248.5\" y=\"-973.8\" font-family=\"Helvetica,sans-Serif\" font-size=\"14.00\" fill=\"#000000\">X[4] &lt;= 20.231</text>\n<text text-anchor=\"middle\" x=\"2248.5\" y=\"-958.8\" font-family=\"Helvetica,sans-Serif\" font-size=\"14.00\" fill=\"#000000\">gini = 0.49</text>\n<text text-anchor=\"middle\" x=\"2248.5\" y=\"-943.8\" font-family=\"Helvetica,sans-Serif\" font-size=\"14.00\" fill=\"#000000\">samples = 7</text>\n<text text-anchor=\"middle\" x=\"2248.5\" y=\"-928.8\" font-family=\"Helvetica,sans-Serif\" font-size=\"14.00\" fill=\"#000000\">value = [3, 4]</text>\n</g>\n<!-- 88&#45;&gt;90 -->\n<g id=\"edge90\" class=\"edge\">\n<title>88&#45;&gt;90</title>\n<path fill=\"none\" stroke=\"#000000\" d=\"M2165.7748,-1024.9465C2176.8184,-1015.6088 2188.9028,-1005.3911 2200.3404,-995.7203\"/>\n<polygon fill=\"#000000\" stroke=\"#000000\" points=\"2202.7583,-998.2594 2208.1347,-989.13 2198.2386,-992.914 2202.7583,-998.2594\"/>\n</g>\n<!-- 91 -->\n<g id=\"node92\" class=\"node\">\n<title>91</title>\n<polygon fill=\"none\" stroke=\"#000000\" points=\"2183,-885 2080,-885 2080,-817 2183,-817 2183,-885\"/>\n<text text-anchor=\"middle\" x=\"2131.5\" y=\"-869.8\" font-family=\"Helvetica,sans-Serif\" font-size=\"14.00\" fill=\"#000000\">X[4] &lt;= 17.05</text>\n<text text-anchor=\"middle\" x=\"2131.5\" y=\"-854.8\" font-family=\"Helvetica,sans-Serif\" font-size=\"14.00\" fill=\"#000000\">gini = 0.48</text>\n<text text-anchor=\"middle\" x=\"2131.5\" y=\"-839.8\" font-family=\"Helvetica,sans-Serif\" font-size=\"14.00\" fill=\"#000000\">samples = 5</text>\n<text text-anchor=\"middle\" x=\"2131.5\" y=\"-824.8\" font-family=\"Helvetica,sans-Serif\" font-size=\"14.00\" fill=\"#000000\">value = [3, 2]</text>\n</g>\n<!-- 90&#45;&gt;91 -->\n<g id=\"edge91\" class=\"edge\">\n<title>90&#45;&gt;91</title>\n<path fill=\"none\" stroke=\"#000000\" d=\"M2210.1898,-920.9465C2199.7859,-911.6986 2188.411,-901.5876 2177.6243,-891.9994\"/>\n<polygon fill=\"#000000\" stroke=\"#000000\" points=\"2179.6956,-889.1577 2169.8962,-885.13 2175.0451,-894.3896 2179.6956,-889.1577\"/>\n</g>\n<!-- 96 -->\n<g id=\"node97\" class=\"node\">\n<title>96</title>\n<polygon fill=\"none\" stroke=\"#000000\" points=\"2300,-877.5 2201,-877.5 2201,-824.5 2300,-824.5 2300,-877.5\"/>\n<text text-anchor=\"middle\" x=\"2250.5\" y=\"-862.3\" font-family=\"Helvetica,sans-Serif\" font-size=\"14.00\" fill=\"#000000\">gini = 0.0</text>\n<text text-anchor=\"middle\" x=\"2250.5\" y=\"-847.3\" font-family=\"Helvetica,sans-Serif\" font-size=\"14.00\" fill=\"#000000\">samples = 2</text>\n<text text-anchor=\"middle\" x=\"2250.5\" y=\"-832.3\" font-family=\"Helvetica,sans-Serif\" font-size=\"14.00\" fill=\"#000000\">value = [0, 2]</text>\n</g>\n<!-- 90&#45;&gt;96 -->\n<g id=\"edge96\" class=\"edge\">\n<title>90&#45;&gt;96</title>\n<path fill=\"none\" stroke=\"#000000\" d=\"M2249.1549,-920.9465C2249.3603,-910.2621 2249.588,-898.4254 2249.7966,-887.5742\"/>\n<polygon fill=\"#000000\" stroke=\"#000000\" points=\"2253.2966,-887.6076 2249.9896,-877.5422 2246.2979,-887.473 2253.2966,-887.6076\"/>\n</g>\n<!-- 92 -->\n<g id=\"node93\" class=\"node\">\n<title>92</title>\n<polygon fill=\"none\" stroke=\"#000000\" points=\"2186,-781 2075,-781 2075,-713 2186,-713 2186,-781\"/>\n<text text-anchor=\"middle\" x=\"2130.5\" y=\"-765.8\" font-family=\"Helvetica,sans-Serif\" font-size=\"14.00\" fill=\"#000000\">X[4] &lt;= 15.675</text>\n<text text-anchor=\"middle\" x=\"2130.5\" y=\"-750.8\" font-family=\"Helvetica,sans-Serif\" font-size=\"14.00\" fill=\"#000000\">gini = 0.444</text>\n<text text-anchor=\"middle\" x=\"2130.5\" y=\"-735.8\" font-family=\"Helvetica,sans-Serif\" font-size=\"14.00\" fill=\"#000000\">samples = 3</text>\n<text text-anchor=\"middle\" x=\"2130.5\" y=\"-720.8\" font-family=\"Helvetica,sans-Serif\" font-size=\"14.00\" fill=\"#000000\">value = [1, 2]</text>\n</g>\n<!-- 91&#45;&gt;92 -->\n<g id=\"edge92\" class=\"edge\">\n<title>91&#45;&gt;92</title>\n<path fill=\"none\" stroke=\"#000000\" d=\"M2131.1726,-816.9465C2131.094,-808.776 2131.009,-799.9318 2130.9266,-791.3697\"/>\n<polygon fill=\"#000000\" stroke=\"#000000\" points=\"2134.4243,-791.0958 2130.8282,-781.13 2127.4246,-791.1632 2134.4243,-791.0958\"/>\n</g>\n<!-- 95 -->\n<g id=\"node96\" class=\"node\">\n<title>95</title>\n<polygon fill=\"none\" stroke=\"#000000\" points=\"2303,-773.5 2204,-773.5 2204,-720.5 2303,-720.5 2303,-773.5\"/>\n<text text-anchor=\"middle\" x=\"2253.5\" y=\"-758.3\" font-family=\"Helvetica,sans-Serif\" font-size=\"14.00\" fill=\"#000000\">gini = 0.0</text>\n<text text-anchor=\"middle\" x=\"2253.5\" y=\"-743.3\" font-family=\"Helvetica,sans-Serif\" font-size=\"14.00\" fill=\"#000000\">samples = 2</text>\n<text text-anchor=\"middle\" x=\"2253.5\" y=\"-728.3\" font-family=\"Helvetica,sans-Serif\" font-size=\"14.00\" fill=\"#000000\">value = [2, 0]</text>\n</g>\n<!-- 91&#45;&gt;95 -->\n<g id=\"edge95\" class=\"edge\">\n<title>91&#45;&gt;95</title>\n<path fill=\"none\" stroke=\"#000000\" d=\"M2171.4474,-816.9465C2185.2732,-805.1606 2200.7436,-791.9726 2214.4929,-780.2519\"/>\n<polygon fill=\"#000000\" stroke=\"#000000\" points=\"2217.0244,-782.6931 2222.364,-773.5422 2212.4832,-777.366 2217.0244,-782.6931\"/>\n</g>\n<!-- 93 -->\n<g id=\"node94\" class=\"node\">\n<title>93</title>\n<polygon fill=\"none\" stroke=\"#000000\" points=\"2122,-669.5 2023,-669.5 2023,-616.5 2122,-616.5 2122,-669.5\"/>\n<text text-anchor=\"middle\" x=\"2072.5\" y=\"-654.3\" font-family=\"Helvetica,sans-Serif\" font-size=\"14.00\" fill=\"#000000\">gini = 0.0</text>\n<text text-anchor=\"middle\" x=\"2072.5\" y=\"-639.3\" font-family=\"Helvetica,sans-Serif\" font-size=\"14.00\" fill=\"#000000\">samples = 1</text>\n<text text-anchor=\"middle\" x=\"2072.5\" y=\"-624.3\" font-family=\"Helvetica,sans-Serif\" font-size=\"14.00\" fill=\"#000000\">value = [1, 0]</text>\n</g>\n<!-- 92&#45;&gt;93 -->\n<g id=\"edge93\" class=\"edge\">\n<title>92&#45;&gt;93</title>\n<path fill=\"none\" stroke=\"#000000\" d=\"M2111.5086,-712.9465C2105.3657,-701.9316 2098.5399,-689.6922 2092.3373,-678.5703\"/>\n<polygon fill=\"#000000\" stroke=\"#000000\" points=\"2095.2299,-676.5711 2087.3024,-669.5422 2089.1163,-679.9806 2095.2299,-676.5711\"/>\n</g>\n<!-- 94 -->\n<g id=\"node95\" class=\"node\">\n<title>94</title>\n<polygon fill=\"none\" stroke=\"#000000\" points=\"2239,-669.5 2140,-669.5 2140,-616.5 2239,-616.5 2239,-669.5\"/>\n<text text-anchor=\"middle\" x=\"2189.5\" y=\"-654.3\" font-family=\"Helvetica,sans-Serif\" font-size=\"14.00\" fill=\"#000000\">gini = 0.0</text>\n<text text-anchor=\"middle\" x=\"2189.5\" y=\"-639.3\" font-family=\"Helvetica,sans-Serif\" font-size=\"14.00\" fill=\"#000000\">samples = 2</text>\n<text text-anchor=\"middle\" x=\"2189.5\" y=\"-624.3\" font-family=\"Helvetica,sans-Serif\" font-size=\"14.00\" fill=\"#000000\">value = [0, 2]</text>\n</g>\n<!-- 92&#45;&gt;94 -->\n<g id=\"edge94\" class=\"edge\">\n<title>92&#45;&gt;94</title>\n<path fill=\"none\" stroke=\"#000000\" d=\"M2149.8188,-712.9465C2156.0676,-701.9316 2163.0112,-689.6922 2169.3207,-678.5703\"/>\n<polygon fill=\"#000000\" stroke=\"#000000\" points=\"2172.5523,-679.967 2174.4424,-669.5422 2166.4638,-676.513 2172.5523,-679.967\"/>\n</g>\n<!-- 98 -->\n<g id=\"node99\" class=\"node\">\n<title>98</title>\n<polygon fill=\"none\" stroke=\"#000000\" points=\"1702,-1605.5 1603,-1605.5 1603,-1552.5 1702,-1552.5 1702,-1605.5\"/>\n<text text-anchor=\"middle\" x=\"1652.5\" y=\"-1590.3\" font-family=\"Helvetica,sans-Serif\" font-size=\"14.00\" fill=\"#000000\">gini = 0.0</text>\n<text text-anchor=\"middle\" x=\"1652.5\" y=\"-1575.3\" font-family=\"Helvetica,sans-Serif\" font-size=\"14.00\" fill=\"#000000\">samples = 1</text>\n<text text-anchor=\"middle\" x=\"1652.5\" y=\"-1560.3\" font-family=\"Helvetica,sans-Serif\" font-size=\"14.00\" fill=\"#000000\">value = [0, 1]</text>\n</g>\n<!-- 97&#45;&gt;98 -->\n<g id=\"edge98\" class=\"edge\">\n<title>97&#45;&gt;98</title>\n<path fill=\"none\" stroke=\"#000000\" d=\"M1652.5,-1648.9465C1652.5,-1638.2621 1652.5,-1626.4254 1652.5,-1615.5742\"/>\n<polygon fill=\"#000000\" stroke=\"#000000\" points=\"1656.0001,-1615.5421 1652.5,-1605.5422 1649.0001,-1615.5422 1656.0001,-1615.5421\"/>\n</g>\n<!-- 99 -->\n<g id=\"node100\" class=\"node\">\n<title>99</title>\n<polygon fill=\"none\" stroke=\"#000000\" points=\"1907,-1613 1800,-1613 1800,-1545 1907,-1545 1907,-1613\"/>\n<text text-anchor=\"middle\" x=\"1853.5\" y=\"-1597.8\" font-family=\"Helvetica,sans-Serif\" font-size=\"14.00\" fill=\"#000000\">X[1] &lt;= 5.5</text>\n<text text-anchor=\"middle\" x=\"1853.5\" y=\"-1582.8\" font-family=\"Helvetica,sans-Serif\" font-size=\"14.00\" fill=\"#000000\">gini = 0.159</text>\n<text text-anchor=\"middle\" x=\"1853.5\" y=\"-1567.8\" font-family=\"Helvetica,sans-Serif\" font-size=\"14.00\" fill=\"#000000\">samples = 23</text>\n<text text-anchor=\"middle\" x=\"1853.5\" y=\"-1552.8\" font-family=\"Helvetica,sans-Serif\" font-size=\"14.00\" fill=\"#000000\">value = [21, 2]</text>\n</g>\n<!-- 97&#45;&gt;99 -->\n<g id=\"edge99\" class=\"edge\">\n<title>97&#45;&gt;99</title>\n<path fill=\"none\" stroke=\"#000000\" d=\"M1706.1003,-1655.2665C1732.1169,-1641.8052 1763.5388,-1625.5471 1790.6756,-1611.5062\"/>\n<polygon fill=\"#000000\" stroke=\"#000000\" points=\"1792.427,-1614.5408 1799.7002,-1606.8367 1789.2102,-1608.3237 1792.427,-1614.5408\"/>\n</g>\n<!-- 100 -->\n<g id=\"node101\" class=\"node\">\n<title>100</title>\n<polygon fill=\"none\" stroke=\"#000000\" points=\"1909,-1509 1798,-1509 1798,-1441 1909,-1441 1909,-1509\"/>\n<text text-anchor=\"middle\" x=\"1853.5\" y=\"-1493.8\" font-family=\"Helvetica,sans-Serif\" font-size=\"14.00\" fill=\"#000000\">X[4] &lt;= 31.331</text>\n<text text-anchor=\"middle\" x=\"1853.5\" y=\"-1478.8\" font-family=\"Helvetica,sans-Serif\" font-size=\"14.00\" fill=\"#000000\">gini = 0.5</text>\n<text text-anchor=\"middle\" x=\"1853.5\" y=\"-1463.8\" font-family=\"Helvetica,sans-Serif\" font-size=\"14.00\" fill=\"#000000\">samples = 2</text>\n<text text-anchor=\"middle\" x=\"1853.5\" y=\"-1448.8\" font-family=\"Helvetica,sans-Serif\" font-size=\"14.00\" fill=\"#000000\">value = [1, 1]</text>\n</g>\n<!-- 99&#45;&gt;100 -->\n<g id=\"edge100\" class=\"edge\">\n<title>99&#45;&gt;100</title>\n<path fill=\"none\" stroke=\"#000000\" d=\"M1853.5,-1544.9465C1853.5,-1536.776 1853.5,-1527.9318 1853.5,-1519.3697\"/>\n<polygon fill=\"#000000\" stroke=\"#000000\" points=\"1857.0001,-1519.13 1853.5,-1509.13 1850.0001,-1519.13 1857.0001,-1519.13\"/>\n</g>\n<!-- 103 -->\n<g id=\"node104\" class=\"node\">\n<title>103</title>\n<polygon fill=\"none\" stroke=\"#000000\" points=\"2074,-1509 1967,-1509 1967,-1441 2074,-1441 2074,-1509\"/>\n<text text-anchor=\"middle\" x=\"2020.5\" y=\"-1493.8\" font-family=\"Helvetica,sans-Serif\" font-size=\"14.00\" fill=\"#000000\">X[1] &lt;= 34.0</text>\n<text text-anchor=\"middle\" x=\"2020.5\" y=\"-1478.8\" font-family=\"Helvetica,sans-Serif\" font-size=\"14.00\" fill=\"#000000\">gini = 0.091</text>\n<text text-anchor=\"middle\" x=\"2020.5\" y=\"-1463.8\" font-family=\"Helvetica,sans-Serif\" font-size=\"14.00\" fill=\"#000000\">samples = 21</text>\n<text text-anchor=\"middle\" x=\"2020.5\" y=\"-1448.8\" font-family=\"Helvetica,sans-Serif\" font-size=\"14.00\" fill=\"#000000\">value = [20, 1]</text>\n</g>\n<!-- 99&#45;&gt;103 -->\n<g id=\"edge103\" class=\"edge\">\n<title>99&#45;&gt;103</title>\n<path fill=\"none\" stroke=\"#000000\" d=\"M1907.2591,-1545.5213C1923.4985,-1535.4081 1941.4642,-1524.2199 1958.2109,-1513.7908\"/>\n<polygon fill=\"#000000\" stroke=\"#000000\" points=\"1960.2033,-1516.6733 1966.8416,-1508.416 1956.5029,-1510.7313 1960.2033,-1516.6733\"/>\n</g>\n<!-- 101 -->\n<g id=\"node102\" class=\"node\">\n<title>101</title>\n<polygon fill=\"none\" stroke=\"#000000\" points=\"1832,-1397.5 1733,-1397.5 1733,-1344.5 1832,-1344.5 1832,-1397.5\"/>\n<text text-anchor=\"middle\" x=\"1782.5\" y=\"-1382.3\" font-family=\"Helvetica,sans-Serif\" font-size=\"14.00\" fill=\"#000000\">gini = 0.0</text>\n<text text-anchor=\"middle\" x=\"1782.5\" y=\"-1367.3\" font-family=\"Helvetica,sans-Serif\" font-size=\"14.00\" fill=\"#000000\">samples = 1</text>\n<text text-anchor=\"middle\" x=\"1782.5\" y=\"-1352.3\" font-family=\"Helvetica,sans-Serif\" font-size=\"14.00\" fill=\"#000000\">value = [1, 0]</text>\n</g>\n<!-- 100&#45;&gt;101 -->\n<g id=\"edge101\" class=\"edge\">\n<title>100&#45;&gt;101</title>\n<path fill=\"none\" stroke=\"#000000\" d=\"M1830.2519,-1440.9465C1822.5818,-1429.7113 1814.0418,-1417.2021 1806.3289,-1405.9043\"/>\n<polygon fill=\"#000000\" stroke=\"#000000\" points=\"1809.1491,-1403.8277 1800.6201,-1397.5422 1803.3678,-1407.7745 1809.1491,-1403.8277\"/>\n</g>\n<!-- 102 -->\n<g id=\"node103\" class=\"node\">\n<title>102</title>\n<polygon fill=\"none\" stroke=\"#000000\" points=\"1949,-1397.5 1850,-1397.5 1850,-1344.5 1949,-1344.5 1949,-1397.5\"/>\n<text text-anchor=\"middle\" x=\"1899.5\" y=\"-1382.3\" font-family=\"Helvetica,sans-Serif\" font-size=\"14.00\" fill=\"#000000\">gini = 0.0</text>\n<text text-anchor=\"middle\" x=\"1899.5\" y=\"-1367.3\" font-family=\"Helvetica,sans-Serif\" font-size=\"14.00\" fill=\"#000000\">samples = 1</text>\n<text text-anchor=\"middle\" x=\"1899.5\" y=\"-1352.3\" font-family=\"Helvetica,sans-Serif\" font-size=\"14.00\" fill=\"#000000\">value = [0, 1]</text>\n</g>\n<!-- 100&#45;&gt;102 -->\n<g id=\"edge102\" class=\"edge\">\n<title>100&#45;&gt;102</title>\n<path fill=\"none\" stroke=\"#000000\" d=\"M1868.5621,-1440.9465C1873.3854,-1430.0418 1878.7395,-1417.9368 1883.6193,-1406.9043\"/>\n<polygon fill=\"#000000\" stroke=\"#000000\" points=\"1886.916,-1408.1033 1887.7602,-1397.5422 1880.5142,-1405.2717 1886.916,-1408.1033\"/>\n</g>\n<!-- 104 -->\n<g id=\"node105\" class=\"node\">\n<title>104</title>\n<polygon fill=\"none\" stroke=\"#000000\" points=\"2074,-1397.5 1967,-1397.5 1967,-1344.5 2074,-1344.5 2074,-1397.5\"/>\n<text text-anchor=\"middle\" x=\"2020.5\" y=\"-1382.3\" font-family=\"Helvetica,sans-Serif\" font-size=\"14.00\" fill=\"#000000\">gini = 0.0</text>\n<text text-anchor=\"middle\" x=\"2020.5\" y=\"-1367.3\" font-family=\"Helvetica,sans-Serif\" font-size=\"14.00\" fill=\"#000000\">samples = 14</text>\n<text text-anchor=\"middle\" x=\"2020.5\" y=\"-1352.3\" font-family=\"Helvetica,sans-Serif\" font-size=\"14.00\" fill=\"#000000\">value = [14, 0]</text>\n</g>\n<!-- 103&#45;&gt;104 -->\n<g id=\"edge104\" class=\"edge\">\n<title>103&#45;&gt;104</title>\n<path fill=\"none\" stroke=\"#000000\" d=\"M2020.5,-1440.9465C2020.5,-1430.2621 2020.5,-1418.4254 2020.5,-1407.5742\"/>\n<polygon fill=\"#000000\" stroke=\"#000000\" points=\"2024.0001,-1407.5421 2020.5,-1397.5422 2017.0001,-1407.5422 2024.0001,-1407.5421\"/>\n</g>\n<!-- 105 -->\n<g id=\"node106\" class=\"node\">\n<title>105</title>\n<polygon fill=\"none\" stroke=\"#000000\" points=\"2191,-1405 2092,-1405 2092,-1337 2191,-1337 2191,-1405\"/>\n<text text-anchor=\"middle\" x=\"2141.5\" y=\"-1389.8\" font-family=\"Helvetica,sans-Serif\" font-size=\"14.00\" fill=\"#000000\">X[1] &lt;= 38.5</text>\n<text text-anchor=\"middle\" x=\"2141.5\" y=\"-1374.8\" font-family=\"Helvetica,sans-Serif\" font-size=\"14.00\" fill=\"#000000\">gini = 0.245</text>\n<text text-anchor=\"middle\" x=\"2141.5\" y=\"-1359.8\" font-family=\"Helvetica,sans-Serif\" font-size=\"14.00\" fill=\"#000000\">samples = 7</text>\n<text text-anchor=\"middle\" x=\"2141.5\" y=\"-1344.8\" font-family=\"Helvetica,sans-Serif\" font-size=\"14.00\" fill=\"#000000\">value = [6, 1]</text>\n</g>\n<!-- 103&#45;&gt;105 -->\n<g id=\"edge105\" class=\"edge\">\n<title>103&#45;&gt;105</title>\n<path fill=\"none\" stroke=\"#000000\" d=\"M2060.1199,-1440.9465C2070.984,-1431.6088 2082.8718,-1421.3911 2094.1235,-1411.7203\"/>\n<polygon fill=\"#000000\" stroke=\"#000000\" points=\"2096.4887,-1414.3026 2101.7911,-1405.13 2091.9259,-1408.994 2096.4887,-1414.3026\"/>\n</g>\n<!-- 106 -->\n<g id=\"node107\" class=\"node\">\n<title>106</title>\n<polygon fill=\"none\" stroke=\"#000000\" points=\"2074,-1293.5 1975,-1293.5 1975,-1240.5 2074,-1240.5 2074,-1293.5\"/>\n<text text-anchor=\"middle\" x=\"2024.5\" y=\"-1278.3\" font-family=\"Helvetica,sans-Serif\" font-size=\"14.00\" fill=\"#000000\">gini = 0.0</text>\n<text text-anchor=\"middle\" x=\"2024.5\" y=\"-1263.3\" font-family=\"Helvetica,sans-Serif\" font-size=\"14.00\" fill=\"#000000\">samples = 1</text>\n<text text-anchor=\"middle\" x=\"2024.5\" y=\"-1248.3\" font-family=\"Helvetica,sans-Serif\" font-size=\"14.00\" fill=\"#000000\">value = [0, 1]</text>\n</g>\n<!-- 105&#45;&gt;106 -->\n<g id=\"edge106\" class=\"edge\">\n<title>105&#45;&gt;106</title>\n<path fill=\"none\" stroke=\"#000000\" d=\"M2103.1898,-1336.9465C2089.9306,-1325.1606 2075.0942,-1311.9726 2061.9084,-1300.2519\"/>\n<polygon fill=\"#000000\" stroke=\"#000000\" points=\"2064.1593,-1297.5699 2054.3599,-1293.5422 2059.5088,-1302.8018 2064.1593,-1297.5699\"/>\n</g>\n<!-- 107 -->\n<g id=\"node108\" class=\"node\">\n<title>107</title>\n<polygon fill=\"none\" stroke=\"#000000\" points=\"2191,-1293.5 2092,-1293.5 2092,-1240.5 2191,-1240.5 2191,-1293.5\"/>\n<text text-anchor=\"middle\" x=\"2141.5\" y=\"-1278.3\" font-family=\"Helvetica,sans-Serif\" font-size=\"14.00\" fill=\"#000000\">gini = 0.0</text>\n<text text-anchor=\"middle\" x=\"2141.5\" y=\"-1263.3\" font-family=\"Helvetica,sans-Serif\" font-size=\"14.00\" fill=\"#000000\">samples = 6</text>\n<text text-anchor=\"middle\" x=\"2141.5\" y=\"-1248.3\" font-family=\"Helvetica,sans-Serif\" font-size=\"14.00\" fill=\"#000000\">value = [6, 0]</text>\n</g>\n<!-- 105&#45;&gt;107 -->\n<g id=\"edge107\" class=\"edge\">\n<title>105&#45;&gt;107</title>\n<path fill=\"none\" stroke=\"#000000\" d=\"M2141.5,-1336.9465C2141.5,-1326.2621 2141.5,-1314.4254 2141.5,-1303.5742\"/>\n<polygon fill=\"#000000\" stroke=\"#000000\" points=\"2145.0001,-1303.5421 2141.5,-1293.5422 2138.0001,-1303.5422 2145.0001,-1303.5421\"/>\n</g>\n<!-- 109 -->\n<g id=\"node110\" class=\"node\">\n<title>109</title>\n<polygon fill=\"none\" stroke=\"#000000\" points=\"2649.5,-1821 2533.5,-1821 2533.5,-1753 2649.5,-1753 2649.5,-1821\"/>\n<text text-anchor=\"middle\" x=\"2591.5\" y=\"-1805.8\" font-family=\"Helvetica,sans-Serif\" font-size=\"14.00\" fill=\"#000000\">X[1] &lt;= 28.5</text>\n<text text-anchor=\"middle\" x=\"2591.5\" y=\"-1790.8\" font-family=\"Helvetica,sans-Serif\" font-size=\"14.00\" fill=\"#000000\">gini = 0.461</text>\n<text text-anchor=\"middle\" x=\"2591.5\" y=\"-1775.8\" font-family=\"Helvetica,sans-Serif\" font-size=\"14.00\" fill=\"#000000\">samples = 100</text>\n<text text-anchor=\"middle\" x=\"2591.5\" y=\"-1760.8\" font-family=\"Helvetica,sans-Serif\" font-size=\"14.00\" fill=\"#000000\">value = [64, 36]</text>\n</g>\n<!-- 108&#45;&gt;109 -->\n<g id=\"edge109\" class=\"edge\">\n<title>108&#45;&gt;109</title>\n<path fill=\"none\" stroke=\"#000000\" d=\"M2591.5,-1856.9465C2591.5,-1848.776 2591.5,-1839.9318 2591.5,-1831.3697\"/>\n<polygon fill=\"#000000\" stroke=\"#000000\" points=\"2595.0001,-1831.13 2591.5,-1821.13 2588.0001,-1831.13 2595.0001,-1831.13\"/>\n</g>\n<!-- 182 -->\n<g id=\"node183\" class=\"node\">\n<title>182</title>\n<polygon fill=\"none\" stroke=\"#000000\" points=\"3017.5,-1821 2893.5,-1821 2893.5,-1753 3017.5,-1753 3017.5,-1821\"/>\n<text text-anchor=\"middle\" x=\"2955.5\" y=\"-1805.8\" font-family=\"Helvetica,sans-Serif\" font-size=\"14.00\" fill=\"#000000\">X[1] &lt;= 3.5</text>\n<text text-anchor=\"middle\" x=\"2955.5\" y=\"-1790.8\" font-family=\"Helvetica,sans-Serif\" font-size=\"14.00\" fill=\"#000000\">gini = 0.227</text>\n<text text-anchor=\"middle\" x=\"2955.5\" y=\"-1775.8\" font-family=\"Helvetica,sans-Serif\" font-size=\"14.00\" fill=\"#000000\">samples = 360</text>\n<text text-anchor=\"middle\" x=\"2955.5\" y=\"-1760.8\" font-family=\"Helvetica,sans-Serif\" font-size=\"14.00\" fill=\"#000000\">value = [313, 47]</text>\n</g>\n<!-- 108&#45;&gt;182 -->\n<g id=\"edge182\" class=\"edge\">\n<title>108&#45;&gt;182</title>\n<path fill=\"none\" stroke=\"#000000\" d=\"M2653.6602,-1873.2399C2717.4297,-1855.0201 2816.534,-1826.7046 2883.6323,-1807.5336\"/>\n<polygon fill=\"#000000\" stroke=\"#000000\" points=\"2884.6381,-1810.8864 2893.2917,-1804.7738 2882.715,-1804.1557 2884.6381,-1810.8864\"/>\n</g>\n<!-- 110 -->\n<g id=\"node111\" class=\"node\">\n<title>110</title>\n<polygon fill=\"none\" stroke=\"#000000\" points=\"2583,-1717 2464,-1717 2464,-1649 2583,-1649 2583,-1717\"/>\n<text text-anchor=\"middle\" x=\"2523.5\" y=\"-1701.8\" font-family=\"Helvetica,sans-Serif\" font-size=\"14.00\" fill=\"#000000\">X[4] &lt;= 199.535</text>\n<text text-anchor=\"middle\" x=\"2523.5\" y=\"-1686.8\" font-family=\"Helvetica,sans-Serif\" font-size=\"14.00\" fill=\"#000000\">gini = 0.475</text>\n<text text-anchor=\"middle\" x=\"2523.5\" y=\"-1671.8\" font-family=\"Helvetica,sans-Serif\" font-size=\"14.00\" fill=\"#000000\">samples = 18</text>\n<text text-anchor=\"middle\" x=\"2523.5\" y=\"-1656.8\" font-family=\"Helvetica,sans-Serif\" font-size=\"14.00\" fill=\"#000000\">value = [7, 11]</text>\n</g>\n<!-- 109&#45;&gt;110 -->\n<g id=\"edge110\" class=\"edge\">\n<title>109&#45;&gt;110</title>\n<path fill=\"none\" stroke=\"#000000\" d=\"M2569.2343,-1752.9465C2563.5398,-1744.2373 2557.3448,-1734.7626 2551.4062,-1725.6801\"/>\n<polygon fill=\"#000000\" stroke=\"#000000\" points=\"2554.2177,-1723.5843 2545.8158,-1717.13 2548.3589,-1727.4151 2554.2177,-1723.5843\"/>\n</g>\n<!-- 125 -->\n<g id=\"node126\" class=\"node\">\n<title>125</title>\n<polygon fill=\"none\" stroke=\"#000000\" points=\"2717.5,-1717 2601.5,-1717 2601.5,-1649 2717.5,-1649 2717.5,-1717\"/>\n<text text-anchor=\"middle\" x=\"2659.5\" y=\"-1701.8\" font-family=\"Helvetica,sans-Serif\" font-size=\"14.00\" fill=\"#000000\">X[1] &lt;= 60.5</text>\n<text text-anchor=\"middle\" x=\"2659.5\" y=\"-1686.8\" font-family=\"Helvetica,sans-Serif\" font-size=\"14.00\" fill=\"#000000\">gini = 0.424</text>\n<text text-anchor=\"middle\" x=\"2659.5\" y=\"-1671.8\" font-family=\"Helvetica,sans-Serif\" font-size=\"14.00\" fill=\"#000000\">samples = 82</text>\n<text text-anchor=\"middle\" x=\"2659.5\" y=\"-1656.8\" font-family=\"Helvetica,sans-Serif\" font-size=\"14.00\" fill=\"#000000\">value = [57, 25]</text>\n</g>\n<!-- 109&#45;&gt;125 -->\n<g id=\"edge125\" class=\"edge\">\n<title>109&#45;&gt;125</title>\n<path fill=\"none\" stroke=\"#000000\" d=\"M2613.7657,-1752.9465C2619.4602,-1744.2373 2625.6552,-1734.7626 2631.5938,-1725.6801\"/>\n<polygon fill=\"#000000\" stroke=\"#000000\" points=\"2634.6411,-1727.4151 2637.1842,-1717.13 2628.7823,-1723.5843 2634.6411,-1727.4151\"/>\n</g>\n<!-- 111 -->\n<g id=\"node112\" class=\"node\">\n<title>111</title>\n<polygon fill=\"none\" stroke=\"#000000\" points=\"2461,-1613 2354,-1613 2354,-1545 2461,-1545 2461,-1613\"/>\n<text text-anchor=\"middle\" x=\"2407.5\" y=\"-1597.8\" font-family=\"Helvetica,sans-Serif\" font-size=\"14.00\" fill=\"#000000\">X[3] &lt;= 1.5</text>\n<text text-anchor=\"middle\" x=\"2407.5\" y=\"-1582.8\" font-family=\"Helvetica,sans-Serif\" font-size=\"14.00\" fill=\"#000000\">gini = 0.43</text>\n<text text-anchor=\"middle\" x=\"2407.5\" y=\"-1567.8\" font-family=\"Helvetica,sans-Serif\" font-size=\"14.00\" fill=\"#000000\">samples = 16</text>\n<text text-anchor=\"middle\" x=\"2407.5\" y=\"-1552.8\" font-family=\"Helvetica,sans-Serif\" font-size=\"14.00\" fill=\"#000000\">value = [5, 11]</text>\n</g>\n<!-- 110&#45;&gt;111 -->\n<g id=\"edge111\" class=\"edge\">\n<title>110&#45;&gt;111</title>\n<path fill=\"none\" stroke=\"#000000\" d=\"M2485.5173,-1648.9465C2475.2023,-1639.6986 2463.9246,-1629.5876 2453.2301,-1619.9994\"/>\n<polygon fill=\"#000000\" stroke=\"#000000\" points=\"2455.3502,-1617.1995 2445.5681,-1613.13 2450.6774,-1622.4115 2455.3502,-1617.1995\"/>\n</g>\n<!-- 124 -->\n<g id=\"node125\" class=\"node\">\n<title>124</title>\n<polygon fill=\"none\" stroke=\"#000000\" points=\"2578,-1605.5 2479,-1605.5 2479,-1552.5 2578,-1552.5 2578,-1605.5\"/>\n<text text-anchor=\"middle\" x=\"2528.5\" y=\"-1590.3\" font-family=\"Helvetica,sans-Serif\" font-size=\"14.00\" fill=\"#000000\">gini = 0.0</text>\n<text text-anchor=\"middle\" x=\"2528.5\" y=\"-1575.3\" font-family=\"Helvetica,sans-Serif\" font-size=\"14.00\" fill=\"#000000\">samples = 2</text>\n<text text-anchor=\"middle\" x=\"2528.5\" y=\"-1560.3\" font-family=\"Helvetica,sans-Serif\" font-size=\"14.00\" fill=\"#000000\">value = [2, 0]</text>\n</g>\n<!-- 110&#45;&gt;124 -->\n<g id=\"edge124\" class=\"edge\">\n<title>110&#45;&gt;124</title>\n<path fill=\"none\" stroke=\"#000000\" d=\"M2525.1372,-1648.9465C2525.6509,-1638.2621 2526.2199,-1626.4254 2526.7416,-1615.5742\"/>\n<polygon fill=\"#000000\" stroke=\"#000000\" points=\"2530.2396,-1615.6987 2527.2239,-1605.5422 2523.2477,-1615.3625 2530.2396,-1615.6987\"/>\n</g>\n<!-- 112 -->\n<g id=\"node113\" class=\"node\">\n<title>112</title>\n<polygon fill=\"none\" stroke=\"#000000\" points=\"2354.5,-1509 2250.5,-1509 2250.5,-1441 2354.5,-1441 2354.5,-1509\"/>\n<text text-anchor=\"middle\" x=\"2302.5\" y=\"-1493.8\" font-family=\"Helvetica,sans-Serif\" font-size=\"14.00\" fill=\"#000000\">X[1] &lt;= 21.0</text>\n<text text-anchor=\"middle\" x=\"2302.5\" y=\"-1478.8\" font-family=\"Helvetica,sans-Serif\" font-size=\"14.00\" fill=\"#000000\">gini = 0.473</text>\n<text text-anchor=\"middle\" x=\"2302.5\" y=\"-1463.8\" font-family=\"Helvetica,sans-Serif\" font-size=\"14.00\" fill=\"#000000\">samples = 13</text>\n<text text-anchor=\"middle\" x=\"2302.5\" y=\"-1448.8\" font-family=\"Helvetica,sans-Serif\" font-size=\"14.00\" fill=\"#000000\">value = [5, 8]</text>\n</g>\n<!-- 111&#45;&gt;112 -->\n<g id=\"edge112\" class=\"edge\">\n<title>111&#45;&gt;112</title>\n<path fill=\"none\" stroke=\"#000000\" d=\"M2373.1191,-1544.9465C2363.8729,-1535.7884 2353.7721,-1525.7838 2344.1757,-1516.2788\"/>\n<polygon fill=\"#000000\" stroke=\"#000000\" points=\"2346.526,-1513.6805 2336.9582,-1509.13 2341.6,-1518.6539 2346.526,-1513.6805\"/>\n</g>\n<!-- 123 -->\n<g id=\"node124\" class=\"node\">\n<title>123</title>\n<polygon fill=\"none\" stroke=\"#000000\" points=\"2472,-1501.5 2373,-1501.5 2373,-1448.5 2472,-1448.5 2472,-1501.5\"/>\n<text text-anchor=\"middle\" x=\"2422.5\" y=\"-1486.3\" font-family=\"Helvetica,sans-Serif\" font-size=\"14.00\" fill=\"#000000\">gini = 0.0</text>\n<text text-anchor=\"middle\" x=\"2422.5\" y=\"-1471.3\" font-family=\"Helvetica,sans-Serif\" font-size=\"14.00\" fill=\"#000000\">samples = 3</text>\n<text text-anchor=\"middle\" x=\"2422.5\" y=\"-1456.3\" font-family=\"Helvetica,sans-Serif\" font-size=\"14.00\" fill=\"#000000\">value = [0, 3]</text>\n</g>\n<!-- 111&#45;&gt;123 -->\n<g id=\"edge123\" class=\"edge\">\n<title>111&#45;&gt;123</title>\n<path fill=\"none\" stroke=\"#000000\" d=\"M2412.4116,-1544.9465C2413.9526,-1534.2621 2415.6598,-1522.4254 2417.2249,-1511.5742\"/>\n<polygon fill=\"#000000\" stroke=\"#000000\" points=\"2420.7083,-1511.9394 2418.6718,-1501.5422 2413.78,-1510.9401 2420.7083,-1511.9394\"/>\n</g>\n<!-- 113 -->\n<g id=\"node114\" class=\"node\">\n<title>113</title>\n<polygon fill=\"none\" stroke=\"#000000\" points=\"2308,-1397.5 2209,-1397.5 2209,-1344.5 2308,-1344.5 2308,-1397.5\"/>\n<text text-anchor=\"middle\" x=\"2258.5\" y=\"-1382.3\" font-family=\"Helvetica,sans-Serif\" font-size=\"14.00\" fill=\"#000000\">gini = 0.0</text>\n<text text-anchor=\"middle\" x=\"2258.5\" y=\"-1367.3\" font-family=\"Helvetica,sans-Serif\" font-size=\"14.00\" fill=\"#000000\">samples = 2</text>\n<text text-anchor=\"middle\" x=\"2258.5\" y=\"-1352.3\" font-family=\"Helvetica,sans-Serif\" font-size=\"14.00\" fill=\"#000000\">value = [2, 0]</text>\n</g>\n<!-- 112&#45;&gt;113 -->\n<g id=\"edge113\" class=\"edge\">\n<title>112&#45;&gt;113</title>\n<path fill=\"none\" stroke=\"#000000\" d=\"M2288.0928,-1440.9465C2283.4792,-1430.0418 2278.3579,-1417.9368 2273.6903,-1406.9043\"/>\n<polygon fill=\"#000000\" stroke=\"#000000\" points=\"2276.8492,-1405.3881 2269.7294,-1397.5422 2270.4024,-1408.1156 2276.8492,-1405.3881\"/>\n</g>\n<!-- 114 -->\n<g id=\"node115\" class=\"node\">\n<title>114</title>\n<polygon fill=\"none\" stroke=\"#000000\" points=\"2437,-1405 2326,-1405 2326,-1337 2437,-1337 2437,-1405\"/>\n<text text-anchor=\"middle\" x=\"2381.5\" y=\"-1389.8\" font-family=\"Helvetica,sans-Serif\" font-size=\"14.00\" fill=\"#000000\">X[4] &lt;= 77.965</text>\n<text text-anchor=\"middle\" x=\"2381.5\" y=\"-1374.8\" font-family=\"Helvetica,sans-Serif\" font-size=\"14.00\" fill=\"#000000\">gini = 0.397</text>\n<text text-anchor=\"middle\" x=\"2381.5\" y=\"-1359.8\" font-family=\"Helvetica,sans-Serif\" font-size=\"14.00\" fill=\"#000000\">samples = 11</text>\n<text text-anchor=\"middle\" x=\"2381.5\" y=\"-1344.8\" font-family=\"Helvetica,sans-Serif\" font-size=\"14.00\" fill=\"#000000\">value = [3, 8]</text>\n</g>\n<!-- 112&#45;&gt;114 -->\n<g id=\"edge114\" class=\"edge\">\n<title>112&#45;&gt;114</title>\n<path fill=\"none\" stroke=\"#000000\" d=\"M2328.3676,-1440.9465C2335.1196,-1432.0578 2342.4774,-1422.3716 2349.5059,-1413.1188\"/>\n<polygon fill=\"#000000\" stroke=\"#000000\" points=\"2352.3125,-1415.2102 2355.5743,-1405.13 2346.7383,-1410.976 2352.3125,-1415.2102\"/>\n</g>\n<!-- 115 -->\n<g id=\"node116\" class=\"node\">\n<title>115</title>\n<polygon fill=\"none\" stroke=\"#000000\" points=\"2308,-1301 2209,-1301 2209,-1233 2308,-1233 2308,-1301\"/>\n<text text-anchor=\"middle\" x=\"2258.5\" y=\"-1285.8\" font-family=\"Helvetica,sans-Serif\" font-size=\"14.00\" fill=\"#000000\">X[1] &lt;= 27.5</text>\n<text text-anchor=\"middle\" x=\"2258.5\" y=\"-1270.8\" font-family=\"Helvetica,sans-Serif\" font-size=\"14.00\" fill=\"#000000\">gini = 0.219</text>\n<text text-anchor=\"middle\" x=\"2258.5\" y=\"-1255.8\" font-family=\"Helvetica,sans-Serif\" font-size=\"14.00\" fill=\"#000000\">samples = 8</text>\n<text text-anchor=\"middle\" x=\"2258.5\" y=\"-1240.8\" font-family=\"Helvetica,sans-Serif\" font-size=\"14.00\" fill=\"#000000\">value = [1, 7]</text>\n</g>\n<!-- 114&#45;&gt;115 -->\n<g id=\"edge115\" class=\"edge\">\n<title>114&#45;&gt;115</title>\n<path fill=\"none\" stroke=\"#000000\" d=\"M2341.2252,-1336.9465C2330.1816,-1327.6088 2318.0972,-1317.3911 2306.6596,-1307.7203\"/>\n<polygon fill=\"#000000\" stroke=\"#000000\" points=\"2308.7614,-1304.914 2298.8653,-1301.13 2304.2417,-1310.2594 2308.7614,-1304.914\"/>\n</g>\n<!-- 120 -->\n<g id=\"node121\" class=\"node\">\n<title>120</title>\n<polygon fill=\"none\" stroke=\"#000000\" points=\"2437,-1301 2326,-1301 2326,-1233 2437,-1233 2437,-1301\"/>\n<text text-anchor=\"middle\" x=\"2381.5\" y=\"-1285.8\" font-family=\"Helvetica,sans-Serif\" font-size=\"14.00\" fill=\"#000000\">X[4] &lt;= 86.625</text>\n<text text-anchor=\"middle\" x=\"2381.5\" y=\"-1270.8\" font-family=\"Helvetica,sans-Serif\" font-size=\"14.00\" fill=\"#000000\">gini = 0.444</text>\n<text text-anchor=\"middle\" x=\"2381.5\" y=\"-1255.8\" font-family=\"Helvetica,sans-Serif\" font-size=\"14.00\" fill=\"#000000\">samples = 3</text>\n<text text-anchor=\"middle\" x=\"2381.5\" y=\"-1240.8\" font-family=\"Helvetica,sans-Serif\" font-size=\"14.00\" fill=\"#000000\">value = [2, 1]</text>\n</g>\n<!-- 114&#45;&gt;120 -->\n<g id=\"edge120\" class=\"edge\">\n<title>114&#45;&gt;120</title>\n<path fill=\"none\" stroke=\"#000000\" d=\"M2381.5,-1336.9465C2381.5,-1328.776 2381.5,-1319.9318 2381.5,-1311.3697\"/>\n<polygon fill=\"#000000\" stroke=\"#000000\" points=\"2385.0001,-1311.13 2381.5,-1301.13 2378.0001,-1311.13 2385.0001,-1311.13\"/>\n</g>\n<!-- 116 -->\n<g id=\"node117\" class=\"node\">\n<title>116</title>\n<polygon fill=\"none\" stroke=\"#000000\" points=\"2191,-1189.5 2092,-1189.5 2092,-1136.5 2191,-1136.5 2191,-1189.5\"/>\n<text text-anchor=\"middle\" x=\"2141.5\" y=\"-1174.3\" font-family=\"Helvetica,sans-Serif\" font-size=\"14.00\" fill=\"#000000\">gini = 0.0</text>\n<text text-anchor=\"middle\" x=\"2141.5\" y=\"-1159.3\" font-family=\"Helvetica,sans-Serif\" font-size=\"14.00\" fill=\"#000000\">samples = 5</text>\n<text text-anchor=\"middle\" x=\"2141.5\" y=\"-1144.3\" font-family=\"Helvetica,sans-Serif\" font-size=\"14.00\" fill=\"#000000\">value = [0, 5]</text>\n</g>\n<!-- 115&#45;&gt;116 -->\n<g id=\"edge116\" class=\"edge\">\n<title>115&#45;&gt;116</title>\n<path fill=\"none\" stroke=\"#000000\" d=\"M2220.1898,-1232.9465C2206.9306,-1221.1606 2192.0942,-1207.9726 2178.9084,-1196.2519\"/>\n<polygon fill=\"#000000\" stroke=\"#000000\" points=\"2181.1593,-1193.5699 2171.3599,-1189.5422 2176.5088,-1198.8018 2181.1593,-1193.5699\"/>\n</g>\n<!-- 117 -->\n<g id=\"node118\" class=\"node\">\n<title>117</title>\n<polygon fill=\"none\" stroke=\"#000000\" points=\"2308,-1197 2209,-1197 2209,-1129 2308,-1129 2308,-1197\"/>\n<text text-anchor=\"middle\" x=\"2258.5\" y=\"-1181.8\" font-family=\"Helvetica,sans-Serif\" font-size=\"14.00\" fill=\"#000000\">X[4] &lt;= 41.3</text>\n<text text-anchor=\"middle\" x=\"2258.5\" y=\"-1166.8\" font-family=\"Helvetica,sans-Serif\" font-size=\"14.00\" fill=\"#000000\">gini = 0.444</text>\n<text text-anchor=\"middle\" x=\"2258.5\" y=\"-1151.8\" font-family=\"Helvetica,sans-Serif\" font-size=\"14.00\" fill=\"#000000\">samples = 3</text>\n<text text-anchor=\"middle\" x=\"2258.5\" y=\"-1136.8\" font-family=\"Helvetica,sans-Serif\" font-size=\"14.00\" fill=\"#000000\">value = [1, 2]</text>\n</g>\n<!-- 115&#45;&gt;117 -->\n<g id=\"edge117\" class=\"edge\">\n<title>115&#45;&gt;117</title>\n<path fill=\"none\" stroke=\"#000000\" d=\"M2258.5,-1232.9465C2258.5,-1224.776 2258.5,-1215.9318 2258.5,-1207.3697\"/>\n<polygon fill=\"#000000\" stroke=\"#000000\" points=\"2262.0001,-1207.13 2258.5,-1197.13 2255.0001,-1207.13 2262.0001,-1207.13\"/>\n</g>\n<!-- 118 -->\n<g id=\"node119\" class=\"node\">\n<title>118</title>\n<polygon fill=\"none\" stroke=\"#000000\" points=\"2301,-1085.5 2202,-1085.5 2202,-1032.5 2301,-1032.5 2301,-1085.5\"/>\n<text text-anchor=\"middle\" x=\"2251.5\" y=\"-1070.3\" font-family=\"Helvetica,sans-Serif\" font-size=\"14.00\" fill=\"#000000\">gini = 0.0</text>\n<text text-anchor=\"middle\" x=\"2251.5\" y=\"-1055.3\" font-family=\"Helvetica,sans-Serif\" font-size=\"14.00\" fill=\"#000000\">samples = 2</text>\n<text text-anchor=\"middle\" x=\"2251.5\" y=\"-1040.3\" font-family=\"Helvetica,sans-Serif\" font-size=\"14.00\" fill=\"#000000\">value = [0, 2]</text>\n</g>\n<!-- 117&#45;&gt;118 -->\n<g id=\"edge118\" class=\"edge\">\n<title>117&#45;&gt;118</title>\n<path fill=\"none\" stroke=\"#000000\" d=\"M2256.2079,-1128.9465C2255.4888,-1118.2621 2254.6921,-1106.4254 2253.9617,-1095.5742\"/>\n<polygon fill=\"#000000\" stroke=\"#000000\" points=\"2257.4502,-1095.2845 2253.2865,-1085.5422 2250.466,-1095.7547 2257.4502,-1095.2845\"/>\n</g>\n<!-- 119 -->\n<g id=\"node120\" class=\"node\">\n<title>119</title>\n<polygon fill=\"none\" stroke=\"#000000\" points=\"2418,-1085.5 2319,-1085.5 2319,-1032.5 2418,-1032.5 2418,-1085.5\"/>\n<text text-anchor=\"middle\" x=\"2368.5\" y=\"-1070.3\" font-family=\"Helvetica,sans-Serif\" font-size=\"14.00\" fill=\"#000000\">gini = 0.0</text>\n<text text-anchor=\"middle\" x=\"2368.5\" y=\"-1055.3\" font-family=\"Helvetica,sans-Serif\" font-size=\"14.00\" fill=\"#000000\">samples = 1</text>\n<text text-anchor=\"middle\" x=\"2368.5\" y=\"-1040.3\" font-family=\"Helvetica,sans-Serif\" font-size=\"14.00\" fill=\"#000000\">value = [1, 0]</text>\n</g>\n<!-- 117&#45;&gt;119 -->\n<g id=\"edge119\" class=\"edge\">\n<title>117&#45;&gt;119</title>\n<path fill=\"none\" stroke=\"#000000\" d=\"M2294.5181,-1128.9465C2306.8675,-1117.2707 2320.6722,-1104.219 2332.9817,-1092.5809\"/>\n<polygon fill=\"#000000\" stroke=\"#000000\" points=\"2335.5646,-1094.9556 2340.4266,-1085.5422 2330.7555,-1089.869 2335.5646,-1094.9556\"/>\n</g>\n<!-- 121 -->\n<g id=\"node122\" class=\"node\">\n<title>121</title>\n<polygon fill=\"none\" stroke=\"#000000\" points=\"2425,-1189.5 2326,-1189.5 2326,-1136.5 2425,-1136.5 2425,-1189.5\"/>\n<text text-anchor=\"middle\" x=\"2375.5\" y=\"-1174.3\" font-family=\"Helvetica,sans-Serif\" font-size=\"14.00\" fill=\"#000000\">gini = 0.0</text>\n<text text-anchor=\"middle\" x=\"2375.5\" y=\"-1159.3\" font-family=\"Helvetica,sans-Serif\" font-size=\"14.00\" fill=\"#000000\">samples = 2</text>\n<text text-anchor=\"middle\" x=\"2375.5\" y=\"-1144.3\" font-family=\"Helvetica,sans-Serif\" font-size=\"14.00\" fill=\"#000000\">value = [2, 0]</text>\n</g>\n<!-- 120&#45;&gt;121 -->\n<g id=\"edge121\" class=\"edge\">\n<title>120&#45;&gt;121</title>\n<path fill=\"none\" stroke=\"#000000\" d=\"M2379.5354,-1232.9465C2378.919,-1222.2621 2378.2361,-1210.4254 2377.6101,-1199.5742\"/>\n<polygon fill=\"#000000\" stroke=\"#000000\" points=\"2381.1015,-1199.3239 2377.0313,-1189.5422 2374.1131,-1199.7272 2381.1015,-1199.3239\"/>\n</g>\n<!-- 122 -->\n<g id=\"node123\" class=\"node\">\n<title>122</title>\n<polygon fill=\"none\" stroke=\"#000000\" points=\"2542,-1189.5 2443,-1189.5 2443,-1136.5 2542,-1136.5 2542,-1189.5\"/>\n<text text-anchor=\"middle\" x=\"2492.5\" y=\"-1174.3\" font-family=\"Helvetica,sans-Serif\" font-size=\"14.00\" fill=\"#000000\">gini = 0.0</text>\n<text text-anchor=\"middle\" x=\"2492.5\" y=\"-1159.3\" font-family=\"Helvetica,sans-Serif\" font-size=\"14.00\" fill=\"#000000\">samples = 1</text>\n<text text-anchor=\"middle\" x=\"2492.5\" y=\"-1144.3\" font-family=\"Helvetica,sans-Serif\" font-size=\"14.00\" fill=\"#000000\">value = [0, 1]</text>\n</g>\n<!-- 120&#45;&gt;122 -->\n<g id=\"edge122\" class=\"edge\">\n<title>120&#45;&gt;122</title>\n<path fill=\"none\" stroke=\"#000000\" d=\"M2417.8456,-1232.9465C2430.3072,-1221.2707 2444.2374,-1208.219 2456.6588,-1196.5809\"/>\n<polygon fill=\"#000000\" stroke=\"#000000\" points=\"2459.2669,-1198.9335 2464.1713,-1189.5422 2454.4809,-1193.8253 2459.2669,-1198.9335\"/>\n</g>\n<!-- 126 -->\n<g id=\"node127\" class=\"node\">\n<title>126</title>\n<polygon fill=\"none\" stroke=\"#000000\" points=\"2715.5,-1613 2599.5,-1613 2599.5,-1545 2715.5,-1545 2715.5,-1613\"/>\n<text text-anchor=\"middle\" x=\"2657.5\" y=\"-1597.8\" font-family=\"Helvetica,sans-Serif\" font-size=\"14.00\" fill=\"#000000\">X[4] &lt;= 26.144</text>\n<text text-anchor=\"middle\" x=\"2657.5\" y=\"-1582.8\" font-family=\"Helvetica,sans-Serif\" font-size=\"14.00\" fill=\"#000000\">gini = 0.447</text>\n<text text-anchor=\"middle\" x=\"2657.5\" y=\"-1567.8\" font-family=\"Helvetica,sans-Serif\" font-size=\"14.00\" fill=\"#000000\">samples = 74</text>\n<text text-anchor=\"middle\" x=\"2657.5\" y=\"-1552.8\" font-family=\"Helvetica,sans-Serif\" font-size=\"14.00\" fill=\"#000000\">value = [49, 25]</text>\n</g>\n<!-- 125&#45;&gt;126 -->\n<g id=\"edge126\" class=\"edge\">\n<title>125&#45;&gt;126</title>\n<path fill=\"none\" stroke=\"#000000\" d=\"M2658.8451,-1648.9465C2658.688,-1640.776 2658.5179,-1631.9318 2658.3533,-1623.3697\"/>\n<polygon fill=\"#000000\" stroke=\"#000000\" points=\"2661.8481,-1623.0608 2658.1563,-1613.13 2654.8494,-1623.1955 2661.8481,-1623.0608\"/>\n</g>\n<!-- 181 -->\n<g id=\"node182\" class=\"node\">\n<title>181</title>\n<polygon fill=\"none\" stroke=\"#000000\" points=\"2833,-1605.5 2734,-1605.5 2734,-1552.5 2833,-1552.5 2833,-1605.5\"/>\n<text text-anchor=\"middle\" x=\"2783.5\" y=\"-1590.3\" font-family=\"Helvetica,sans-Serif\" font-size=\"14.00\" fill=\"#000000\">gini = 0.0</text>\n<text text-anchor=\"middle\" x=\"2783.5\" y=\"-1575.3\" font-family=\"Helvetica,sans-Serif\" font-size=\"14.00\" fill=\"#000000\">samples = 8</text>\n<text text-anchor=\"middle\" x=\"2783.5\" y=\"-1560.3\" font-family=\"Helvetica,sans-Serif\" font-size=\"14.00\" fill=\"#000000\">value = [8, 0]</text>\n</g>\n<!-- 125&#45;&gt;181 -->\n<g id=\"edge181\" class=\"edge\">\n<title>125&#45;&gt;181</title>\n<path fill=\"none\" stroke=\"#000000\" d=\"M2700.1022,-1648.9465C2714.1547,-1637.1606 2729.8788,-1623.9726 2743.8535,-1612.2519\"/>\n<polygon fill=\"#000000\" stroke=\"#000000\" points=\"2746.4408,-1614.65 2751.8536,-1605.5422 2741.9425,-1609.2866 2746.4408,-1614.65\"/>\n</g>\n<!-- 127 -->\n<g id=\"node128\" class=\"node\">\n<title>127</title>\n<polygon fill=\"none\" stroke=\"#000000\" points=\"2686,-1501.5 2587,-1501.5 2587,-1448.5 2686,-1448.5 2686,-1501.5\"/>\n<text text-anchor=\"middle\" x=\"2636.5\" y=\"-1486.3\" font-family=\"Helvetica,sans-Serif\" font-size=\"14.00\" fill=\"#000000\">gini = 0.0</text>\n<text text-anchor=\"middle\" x=\"2636.5\" y=\"-1471.3\" font-family=\"Helvetica,sans-Serif\" font-size=\"14.00\" fill=\"#000000\">samples = 8</text>\n<text text-anchor=\"middle\" x=\"2636.5\" y=\"-1456.3\" font-family=\"Helvetica,sans-Serif\" font-size=\"14.00\" fill=\"#000000\">value = [8, 0]</text>\n</g>\n<!-- 126&#45;&gt;127 -->\n<g id=\"edge127\" class=\"edge\">\n<title>126&#45;&gt;127</title>\n<path fill=\"none\" stroke=\"#000000\" d=\"M2650.6238,-1544.9465C2648.4664,-1534.2621 2646.0763,-1522.4254 2643.8852,-1511.5742\"/>\n<polygon fill=\"#000000\" stroke=\"#000000\" points=\"2647.2696,-1510.6516 2641.8595,-1501.5422 2640.4081,-1512.0371 2647.2696,-1510.6516\"/>\n</g>\n<!-- 128 -->\n<g id=\"node129\" class=\"node\">\n<title>128</title>\n<polygon fill=\"none\" stroke=\"#000000\" points=\"2820.5,-1509 2704.5,-1509 2704.5,-1441 2820.5,-1441 2820.5,-1509\"/>\n<text text-anchor=\"middle\" x=\"2762.5\" y=\"-1493.8\" font-family=\"Helvetica,sans-Serif\" font-size=\"14.00\" fill=\"#000000\">X[4] &lt;= 27.135</text>\n<text text-anchor=\"middle\" x=\"2762.5\" y=\"-1478.8\" font-family=\"Helvetica,sans-Serif\" font-size=\"14.00\" fill=\"#000000\">gini = 0.471</text>\n<text text-anchor=\"middle\" x=\"2762.5\" y=\"-1463.8\" font-family=\"Helvetica,sans-Serif\" font-size=\"14.00\" fill=\"#000000\">samples = 66</text>\n<text text-anchor=\"middle\" x=\"2762.5\" y=\"-1448.8\" font-family=\"Helvetica,sans-Serif\" font-size=\"14.00\" fill=\"#000000\">value = [41, 25]</text>\n</g>\n<!-- 126&#45;&gt;128 -->\n<g id=\"edge128\" class=\"edge\">\n<title>126&#45;&gt;128</title>\n<path fill=\"none\" stroke=\"#000000\" d=\"M2691.8809,-1544.9465C2701.1271,-1535.7884 2711.2279,-1525.7838 2720.8243,-1516.2788\"/>\n<polygon fill=\"#000000\" stroke=\"#000000\" points=\"2723.4,-1518.6539 2728.0418,-1509.13 2718.474,-1513.6805 2723.4,-1518.6539\"/>\n</g>\n<!-- 129 -->\n<g id=\"node130\" class=\"node\">\n<title>129</title>\n<polygon fill=\"none\" stroke=\"#000000\" points=\"2777.5,-1405 2673.5,-1405 2673.5,-1337 2777.5,-1337 2777.5,-1405\"/>\n<text text-anchor=\"middle\" x=\"2725.5\" y=\"-1389.8\" font-family=\"Helvetica,sans-Serif\" font-size=\"14.00\" fill=\"#000000\">X[1] &lt;= 53.5</text>\n<text text-anchor=\"middle\" x=\"2725.5\" y=\"-1374.8\" font-family=\"Helvetica,sans-Serif\" font-size=\"14.00\" fill=\"#000000\">gini = 0.444</text>\n<text text-anchor=\"middle\" x=\"2725.5\" y=\"-1359.8\" font-family=\"Helvetica,sans-Serif\" font-size=\"14.00\" fill=\"#000000\">samples = 12</text>\n<text text-anchor=\"middle\" x=\"2725.5\" y=\"-1344.8\" font-family=\"Helvetica,sans-Serif\" font-size=\"14.00\" fill=\"#000000\">value = [4, 8]</text>\n</g>\n<!-- 128&#45;&gt;129 -->\n<g id=\"edge129\" class=\"edge\">\n<title>128&#45;&gt;129</title>\n<path fill=\"none\" stroke=\"#000000\" d=\"M2750.3848,-1440.9465C2747.4141,-1432.5965 2744.1931,-1423.5427 2741.0847,-1414.8056\"/>\n<polygon fill=\"#000000\" stroke=\"#000000\" points=\"2744.2919,-1413.3783 2737.6424,-1405.13 2737.6968,-1415.7247 2744.2919,-1413.3783\"/>\n</g>\n<!-- 136 -->\n<g id=\"node137\" class=\"node\">\n<title>136</title>\n<polygon fill=\"none\" stroke=\"#000000\" points=\"2911.5,-1405 2795.5,-1405 2795.5,-1337 2911.5,-1337 2911.5,-1405\"/>\n<text text-anchor=\"middle\" x=\"2853.5\" y=\"-1389.8\" font-family=\"Helvetica,sans-Serif\" font-size=\"14.00\" fill=\"#000000\">X[4] &lt;= 29.1</text>\n<text text-anchor=\"middle\" x=\"2853.5\" y=\"-1374.8\" font-family=\"Helvetica,sans-Serif\" font-size=\"14.00\" fill=\"#000000\">gini = 0.431</text>\n<text text-anchor=\"middle\" x=\"2853.5\" y=\"-1359.8\" font-family=\"Helvetica,sans-Serif\" font-size=\"14.00\" fill=\"#000000\">samples = 54</text>\n<text text-anchor=\"middle\" x=\"2853.5\" y=\"-1344.8\" font-family=\"Helvetica,sans-Serif\" font-size=\"14.00\" fill=\"#000000\">value = [37, 17]</text>\n</g>\n<!-- 128&#45;&gt;136 -->\n<g id=\"edge136\" class=\"edge\">\n<title>128&#45;&gt;136</title>\n<path fill=\"none\" stroke=\"#000000\" d=\"M2792.2968,-1440.9465C2800.153,-1431.968 2808.7212,-1422.1758 2816.8913,-1412.8385\"/>\n<polygon fill=\"#000000\" stroke=\"#000000\" points=\"2819.6852,-1414.9606 2823.6363,-1405.13 2814.4171,-1410.351 2819.6852,-1414.9606\"/>\n</g>\n<!-- 130 -->\n<g id=\"node131\" class=\"node\">\n<title>130</title>\n<polygon fill=\"none\" stroke=\"#000000\" points=\"2663.5,-1301 2559.5,-1301 2559.5,-1233 2663.5,-1233 2663.5,-1301\"/>\n<text text-anchor=\"middle\" x=\"2611.5\" y=\"-1285.8\" font-family=\"Helvetica,sans-Serif\" font-size=\"14.00\" fill=\"#000000\">X[5] &lt;= 2.5</text>\n<text text-anchor=\"middle\" x=\"2611.5\" y=\"-1270.8\" font-family=\"Helvetica,sans-Serif\" font-size=\"14.00\" fill=\"#000000\">gini = 0.32</text>\n<text text-anchor=\"middle\" x=\"2611.5\" y=\"-1255.8\" font-family=\"Helvetica,sans-Serif\" font-size=\"14.00\" fill=\"#000000\">samples = 10</text>\n<text text-anchor=\"middle\" x=\"2611.5\" y=\"-1240.8\" font-family=\"Helvetica,sans-Serif\" font-size=\"14.00\" fill=\"#000000\">value = [2, 8]</text>\n</g>\n<!-- 129&#45;&gt;130 -->\n<g id=\"edge130\" class=\"edge\">\n<title>129&#45;&gt;130</title>\n<path fill=\"none\" stroke=\"#000000\" d=\"M2688.1721,-1336.9465C2678.035,-1327.6986 2666.9517,-1317.5876 2656.4417,-1307.9994\"/>\n<polygon fill=\"#000000\" stroke=\"#000000\" points=\"2658.6583,-1305.284 2648.9117,-1301.13 2653.9405,-1310.4553 2658.6583,-1305.284\"/>\n</g>\n<!-- 135 -->\n<g id=\"node136\" class=\"node\">\n<title>135</title>\n<polygon fill=\"none\" stroke=\"#000000\" points=\"2781,-1293.5 2682,-1293.5 2682,-1240.5 2781,-1240.5 2781,-1293.5\"/>\n<text text-anchor=\"middle\" x=\"2731.5\" y=\"-1278.3\" font-family=\"Helvetica,sans-Serif\" font-size=\"14.00\" fill=\"#000000\">gini = 0.0</text>\n<text text-anchor=\"middle\" x=\"2731.5\" y=\"-1263.3\" font-family=\"Helvetica,sans-Serif\" font-size=\"14.00\" fill=\"#000000\">samples = 2</text>\n<text text-anchor=\"middle\" x=\"2731.5\" y=\"-1248.3\" font-family=\"Helvetica,sans-Serif\" font-size=\"14.00\" fill=\"#000000\">value = [2, 0]</text>\n</g>\n<!-- 129&#45;&gt;135 -->\n<g id=\"edge135\" class=\"edge\">\n<title>129&#45;&gt;135</title>\n<path fill=\"none\" stroke=\"#000000\" d=\"M2727.4646,-1336.9465C2728.081,-1326.2621 2728.7639,-1314.4254 2729.3899,-1303.5742\"/>\n<polygon fill=\"#000000\" stroke=\"#000000\" points=\"2732.8869,-1303.7272 2729.9687,-1293.5422 2725.8985,-1303.3239 2732.8869,-1303.7272\"/>\n</g>\n<!-- 131 -->\n<g id=\"node132\" class=\"node\">\n<title>131</title>\n<polygon fill=\"none\" stroke=\"#000000\" points=\"2663,-1197 2560,-1197 2560,-1129 2663,-1129 2663,-1197\"/>\n<text text-anchor=\"middle\" x=\"2611.5\" y=\"-1181.8\" font-family=\"Helvetica,sans-Serif\" font-size=\"14.00\" fill=\"#000000\">X[1] &lt;= 31.85</text>\n<text text-anchor=\"middle\" x=\"2611.5\" y=\"-1166.8\" font-family=\"Helvetica,sans-Serif\" font-size=\"14.00\" fill=\"#000000\">gini = 0.198</text>\n<text text-anchor=\"middle\" x=\"2611.5\" y=\"-1151.8\" font-family=\"Helvetica,sans-Serif\" font-size=\"14.00\" fill=\"#000000\">samples = 9</text>\n<text text-anchor=\"middle\" x=\"2611.5\" y=\"-1136.8\" font-family=\"Helvetica,sans-Serif\" font-size=\"14.00\" fill=\"#000000\">value = [1, 8]</text>\n</g>\n<!-- 130&#45;&gt;131 -->\n<g id=\"edge131\" class=\"edge\">\n<title>130&#45;&gt;131</title>\n<path fill=\"none\" stroke=\"#000000\" d=\"M2611.5,-1232.9465C2611.5,-1224.776 2611.5,-1215.9318 2611.5,-1207.3697\"/>\n<polygon fill=\"#000000\" stroke=\"#000000\" points=\"2615.0001,-1207.13 2611.5,-1197.13 2608.0001,-1207.13 2615.0001,-1207.13\"/>\n</g>\n<!-- 134 -->\n<g id=\"node135\" class=\"node\">\n<title>134</title>\n<polygon fill=\"none\" stroke=\"#000000\" points=\"2780,-1189.5 2681,-1189.5 2681,-1136.5 2780,-1136.5 2780,-1189.5\"/>\n<text text-anchor=\"middle\" x=\"2730.5\" y=\"-1174.3\" font-family=\"Helvetica,sans-Serif\" font-size=\"14.00\" fill=\"#000000\">gini = 0.0</text>\n<text text-anchor=\"middle\" x=\"2730.5\" y=\"-1159.3\" font-family=\"Helvetica,sans-Serif\" font-size=\"14.00\" fill=\"#000000\">samples = 1</text>\n<text text-anchor=\"middle\" x=\"2730.5\" y=\"-1144.3\" font-family=\"Helvetica,sans-Serif\" font-size=\"14.00\" fill=\"#000000\">value = [1, 0]</text>\n</g>\n<!-- 130&#45;&gt;134 -->\n<g id=\"edge134\" class=\"edge\">\n<title>130&#45;&gt;134</title>\n<path fill=\"none\" stroke=\"#000000\" d=\"M2650.4651,-1232.9465C2663.9509,-1221.1606 2679.0409,-1207.9726 2692.4521,-1196.2519\"/>\n<polygon fill=\"#000000\" stroke=\"#000000\" points=\"2694.9031,-1198.7582 2700.1296,-1189.5422 2690.2967,-1193.4874 2694.9031,-1198.7582\"/>\n</g>\n<!-- 132 -->\n<g id=\"node133\" class=\"node\">\n<title>132</title>\n<polygon fill=\"none\" stroke=\"#000000\" points=\"2544,-1085.5 2445,-1085.5 2445,-1032.5 2544,-1032.5 2544,-1085.5\"/>\n<text text-anchor=\"middle\" x=\"2494.5\" y=\"-1070.3\" font-family=\"Helvetica,sans-Serif\" font-size=\"14.00\" fill=\"#000000\">gini = 0.5</text>\n<text text-anchor=\"middle\" x=\"2494.5\" y=\"-1055.3\" font-family=\"Helvetica,sans-Serif\" font-size=\"14.00\" fill=\"#000000\">samples = 2</text>\n<text text-anchor=\"middle\" x=\"2494.5\" y=\"-1040.3\" font-family=\"Helvetica,sans-Serif\" font-size=\"14.00\" fill=\"#000000\">value = [1, 1]</text>\n</g>\n<!-- 131&#45;&gt;132 -->\n<g id=\"edge132\" class=\"edge\">\n<title>131&#45;&gt;132</title>\n<path fill=\"none\" stroke=\"#000000\" d=\"M2573.1898,-1128.9465C2559.9306,-1117.1606 2545.0942,-1103.9726 2531.9084,-1092.2519\"/>\n<polygon fill=\"#000000\" stroke=\"#000000\" points=\"2534.1593,-1089.5699 2524.3599,-1085.5422 2529.5088,-1094.8018 2534.1593,-1089.5699\"/>\n</g>\n<!-- 133 -->\n<g id=\"node134\" class=\"node\">\n<title>133</title>\n<polygon fill=\"none\" stroke=\"#000000\" points=\"2661,-1085.5 2562,-1085.5 2562,-1032.5 2661,-1032.5 2661,-1085.5\"/>\n<text text-anchor=\"middle\" x=\"2611.5\" y=\"-1070.3\" font-family=\"Helvetica,sans-Serif\" font-size=\"14.00\" fill=\"#000000\">gini = 0.0</text>\n<text text-anchor=\"middle\" x=\"2611.5\" y=\"-1055.3\" font-family=\"Helvetica,sans-Serif\" font-size=\"14.00\" fill=\"#000000\">samples = 7</text>\n<text text-anchor=\"middle\" x=\"2611.5\" y=\"-1040.3\" font-family=\"Helvetica,sans-Serif\" font-size=\"14.00\" fill=\"#000000\">value = [0, 7]</text>\n</g>\n<!-- 131&#45;&gt;133 -->\n<g id=\"edge133\" class=\"edge\">\n<title>131&#45;&gt;133</title>\n<path fill=\"none\" stroke=\"#000000\" d=\"M2611.5,-1128.9465C2611.5,-1118.2621 2611.5,-1106.4254 2611.5,-1095.5742\"/>\n<polygon fill=\"#000000\" stroke=\"#000000\" points=\"2615.0001,-1095.5421 2611.5,-1085.5422 2608.0001,-1095.5422 2615.0001,-1095.5421\"/>\n</g>\n<!-- 137 -->\n<g id=\"node138\" class=\"node\">\n<title>137</title>\n<polygon fill=\"none\" stroke=\"#000000\" points=\"2898,-1293.5 2799,-1293.5 2799,-1240.5 2898,-1240.5 2898,-1293.5\"/>\n<text text-anchor=\"middle\" x=\"2848.5\" y=\"-1278.3\" font-family=\"Helvetica,sans-Serif\" font-size=\"14.00\" fill=\"#000000\">gini = 0.0</text>\n<text text-anchor=\"middle\" x=\"2848.5\" y=\"-1263.3\" font-family=\"Helvetica,sans-Serif\" font-size=\"14.00\" fill=\"#000000\">samples = 5</text>\n<text text-anchor=\"middle\" x=\"2848.5\" y=\"-1248.3\" font-family=\"Helvetica,sans-Serif\" font-size=\"14.00\" fill=\"#000000\">value = [5, 0]</text>\n</g>\n<!-- 136&#45;&gt;137 -->\n<g id=\"edge137\" class=\"edge\">\n<title>136&#45;&gt;137</title>\n<path fill=\"none\" stroke=\"#000000\" d=\"M2851.8628,-1336.9465C2851.3491,-1326.2621 2850.7801,-1314.4254 2850.2584,-1303.5742\"/>\n<polygon fill=\"#000000\" stroke=\"#000000\" points=\"2853.7523,-1303.3625 2849.7761,-1293.5422 2846.7604,-1303.6987 2853.7523,-1303.3625\"/>\n</g>\n<!-- 138 -->\n<g id=\"node139\" class=\"node\">\n<title>138</title>\n<polygon fill=\"none\" stroke=\"#000000\" points=\"3032.5,-1301 2916.5,-1301 2916.5,-1233 3032.5,-1233 3032.5,-1301\"/>\n<text text-anchor=\"middle\" x=\"2974.5\" y=\"-1285.8\" font-family=\"Helvetica,sans-Serif\" font-size=\"14.00\" fill=\"#000000\">X[4] &lt;= 37.0</text>\n<text text-anchor=\"middle\" x=\"2974.5\" y=\"-1270.8\" font-family=\"Helvetica,sans-Serif\" font-size=\"14.00\" fill=\"#000000\">gini = 0.453</text>\n<text text-anchor=\"middle\" x=\"2974.5\" y=\"-1255.8\" font-family=\"Helvetica,sans-Serif\" font-size=\"14.00\" fill=\"#000000\">samples = 49</text>\n<text text-anchor=\"middle\" x=\"2974.5\" y=\"-1240.8\" font-family=\"Helvetica,sans-Serif\" font-size=\"14.00\" fill=\"#000000\">value = [32, 17]</text>\n</g>\n<!-- 136&#45;&gt;138 -->\n<g id=\"edge138\" class=\"edge\">\n<title>136&#45;&gt;138</title>\n<path fill=\"none\" stroke=\"#000000\" d=\"M2893.1199,-1336.9465C2903.984,-1327.6088 2915.8718,-1317.3911 2927.1235,-1307.7203\"/>\n<polygon fill=\"#000000\" stroke=\"#000000\" points=\"2929.4887,-1310.3026 2934.7911,-1301.13 2924.9259,-1304.994 2929.4887,-1310.3026\"/>\n</g>\n<!-- 139 -->\n<g id=\"node140\" class=\"node\">\n<title>139</title>\n<polygon fill=\"none\" stroke=\"#000000\" points=\"2903.5,-1197 2799.5,-1197 2799.5,-1129 2903.5,-1129 2903.5,-1197\"/>\n<text text-anchor=\"middle\" x=\"2851.5\" y=\"-1181.8\" font-family=\"Helvetica,sans-Serif\" font-size=\"14.00\" fill=\"#000000\">X[5] &lt;= 2.5</text>\n<text text-anchor=\"middle\" x=\"2851.5\" y=\"-1166.8\" font-family=\"Helvetica,sans-Serif\" font-size=\"14.00\" fill=\"#000000\">gini = 0.498</text>\n<text text-anchor=\"middle\" x=\"2851.5\" y=\"-1151.8\" font-family=\"Helvetica,sans-Serif\" font-size=\"14.00\" fill=\"#000000\">samples = 15</text>\n<text text-anchor=\"middle\" x=\"2851.5\" y=\"-1136.8\" font-family=\"Helvetica,sans-Serif\" font-size=\"14.00\" fill=\"#000000\">value = [7, 8]</text>\n</g>\n<!-- 138&#45;&gt;139 -->\n<g id=\"edge139\" class=\"edge\">\n<title>138&#45;&gt;139</title>\n<path fill=\"none\" stroke=\"#000000\" d=\"M2934.2252,-1232.9465C2923.1816,-1223.6088 2911.0972,-1213.3911 2899.6596,-1203.7203\"/>\n<polygon fill=\"#000000\" stroke=\"#000000\" points=\"2901.7614,-1200.914 2891.8653,-1197.13 2897.2417,-1206.2594 2901.7614,-1200.914\"/>\n</g>\n<!-- 154 -->\n<g id=\"node155\" class=\"node\">\n<title>154</title>\n<polygon fill=\"none\" stroke=\"#000000\" points=\"3029,-1197 2922,-1197 2922,-1129 3029,-1129 3029,-1197\"/>\n<text text-anchor=\"middle\" x=\"2975.5\" y=\"-1181.8\" font-family=\"Helvetica,sans-Serif\" font-size=\"14.00\" fill=\"#000000\">X[3] &lt;= 0.5</text>\n<text text-anchor=\"middle\" x=\"2975.5\" y=\"-1166.8\" font-family=\"Helvetica,sans-Serif\" font-size=\"14.00\" fill=\"#000000\">gini = 0.389</text>\n<text text-anchor=\"middle\" x=\"2975.5\" y=\"-1151.8\" font-family=\"Helvetica,sans-Serif\" font-size=\"14.00\" fill=\"#000000\">samples = 34</text>\n<text text-anchor=\"middle\" x=\"2975.5\" y=\"-1136.8\" font-family=\"Helvetica,sans-Serif\" font-size=\"14.00\" fill=\"#000000\">value = [25, 9]</text>\n</g>\n<!-- 138&#45;&gt;154 -->\n<g id=\"edge154\" class=\"edge\">\n<title>138&#45;&gt;154</title>\n<path fill=\"none\" stroke=\"#000000\" d=\"M2974.8274,-1232.9465C2974.906,-1224.776 2974.991,-1215.9318 2975.0734,-1207.3697\"/>\n<polygon fill=\"#000000\" stroke=\"#000000\" points=\"2978.5754,-1207.1632 2975.1718,-1197.13 2971.5757,-1207.0958 2978.5754,-1207.1632\"/>\n</g>\n<!-- 140 -->\n<g id=\"node141\" class=\"node\">\n<title>140</title>\n<polygon fill=\"none\" stroke=\"#000000\" points=\"2783.5,-1093 2679.5,-1093 2679.5,-1025 2783.5,-1025 2783.5,-1093\"/>\n<text text-anchor=\"middle\" x=\"2731.5\" y=\"-1077.8\" font-family=\"Helvetica,sans-Serif\" font-size=\"14.00\" fill=\"#000000\">X[1] &lt;= 43.5</text>\n<text text-anchor=\"middle\" x=\"2731.5\" y=\"-1062.8\" font-family=\"Helvetica,sans-Serif\" font-size=\"14.00\" fill=\"#000000\">gini = 0.486</text>\n<text text-anchor=\"middle\" x=\"2731.5\" y=\"-1047.8\" font-family=\"Helvetica,sans-Serif\" font-size=\"14.00\" fill=\"#000000\">samples = 12</text>\n<text text-anchor=\"middle\" x=\"2731.5\" y=\"-1032.8\" font-family=\"Helvetica,sans-Serif\" font-size=\"14.00\" fill=\"#000000\">value = [7, 5]</text>\n</g>\n<!-- 139&#45;&gt;140 -->\n<g id=\"edge140\" class=\"edge\">\n<title>139&#45;&gt;140</title>\n<path fill=\"none\" stroke=\"#000000\" d=\"M2812.2075,-1128.9465C2801.4333,-1119.6088 2789.6436,-1109.3911 2778.485,-1099.7203\"/>\n<polygon fill=\"#000000\" stroke=\"#000000\" points=\"2780.7299,-1097.0344 2770.8808,-1093.13 2776.1454,-1102.3243 2780.7299,-1097.0344\"/>\n</g>\n<!-- 153 -->\n<g id=\"node154\" class=\"node\">\n<title>153</title>\n<polygon fill=\"none\" stroke=\"#000000\" points=\"2901,-1085.5 2802,-1085.5 2802,-1032.5 2901,-1032.5 2901,-1085.5\"/>\n<text text-anchor=\"middle\" x=\"2851.5\" y=\"-1070.3\" font-family=\"Helvetica,sans-Serif\" font-size=\"14.00\" fill=\"#000000\">gini = 0.0</text>\n<text text-anchor=\"middle\" x=\"2851.5\" y=\"-1055.3\" font-family=\"Helvetica,sans-Serif\" font-size=\"14.00\" fill=\"#000000\">samples = 3</text>\n<text text-anchor=\"middle\" x=\"2851.5\" y=\"-1040.3\" font-family=\"Helvetica,sans-Serif\" font-size=\"14.00\" fill=\"#000000\">value = [0, 3]</text>\n</g>\n<!-- 139&#45;&gt;153 -->\n<g id=\"edge153\" class=\"edge\">\n<title>139&#45;&gt;153</title>\n<path fill=\"none\" stroke=\"#000000\" d=\"M2851.5,-1128.9465C2851.5,-1118.2621 2851.5,-1106.4254 2851.5,-1095.5742\"/>\n<polygon fill=\"#000000\" stroke=\"#000000\" points=\"2855.0001,-1095.5421 2851.5,-1085.5422 2848.0001,-1095.5422 2855.0001,-1095.5421\"/>\n</g>\n<!-- 141 -->\n<g id=\"node142\" class=\"node\">\n<title>141</title>\n<polygon fill=\"none\" stroke=\"#000000\" points=\"2664.5,-989 2560.5,-989 2560.5,-921 2664.5,-921 2664.5,-989\"/>\n<text text-anchor=\"middle\" x=\"2612.5\" y=\"-973.8\" font-family=\"Helvetica,sans-Serif\" font-size=\"14.00\" fill=\"#000000\">X[3] &lt;= 0.5</text>\n<text text-anchor=\"middle\" x=\"2612.5\" y=\"-958.8\" font-family=\"Helvetica,sans-Serif\" font-size=\"14.00\" fill=\"#000000\">gini = 0.5</text>\n<text text-anchor=\"middle\" x=\"2612.5\" y=\"-943.8\" font-family=\"Helvetica,sans-Serif\" font-size=\"14.00\" fill=\"#000000\">samples = 10</text>\n<text text-anchor=\"middle\" x=\"2612.5\" y=\"-928.8\" font-family=\"Helvetica,sans-Serif\" font-size=\"14.00\" fill=\"#000000\">value = [5, 5]</text>\n</g>\n<!-- 140&#45;&gt;141 -->\n<g id=\"edge141\" class=\"edge\">\n<title>140&#45;&gt;141</title>\n<path fill=\"none\" stroke=\"#000000\" d=\"M2692.5349,-1024.9465C2681.8505,-1015.6088 2670.1591,-1005.3911 2659.0934,-995.7203\"/>\n<polygon fill=\"#000000\" stroke=\"#000000\" points=\"2661.3855,-993.0752 2651.5526,-989.13 2656.7791,-998.346 2661.3855,-993.0752\"/>\n</g>\n<!-- 152 -->\n<g id=\"node153\" class=\"node\">\n<title>152</title>\n<polygon fill=\"none\" stroke=\"#000000\" points=\"2782,-981.5 2683,-981.5 2683,-928.5 2782,-928.5 2782,-981.5\"/>\n<text text-anchor=\"middle\" x=\"2732.5\" y=\"-966.3\" font-family=\"Helvetica,sans-Serif\" font-size=\"14.00\" fill=\"#000000\">gini = 0.0</text>\n<text text-anchor=\"middle\" x=\"2732.5\" y=\"-951.3\" font-family=\"Helvetica,sans-Serif\" font-size=\"14.00\" fill=\"#000000\">samples = 2</text>\n<text text-anchor=\"middle\" x=\"2732.5\" y=\"-936.3\" font-family=\"Helvetica,sans-Serif\" font-size=\"14.00\" fill=\"#000000\">value = [2, 0]</text>\n</g>\n<!-- 140&#45;&gt;152 -->\n<g id=\"edge152\" class=\"edge\">\n<title>140&#45;&gt;152</title>\n<path fill=\"none\" stroke=\"#000000\" d=\"M2731.8274,-1024.9465C2731.9302,-1014.2621 2732.044,-1002.4254 2732.1483,-991.5742\"/>\n<polygon fill=\"#000000\" stroke=\"#000000\" points=\"2735.6484,-991.5754 2732.2448,-981.5422 2728.6487,-991.508 2735.6484,-991.5754\"/>\n</g>\n<!-- 142 -->\n<g id=\"node143\" class=\"node\">\n<title>142</title>\n<polygon fill=\"none\" stroke=\"#000000\" points=\"2546,-885 2443,-885 2443,-817 2546,-817 2546,-885\"/>\n<text text-anchor=\"middle\" x=\"2494.5\" y=\"-869.8\" font-family=\"Helvetica,sans-Serif\" font-size=\"14.00\" fill=\"#000000\">X[1] &lt;= 29.35</text>\n<text text-anchor=\"middle\" x=\"2494.5\" y=\"-854.8\" font-family=\"Helvetica,sans-Serif\" font-size=\"14.00\" fill=\"#000000\">gini = 0.494</text>\n<text text-anchor=\"middle\" x=\"2494.5\" y=\"-839.8\" font-family=\"Helvetica,sans-Serif\" font-size=\"14.00\" fill=\"#000000\">samples = 9</text>\n<text text-anchor=\"middle\" x=\"2494.5\" y=\"-824.8\" font-family=\"Helvetica,sans-Serif\" font-size=\"14.00\" fill=\"#000000\">value = [4, 5]</text>\n</g>\n<!-- 141&#45;&gt;142 -->\n<g id=\"edge142\" class=\"edge\">\n<title>141&#45;&gt;142</title>\n<path fill=\"none\" stroke=\"#000000\" d=\"M2573.8624,-920.9465C2563.3696,-911.6986 2551.8974,-901.5876 2541.0186,-891.9994\"/>\n<polygon fill=\"#000000\" stroke=\"#000000\" points=\"2543.0407,-889.1163 2533.2244,-885.13 2538.4123,-894.3678 2543.0407,-889.1163\"/>\n</g>\n<!-- 151 -->\n<g id=\"node152\" class=\"node\">\n<title>151</title>\n<polygon fill=\"none\" stroke=\"#000000\" points=\"2663,-877.5 2564,-877.5 2564,-824.5 2663,-824.5 2663,-877.5\"/>\n<text text-anchor=\"middle\" x=\"2613.5\" y=\"-862.3\" font-family=\"Helvetica,sans-Serif\" font-size=\"14.00\" fill=\"#000000\">gini = 0.0</text>\n<text text-anchor=\"middle\" x=\"2613.5\" y=\"-847.3\" font-family=\"Helvetica,sans-Serif\" font-size=\"14.00\" fill=\"#000000\">samples = 1</text>\n<text text-anchor=\"middle\" x=\"2613.5\" y=\"-832.3\" font-family=\"Helvetica,sans-Serif\" font-size=\"14.00\" fill=\"#000000\">value = [1, 0]</text>\n</g>\n<!-- 141&#45;&gt;151 -->\n<g id=\"edge151\" class=\"edge\">\n<title>141&#45;&gt;151</title>\n<path fill=\"none\" stroke=\"#000000\" d=\"M2612.8274,-920.9465C2612.9302,-910.2621 2613.044,-898.4254 2613.1483,-887.5742\"/>\n<polygon fill=\"#000000\" stroke=\"#000000\" points=\"2616.6484,-887.5754 2613.2448,-877.5422 2609.6487,-887.508 2616.6484,-887.5754\"/>\n</g>\n<!-- 143 -->\n<g id=\"node144\" class=\"node\">\n<title>143</title>\n<polygon fill=\"none\" stroke=\"#000000\" points=\"2422,-773.5 2323,-773.5 2323,-720.5 2422,-720.5 2422,-773.5\"/>\n<text text-anchor=\"middle\" x=\"2372.5\" y=\"-758.3\" font-family=\"Helvetica,sans-Serif\" font-size=\"14.00\" fill=\"#000000\">gini = 0.0</text>\n<text text-anchor=\"middle\" x=\"2372.5\" y=\"-743.3\" font-family=\"Helvetica,sans-Serif\" font-size=\"14.00\" fill=\"#000000\">samples = 1</text>\n<text text-anchor=\"middle\" x=\"2372.5\" y=\"-728.3\" font-family=\"Helvetica,sans-Serif\" font-size=\"14.00\" fill=\"#000000\">value = [1, 0]</text>\n</g>\n<!-- 142&#45;&gt;143 -->\n<g id=\"edge143\" class=\"edge\">\n<title>142&#45;&gt;143</title>\n<path fill=\"none\" stroke=\"#000000\" d=\"M2454.5526,-816.9465C2440.7268,-805.1606 2425.2564,-791.9726 2411.5071,-780.2519\"/>\n<polygon fill=\"#000000\" stroke=\"#000000\" points=\"2413.5168,-777.366 2403.636,-773.5422 2408.9756,-782.6931 2413.5168,-777.366\"/>\n</g>\n<!-- 144 -->\n<g id=\"node145\" class=\"node\">\n<title>144</title>\n<polygon fill=\"none\" stroke=\"#000000\" points=\"2551,-781 2440,-781 2440,-713 2551,-713 2551,-781\"/>\n<text text-anchor=\"middle\" x=\"2495.5\" y=\"-765.8\" font-family=\"Helvetica,sans-Serif\" font-size=\"14.00\" fill=\"#000000\">X[4] &lt;= 30.598</text>\n<text text-anchor=\"middle\" x=\"2495.5\" y=\"-750.8\" font-family=\"Helvetica,sans-Serif\" font-size=\"14.00\" fill=\"#000000\">gini = 0.469</text>\n<text text-anchor=\"middle\" x=\"2495.5\" y=\"-735.8\" font-family=\"Helvetica,sans-Serif\" font-size=\"14.00\" fill=\"#000000\">samples = 8</text>\n<text text-anchor=\"middle\" x=\"2495.5\" y=\"-720.8\" font-family=\"Helvetica,sans-Serif\" font-size=\"14.00\" fill=\"#000000\">value = [3, 5]</text>\n</g>\n<!-- 142&#45;&gt;144 -->\n<g id=\"edge144\" class=\"edge\">\n<title>142&#45;&gt;144</title>\n<path fill=\"none\" stroke=\"#000000\" d=\"M2494.8274,-816.9465C2494.906,-808.776 2494.991,-799.9318 2495.0734,-791.3697\"/>\n<polygon fill=\"#000000\" stroke=\"#000000\" points=\"2498.5754,-791.1632 2495.1718,-781.13 2491.5757,-791.0958 2498.5754,-791.1632\"/>\n</g>\n<!-- 145 -->\n<g id=\"node146\" class=\"node\">\n<title>145</title>\n<polygon fill=\"none\" stroke=\"#000000\" points=\"2431,-669.5 2332,-669.5 2332,-616.5 2431,-616.5 2431,-669.5\"/>\n<text text-anchor=\"middle\" x=\"2381.5\" y=\"-654.3\" font-family=\"Helvetica,sans-Serif\" font-size=\"14.00\" fill=\"#000000\">gini = 0.0</text>\n<text text-anchor=\"middle\" x=\"2381.5\" y=\"-639.3\" font-family=\"Helvetica,sans-Serif\" font-size=\"14.00\" fill=\"#000000\">samples = 3</text>\n<text text-anchor=\"middle\" x=\"2381.5\" y=\"-624.3\" font-family=\"Helvetica,sans-Serif\" font-size=\"14.00\" fill=\"#000000\">value = [0, 3]</text>\n</g>\n<!-- 144&#45;&gt;145 -->\n<g id=\"edge145\" class=\"edge\">\n<title>144&#45;&gt;145</title>\n<path fill=\"none\" stroke=\"#000000\" d=\"M2458.1721,-712.9465C2445.3737,-701.2707 2431.067,-688.219 2418.3099,-676.5809\"/>\n<polygon fill=\"#000000\" stroke=\"#000000\" points=\"2420.3409,-673.6961 2410.5943,-669.5422 2415.6231,-678.8675 2420.3409,-673.6961\"/>\n</g>\n<!-- 146 -->\n<g id=\"node147\" class=\"node\">\n<title>146</title>\n<polygon fill=\"none\" stroke=\"#000000\" points=\"2552,-677 2449,-677 2449,-609 2552,-609 2552,-677\"/>\n<text text-anchor=\"middle\" x=\"2500.5\" y=\"-661.8\" font-family=\"Helvetica,sans-Serif\" font-size=\"14.00\" fill=\"#000000\">X[1] &lt;= 34.85</text>\n<text text-anchor=\"middle\" x=\"2500.5\" y=\"-646.8\" font-family=\"Helvetica,sans-Serif\" font-size=\"14.00\" fill=\"#000000\">gini = 0.48</text>\n<text text-anchor=\"middle\" x=\"2500.5\" y=\"-631.8\" font-family=\"Helvetica,sans-Serif\" font-size=\"14.00\" fill=\"#000000\">samples = 5</text>\n<text text-anchor=\"middle\" x=\"2500.5\" y=\"-616.8\" font-family=\"Helvetica,sans-Serif\" font-size=\"14.00\" fill=\"#000000\">value = [3, 2]</text>\n</g>\n<!-- 144&#45;&gt;146 -->\n<g id=\"edge146\" class=\"edge\">\n<title>144&#45;&gt;146</title>\n<path fill=\"none\" stroke=\"#000000\" d=\"M2497.1372,-712.9465C2497.53,-704.776 2497.9552,-695.9318 2498.3668,-687.3697\"/>\n<polygon fill=\"#000000\" stroke=\"#000000\" points=\"2501.8748,-687.2866 2498.8591,-677.13 2494.8829,-686.9504 2501.8748,-687.2866\"/>\n</g>\n<!-- 147 -->\n<g id=\"node148\" class=\"node\">\n<title>147</title>\n<polygon fill=\"none\" stroke=\"#000000\" points=\"2493,-573 2390,-573 2390,-505 2493,-505 2493,-573\"/>\n<text text-anchor=\"middle\" x=\"2441.5\" y=\"-557.8\" font-family=\"Helvetica,sans-Serif\" font-size=\"14.00\" fill=\"#000000\">X[4] &lt;= 35.25</text>\n<text text-anchor=\"middle\" x=\"2441.5\" y=\"-542.8\" font-family=\"Helvetica,sans-Serif\" font-size=\"14.00\" fill=\"#000000\">gini = 0.375</text>\n<text text-anchor=\"middle\" x=\"2441.5\" y=\"-527.8\" font-family=\"Helvetica,sans-Serif\" font-size=\"14.00\" fill=\"#000000\">samples = 4</text>\n<text text-anchor=\"middle\" x=\"2441.5\" y=\"-512.8\" font-family=\"Helvetica,sans-Serif\" font-size=\"14.00\" fill=\"#000000\">value = [3, 1]</text>\n</g>\n<!-- 146&#45;&gt;147 -->\n<g id=\"edge147\" class=\"edge\">\n<title>146&#45;&gt;147</title>\n<path fill=\"none\" stroke=\"#000000\" d=\"M2481.1812,-608.9465C2476.2913,-600.3271 2470.9761,-590.9579 2465.8722,-581.9611\"/>\n<polygon fill=\"#000000\" stroke=\"#000000\" points=\"2468.8408,-580.1008 2460.8622,-573.13 2462.7524,-583.5549 2468.8408,-580.1008\"/>\n</g>\n<!-- 150 -->\n<g id=\"node151\" class=\"node\">\n<title>150</title>\n<polygon fill=\"none\" stroke=\"#000000\" points=\"2610,-565.5 2511,-565.5 2511,-512.5 2610,-512.5 2610,-565.5\"/>\n<text text-anchor=\"middle\" x=\"2560.5\" y=\"-550.3\" font-family=\"Helvetica,sans-Serif\" font-size=\"14.00\" fill=\"#000000\">gini = 0.0</text>\n<text text-anchor=\"middle\" x=\"2560.5\" y=\"-535.3\" font-family=\"Helvetica,sans-Serif\" font-size=\"14.00\" fill=\"#000000\">samples = 1</text>\n<text text-anchor=\"middle\" x=\"2560.5\" y=\"-520.3\" font-family=\"Helvetica,sans-Serif\" font-size=\"14.00\" fill=\"#000000\">value = [0, 1]</text>\n</g>\n<!-- 146&#45;&gt;150 -->\n<g id=\"edge150\" class=\"edge\">\n<title>146&#45;&gt;150</title>\n<path fill=\"none\" stroke=\"#000000\" d=\"M2520.1462,-608.9465C2526.5645,-597.8215 2533.7035,-585.4473 2540.171,-574.237\"/>\n<polygon fill=\"#000000\" stroke=\"#000000\" points=\"2543.2216,-575.9531 2545.1872,-565.5422 2537.1583,-572.455 2543.2216,-575.9531\"/>\n</g>\n<!-- 148 -->\n<g id=\"node149\" class=\"node\">\n<title>148</title>\n<polygon fill=\"none\" stroke=\"#000000\" points=\"2433,-461.5 2334,-461.5 2334,-408.5 2433,-408.5 2433,-461.5\"/>\n<text text-anchor=\"middle\" x=\"2383.5\" y=\"-446.3\" font-family=\"Helvetica,sans-Serif\" font-size=\"14.00\" fill=\"#000000\">gini = 0.0</text>\n<text text-anchor=\"middle\" x=\"2383.5\" y=\"-431.3\" font-family=\"Helvetica,sans-Serif\" font-size=\"14.00\" fill=\"#000000\">samples = 3</text>\n<text text-anchor=\"middle\" x=\"2383.5\" y=\"-416.3\" font-family=\"Helvetica,sans-Serif\" font-size=\"14.00\" fill=\"#000000\">value = [3, 0]</text>\n</g>\n<!-- 147&#45;&gt;148 -->\n<g id=\"edge148\" class=\"edge\">\n<title>147&#45;&gt;148</title>\n<path fill=\"none\" stroke=\"#000000\" d=\"M2422.5086,-504.9465C2416.3657,-493.9316 2409.5399,-481.6922 2403.3373,-470.5703\"/>\n<polygon fill=\"#000000\" stroke=\"#000000\" points=\"2406.2299,-468.5711 2398.3024,-461.5422 2400.1163,-471.9806 2406.2299,-468.5711\"/>\n</g>\n<!-- 149 -->\n<g id=\"node150\" class=\"node\">\n<title>149</title>\n<polygon fill=\"none\" stroke=\"#000000\" points=\"2550,-461.5 2451,-461.5 2451,-408.5 2550,-408.5 2550,-461.5\"/>\n<text text-anchor=\"middle\" x=\"2500.5\" y=\"-446.3\" font-family=\"Helvetica,sans-Serif\" font-size=\"14.00\" fill=\"#000000\">gini = 0.0</text>\n<text text-anchor=\"middle\" x=\"2500.5\" y=\"-431.3\" font-family=\"Helvetica,sans-Serif\" font-size=\"14.00\" fill=\"#000000\">samples = 1</text>\n<text text-anchor=\"middle\" x=\"2500.5\" y=\"-416.3\" font-family=\"Helvetica,sans-Serif\" font-size=\"14.00\" fill=\"#000000\">value = [0, 1]</text>\n</g>\n<!-- 147&#45;&gt;149 -->\n<g id=\"edge149\" class=\"edge\">\n<title>147&#45;&gt;149</title>\n<path fill=\"none\" stroke=\"#000000\" d=\"M2460.8188,-504.9465C2467.0676,-493.9316 2474.0112,-481.6922 2480.3207,-470.5703\"/>\n<polygon fill=\"#000000\" stroke=\"#000000\" points=\"2483.5523,-471.967 2485.4424,-461.5422 2477.4638,-468.513 2483.5523,-471.967\"/>\n</g>\n<!-- 155 -->\n<g id=\"node156\" class=\"node\">\n<title>155</title>\n<polygon fill=\"none\" stroke=\"#000000\" points=\"3026,-1085.5 2919,-1085.5 2919,-1032.5 3026,-1032.5 3026,-1085.5\"/>\n<text text-anchor=\"middle\" x=\"2972.5\" y=\"-1070.3\" font-family=\"Helvetica,sans-Serif\" font-size=\"14.00\" fill=\"#000000\">gini = 0.0</text>\n<text text-anchor=\"middle\" x=\"2972.5\" y=\"-1055.3\" font-family=\"Helvetica,sans-Serif\" font-size=\"14.00\" fill=\"#000000\">samples = 11</text>\n<text text-anchor=\"middle\" x=\"2972.5\" y=\"-1040.3\" font-family=\"Helvetica,sans-Serif\" font-size=\"14.00\" fill=\"#000000\">value = [11, 0]</text>\n</g>\n<!-- 154&#45;&gt;155 -->\n<g id=\"edge155\" class=\"edge\">\n<title>154&#45;&gt;155</title>\n<path fill=\"none\" stroke=\"#000000\" d=\"M2974.5177,-1128.9465C2974.2095,-1118.2621 2973.868,-1106.4254 2973.555,-1095.5742\"/>\n<polygon fill=\"#000000\" stroke=\"#000000\" points=\"2977.0526,-1095.4371 2973.2656,-1085.5422 2970.0555,-1095.639 2977.0526,-1095.4371\"/>\n</g>\n<!-- 156 -->\n<g id=\"node157\" class=\"node\">\n<title>156</title>\n<polygon fill=\"none\" stroke=\"#000000\" points=\"3151,-1093 3044,-1093 3044,-1025 3151,-1025 3151,-1093\"/>\n<text text-anchor=\"middle\" x=\"3097.5\" y=\"-1077.8\" font-family=\"Helvetica,sans-Serif\" font-size=\"14.00\" fill=\"#000000\">X[1] &lt;= 49.5</text>\n<text text-anchor=\"middle\" x=\"3097.5\" y=\"-1062.8\" font-family=\"Helvetica,sans-Serif\" font-size=\"14.00\" fill=\"#000000\">gini = 0.476</text>\n<text text-anchor=\"middle\" x=\"3097.5\" y=\"-1047.8\" font-family=\"Helvetica,sans-Serif\" font-size=\"14.00\" fill=\"#000000\">samples = 23</text>\n<text text-anchor=\"middle\" x=\"3097.5\" y=\"-1032.8\" font-family=\"Helvetica,sans-Serif\" font-size=\"14.00\" fill=\"#000000\">value = [14, 9]</text>\n</g>\n<!-- 154&#45;&gt;156 -->\n<g id=\"edge156\" class=\"edge\">\n<title>154&#45;&gt;156</title>\n<path fill=\"none\" stroke=\"#000000\" d=\"M3015.4474,-1128.9465C3026.4012,-1119.6088 3038.3873,-1109.3911 3049.732,-1099.7203\"/>\n<polygon fill=\"#000000\" stroke=\"#000000\" points=\"3052.1233,-1102.2809 3057.4629,-1093.13 3047.5821,-1096.9538 3052.1233,-1102.2809\"/>\n</g>\n<!-- 157 -->\n<g id=\"node158\" class=\"node\">\n<title>157</title>\n<polygon fill=\"none\" stroke=\"#000000\" points=\"2925.5,-989 2821.5,-989 2821.5,-921 2925.5,-921 2925.5,-989\"/>\n<text text-anchor=\"middle\" x=\"2873.5\" y=\"-973.8\" font-family=\"Helvetica,sans-Serif\" font-size=\"14.00\" fill=\"#000000\">X[1] &lt;= 47.0</text>\n<text text-anchor=\"middle\" x=\"2873.5\" y=\"-958.8\" font-family=\"Helvetica,sans-Serif\" font-size=\"14.00\" fill=\"#000000\">gini = 0.5</text>\n<text text-anchor=\"middle\" x=\"2873.5\" y=\"-943.8\" font-family=\"Helvetica,sans-Serif\" font-size=\"14.00\" fill=\"#000000\">samples = 16</text>\n<text text-anchor=\"middle\" x=\"2873.5\" y=\"-928.8\" font-family=\"Helvetica,sans-Serif\" font-size=\"14.00\" fill=\"#000000\">value = [8, 8]</text>\n</g>\n<!-- 156&#45;&gt;157 -->\n<g id=\"edge157\" class=\"edge\">\n<title>156&#45;&gt;157</title>\n<path fill=\"none\" stroke=\"#000000\" d=\"M3043.6994,-1029.5769C3040.6002,-1028.0031 3037.518,-1026.4672 3034.5,-1025 3002.2215,-1009.3077 2965.5729,-993.2409 2935.4043,-980.4643\"/>\n<polygon fill=\"#000000\" stroke=\"#000000\" points=\"2936.425,-977.0963 2925.8508,-976.4363 2933.7055,-983.5465 2936.425,-977.0963\"/>\n</g>\n<!-- 178 -->\n<g id=\"node179\" class=\"node\">\n<title>178</title>\n<polygon fill=\"none\" stroke=\"#000000\" points=\"3147,-989 3048,-989 3048,-921 3147,-921 3147,-989\"/>\n<text text-anchor=\"middle\" x=\"3097.5\" y=\"-973.8\" font-family=\"Helvetica,sans-Serif\" font-size=\"14.00\" fill=\"#000000\">X[1] &lt;= 59.0</text>\n<text text-anchor=\"middle\" x=\"3097.5\" y=\"-958.8\" font-family=\"Helvetica,sans-Serif\" font-size=\"14.00\" fill=\"#000000\">gini = 0.245</text>\n<text text-anchor=\"middle\" x=\"3097.5\" y=\"-943.8\" font-family=\"Helvetica,sans-Serif\" font-size=\"14.00\" fill=\"#000000\">samples = 7</text>\n<text text-anchor=\"middle\" x=\"3097.5\" y=\"-928.8\" font-family=\"Helvetica,sans-Serif\" font-size=\"14.00\" fill=\"#000000\">value = [6, 1]</text>\n</g>\n<!-- 156&#45;&gt;178 -->\n<g id=\"edge178\" class=\"edge\">\n<title>156&#45;&gt;178</title>\n<path fill=\"none\" stroke=\"#000000\" d=\"M3097.5,-1024.9465C3097.5,-1016.776 3097.5,-1007.9318 3097.5,-999.3697\"/>\n<polygon fill=\"#000000\" stroke=\"#000000\" points=\"3101.0001,-999.13 3097.5,-989.13 3094.0001,-999.13 3101.0001,-999.13\"/>\n</g>\n<!-- 158 -->\n<g id=\"node159\" class=\"node\">\n<title>158</title>\n<polygon fill=\"none\" stroke=\"#000000\" points=\"2799.5,-885 2695.5,-885 2695.5,-817 2799.5,-817 2799.5,-885\"/>\n<text text-anchor=\"middle\" x=\"2747.5\" y=\"-869.8\" font-family=\"Helvetica,sans-Serif\" font-size=\"14.00\" fill=\"#000000\">X[1] &lt;= 43.0</text>\n<text text-anchor=\"middle\" x=\"2747.5\" y=\"-854.8\" font-family=\"Helvetica,sans-Serif\" font-size=\"14.00\" fill=\"#000000\">gini = 0.486</text>\n<text text-anchor=\"middle\" x=\"2747.5\" y=\"-839.8\" font-family=\"Helvetica,sans-Serif\" font-size=\"14.00\" fill=\"#000000\">samples = 12</text>\n<text text-anchor=\"middle\" x=\"2747.5\" y=\"-824.8\" font-family=\"Helvetica,sans-Serif\" font-size=\"14.00\" fill=\"#000000\">value = [7, 5]</text>\n</g>\n<!-- 157&#45;&gt;158 -->\n<g id=\"edge158\" class=\"edge\">\n<title>157&#45;&gt;158</title>\n<path fill=\"none\" stroke=\"#000000\" d=\"M2832.2429,-920.9465C2820.9299,-911.6088 2808.5508,-901.3911 2796.8342,-891.7203\"/>\n<polygon fill=\"#000000\" stroke=\"#000000\" points=\"2798.79,-888.7964 2788.8498,-885.13 2794.3341,-894.195 2798.79,-888.7964\"/>\n</g>\n<!-- 175 -->\n<g id=\"node176\" class=\"node\">\n<title>175</title>\n<polygon fill=\"none\" stroke=\"#000000\" points=\"2929,-885 2818,-885 2818,-817 2929,-817 2929,-885\"/>\n<text text-anchor=\"middle\" x=\"2873.5\" y=\"-869.8\" font-family=\"Helvetica,sans-Serif\" font-size=\"14.00\" fill=\"#000000\">X[4] &lt;= 99.994</text>\n<text text-anchor=\"middle\" x=\"2873.5\" y=\"-854.8\" font-family=\"Helvetica,sans-Serif\" font-size=\"14.00\" fill=\"#000000\">gini = 0.375</text>\n<text text-anchor=\"middle\" x=\"2873.5\" y=\"-839.8\" font-family=\"Helvetica,sans-Serif\" font-size=\"14.00\" fill=\"#000000\">samples = 4</text>\n<text text-anchor=\"middle\" x=\"2873.5\" y=\"-824.8\" font-family=\"Helvetica,sans-Serif\" font-size=\"14.00\" fill=\"#000000\">value = [1, 3]</text>\n</g>\n<!-- 157&#45;&gt;175 -->\n<g id=\"edge175\" class=\"edge\">\n<title>157&#45;&gt;175</title>\n<path fill=\"none\" stroke=\"#000000\" d=\"M2873.5,-920.9465C2873.5,-912.776 2873.5,-903.9318 2873.5,-895.3697\"/>\n<polygon fill=\"#000000\" stroke=\"#000000\" points=\"2877.0001,-895.13 2873.5,-885.13 2870.0001,-895.13 2877.0001,-895.13\"/>\n</g>\n<!-- 159 -->\n<g id=\"node160\" class=\"node\">\n<title>159</title>\n<polygon fill=\"none\" stroke=\"#000000\" points=\"2684,-781 2573,-781 2573,-713 2684,-713 2684,-781\"/>\n<text text-anchor=\"middle\" x=\"2628.5\" y=\"-765.8\" font-family=\"Helvetica,sans-Serif\" font-size=\"14.00\" fill=\"#000000\">X[4] &lt;= 52.277</text>\n<text text-anchor=\"middle\" x=\"2628.5\" y=\"-750.8\" font-family=\"Helvetica,sans-Serif\" font-size=\"14.00\" fill=\"#000000\">gini = 0.494</text>\n<text text-anchor=\"middle\" x=\"2628.5\" y=\"-735.8\" font-family=\"Helvetica,sans-Serif\" font-size=\"14.00\" fill=\"#000000\">samples = 9</text>\n<text text-anchor=\"middle\" x=\"2628.5\" y=\"-720.8\" font-family=\"Helvetica,sans-Serif\" font-size=\"14.00\" fill=\"#000000\">value = [4, 5]</text>\n</g>\n<!-- 158&#45;&gt;159 -->\n<g id=\"edge159\" class=\"edge\">\n<title>158&#45;&gt;159</title>\n<path fill=\"none\" stroke=\"#000000\" d=\"M2708.5349,-816.9465C2697.8505,-807.6088 2686.1591,-797.3911 2675.0934,-787.7203\"/>\n<polygon fill=\"#000000\" stroke=\"#000000\" points=\"2677.3855,-785.0752 2667.5526,-781.13 2672.7791,-790.346 2677.3855,-785.0752\"/>\n</g>\n<!-- 174 -->\n<g id=\"node175\" class=\"node\">\n<title>174</title>\n<polygon fill=\"none\" stroke=\"#000000\" points=\"2801,-773.5 2702,-773.5 2702,-720.5 2801,-720.5 2801,-773.5\"/>\n<text text-anchor=\"middle\" x=\"2751.5\" y=\"-758.3\" font-family=\"Helvetica,sans-Serif\" font-size=\"14.00\" fill=\"#000000\">gini = 0.0</text>\n<text text-anchor=\"middle\" x=\"2751.5\" y=\"-743.3\" font-family=\"Helvetica,sans-Serif\" font-size=\"14.00\" fill=\"#000000\">samples = 3</text>\n<text text-anchor=\"middle\" x=\"2751.5\" y=\"-728.3\" font-family=\"Helvetica,sans-Serif\" font-size=\"14.00\" fill=\"#000000\">value = [3, 0]</text>\n</g>\n<!-- 158&#45;&gt;174 -->\n<g id=\"edge174\" class=\"edge\">\n<title>158&#45;&gt;174</title>\n<path fill=\"none\" stroke=\"#000000\" d=\"M2748.8097,-816.9465C2749.2207,-806.2621 2749.6759,-794.4254 2750.0933,-783.5742\"/>\n<polygon fill=\"#000000\" stroke=\"#000000\" points=\"2753.5921,-783.6693 2750.4791,-773.5422 2746.5973,-783.4002 2753.5921,-783.6693\"/>\n</g>\n<!-- 160 -->\n<g id=\"node161\" class=\"node\">\n<title>160</title>\n<polygon fill=\"none\" stroke=\"#000000\" points=\"2676,-669.5 2577,-669.5 2577,-616.5 2676,-616.5 2676,-669.5\"/>\n<text text-anchor=\"middle\" x=\"2626.5\" y=\"-654.3\" font-family=\"Helvetica,sans-Serif\" font-size=\"14.00\" fill=\"#000000\">gini = 0.0</text>\n<text text-anchor=\"middle\" x=\"2626.5\" y=\"-639.3\" font-family=\"Helvetica,sans-Serif\" font-size=\"14.00\" fill=\"#000000\">samples = 1</text>\n<text text-anchor=\"middle\" x=\"2626.5\" y=\"-624.3\" font-family=\"Helvetica,sans-Serif\" font-size=\"14.00\" fill=\"#000000\">value = [1, 0]</text>\n</g>\n<!-- 159&#45;&gt;160 -->\n<g id=\"edge160\" class=\"edge\">\n<title>159&#45;&gt;160</title>\n<path fill=\"none\" stroke=\"#000000\" d=\"M2627.8451,-712.9465C2627.6397,-702.2621 2627.412,-690.4254 2627.2034,-679.5742\"/>\n<polygon fill=\"#000000\" stroke=\"#000000\" points=\"2630.7021,-679.473 2627.0104,-669.5422 2623.7034,-679.6076 2630.7021,-679.473\"/>\n</g>\n<!-- 161 -->\n<g id=\"node162\" class=\"node\">\n<title>161</title>\n<polygon fill=\"none\" stroke=\"#000000\" points=\"2805,-677 2694,-677 2694,-609 2805,-609 2805,-677\"/>\n<text text-anchor=\"middle\" x=\"2749.5\" y=\"-661.8\" font-family=\"Helvetica,sans-Serif\" font-size=\"14.00\" fill=\"#000000\">X[4] &lt;= 52.827</text>\n<text text-anchor=\"middle\" x=\"2749.5\" y=\"-646.8\" font-family=\"Helvetica,sans-Serif\" font-size=\"14.00\" fill=\"#000000\">gini = 0.469</text>\n<text text-anchor=\"middle\" x=\"2749.5\" y=\"-631.8\" font-family=\"Helvetica,sans-Serif\" font-size=\"14.00\" fill=\"#000000\">samples = 8</text>\n<text text-anchor=\"middle\" x=\"2749.5\" y=\"-616.8\" font-family=\"Helvetica,sans-Serif\" font-size=\"14.00\" fill=\"#000000\">value = [3, 5]</text>\n</g>\n<!-- 159&#45;&gt;161 -->\n<g id=\"edge161\" class=\"edge\">\n<title>159&#45;&gt;161</title>\n<path fill=\"none\" stroke=\"#000000\" d=\"M2668.1199,-712.9465C2678.984,-703.6088 2690.8718,-693.3911 2702.1235,-683.7203\"/>\n<polygon fill=\"#000000\" stroke=\"#000000\" points=\"2704.4887,-686.3026 2709.7911,-677.13 2699.9259,-680.994 2704.4887,-686.3026\"/>\n</g>\n<!-- 162 -->\n<g id=\"node163\" class=\"node\">\n<title>162</title>\n<polygon fill=\"none\" stroke=\"#000000\" points=\"2794,-565.5 2695,-565.5 2695,-512.5 2794,-512.5 2794,-565.5\"/>\n<text text-anchor=\"middle\" x=\"2744.5\" y=\"-550.3\" font-family=\"Helvetica,sans-Serif\" font-size=\"14.00\" fill=\"#000000\">gini = 0.0</text>\n<text text-anchor=\"middle\" x=\"2744.5\" y=\"-535.3\" font-family=\"Helvetica,sans-Serif\" font-size=\"14.00\" fill=\"#000000\">samples = 2</text>\n<text text-anchor=\"middle\" x=\"2744.5\" y=\"-520.3\" font-family=\"Helvetica,sans-Serif\" font-size=\"14.00\" fill=\"#000000\">value = [0, 2]</text>\n</g>\n<!-- 161&#45;&gt;162 -->\n<g id=\"edge162\" class=\"edge\">\n<title>161&#45;&gt;162</title>\n<path fill=\"none\" stroke=\"#000000\" d=\"M2747.8628,-608.9465C2747.3491,-598.2621 2746.7801,-586.4254 2746.2584,-575.5742\"/>\n<polygon fill=\"#000000\" stroke=\"#000000\" points=\"2749.7523,-575.3625 2745.7761,-565.5422 2742.7604,-575.6987 2749.7523,-575.3625\"/>\n</g>\n<!-- 163 -->\n<g id=\"node164\" class=\"node\">\n<title>163</title>\n<polygon fill=\"none\" stroke=\"#000000\" points=\"2915,-573 2812,-573 2812,-505 2915,-505 2915,-573\"/>\n<text text-anchor=\"middle\" x=\"2863.5\" y=\"-557.8\" font-family=\"Helvetica,sans-Serif\" font-size=\"14.00\" fill=\"#000000\">X[4] &lt;= 55.05</text>\n<text text-anchor=\"middle\" x=\"2863.5\" y=\"-542.8\" font-family=\"Helvetica,sans-Serif\" font-size=\"14.00\" fill=\"#000000\">gini = 0.5</text>\n<text text-anchor=\"middle\" x=\"2863.5\" y=\"-527.8\" font-family=\"Helvetica,sans-Serif\" font-size=\"14.00\" fill=\"#000000\">samples = 6</text>\n<text text-anchor=\"middle\" x=\"2863.5\" y=\"-512.8\" font-family=\"Helvetica,sans-Serif\" font-size=\"14.00\" fill=\"#000000\">value = [3, 3]</text>\n</g>\n<!-- 161&#45;&gt;163 -->\n<g id=\"edge163\" class=\"edge\">\n<title>161&#45;&gt;163</title>\n<path fill=\"none\" stroke=\"#000000\" d=\"M2786.8279,-608.9465C2796.965,-599.6986 2808.0483,-589.5876 2818.5583,-579.9994\"/>\n<polygon fill=\"#000000\" stroke=\"#000000\" points=\"2821.0595,-582.4553 2826.0883,-573.13 2816.3417,-577.284 2821.0595,-582.4553\"/>\n</g>\n<!-- 164 -->\n<g id=\"node165\" class=\"node\">\n<title>164</title>\n<polygon fill=\"none\" stroke=\"#000000\" points=\"2804,-461.5 2705,-461.5 2705,-408.5 2804,-408.5 2804,-461.5\"/>\n<text text-anchor=\"middle\" x=\"2754.5\" y=\"-446.3\" font-family=\"Helvetica,sans-Serif\" font-size=\"14.00\" fill=\"#000000\">gini = 0.0</text>\n<text text-anchor=\"middle\" x=\"2754.5\" y=\"-431.3\" font-family=\"Helvetica,sans-Serif\" font-size=\"14.00\" fill=\"#000000\">samples = 1</text>\n<text text-anchor=\"middle\" x=\"2754.5\" y=\"-416.3\" font-family=\"Helvetica,sans-Serif\" font-size=\"14.00\" fill=\"#000000\">value = [1, 0]</text>\n</g>\n<!-- 163&#45;&gt;164 -->\n<g id=\"edge164\" class=\"edge\">\n<title>163&#45;&gt;164</title>\n<path fill=\"none\" stroke=\"#000000\" d=\"M2827.8093,-504.9465C2815.5722,-493.2707 2801.893,-480.219 2789.6954,-468.5809\"/>\n<polygon fill=\"#000000\" stroke=\"#000000\" points=\"2791.9694,-465.9131 2782.3182,-461.5422 2787.1372,-470.9777 2791.9694,-465.9131\"/>\n</g>\n<!-- 165 -->\n<g id=\"node166\" class=\"node\">\n<title>165</title>\n<polygon fill=\"none\" stroke=\"#000000\" points=\"2933,-469 2822,-469 2822,-401 2933,-401 2933,-469\"/>\n<text text-anchor=\"middle\" x=\"2877.5\" y=\"-453.8\" font-family=\"Helvetica,sans-Serif\" font-size=\"14.00\" fill=\"#000000\">X[4] &lt;= 67.925</text>\n<text text-anchor=\"middle\" x=\"2877.5\" y=\"-438.8\" font-family=\"Helvetica,sans-Serif\" font-size=\"14.00\" fill=\"#000000\">gini = 0.48</text>\n<text text-anchor=\"middle\" x=\"2877.5\" y=\"-423.8\" font-family=\"Helvetica,sans-Serif\" font-size=\"14.00\" fill=\"#000000\">samples = 5</text>\n<text text-anchor=\"middle\" x=\"2877.5\" y=\"-408.8\" font-family=\"Helvetica,sans-Serif\" font-size=\"14.00\" fill=\"#000000\">value = [2, 3]</text>\n</g>\n<!-- 163&#45;&gt;165 -->\n<g id=\"edge165\" class=\"edge\">\n<title>163&#45;&gt;165</title>\n<path fill=\"none\" stroke=\"#000000\" d=\"M2868.0841,-504.9465C2869.1961,-496.6863 2870.4007,-487.7374 2871.5651,-479.0875\"/>\n<polygon fill=\"#000000\" stroke=\"#000000\" points=\"2875.0401,-479.5076 2872.9056,-469.13 2868.1027,-478.5736 2875.0401,-479.5076\"/>\n</g>\n<!-- 166 -->\n<g id=\"node167\" class=\"node\">\n<title>166</title>\n<polygon fill=\"none\" stroke=\"#000000\" points=\"2842,-357.5 2743,-357.5 2743,-304.5 2842,-304.5 2842,-357.5\"/>\n<text text-anchor=\"middle\" x=\"2792.5\" y=\"-342.3\" font-family=\"Helvetica,sans-Serif\" font-size=\"14.00\" fill=\"#000000\">gini = 0.0</text>\n<text text-anchor=\"middle\" x=\"2792.5\" y=\"-327.3\" font-family=\"Helvetica,sans-Serif\" font-size=\"14.00\" fill=\"#000000\">samples = 1</text>\n<text text-anchor=\"middle\" x=\"2792.5\" y=\"-312.3\" font-family=\"Helvetica,sans-Serif\" font-size=\"14.00\" fill=\"#000000\">value = [0, 1]</text>\n</g>\n<!-- 165&#45;&gt;166 -->\n<g id=\"edge166\" class=\"edge\">\n<title>165&#45;&gt;166</title>\n<path fill=\"none\" stroke=\"#000000\" d=\"M2849.6678,-400.9465C2840.3952,-389.6012 2830.0608,-376.9567 2820.7563,-365.5724\"/>\n<polygon fill=\"#000000\" stroke=\"#000000\" points=\"2823.2315,-363.0701 2814.1931,-357.5422 2817.8115,-367.5 2823.2315,-363.0701\"/>\n</g>\n<!-- 167 -->\n<g id=\"node168\" class=\"node\">\n<title>167</title>\n<polygon fill=\"none\" stroke=\"#000000\" points=\"2971,-365 2860,-365 2860,-297 2971,-297 2971,-365\"/>\n<text text-anchor=\"middle\" x=\"2915.5\" y=\"-349.8\" font-family=\"Helvetica,sans-Serif\" font-size=\"14.00\" fill=\"#000000\">X[4] &lt;= 84.425</text>\n<text text-anchor=\"middle\" x=\"2915.5\" y=\"-334.8\" font-family=\"Helvetica,sans-Serif\" font-size=\"14.00\" fill=\"#000000\">gini = 0.5</text>\n<text text-anchor=\"middle\" x=\"2915.5\" y=\"-319.8\" font-family=\"Helvetica,sans-Serif\" font-size=\"14.00\" fill=\"#000000\">samples = 4</text>\n<text text-anchor=\"middle\" x=\"2915.5\" y=\"-304.8\" font-family=\"Helvetica,sans-Serif\" font-size=\"14.00\" fill=\"#000000\">value = [2, 2]</text>\n</g>\n<!-- 165&#45;&gt;167 -->\n<g id=\"edge167\" class=\"edge\">\n<title>165&#45;&gt;167</title>\n<path fill=\"none\" stroke=\"#000000\" d=\"M2889.9426,-400.9465C2893.0264,-392.5067 2896.3729,-383.3479 2899.597,-374.5239\"/>\n<polygon fill=\"#000000\" stroke=\"#000000\" points=\"2902.8849,-375.7238 2903.0294,-365.13 2896.31,-373.3215 2902.8849,-375.7238\"/>\n</g>\n<!-- 168 -->\n<g id=\"node169\" class=\"node\">\n<title>168</title>\n<polygon fill=\"none\" stroke=\"#000000\" points=\"2874,-253.5 2775,-253.5 2775,-200.5 2874,-200.5 2874,-253.5\"/>\n<text text-anchor=\"middle\" x=\"2824.5\" y=\"-238.3\" font-family=\"Helvetica,sans-Serif\" font-size=\"14.00\" fill=\"#000000\">gini = 0.0</text>\n<text text-anchor=\"middle\" x=\"2824.5\" y=\"-223.3\" font-family=\"Helvetica,sans-Serif\" font-size=\"14.00\" fill=\"#000000\">samples = 1</text>\n<text text-anchor=\"middle\" x=\"2824.5\" y=\"-208.3\" font-family=\"Helvetica,sans-Serif\" font-size=\"14.00\" fill=\"#000000\">value = [1, 0]</text>\n</g>\n<!-- 167&#45;&gt;168 -->\n<g id=\"edge168\" class=\"edge\">\n<title>167&#45;&gt;168</title>\n<path fill=\"none\" stroke=\"#000000\" d=\"M2885.7032,-296.9465C2875.6796,-285.491 2864.4972,-272.711 2854.461,-261.2412\"/>\n<polygon fill=\"#000000\" stroke=\"#000000\" points=\"2856.9435,-258.7632 2847.7244,-253.5422 2851.6754,-263.3727 2856.9435,-258.7632\"/>\n</g>\n<!-- 169 -->\n<g id=\"node170\" class=\"node\">\n<title>169</title>\n<polygon fill=\"none\" stroke=\"#000000\" points=\"2991,-261 2892,-261 2892,-193 2991,-193 2991,-261\"/>\n<text text-anchor=\"middle\" x=\"2941.5\" y=\"-245.8\" font-family=\"Helvetica,sans-Serif\" font-size=\"14.00\" fill=\"#000000\">X[1] &lt;= 37.0</text>\n<text text-anchor=\"middle\" x=\"2941.5\" y=\"-230.8\" font-family=\"Helvetica,sans-Serif\" font-size=\"14.00\" fill=\"#000000\">gini = 0.444</text>\n<text text-anchor=\"middle\" x=\"2941.5\" y=\"-215.8\" font-family=\"Helvetica,sans-Serif\" font-size=\"14.00\" fill=\"#000000\">samples = 3</text>\n<text text-anchor=\"middle\" x=\"2941.5\" y=\"-200.8\" font-family=\"Helvetica,sans-Serif\" font-size=\"14.00\" fill=\"#000000\">value = [1, 2]</text>\n</g>\n<!-- 167&#45;&gt;169 -->\n<g id=\"edge169\" class=\"edge\">\n<title>167&#45;&gt;169</title>\n<path fill=\"none\" stroke=\"#000000\" d=\"M2924.0134,-296.9465C2926.0784,-288.6863 2928.3157,-279.7374 2930.4781,-271.0875\"/>\n<polygon fill=\"#000000\" stroke=\"#000000\" points=\"2933.9376,-271.6803 2932.9675,-261.13 2927.1466,-269.9825 2933.9376,-271.6803\"/>\n</g>\n<!-- 170 -->\n<g id=\"node171\" class=\"node\">\n<title>170</title>\n<polygon fill=\"none\" stroke=\"#000000\" points=\"2901,-149.5 2802,-149.5 2802,-96.5 2901,-96.5 2901,-149.5\"/>\n<text text-anchor=\"middle\" x=\"2851.5\" y=\"-134.3\" font-family=\"Helvetica,sans-Serif\" font-size=\"14.00\" fill=\"#000000\">gini = 0.0</text>\n<text text-anchor=\"middle\" x=\"2851.5\" y=\"-119.3\" font-family=\"Helvetica,sans-Serif\" font-size=\"14.00\" fill=\"#000000\">samples = 1</text>\n<text text-anchor=\"middle\" x=\"2851.5\" y=\"-104.3\" font-family=\"Helvetica,sans-Serif\" font-size=\"14.00\" fill=\"#000000\">value = [0, 1]</text>\n</g>\n<!-- 169&#45;&gt;170 -->\n<g id=\"edge170\" class=\"edge\">\n<title>169&#45;&gt;170</title>\n<path fill=\"none\" stroke=\"#000000\" d=\"M2912.0306,-192.9465C2902.1172,-181.491 2891.0576,-168.711 2881.1318,-157.2412\"/>\n<polygon fill=\"#000000\" stroke=\"#000000\" points=\"2883.6596,-154.8135 2874.4692,-149.5422 2878.3664,-159.3942 2883.6596,-154.8135\"/>\n</g>\n<!-- 171 -->\n<g id=\"node172\" class=\"node\">\n<title>171</title>\n<polygon fill=\"none\" stroke=\"#000000\" points=\"3038,-157 2919,-157 2919,-89 3038,-89 3038,-157\"/>\n<text text-anchor=\"middle\" x=\"2978.5\" y=\"-141.8\" font-family=\"Helvetica,sans-Serif\" font-size=\"14.00\" fill=\"#000000\">X[4] &lt;= 121.731</text>\n<text text-anchor=\"middle\" x=\"2978.5\" y=\"-126.8\" font-family=\"Helvetica,sans-Serif\" font-size=\"14.00\" fill=\"#000000\">gini = 0.5</text>\n<text text-anchor=\"middle\" x=\"2978.5\" y=\"-111.8\" font-family=\"Helvetica,sans-Serif\" font-size=\"14.00\" fill=\"#000000\">samples = 2</text>\n<text text-anchor=\"middle\" x=\"2978.5\" y=\"-96.8\" font-family=\"Helvetica,sans-Serif\" font-size=\"14.00\" fill=\"#000000\">value = [1, 1]</text>\n</g>\n<!-- 169&#45;&gt;171 -->\n<g id=\"edge171\" class=\"edge\">\n<title>169&#45;&gt;171</title>\n<path fill=\"none\" stroke=\"#000000\" d=\"M2953.6152,-192.9465C2956.5859,-184.5965 2959.8069,-175.5427 2962.9153,-166.8056\"/>\n<polygon fill=\"#000000\" stroke=\"#000000\" points=\"2966.3032,-167.7247 2966.3576,-157.13 2959.7081,-165.3783 2966.3032,-167.7247\"/>\n</g>\n<!-- 172 -->\n<g id=\"node173\" class=\"node\">\n<title>172</title>\n<polygon fill=\"none\" stroke=\"#000000\" points=\"2970,-53 2871,-53 2871,0 2970,0 2970,-53\"/>\n<text text-anchor=\"middle\" x=\"2920.5\" y=\"-37.8\" font-family=\"Helvetica,sans-Serif\" font-size=\"14.00\" fill=\"#000000\">gini = 0.0</text>\n<text text-anchor=\"middle\" x=\"2920.5\" y=\"-22.8\" font-family=\"Helvetica,sans-Serif\" font-size=\"14.00\" fill=\"#000000\">samples = 1</text>\n<text text-anchor=\"middle\" x=\"2920.5\" y=\"-7.8\" font-family=\"Helvetica,sans-Serif\" font-size=\"14.00\" fill=\"#000000\">value = [0, 1]</text>\n</g>\n<!-- 171&#45;&gt;172 -->\n<g id=\"edge172\" class=\"edge\">\n<title>171&#45;&gt;172</title>\n<path fill=\"none\" stroke=\"#000000\" d=\"M2958.0514,-88.9777C2952.7678,-80.187 2947.0684,-70.7044 2941.7452,-61.8477\"/>\n<polygon fill=\"#000000\" stroke=\"#000000\" points=\"2944.7282,-60.0165 2936.5768,-53.2485 2938.7285,-63.6225 2944.7282,-60.0165\"/>\n</g>\n<!-- 173 -->\n<g id=\"node174\" class=\"node\">\n<title>173</title>\n<polygon fill=\"none\" stroke=\"#000000\" points=\"3087,-53 2988,-53 2988,0 3087,0 3087,-53\"/>\n<text text-anchor=\"middle\" x=\"3037.5\" y=\"-37.8\" font-family=\"Helvetica,sans-Serif\" font-size=\"14.00\" fill=\"#000000\">gini = 0.0</text>\n<text text-anchor=\"middle\" x=\"3037.5\" y=\"-22.8\" font-family=\"Helvetica,sans-Serif\" font-size=\"14.00\" fill=\"#000000\">samples = 1</text>\n<text text-anchor=\"middle\" x=\"3037.5\" y=\"-7.8\" font-family=\"Helvetica,sans-Serif\" font-size=\"14.00\" fill=\"#000000\">value = [1, 0]</text>\n</g>\n<!-- 171&#45;&gt;173 -->\n<g id=\"edge173\" class=\"edge\">\n<title>171&#45;&gt;173</title>\n<path fill=\"none\" stroke=\"#000000\" d=\"M2999.3012,-88.9777C3004.6758,-80.187 3010.4735,-70.7044 3015.8885,-61.8477\"/>\n<polygon fill=\"#000000\" stroke=\"#000000\" points=\"3018.9158,-63.6059 3021.146,-53.2485 3012.9436,-59.9545 3018.9158,-63.6059\"/>\n</g>\n<!-- 176 -->\n<g id=\"node177\" class=\"node\">\n<title>176</title>\n<polygon fill=\"none\" stroke=\"#000000\" points=\"2920,-773.5 2821,-773.5 2821,-720.5 2920,-720.5 2920,-773.5\"/>\n<text text-anchor=\"middle\" x=\"2870.5\" y=\"-758.3\" font-family=\"Helvetica,sans-Serif\" font-size=\"14.00\" fill=\"#000000\">gini = 0.0</text>\n<text text-anchor=\"middle\" x=\"2870.5\" y=\"-743.3\" font-family=\"Helvetica,sans-Serif\" font-size=\"14.00\" fill=\"#000000\">samples = 3</text>\n<text text-anchor=\"middle\" x=\"2870.5\" y=\"-728.3\" font-family=\"Helvetica,sans-Serif\" font-size=\"14.00\" fill=\"#000000\">value = [0, 3]</text>\n</g>\n<!-- 175&#45;&gt;176 -->\n<g id=\"edge176\" class=\"edge\">\n<title>175&#45;&gt;176</title>\n<path fill=\"none\" stroke=\"#000000\" d=\"M2872.5177,-816.9465C2872.2095,-806.2621 2871.868,-794.4254 2871.555,-783.5742\"/>\n<polygon fill=\"#000000\" stroke=\"#000000\" points=\"2875.0526,-783.4371 2871.2656,-773.5422 2868.0555,-783.639 2875.0526,-783.4371\"/>\n</g>\n<!-- 177 -->\n<g id=\"node178\" class=\"node\">\n<title>177</title>\n<polygon fill=\"none\" stroke=\"#000000\" points=\"3037,-773.5 2938,-773.5 2938,-720.5 3037,-720.5 3037,-773.5\"/>\n<text text-anchor=\"middle\" x=\"2987.5\" y=\"-758.3\" font-family=\"Helvetica,sans-Serif\" font-size=\"14.00\" fill=\"#000000\">gini = 0.0</text>\n<text text-anchor=\"middle\" x=\"2987.5\" y=\"-743.3\" font-family=\"Helvetica,sans-Serif\" font-size=\"14.00\" fill=\"#000000\">samples = 1</text>\n<text text-anchor=\"middle\" x=\"2987.5\" y=\"-728.3\" font-family=\"Helvetica,sans-Serif\" font-size=\"14.00\" fill=\"#000000\">value = [1, 0]</text>\n</g>\n<!-- 175&#45;&gt;177 -->\n<g id=\"edge177\" class=\"edge\">\n<title>175&#45;&gt;177</title>\n<path fill=\"none\" stroke=\"#000000\" d=\"M2910.8279,-816.9465C2923.6263,-805.2707 2937.933,-792.219 2950.6901,-780.5809\"/>\n<polygon fill=\"#000000\" stroke=\"#000000\" points=\"2953.3769,-782.8675 2958.4057,-773.5422 2948.6591,-777.6961 2953.3769,-782.8675\"/>\n</g>\n<!-- 179 -->\n<g id=\"node180\" class=\"node\">\n<title>179</title>\n<polygon fill=\"none\" stroke=\"#000000\" points=\"3046,-877.5 2947,-877.5 2947,-824.5 3046,-824.5 3046,-877.5\"/>\n<text text-anchor=\"middle\" x=\"2996.5\" y=\"-862.3\" font-family=\"Helvetica,sans-Serif\" font-size=\"14.00\" fill=\"#000000\">gini = 0.0</text>\n<text text-anchor=\"middle\" x=\"2996.5\" y=\"-847.3\" font-family=\"Helvetica,sans-Serif\" font-size=\"14.00\" fill=\"#000000\">samples = 6</text>\n<text text-anchor=\"middle\" x=\"2996.5\" y=\"-832.3\" font-family=\"Helvetica,sans-Serif\" font-size=\"14.00\" fill=\"#000000\">value = [6, 0]</text>\n</g>\n<!-- 178&#45;&gt;179 -->\n<g id=\"edge179\" class=\"edge\">\n<title>178&#45;&gt;179</title>\n<path fill=\"none\" stroke=\"#000000\" d=\"M3064.4288,-920.9465C3053.1968,-909.3809 3040.6537,-896.4652 3029.4325,-884.9107\"/>\n<polygon fill=\"#000000\" stroke=\"#000000\" points=\"3031.7542,-882.2776 3022.2765,-877.5422 3026.7326,-887.1544 3031.7542,-882.2776\"/>\n</g>\n<!-- 180 -->\n<g id=\"node181\" class=\"node\">\n<title>180</title>\n<polygon fill=\"none\" stroke=\"#000000\" points=\"3163,-877.5 3064,-877.5 3064,-824.5 3163,-824.5 3163,-877.5\"/>\n<text text-anchor=\"middle\" x=\"3113.5\" y=\"-862.3\" font-family=\"Helvetica,sans-Serif\" font-size=\"14.00\" fill=\"#000000\">gini = 0.0</text>\n<text text-anchor=\"middle\" x=\"3113.5\" y=\"-847.3\" font-family=\"Helvetica,sans-Serif\" font-size=\"14.00\" fill=\"#000000\">samples = 1</text>\n<text text-anchor=\"middle\" x=\"3113.5\" y=\"-832.3\" font-family=\"Helvetica,sans-Serif\" font-size=\"14.00\" fill=\"#000000\">value = [0, 1]</text>\n</g>\n<!-- 178&#45;&gt;180 -->\n<g id=\"edge180\" class=\"edge\">\n<title>178&#45;&gt;180</title>\n<path fill=\"none\" stroke=\"#000000\" d=\"M3102.739,-920.9465C3104.3828,-910.2621 3106.2038,-898.4254 3107.8732,-887.5742\"/>\n<polygon fill=\"#000000\" stroke=\"#000000\" points=\"3111.3552,-887.9581 3109.4166,-877.5422 3104.4366,-886.8937 3111.3552,-887.9581\"/>\n</g>\n<!-- 183 -->\n<g id=\"node184\" class=\"node\">\n<title>183</title>\n<polygon fill=\"none\" stroke=\"#000000\" points=\"3007.5,-1717 2903.5,-1717 2903.5,-1649 3007.5,-1649 3007.5,-1717\"/>\n<text text-anchor=\"middle\" x=\"2955.5\" y=\"-1701.8\" font-family=\"Helvetica,sans-Serif\" font-size=\"14.00\" fill=\"#000000\">X[3] &lt;= 3.5</text>\n<text text-anchor=\"middle\" x=\"2955.5\" y=\"-1686.8\" font-family=\"Helvetica,sans-Serif\" font-size=\"14.00\" fill=\"#000000\">gini = 0.444</text>\n<text text-anchor=\"middle\" x=\"2955.5\" y=\"-1671.8\" font-family=\"Helvetica,sans-Serif\" font-size=\"14.00\" fill=\"#000000\">samples = 12</text>\n<text text-anchor=\"middle\" x=\"2955.5\" y=\"-1656.8\" font-family=\"Helvetica,sans-Serif\" font-size=\"14.00\" fill=\"#000000\">value = [4, 8]</text>\n</g>\n<!-- 182&#45;&gt;183 -->\n<g id=\"edge183\" class=\"edge\">\n<title>182&#45;&gt;183</title>\n<path fill=\"none\" stroke=\"#000000\" d=\"M2955.5,-1752.9465C2955.5,-1744.776 2955.5,-1735.9318 2955.5,-1727.3697\"/>\n<polygon fill=\"#000000\" stroke=\"#000000\" points=\"2959.0001,-1727.13 2955.5,-1717.13 2952.0001,-1727.13 2959.0001,-1727.13\"/>\n</g>\n<!-- 188 -->\n<g id=\"node189\" class=\"node\">\n<title>188</title>\n<polygon fill=\"none\" stroke=\"#000000\" points=\"3203.5,-1717 3079.5,-1717 3079.5,-1649 3203.5,-1649 3203.5,-1717\"/>\n<text text-anchor=\"middle\" x=\"3141.5\" y=\"-1701.8\" font-family=\"Helvetica,sans-Serif\" font-size=\"14.00\" fill=\"#000000\">X[5] &lt;= 1.0</text>\n<text text-anchor=\"middle\" x=\"3141.5\" y=\"-1686.8\" font-family=\"Helvetica,sans-Serif\" font-size=\"14.00\" fill=\"#000000\">gini = 0.199</text>\n<text text-anchor=\"middle\" x=\"3141.5\" y=\"-1671.8\" font-family=\"Helvetica,sans-Serif\" font-size=\"14.00\" fill=\"#000000\">samples = 348</text>\n<text text-anchor=\"middle\" x=\"3141.5\" y=\"-1656.8\" font-family=\"Helvetica,sans-Serif\" font-size=\"14.00\" fill=\"#000000\">value = [309, 39]</text>\n</g>\n<!-- 182&#45;&gt;188 -->\n<g id=\"edge188\" class=\"edge\">\n<title>182&#45;&gt;188</title>\n<path fill=\"none\" stroke=\"#000000\" d=\"M3016.4034,-1752.9465C3034.0669,-1743.0701 3053.4911,-1732.2093 3071.6566,-1722.0522\"/>\n<polygon fill=\"#000000\" stroke=\"#000000\" points=\"3073.4397,-1725.0653 3080.4598,-1717.13 3070.0234,-1718.9555 3073.4397,-1725.0653\"/>\n</g>\n<!-- 184 -->\n<g id=\"node185\" class=\"node\">\n<title>184</title>\n<polygon fill=\"none\" stroke=\"#000000\" points=\"2952,-1605.5 2853,-1605.5 2853,-1552.5 2952,-1552.5 2952,-1605.5\"/>\n<text text-anchor=\"middle\" x=\"2902.5\" y=\"-1590.3\" font-family=\"Helvetica,sans-Serif\" font-size=\"14.00\" fill=\"#000000\">gini = 0.0</text>\n<text text-anchor=\"middle\" x=\"2902.5\" y=\"-1575.3\" font-family=\"Helvetica,sans-Serif\" font-size=\"14.00\" fill=\"#000000\">samples = 7</text>\n<text text-anchor=\"middle\" x=\"2902.5\" y=\"-1560.3\" font-family=\"Helvetica,sans-Serif\" font-size=\"14.00\" fill=\"#000000\">value = [0, 7]</text>\n</g>\n<!-- 183&#45;&gt;184 -->\n<g id=\"edge184\" class=\"edge\">\n<title>183&#45;&gt;184</title>\n<path fill=\"none\" stroke=\"#000000\" d=\"M2938.1458,-1648.9465C2932.5325,-1637.9316 2926.295,-1625.6922 2920.6272,-1614.5703\"/>\n<polygon fill=\"#000000\" stroke=\"#000000\" points=\"2923.6853,-1612.8627 2916.0263,-1605.5422 2917.4485,-1616.0411 2923.6853,-1612.8627\"/>\n</g>\n<!-- 185 -->\n<g id=\"node186\" class=\"node\">\n<title>185</title>\n<polygon fill=\"none\" stroke=\"#000000\" points=\"3069,-1613 2970,-1613 2970,-1545 3069,-1545 3069,-1613\"/>\n<text text-anchor=\"middle\" x=\"3019.5\" y=\"-1597.8\" font-family=\"Helvetica,sans-Serif\" font-size=\"14.00\" fill=\"#000000\">X[1] &lt;= 2.5</text>\n<text text-anchor=\"middle\" x=\"3019.5\" y=\"-1582.8\" font-family=\"Helvetica,sans-Serif\" font-size=\"14.00\" fill=\"#000000\">gini = 0.32</text>\n<text text-anchor=\"middle\" x=\"3019.5\" y=\"-1567.8\" font-family=\"Helvetica,sans-Serif\" font-size=\"14.00\" fill=\"#000000\">samples = 5</text>\n<text text-anchor=\"middle\" x=\"3019.5\" y=\"-1552.8\" font-family=\"Helvetica,sans-Serif\" font-size=\"14.00\" fill=\"#000000\">value = [4, 1]</text>\n</g>\n<!-- 183&#45;&gt;185 -->\n<g id=\"edge185\" class=\"edge\">\n<title>183&#45;&gt;185</title>\n<path fill=\"none\" stroke=\"#000000\" d=\"M2976.456,-1648.9465C2981.8155,-1640.2373 2987.6461,-1630.7626 2993.2353,-1621.6801\"/>\n<polygon fill=\"#000000\" stroke=\"#000000\" points=\"2996.2367,-1623.481 2998.4969,-1613.13 2990.2751,-1619.8122 2996.2367,-1623.481\"/>\n</g>\n<!-- 186 -->\n<g id=\"node187\" class=\"node\">\n<title>186</title>\n<polygon fill=\"none\" stroke=\"#000000\" points=\"2954,-1501.5 2855,-1501.5 2855,-1448.5 2954,-1448.5 2954,-1501.5\"/>\n<text text-anchor=\"middle\" x=\"2904.5\" y=\"-1486.3\" font-family=\"Helvetica,sans-Serif\" font-size=\"14.00\" fill=\"#000000\">gini = 0.0</text>\n<text text-anchor=\"middle\" x=\"2904.5\" y=\"-1471.3\" font-family=\"Helvetica,sans-Serif\" font-size=\"14.00\" fill=\"#000000\">samples = 4</text>\n<text text-anchor=\"middle\" x=\"2904.5\" y=\"-1456.3\" font-family=\"Helvetica,sans-Serif\" font-size=\"14.00\" fill=\"#000000\">value = [4, 0]</text>\n</g>\n<!-- 185&#45;&gt;186 -->\n<g id=\"edge186\" class=\"edge\">\n<title>185&#45;&gt;186</title>\n<path fill=\"none\" stroke=\"#000000\" d=\"M2981.8447,-1544.9465C2968.8122,-1533.1606 2954.2294,-1519.9726 2941.2689,-1508.2519\"/>\n<polygon fill=\"#000000\" stroke=\"#000000\" points=\"2943.614,-1505.6537 2933.8495,-1501.5422 2938.9188,-1510.8456 2943.614,-1505.6537\"/>\n</g>\n<!-- 187 -->\n<g id=\"node188\" class=\"node\">\n<title>187</title>\n<polygon fill=\"none\" stroke=\"#000000\" points=\"3071,-1501.5 2972,-1501.5 2972,-1448.5 3071,-1448.5 3071,-1501.5\"/>\n<text text-anchor=\"middle\" x=\"3021.5\" y=\"-1486.3\" font-family=\"Helvetica,sans-Serif\" font-size=\"14.00\" fill=\"#000000\">gini = 0.0</text>\n<text text-anchor=\"middle\" x=\"3021.5\" y=\"-1471.3\" font-family=\"Helvetica,sans-Serif\" font-size=\"14.00\" fill=\"#000000\">samples = 1</text>\n<text text-anchor=\"middle\" x=\"3021.5\" y=\"-1456.3\" font-family=\"Helvetica,sans-Serif\" font-size=\"14.00\" fill=\"#000000\">value = [0, 1]</text>\n</g>\n<!-- 185&#45;&gt;187 -->\n<g id=\"edge187\" class=\"edge\">\n<title>185&#45;&gt;187</title>\n<path fill=\"none\" stroke=\"#000000\" d=\"M3020.1549,-1544.9465C3020.3603,-1534.2621 3020.588,-1522.4254 3020.7966,-1511.5742\"/>\n<polygon fill=\"#000000\" stroke=\"#000000\" points=\"3024.2966,-1511.6076 3020.9896,-1501.5422 3017.2979,-1511.473 3024.2966,-1511.6076\"/>\n</g>\n<!-- 189 -->\n<g id=\"node190\" class=\"node\">\n<title>189</title>\n<polygon fill=\"none\" stroke=\"#000000\" points=\"3195,-1613 3088,-1613 3088,-1545 3195,-1545 3195,-1613\"/>\n<text text-anchor=\"middle\" x=\"3141.5\" y=\"-1597.8\" font-family=\"Helvetica,sans-Serif\" font-size=\"14.00\" fill=\"#000000\">X[3] &lt;= 3.0</text>\n<text text-anchor=\"middle\" x=\"3141.5\" y=\"-1582.8\" font-family=\"Helvetica,sans-Serif\" font-size=\"14.00\" fill=\"#000000\">gini = 0.43</text>\n<text text-anchor=\"middle\" x=\"3141.5\" y=\"-1567.8\" font-family=\"Helvetica,sans-Serif\" font-size=\"14.00\" fill=\"#000000\">samples = 16</text>\n<text text-anchor=\"middle\" x=\"3141.5\" y=\"-1552.8\" font-family=\"Helvetica,sans-Serif\" font-size=\"14.00\" fill=\"#000000\">value = [11, 5]</text>\n</g>\n<!-- 188&#45;&gt;189 -->\n<g id=\"edge189\" class=\"edge\">\n<title>188&#45;&gt;189</title>\n<path fill=\"none\" stroke=\"#000000\" d=\"M3141.5,-1648.9465C3141.5,-1640.776 3141.5,-1631.9318 3141.5,-1623.3697\"/>\n<polygon fill=\"#000000\" stroke=\"#000000\" points=\"3145.0001,-1623.13 3141.5,-1613.13 3138.0001,-1623.13 3145.0001,-1623.13\"/>\n</g>\n<!-- 192 -->\n<g id=\"node193\" class=\"node\">\n<title>192</title>\n<polygon fill=\"none\" stroke=\"#000000\" points=\"4531.5,-1613 4407.5,-1613 4407.5,-1545 4531.5,-1545 4531.5,-1613\"/>\n<text text-anchor=\"middle\" x=\"4469.5\" y=\"-1597.8\" font-family=\"Helvetica,sans-Serif\" font-size=\"14.00\" fill=\"#000000\">X[1] &lt;= 32.25</text>\n<text text-anchor=\"middle\" x=\"4469.5\" y=\"-1582.8\" font-family=\"Helvetica,sans-Serif\" font-size=\"14.00\" fill=\"#000000\">gini = 0.184</text>\n<text text-anchor=\"middle\" x=\"4469.5\" y=\"-1567.8\" font-family=\"Helvetica,sans-Serif\" font-size=\"14.00\" fill=\"#000000\">samples = 332</text>\n<text text-anchor=\"middle\" x=\"4469.5\" y=\"-1552.8\" font-family=\"Helvetica,sans-Serif\" font-size=\"14.00\" fill=\"#000000\">value = [298, 34]</text>\n</g>\n<!-- 188&#45;&gt;192 -->\n<g id=\"edge192\" class=\"edge\">\n<title>188&#45;&gt;192</title>\n<path fill=\"none\" stroke=\"#000000\" d=\"M3203.771,-1678.1234C3423.5689,-1660.9103 4162.4309,-1603.0476 4397.2296,-1584.6597\"/>\n<polygon fill=\"#000000\" stroke=\"#000000\" points=\"4397.6676,-1588.1362 4407.3638,-1583.8661 4397.121,-1581.1576 4397.6676,-1588.1362\"/>\n</g>\n<!-- 190 -->\n<g id=\"node191\" class=\"node\">\n<title>190</title>\n<polygon fill=\"none\" stroke=\"#000000\" points=\"3190,-1501.5 3091,-1501.5 3091,-1448.5 3190,-1448.5 3190,-1501.5\"/>\n<text text-anchor=\"middle\" x=\"3140.5\" y=\"-1486.3\" font-family=\"Helvetica,sans-Serif\" font-size=\"14.00\" fill=\"#000000\">gini = 0.0</text>\n<text text-anchor=\"middle\" x=\"3140.5\" y=\"-1471.3\" font-family=\"Helvetica,sans-Serif\" font-size=\"14.00\" fill=\"#000000\">samples = 5</text>\n<text text-anchor=\"middle\" x=\"3140.5\" y=\"-1456.3\" font-family=\"Helvetica,sans-Serif\" font-size=\"14.00\" fill=\"#000000\">value = [0, 5]</text>\n</g>\n<!-- 189&#45;&gt;190 -->\n<g id=\"edge190\" class=\"edge\">\n<title>189&#45;&gt;190</title>\n<path fill=\"none\" stroke=\"#000000\" d=\"M3141.1726,-1544.9465C3141.0698,-1534.2621 3140.956,-1522.4254 3140.8517,-1511.5742\"/>\n<polygon fill=\"#000000\" stroke=\"#000000\" points=\"3144.3513,-1511.508 3140.7552,-1501.5422 3137.3516,-1511.5754 3144.3513,-1511.508\"/>\n</g>\n<!-- 191 -->\n<g id=\"node192\" class=\"node\">\n<title>191</title>\n<polygon fill=\"none\" stroke=\"#000000\" points=\"3315,-1501.5 3208,-1501.5 3208,-1448.5 3315,-1448.5 3315,-1501.5\"/>\n<text text-anchor=\"middle\" x=\"3261.5\" y=\"-1486.3\" font-family=\"Helvetica,sans-Serif\" font-size=\"14.00\" fill=\"#000000\">gini = 0.0</text>\n<text text-anchor=\"middle\" x=\"3261.5\" y=\"-1471.3\" font-family=\"Helvetica,sans-Serif\" font-size=\"14.00\" fill=\"#000000\">samples = 11</text>\n<text text-anchor=\"middle\" x=\"3261.5\" y=\"-1456.3\" font-family=\"Helvetica,sans-Serif\" font-size=\"14.00\" fill=\"#000000\">value = [11, 0]</text>\n</g>\n<!-- 189&#45;&gt;191 -->\n<g id=\"edge191\" class=\"edge\">\n<title>189&#45;&gt;191</title>\n<path fill=\"none\" stroke=\"#000000\" d=\"M3180.7925,-1544.9465C3194.3917,-1533.1606 3209.6085,-1519.9726 3223.1324,-1508.2519\"/>\n<polygon fill=\"#000000\" stroke=\"#000000\" points=\"3225.6098,-1510.7364 3230.8744,-1501.5422 3221.0252,-1505.4466 3225.6098,-1510.7364\"/>\n</g>\n<!-- 193 -->\n<g id=\"node194\" class=\"node\">\n<title>193</title>\n<polygon fill=\"none\" stroke=\"#000000\" points=\"4531.5,-1509 4407.5,-1509 4407.5,-1441 4531.5,-1441 4531.5,-1509\"/>\n<text text-anchor=\"middle\" x=\"4469.5\" y=\"-1493.8\" font-family=\"Helvetica,sans-Serif\" font-size=\"14.00\" fill=\"#000000\">X[1] &lt;= 31.5</text>\n<text text-anchor=\"middle\" x=\"4469.5\" y=\"-1478.8\" font-family=\"Helvetica,sans-Serif\" font-size=\"14.00\" fill=\"#000000\">gini = 0.216</text>\n<text text-anchor=\"middle\" x=\"4469.5\" y=\"-1463.8\" font-family=\"Helvetica,sans-Serif\" font-size=\"14.00\" fill=\"#000000\">samples = 244</text>\n<text text-anchor=\"middle\" x=\"4469.5\" y=\"-1448.8\" font-family=\"Helvetica,sans-Serif\" font-size=\"14.00\" fill=\"#000000\">value = [214, 30]</text>\n</g>\n<!-- 192&#45;&gt;193 -->\n<g id=\"edge193\" class=\"edge\">\n<title>192&#45;&gt;193</title>\n<path fill=\"none\" stroke=\"#000000\" d=\"M4469.5,-1544.9465C4469.5,-1536.776 4469.5,-1527.9318 4469.5,-1519.3697\"/>\n<polygon fill=\"#000000\" stroke=\"#000000\" points=\"4473.0001,-1519.13 4469.5,-1509.13 4466.0001,-1519.13 4473.0001,-1519.13\"/>\n</g>\n<!-- 310 -->\n<g id=\"node311\" class=\"node\">\n<title>310</title>\n<polygon fill=\"none\" stroke=\"#000000\" points=\"5056,-1509 4949,-1509 4949,-1441 5056,-1441 5056,-1509\"/>\n<text text-anchor=\"middle\" x=\"5002.5\" y=\"-1493.8\" font-family=\"Helvetica,sans-Serif\" font-size=\"14.00\" fill=\"#000000\">X[1] &lt;= 61.5</text>\n<text text-anchor=\"middle\" x=\"5002.5\" y=\"-1478.8\" font-family=\"Helvetica,sans-Serif\" font-size=\"14.00\" fill=\"#000000\">gini = 0.087</text>\n<text text-anchor=\"middle\" x=\"5002.5\" y=\"-1463.8\" font-family=\"Helvetica,sans-Serif\" font-size=\"14.00\" fill=\"#000000\">samples = 88</text>\n<text text-anchor=\"middle\" x=\"5002.5\" y=\"-1448.8\" font-family=\"Helvetica,sans-Serif\" font-size=\"14.00\" fill=\"#000000\">value = [84, 4]</text>\n</g>\n<!-- 192&#45;&gt;310 -->\n<g id=\"edge310\" class=\"edge\">\n<title>192&#45;&gt;310</title>\n<path fill=\"none\" stroke=\"#000000\" d=\"M4531.685,-1566.8663C4633.7364,-1546.9539 4835.683,-1507.5497 4938.7472,-1487.4396\"/>\n<polygon fill=\"#000000\" stroke=\"#000000\" points=\"4939.5624,-1490.8466 4948.707,-1485.4962 4938.2217,-1483.9762 4939.5624,-1490.8466\"/>\n</g>\n<!-- 194 -->\n<g id=\"node195\" class=\"node\">\n<title>194</title>\n<polygon fill=\"none\" stroke=\"#000000\" points=\"4366.5,-1405 4242.5,-1405 4242.5,-1337 4366.5,-1337 4366.5,-1405\"/>\n<text text-anchor=\"middle\" x=\"4304.5\" y=\"-1389.8\" font-family=\"Helvetica,sans-Serif\" font-size=\"14.00\" fill=\"#000000\">X[3] &lt;= 2.5</text>\n<text text-anchor=\"middle\" x=\"4304.5\" y=\"-1374.8\" font-family=\"Helvetica,sans-Serif\" font-size=\"14.00\" fill=\"#000000\">gini = 0.191</text>\n<text text-anchor=\"middle\" x=\"4304.5\" y=\"-1359.8\" font-family=\"Helvetica,sans-Serif\" font-size=\"14.00\" fill=\"#000000\">samples = 234</text>\n<text text-anchor=\"middle\" x=\"4304.5\" y=\"-1344.8\" font-family=\"Helvetica,sans-Serif\" font-size=\"14.00\" fill=\"#000000\">value = [209, 25]</text>\n</g>\n<!-- 193&#45;&gt;194 -->\n<g id=\"edge194\" class=\"edge\">\n<title>193&#45;&gt;194</title>\n<path fill=\"none\" stroke=\"#000000\" d=\"M4415.4728,-1440.9465C4400.0885,-1431.2497 4383.1984,-1420.6039 4367.3379,-1410.6069\"/>\n<polygon fill=\"#000000\" stroke=\"#000000\" points=\"4368.9746,-1407.5013 4358.6486,-1405.13 4365.242,-1413.4232 4368.9746,-1407.5013\"/>\n</g>\n<!-- 297 -->\n<g id=\"node298\" class=\"node\">\n<title>297</title>\n<polygon fill=\"none\" stroke=\"#000000\" points=\"4531.5,-1405 4427.5,-1405 4427.5,-1337 4531.5,-1337 4531.5,-1405\"/>\n<text text-anchor=\"middle\" x=\"4479.5\" y=\"-1389.8\" font-family=\"Helvetica,sans-Serif\" font-size=\"14.00\" fill=\"#000000\">X[0] &lt;= 2.5</text>\n<text text-anchor=\"middle\" x=\"4479.5\" y=\"-1374.8\" font-family=\"Helvetica,sans-Serif\" font-size=\"14.00\" fill=\"#000000\">gini = 0.5</text>\n<text text-anchor=\"middle\" x=\"4479.5\" y=\"-1359.8\" font-family=\"Helvetica,sans-Serif\" font-size=\"14.00\" fill=\"#000000\">samples = 10</text>\n<text text-anchor=\"middle\" x=\"4479.5\" y=\"-1344.8\" font-family=\"Helvetica,sans-Serif\" font-size=\"14.00\" fill=\"#000000\">value = [5, 5]</text>\n</g>\n<!-- 193&#45;&gt;297 -->\n<g id=\"edge297\" class=\"edge\">\n<title>193&#45;&gt;297</title>\n<path fill=\"none\" stroke=\"#000000\" d=\"M4472.7744,-1440.9465C4473.5686,-1432.6863 4474.4291,-1423.7374 4475.2608,-1415.0875\"/>\n<polygon fill=\"#000000\" stroke=\"#000000\" points=\"4478.745,-1415.4191 4476.2183,-1405.13 4471.7771,-1414.7491 4478.745,-1415.4191\"/>\n</g>\n<!-- 195 -->\n<g id=\"node196\" class=\"node\">\n<title>195</title>\n<polygon fill=\"none\" stroke=\"#000000\" points=\"4191.5,-1301 4067.5,-1301 4067.5,-1233 4191.5,-1233 4191.5,-1301\"/>\n<text text-anchor=\"middle\" x=\"4129.5\" y=\"-1285.8\" font-family=\"Helvetica,sans-Serif\" font-size=\"14.00\" fill=\"#000000\">X[0] &lt;= 2.5</text>\n<text text-anchor=\"middle\" x=\"4129.5\" y=\"-1270.8\" font-family=\"Helvetica,sans-Serif\" font-size=\"14.00\" fill=\"#000000\">gini = 0.198</text>\n<text text-anchor=\"middle\" x=\"4129.5\" y=\"-1255.8\" font-family=\"Helvetica,sans-Serif\" font-size=\"14.00\" fill=\"#000000\">samples = 224</text>\n<text text-anchor=\"middle\" x=\"4129.5\" y=\"-1240.8\" font-family=\"Helvetica,sans-Serif\" font-size=\"14.00\" fill=\"#000000\">value = [199, 25]</text>\n</g>\n<!-- 194&#45;&gt;195 -->\n<g id=\"edge195\" class=\"edge\">\n<title>194&#45;&gt;195</title>\n<path fill=\"none\" stroke=\"#000000\" d=\"M4247.1985,-1336.9465C4230.7306,-1327.1599 4212.6362,-1316.4066 4195.6793,-1306.3294\"/>\n<polygon fill=\"#000000\" stroke=\"#000000\" points=\"4197.3149,-1303.23 4186.9303,-1301.13 4193.7387,-1309.2476 4197.3149,-1303.23\"/>\n</g>\n<!-- 296 -->\n<g id=\"node297\" class=\"node\">\n<title>296</title>\n<polygon fill=\"none\" stroke=\"#000000\" points=\"4358,-1293.5 4251,-1293.5 4251,-1240.5 4358,-1240.5 4358,-1293.5\"/>\n<text text-anchor=\"middle\" x=\"4304.5\" y=\"-1278.3\" font-family=\"Helvetica,sans-Serif\" font-size=\"14.00\" fill=\"#000000\">gini = 0.0</text>\n<text text-anchor=\"middle\" x=\"4304.5\" y=\"-1263.3\" font-family=\"Helvetica,sans-Serif\" font-size=\"14.00\" fill=\"#000000\">samples = 10</text>\n<text text-anchor=\"middle\" x=\"4304.5\" y=\"-1248.3\" font-family=\"Helvetica,sans-Serif\" font-size=\"14.00\" fill=\"#000000\">value = [10, 0]</text>\n</g>\n<!-- 194&#45;&gt;296 -->\n<g id=\"edge296\" class=\"edge\">\n<title>194&#45;&gt;296</title>\n<path fill=\"none\" stroke=\"#000000\" d=\"M4304.5,-1336.9465C4304.5,-1326.2621 4304.5,-1314.4254 4304.5,-1303.5742\"/>\n<polygon fill=\"#000000\" stroke=\"#000000\" points=\"4308.0001,-1303.5421 4304.5,-1293.5422 4301.0001,-1303.5422 4308.0001,-1303.5421\"/>\n</g>\n<!-- 196 -->\n<g id=\"node197\" class=\"node\">\n<title>196</title>\n<polygon fill=\"none\" stroke=\"#000000\" points=\"3449,-1197 3342,-1197 3342,-1129 3449,-1129 3449,-1197\"/>\n<text text-anchor=\"middle\" x=\"3395.5\" y=\"-1181.8\" font-family=\"Helvetica,sans-Serif\" font-size=\"14.00\" fill=\"#000000\">X[1] &lt;= 29.35</text>\n<text text-anchor=\"middle\" x=\"3395.5\" y=\"-1166.8\" font-family=\"Helvetica,sans-Serif\" font-size=\"14.00\" fill=\"#000000\">gini = 0.122</text>\n<text text-anchor=\"middle\" x=\"3395.5\" y=\"-1151.8\" font-family=\"Helvetica,sans-Serif\" font-size=\"14.00\" fill=\"#000000\">samples = 46</text>\n<text text-anchor=\"middle\" x=\"3395.5\" y=\"-1136.8\" font-family=\"Helvetica,sans-Serif\" font-size=\"14.00\" fill=\"#000000\">value = [43, 3]</text>\n</g>\n<!-- 195&#45;&gt;196 -->\n<g id=\"edge196\" class=\"edge\">\n<title>195&#45;&gt;196</title>\n<path fill=\"none\" stroke=\"#000000\" d=\"M4067.2362,-1258.1779C3929.2851,-1238.6317 3599.1078,-1191.8491 3459.5313,-1172.0726\"/>\n<polygon fill=\"#000000\" stroke=\"#000000\" points=\"3459.8088,-1168.577 3449.4167,-1170.6394 3458.8267,-1175.5078 3459.8088,-1168.577\"/>\n</g>\n<!-- 207 -->\n<g id=\"node208\" class=\"node\">\n<title>207</title>\n<polygon fill=\"none\" stroke=\"#000000\" points=\"4191.5,-1197 4067.5,-1197 4067.5,-1129 4191.5,-1129 4191.5,-1197\"/>\n<text text-anchor=\"middle\" x=\"4129.5\" y=\"-1181.8\" font-family=\"Helvetica,sans-Serif\" font-size=\"14.00\" fill=\"#000000\">X[4] &lt;= 15.621</text>\n<text text-anchor=\"middle\" x=\"4129.5\" y=\"-1166.8\" font-family=\"Helvetica,sans-Serif\" font-size=\"14.00\" fill=\"#000000\">gini = 0.217</text>\n<text text-anchor=\"middle\" x=\"4129.5\" y=\"-1151.8\" font-family=\"Helvetica,sans-Serif\" font-size=\"14.00\" fill=\"#000000\">samples = 178</text>\n<text text-anchor=\"middle\" x=\"4129.5\" y=\"-1136.8\" font-family=\"Helvetica,sans-Serif\" font-size=\"14.00\" fill=\"#000000\">value = [156, 22]</text>\n</g>\n<!-- 195&#45;&gt;207 -->\n<g id=\"edge207\" class=\"edge\">\n<title>195&#45;&gt;207</title>\n<path fill=\"none\" stroke=\"#000000\" d=\"M4129.5,-1232.9465C4129.5,-1224.776 4129.5,-1215.9318 4129.5,-1207.3697\"/>\n<polygon fill=\"#000000\" stroke=\"#000000\" points=\"4133.0001,-1207.13 4129.5,-1197.13 4126.0001,-1207.13 4133.0001,-1207.13\"/>\n</g>\n<!-- 197 -->\n<g id=\"node198\" class=\"node\">\n<title>197</title>\n<polygon fill=\"none\" stroke=\"#000000\" points=\"3324,-1085.5 3217,-1085.5 3217,-1032.5 3324,-1032.5 3324,-1085.5\"/>\n<text text-anchor=\"middle\" x=\"3270.5\" y=\"-1070.3\" font-family=\"Helvetica,sans-Serif\" font-size=\"14.00\" fill=\"#000000\">gini = 0.0</text>\n<text text-anchor=\"middle\" x=\"3270.5\" y=\"-1055.3\" font-family=\"Helvetica,sans-Serif\" font-size=\"14.00\" fill=\"#000000\">samples = 30</text>\n<text text-anchor=\"middle\" x=\"3270.5\" y=\"-1040.3\" font-family=\"Helvetica,sans-Serif\" font-size=\"14.00\" fill=\"#000000\">value = [30, 0]</text>\n</g>\n<!-- 196&#45;&gt;197 -->\n<g id=\"edge197\" class=\"edge\">\n<title>196&#45;&gt;197</title>\n<path fill=\"none\" stroke=\"#000000\" d=\"M3354.5703,-1128.9465C3340.4045,-1117.1606 3324.5537,-1103.9726 3310.4662,-1092.2519\"/>\n<polygon fill=\"#000000\" stroke=\"#000000\" points=\"3312.3275,-1089.2474 3302.4016,-1085.5422 3307.8504,-1094.6285 3312.3275,-1089.2474\"/>\n</g>\n<!-- 198 -->\n<g id=\"node199\" class=\"node\">\n<title>198</title>\n<polygon fill=\"none\" stroke=\"#000000\" points=\"3449,-1093 3342,-1093 3342,-1025 3449,-1025 3449,-1093\"/>\n<text text-anchor=\"middle\" x=\"3395.5\" y=\"-1077.8\" font-family=\"Helvetica,sans-Serif\" font-size=\"14.00\" fill=\"#000000\">X[4] &lt;= 11.75</text>\n<text text-anchor=\"middle\" x=\"3395.5\" y=\"-1062.8\" font-family=\"Helvetica,sans-Serif\" font-size=\"14.00\" fill=\"#000000\">gini = 0.305</text>\n<text text-anchor=\"middle\" x=\"3395.5\" y=\"-1047.8\" font-family=\"Helvetica,sans-Serif\" font-size=\"14.00\" fill=\"#000000\">samples = 16</text>\n<text text-anchor=\"middle\" x=\"3395.5\" y=\"-1032.8\" font-family=\"Helvetica,sans-Serif\" font-size=\"14.00\" fill=\"#000000\">value = [13, 3]</text>\n</g>\n<!-- 196&#45;&gt;198 -->\n<g id=\"edge198\" class=\"edge\">\n<title>196&#45;&gt;198</title>\n<path fill=\"none\" stroke=\"#000000\" d=\"M3395.5,-1128.9465C3395.5,-1120.776 3395.5,-1111.9318 3395.5,-1103.3697\"/>\n<polygon fill=\"#000000\" stroke=\"#000000\" points=\"3399.0001,-1103.13 3395.5,-1093.13 3392.0001,-1103.13 3399.0001,-1103.13\"/>\n</g>\n<!-- 199 -->\n<g id=\"node200\" class=\"node\">\n<title>199</title>\n<polygon fill=\"none\" stroke=\"#000000\" points=\"3322,-981.5 3223,-981.5 3223,-928.5 3322,-928.5 3322,-981.5\"/>\n<text text-anchor=\"middle\" x=\"3272.5\" y=\"-966.3\" font-family=\"Helvetica,sans-Serif\" font-size=\"14.00\" fill=\"#000000\">gini = 0.0</text>\n<text text-anchor=\"middle\" x=\"3272.5\" y=\"-951.3\" font-family=\"Helvetica,sans-Serif\" font-size=\"14.00\" fill=\"#000000\">samples = 7</text>\n<text text-anchor=\"middle\" x=\"3272.5\" y=\"-936.3\" font-family=\"Helvetica,sans-Serif\" font-size=\"14.00\" fill=\"#000000\">value = [7, 0]</text>\n</g>\n<!-- 198&#45;&gt;199 -->\n<g id=\"edge199\" class=\"edge\">\n<title>198&#45;&gt;199</title>\n<path fill=\"none\" stroke=\"#000000\" d=\"M3355.2252,-1024.9465C3341.2861,-1013.1606 3325.6888,-999.9726 3311.8268,-988.2519\"/>\n<polygon fill=\"#000000\" stroke=\"#000000\" points=\"3313.7873,-985.3262 3303.8912,-981.5422 3309.2676,-990.6715 3313.7873,-985.3262\"/>\n</g>\n<!-- 200 -->\n<g id=\"node201\" class=\"node\">\n<title>200</title>\n<polygon fill=\"none\" stroke=\"#000000\" points=\"3451,-989 3340,-989 3340,-921 3451,-921 3451,-989\"/>\n<text text-anchor=\"middle\" x=\"3395.5\" y=\"-973.8\" font-family=\"Helvetica,sans-Serif\" font-size=\"14.00\" fill=\"#000000\">X[4] &lt;= 14.456</text>\n<text text-anchor=\"middle\" x=\"3395.5\" y=\"-958.8\" font-family=\"Helvetica,sans-Serif\" font-size=\"14.00\" fill=\"#000000\">gini = 0.444</text>\n<text text-anchor=\"middle\" x=\"3395.5\" y=\"-943.8\" font-family=\"Helvetica,sans-Serif\" font-size=\"14.00\" fill=\"#000000\">samples = 9</text>\n<text text-anchor=\"middle\" x=\"3395.5\" y=\"-928.8\" font-family=\"Helvetica,sans-Serif\" font-size=\"14.00\" fill=\"#000000\">value = [6, 3]</text>\n</g>\n<!-- 198&#45;&gt;200 -->\n<g id=\"edge200\" class=\"edge\">\n<title>198&#45;&gt;200</title>\n<path fill=\"none\" stroke=\"#000000\" d=\"M3395.5,-1024.9465C3395.5,-1016.776 3395.5,-1007.9318 3395.5,-999.3697\"/>\n<polygon fill=\"#000000\" stroke=\"#000000\" points=\"3399.0001,-999.13 3395.5,-989.13 3392.0001,-999.13 3399.0001,-999.13\"/>\n</g>\n<!-- 201 -->\n<g id=\"node202\" class=\"node\">\n<title>201</title>\n<polygon fill=\"none\" stroke=\"#000000\" points=\"3284,-885 3181,-885 3181,-817 3284,-817 3284,-885\"/>\n<text text-anchor=\"middle\" x=\"3232.5\" y=\"-869.8\" font-family=\"Helvetica,sans-Serif\" font-size=\"14.00\" fill=\"#000000\">X[1] &lt;= 29.85</text>\n<text text-anchor=\"middle\" x=\"3232.5\" y=\"-854.8\" font-family=\"Helvetica,sans-Serif\" font-size=\"14.00\" fill=\"#000000\">gini = 0.5</text>\n<text text-anchor=\"middle\" x=\"3232.5\" y=\"-839.8\" font-family=\"Helvetica,sans-Serif\" font-size=\"14.00\" fill=\"#000000\">samples = 6</text>\n<text text-anchor=\"middle\" x=\"3232.5\" y=\"-824.8\" font-family=\"Helvetica,sans-Serif\" font-size=\"14.00\" fill=\"#000000\">value = [3, 3]</text>\n</g>\n<!-- 200&#45;&gt;201 -->\n<g id=\"edge201\" class=\"edge\">\n<title>200&#45;&gt;201</title>\n<path fill=\"none\" stroke=\"#000000\" d=\"M3342.1277,-920.9465C3326.3814,-910.8998 3309.0385,-899.8344 3292.8843,-889.5274\"/>\n<polygon fill=\"#000000\" stroke=\"#000000\" points=\"3294.3626,-886.3189 3284.0497,-883.8906 3290.5974,-892.22 3294.3626,-886.3189\"/>\n</g>\n<!-- 206 -->\n<g id=\"node207\" class=\"node\">\n<title>206</title>\n<polygon fill=\"none\" stroke=\"#000000\" points=\"3445,-877.5 3346,-877.5 3346,-824.5 3445,-824.5 3445,-877.5\"/>\n<text text-anchor=\"middle\" x=\"3395.5\" y=\"-862.3\" font-family=\"Helvetica,sans-Serif\" font-size=\"14.00\" fill=\"#000000\">gini = 0.0</text>\n<text text-anchor=\"middle\" x=\"3395.5\" y=\"-847.3\" font-family=\"Helvetica,sans-Serif\" font-size=\"14.00\" fill=\"#000000\">samples = 3</text>\n<text text-anchor=\"middle\" x=\"3395.5\" y=\"-832.3\" font-family=\"Helvetica,sans-Serif\" font-size=\"14.00\" fill=\"#000000\">value = [3, 0]</text>\n</g>\n<!-- 200&#45;&gt;206 -->\n<g id=\"edge206\" class=\"edge\">\n<title>200&#45;&gt;206</title>\n<path fill=\"none\" stroke=\"#000000\" d=\"M3395.5,-920.9465C3395.5,-910.2621 3395.5,-898.4254 3395.5,-887.5742\"/>\n<polygon fill=\"#000000\" stroke=\"#000000\" points=\"3399.0001,-887.5421 3395.5,-877.5422 3392.0001,-887.5422 3399.0001,-887.5421\"/>\n</g>\n<!-- 202 -->\n<g id=\"node203\" class=\"node\">\n<title>202</title>\n<polygon fill=\"none\" stroke=\"#000000\" points=\"3158,-773.5 3059,-773.5 3059,-720.5 3158,-720.5 3158,-773.5\"/>\n<text text-anchor=\"middle\" x=\"3108.5\" y=\"-758.3\" font-family=\"Helvetica,sans-Serif\" font-size=\"14.00\" fill=\"#000000\">gini = 0.0</text>\n<text text-anchor=\"middle\" x=\"3108.5\" y=\"-743.3\" font-family=\"Helvetica,sans-Serif\" font-size=\"14.00\" fill=\"#000000\">samples = 2</text>\n<text text-anchor=\"middle\" x=\"3108.5\" y=\"-728.3\" font-family=\"Helvetica,sans-Serif\" font-size=\"14.00\" fill=\"#000000\">value = [0, 2]</text>\n</g>\n<!-- 201&#45;&gt;202 -->\n<g id=\"edge202\" class=\"edge\">\n<title>201&#45;&gt;202</title>\n<path fill=\"none\" stroke=\"#000000\" d=\"M3191.8978,-816.9465C3177.8453,-805.1606 3162.1212,-791.9726 3148.1465,-780.2519\"/>\n<polygon fill=\"#000000\" stroke=\"#000000\" points=\"3150.0575,-777.2866 3140.1464,-773.5422 3145.5592,-782.65 3150.0575,-777.2866\"/>\n</g>\n<!-- 203 -->\n<g id=\"node204\" class=\"node\">\n<title>203</title>\n<polygon fill=\"none\" stroke=\"#000000\" points=\"3275,-781 3176,-781 3176,-713 3275,-713 3275,-781\"/>\n<text text-anchor=\"middle\" x=\"3225.5\" y=\"-765.8\" font-family=\"Helvetica,sans-Serif\" font-size=\"14.00\" fill=\"#000000\">X[1] &lt;= 30.5</text>\n<text text-anchor=\"middle\" x=\"3225.5\" y=\"-750.8\" font-family=\"Helvetica,sans-Serif\" font-size=\"14.00\" fill=\"#000000\">gini = 0.375</text>\n<text text-anchor=\"middle\" x=\"3225.5\" y=\"-735.8\" font-family=\"Helvetica,sans-Serif\" font-size=\"14.00\" fill=\"#000000\">samples = 4</text>\n<text text-anchor=\"middle\" x=\"3225.5\" y=\"-720.8\" font-family=\"Helvetica,sans-Serif\" font-size=\"14.00\" fill=\"#000000\">value = [3, 1]</text>\n</g>\n<!-- 201&#45;&gt;203 -->\n<g id=\"edge203\" class=\"edge\">\n<title>201&#45;&gt;203</title>\n<path fill=\"none\" stroke=\"#000000\" d=\"M3230.2079,-816.9465C3229.658,-808.776 3229.0627,-799.9318 3228.4864,-791.3697\"/>\n<polygon fill=\"#000000\" stroke=\"#000000\" points=\"3231.961,-790.8723 3227.7972,-781.13 3224.9768,-791.3425 3231.961,-790.8723\"/>\n</g>\n<!-- 204 -->\n<g id=\"node205\" class=\"node\">\n<title>204</title>\n<polygon fill=\"none\" stroke=\"#000000\" points=\"3091,-669.5 2992,-669.5 2992,-616.5 3091,-616.5 3091,-669.5\"/>\n<text text-anchor=\"middle\" x=\"3041.5\" y=\"-654.3\" font-family=\"Helvetica,sans-Serif\" font-size=\"14.00\" fill=\"#000000\">gini = 0.0</text>\n<text text-anchor=\"middle\" x=\"3041.5\" y=\"-639.3\" font-family=\"Helvetica,sans-Serif\" font-size=\"14.00\" fill=\"#000000\">samples = 3</text>\n<text text-anchor=\"middle\" x=\"3041.5\" y=\"-624.3\" font-family=\"Helvetica,sans-Serif\" font-size=\"14.00\" fill=\"#000000\">value = [3, 0]</text>\n</g>\n<!-- 203&#45;&gt;204 -->\n<g id=\"edge204\" class=\"edge\">\n<title>203&#45;&gt;204</title>\n<path fill=\"none\" stroke=\"#000000\" d=\"M3175.9863,-718.3244C3172.7817,-716.5125 3169.5989,-714.7249 3166.5,-713 3136.9634,-696.559 3128.9753,-693.5505 3099.5,-677 3098.1642,-676.25 3096.8129,-675.4874 3095.4513,-674.7157\"/>\n<polygon fill=\"#000000\" stroke=\"#000000\" points=\"3096.7865,-671.4475 3086.3678,-669.5232 3093.3124,-677.5246 3096.7865,-671.4475\"/>\n</g>\n<!-- 205 -->\n<g id=\"node206\" class=\"node\">\n<title>205</title>\n<polygon fill=\"none\" stroke=\"#000000\" points=\"3208,-669.5 3109,-669.5 3109,-616.5 3208,-616.5 3208,-669.5\"/>\n<text text-anchor=\"middle\" x=\"3158.5\" y=\"-654.3\" font-family=\"Helvetica,sans-Serif\" font-size=\"14.00\" fill=\"#000000\">gini = 0.0</text>\n<text text-anchor=\"middle\" x=\"3158.5\" y=\"-639.3\" font-family=\"Helvetica,sans-Serif\" font-size=\"14.00\" fill=\"#000000\">samples = 1</text>\n<text text-anchor=\"middle\" x=\"3158.5\" y=\"-624.3\" font-family=\"Helvetica,sans-Serif\" font-size=\"14.00\" fill=\"#000000\">value = [0, 1]</text>\n</g>\n<!-- 203&#45;&gt;205 -->\n<g id=\"edge205\" class=\"edge\">\n<title>203&#45;&gt;205</title>\n<path fill=\"none\" stroke=\"#000000\" d=\"M3203.5617,-712.9465C3196.3946,-701.8215 3188.4227,-689.4473 3181.2007,-678.237\"/>\n<polygon fill=\"#000000\" stroke=\"#000000\" points=\"3183.9574,-676.0532 3175.5993,-669.5422 3178.0728,-679.8442 3183.9574,-676.0532\"/>\n</g>\n<!-- 208 -->\n<g id=\"node209\" class=\"node\">\n<title>208</title>\n<polygon fill=\"none\" stroke=\"#000000\" points=\"4181.5,-1093 4057.5,-1093 4057.5,-1025 4181.5,-1025 4181.5,-1093\"/>\n<text text-anchor=\"middle\" x=\"4119.5\" y=\"-1077.8\" font-family=\"Helvetica,sans-Serif\" font-size=\"14.00\" fill=\"#000000\">X[1] &lt;= 29.35</text>\n<text text-anchor=\"middle\" x=\"4119.5\" y=\"-1062.8\" font-family=\"Helvetica,sans-Serif\" font-size=\"14.00\" fill=\"#000000\">gini = 0.195</text>\n<text text-anchor=\"middle\" x=\"4119.5\" y=\"-1047.8\" font-family=\"Helvetica,sans-Serif\" font-size=\"14.00\" fill=\"#000000\">samples = 164</text>\n<text text-anchor=\"middle\" x=\"4119.5\" y=\"-1032.8\" font-family=\"Helvetica,sans-Serif\" font-size=\"14.00\" fill=\"#000000\">value = [146, 18]</text>\n</g>\n<!-- 207&#45;&gt;208 -->\n<g id=\"edge208\" class=\"edge\">\n<title>207&#45;&gt;208</title>\n<path fill=\"none\" stroke=\"#000000\" d=\"M4126.2256,-1128.9465C4125.4314,-1120.6863 4124.5709,-1111.7374 4123.7392,-1103.0875\"/>\n<polygon fill=\"#000000\" stroke=\"#000000\" points=\"4127.2229,-1102.7491 4122.7817,-1093.13 4120.255,-1103.4191 4127.2229,-1102.7491\"/>\n</g>\n<!-- 283 -->\n<g id=\"node284\" class=\"node\">\n<title>283</title>\n<polygon fill=\"none\" stroke=\"#000000\" points=\"4471,-1093 4364,-1093 4364,-1025 4471,-1025 4471,-1093\"/>\n<text text-anchor=\"middle\" x=\"4417.5\" y=\"-1077.8\" font-family=\"Helvetica,sans-Serif\" font-size=\"14.00\" fill=\"#000000\">X[3] &lt;= 1.5</text>\n<text text-anchor=\"middle\" x=\"4417.5\" y=\"-1062.8\" font-family=\"Helvetica,sans-Serif\" font-size=\"14.00\" fill=\"#000000\">gini = 0.408</text>\n<text text-anchor=\"middle\" x=\"4417.5\" y=\"-1047.8\" font-family=\"Helvetica,sans-Serif\" font-size=\"14.00\" fill=\"#000000\">samples = 14</text>\n<text text-anchor=\"middle\" x=\"4417.5\" y=\"-1032.8\" font-family=\"Helvetica,sans-Serif\" font-size=\"14.00\" fill=\"#000000\">value = [10, 4]</text>\n</g>\n<!-- 207&#45;&gt;283 -->\n<g id=\"edge283\" class=\"edge\">\n<title>207&#45;&gt;283</title>\n<path fill=\"none\" stroke=\"#000000\" d=\"M4191.6371,-1140.5616C4239.6948,-1123.2074 4305.9679,-1099.2755 4354.2931,-1081.8247\"/>\n<polygon fill=\"#000000\" stroke=\"#000000\" points=\"4355.4913,-1085.1133 4363.7081,-1078.4248 4353.1138,-1078.5294 4355.4913,-1085.1133\"/>\n</g>\n<!-- 209 -->\n<g id=\"node210\" class=\"node\">\n<title>209</title>\n<polygon fill=\"none\" stroke=\"#000000\" points=\"3817.5,-989 3701.5,-989 3701.5,-921 3817.5,-921 3817.5,-989\"/>\n<text text-anchor=\"middle\" x=\"3759.5\" y=\"-973.8\" font-family=\"Helvetica,sans-Serif\" font-size=\"14.00\" fill=\"#000000\">X[1] &lt;= 28.75</text>\n<text text-anchor=\"middle\" x=\"3759.5\" y=\"-958.8\" font-family=\"Helvetica,sans-Serif\" font-size=\"14.00\" fill=\"#000000\">gini = 0.254</text>\n<text text-anchor=\"middle\" x=\"3759.5\" y=\"-943.8\" font-family=\"Helvetica,sans-Serif\" font-size=\"14.00\" fill=\"#000000\">samples = 94</text>\n<text text-anchor=\"middle\" x=\"3759.5\" y=\"-928.8\" font-family=\"Helvetica,sans-Serif\" font-size=\"14.00\" fill=\"#000000\">value = [80, 14]</text>\n</g>\n<!-- 208&#45;&gt;209 -->\n<g id=\"edge209\" class=\"edge\">\n<title>208&#45;&gt;209</title>\n<path fill=\"none\" stroke=\"#000000\" d=\"M4057.2038,-1041.0033C3993.1747,-1022.506 3893.7614,-993.7866 3827.6665,-974.6925\"/>\n<polygon fill=\"#000000\" stroke=\"#000000\" points=\"3828.3388,-971.2437 3817.7603,-971.8307 3826.396,-977.9687 3828.3388,-971.2437\"/>\n</g>\n<!-- 262 -->\n<g id=\"node263\" class=\"node\">\n<title>262</title>\n<polygon fill=\"none\" stroke=\"#000000\" points=\"4173,-989 4066,-989 4066,-921 4173,-921 4173,-989\"/>\n<text text-anchor=\"middle\" x=\"4119.5\" y=\"-973.8\" font-family=\"Helvetica,sans-Serif\" font-size=\"14.00\" fill=\"#000000\">X[4] &lt;= 7.802</text>\n<text text-anchor=\"middle\" x=\"4119.5\" y=\"-958.8\" font-family=\"Helvetica,sans-Serif\" font-size=\"14.00\" fill=\"#000000\">gini = 0.108</text>\n<text text-anchor=\"middle\" x=\"4119.5\" y=\"-943.8\" font-family=\"Helvetica,sans-Serif\" font-size=\"14.00\" fill=\"#000000\">samples = 70</text>\n<text text-anchor=\"middle\" x=\"4119.5\" y=\"-928.8\" font-family=\"Helvetica,sans-Serif\" font-size=\"14.00\" fill=\"#000000\">value = [66, 4]</text>\n</g>\n<!-- 208&#45;&gt;262 -->\n<g id=\"edge262\" class=\"edge\">\n<title>208&#45;&gt;262</title>\n<path fill=\"none\" stroke=\"#000000\" d=\"M4119.5,-1024.9465C4119.5,-1016.776 4119.5,-1007.9318 4119.5,-999.3697\"/>\n<polygon fill=\"#000000\" stroke=\"#000000\" points=\"4123.0001,-999.13 4119.5,-989.13 4116.0001,-999.13 4123.0001,-999.13\"/>\n</g>\n<!-- 210 -->\n<g id=\"node211\" class=\"node\">\n<title>210</title>\n<polygon fill=\"none\" stroke=\"#000000\" points=\"3630.5,-885 3514.5,-885 3514.5,-817 3630.5,-817 3630.5,-885\"/>\n<text text-anchor=\"middle\" x=\"3572.5\" y=\"-869.8\" font-family=\"Helvetica,sans-Serif\" font-size=\"14.00\" fill=\"#000000\">X[4] &lt;= 7.013</text>\n<text text-anchor=\"middle\" x=\"3572.5\" y=\"-854.8\" font-family=\"Helvetica,sans-Serif\" font-size=\"14.00\" fill=\"#000000\">gini = 0.217</text>\n<text text-anchor=\"middle\" x=\"3572.5\" y=\"-839.8\" font-family=\"Helvetica,sans-Serif\" font-size=\"14.00\" fill=\"#000000\">samples = 89</text>\n<text text-anchor=\"middle\" x=\"3572.5\" y=\"-824.8\" font-family=\"Helvetica,sans-Serif\" font-size=\"14.00\" fill=\"#000000\">value = [78, 11]</text>\n</g>\n<!-- 209&#45;&gt;210 -->\n<g id=\"edge210\" class=\"edge\">\n<title>209&#45;&gt;210</title>\n<path fill=\"none\" stroke=\"#000000\" d=\"M3701.3571,-922.6638C3681.7442,-911.7561 3659.6972,-899.4947 3639.459,-888.2392\"/>\n<polygon fill=\"#000000\" stroke=\"#000000\" points=\"3641.0475,-885.1178 3630.607,-883.3162 3637.6452,-891.2354 3641.0475,-885.1178\"/>\n</g>\n<!-- 255 -->\n<g id=\"node256\" class=\"node\">\n<title>255</title>\n<polygon fill=\"none\" stroke=\"#000000\" points=\"3811,-885 3708,-885 3708,-817 3811,-817 3811,-885\"/>\n<text text-anchor=\"middle\" x=\"3759.5\" y=\"-869.8\" font-family=\"Helvetica,sans-Serif\" font-size=\"14.00\" fill=\"#000000\">X[4] &lt;= 7.835</text>\n<text text-anchor=\"middle\" x=\"3759.5\" y=\"-854.8\" font-family=\"Helvetica,sans-Serif\" font-size=\"14.00\" fill=\"#000000\">gini = 0.48</text>\n<text text-anchor=\"middle\" x=\"3759.5\" y=\"-839.8\" font-family=\"Helvetica,sans-Serif\" font-size=\"14.00\" fill=\"#000000\">samples = 5</text>\n<text text-anchor=\"middle\" x=\"3759.5\" y=\"-824.8\" font-family=\"Helvetica,sans-Serif\" font-size=\"14.00\" fill=\"#000000\">value = [2, 3]</text>\n</g>\n<!-- 209&#45;&gt;255 -->\n<g id=\"edge255\" class=\"edge\">\n<title>209&#45;&gt;255</title>\n<path fill=\"none\" stroke=\"#000000\" d=\"M3759.5,-920.9465C3759.5,-912.776 3759.5,-903.9318 3759.5,-895.3697\"/>\n<polygon fill=\"#000000\" stroke=\"#000000\" points=\"3763.0001,-895.13 3759.5,-885.13 3756.0001,-895.13 3763.0001,-895.13\"/>\n</g>\n<!-- 211 -->\n<g id=\"node212\" class=\"node\">\n<title>211</title>\n<polygon fill=\"none\" stroke=\"#000000\" points=\"3442,-781 3343,-781 3343,-713 3442,-713 3442,-781\"/>\n<text text-anchor=\"middle\" x=\"3392.5\" y=\"-765.8\" font-family=\"Helvetica,sans-Serif\" font-size=\"14.00\" fill=\"#000000\">X[1] &lt;= 22.5</text>\n<text text-anchor=\"middle\" x=\"3392.5\" y=\"-750.8\" font-family=\"Helvetica,sans-Serif\" font-size=\"14.00\" fill=\"#000000\">gini = 0.48</text>\n<text text-anchor=\"middle\" x=\"3392.5\" y=\"-735.8\" font-family=\"Helvetica,sans-Serif\" font-size=\"14.00\" fill=\"#000000\">samples = 5</text>\n<text text-anchor=\"middle\" x=\"3392.5\" y=\"-720.8\" font-family=\"Helvetica,sans-Serif\" font-size=\"14.00\" fill=\"#000000\">value = [3, 2]</text>\n</g>\n<!-- 210&#45;&gt;211 -->\n<g id=\"edge211\" class=\"edge\">\n<title>210&#45;&gt;211</title>\n<path fill=\"none\" stroke=\"#000000\" d=\"M3514.0592,-817.2342C3493.85,-805.5578 3471.21,-792.4769 3450.9963,-780.7979\"/>\n<polygon fill=\"#000000\" stroke=\"#000000\" points=\"3452.6073,-777.6865 3442.1977,-775.7142 3449.1054,-783.7476 3452.6073,-777.6865\"/>\n</g>\n<!-- 214 -->\n<g id=\"node215\" class=\"node\">\n<title>214</title>\n<polygon fill=\"none\" stroke=\"#000000\" points=\"3626,-781 3519,-781 3519,-713 3626,-713 3626,-781\"/>\n<text text-anchor=\"middle\" x=\"3572.5\" y=\"-765.8\" font-family=\"Helvetica,sans-Serif\" font-size=\"14.00\" fill=\"#000000\">X[1] &lt;= 20.25</text>\n<text text-anchor=\"middle\" x=\"3572.5\" y=\"-750.8\" font-family=\"Helvetica,sans-Serif\" font-size=\"14.00\" fill=\"#000000\">gini = 0.191</text>\n<text text-anchor=\"middle\" x=\"3572.5\" y=\"-735.8\" font-family=\"Helvetica,sans-Serif\" font-size=\"14.00\" fill=\"#000000\">samples = 84</text>\n<text text-anchor=\"middle\" x=\"3572.5\" y=\"-720.8\" font-family=\"Helvetica,sans-Serif\" font-size=\"14.00\" fill=\"#000000\">value = [75, 9]</text>\n</g>\n<!-- 210&#45;&gt;214 -->\n<g id=\"edge214\" class=\"edge\">\n<title>210&#45;&gt;214</title>\n<path fill=\"none\" stroke=\"#000000\" d=\"M3572.5,-816.9465C3572.5,-808.776 3572.5,-799.9318 3572.5,-791.3697\"/>\n<polygon fill=\"#000000\" stroke=\"#000000\" points=\"3576.0001,-791.13 3572.5,-781.13 3569.0001,-791.13 3576.0001,-791.13\"/>\n</g>\n<!-- 212 -->\n<g id=\"node213\" class=\"node\">\n<title>212</title>\n<polygon fill=\"none\" stroke=\"#000000\" points=\"3325,-669.5 3226,-669.5 3226,-616.5 3325,-616.5 3325,-669.5\"/>\n<text text-anchor=\"middle\" x=\"3275.5\" y=\"-654.3\" font-family=\"Helvetica,sans-Serif\" font-size=\"14.00\" fill=\"#000000\">gini = 0.0</text>\n<text text-anchor=\"middle\" x=\"3275.5\" y=\"-639.3\" font-family=\"Helvetica,sans-Serif\" font-size=\"14.00\" fill=\"#000000\">samples = 3</text>\n<text text-anchor=\"middle\" x=\"3275.5\" y=\"-624.3\" font-family=\"Helvetica,sans-Serif\" font-size=\"14.00\" fill=\"#000000\">value = [3, 0]</text>\n</g>\n<!-- 211&#45;&gt;212 -->\n<g id=\"edge212\" class=\"edge\">\n<title>211&#45;&gt;212</title>\n<path fill=\"none\" stroke=\"#000000\" d=\"M3354.1898,-712.9465C3340.9306,-701.1606 3326.0942,-687.9726 3312.9084,-676.2519\"/>\n<polygon fill=\"#000000\" stroke=\"#000000\" points=\"3315.1593,-673.5699 3305.3599,-669.5422 3310.5088,-678.8018 3315.1593,-673.5699\"/>\n</g>\n<!-- 213 -->\n<g id=\"node214\" class=\"node\">\n<title>213</title>\n<polygon fill=\"none\" stroke=\"#000000\" points=\"3442,-669.5 3343,-669.5 3343,-616.5 3442,-616.5 3442,-669.5\"/>\n<text text-anchor=\"middle\" x=\"3392.5\" y=\"-654.3\" font-family=\"Helvetica,sans-Serif\" font-size=\"14.00\" fill=\"#000000\">gini = 0.0</text>\n<text text-anchor=\"middle\" x=\"3392.5\" y=\"-639.3\" font-family=\"Helvetica,sans-Serif\" font-size=\"14.00\" fill=\"#000000\">samples = 2</text>\n<text text-anchor=\"middle\" x=\"3392.5\" y=\"-624.3\" font-family=\"Helvetica,sans-Serif\" font-size=\"14.00\" fill=\"#000000\">value = [0, 2]</text>\n</g>\n<!-- 211&#45;&gt;213 -->\n<g id=\"edge213\" class=\"edge\">\n<title>211&#45;&gt;213</title>\n<path fill=\"none\" stroke=\"#000000\" d=\"M3392.5,-712.9465C3392.5,-702.2621 3392.5,-690.4254 3392.5,-679.5742\"/>\n<polygon fill=\"#000000\" stroke=\"#000000\" points=\"3396.0001,-679.5421 3392.5,-669.5422 3389.0001,-679.5422 3396.0001,-679.5421\"/>\n</g>\n<!-- 215 -->\n<g id=\"node216\" class=\"node\">\n<title>215</title>\n<polygon fill=\"none\" stroke=\"#000000\" points=\"3567,-677 3460,-677 3460,-609 3567,-609 3567,-677\"/>\n<text text-anchor=\"middle\" x=\"3513.5\" y=\"-661.8\" font-family=\"Helvetica,sans-Serif\" font-size=\"14.00\" fill=\"#000000\">X[4] &lt;= 8.175</text>\n<text text-anchor=\"middle\" x=\"3513.5\" y=\"-646.8\" font-family=\"Helvetica,sans-Serif\" font-size=\"14.00\" fill=\"#000000\">gini = 0.264</text>\n<text text-anchor=\"middle\" x=\"3513.5\" y=\"-631.8\" font-family=\"Helvetica,sans-Serif\" font-size=\"14.00\" fill=\"#000000\">samples = 32</text>\n<text text-anchor=\"middle\" x=\"3513.5\" y=\"-616.8\" font-family=\"Helvetica,sans-Serif\" font-size=\"14.00\" fill=\"#000000\">value = [27, 5]</text>\n</g>\n<!-- 214&#45;&gt;215 -->\n<g id=\"edge215\" class=\"edge\">\n<title>214&#45;&gt;215</title>\n<path fill=\"none\" stroke=\"#000000\" d=\"M3553.1812,-712.9465C3548.2913,-704.3271 3542.9761,-694.9579 3537.8722,-685.9611\"/>\n<polygon fill=\"#000000\" stroke=\"#000000\" points=\"3540.8408,-684.1008 3532.8622,-677.13 3534.7524,-687.5549 3540.8408,-684.1008\"/>\n</g>\n<!-- 234 -->\n<g id=\"node235\" class=\"node\">\n<title>234</title>\n<polygon fill=\"none\" stroke=\"#000000\" points=\"3692,-677 3585,-677 3585,-609 3692,-609 3692,-677\"/>\n<text text-anchor=\"middle\" x=\"3638.5\" y=\"-661.8\" font-family=\"Helvetica,sans-Serif\" font-size=\"14.00\" fill=\"#000000\">X[4] &lt;= 7.183</text>\n<text text-anchor=\"middle\" x=\"3638.5\" y=\"-646.8\" font-family=\"Helvetica,sans-Serif\" font-size=\"14.00\" fill=\"#000000\">gini = 0.142</text>\n<text text-anchor=\"middle\" x=\"3638.5\" y=\"-631.8\" font-family=\"Helvetica,sans-Serif\" font-size=\"14.00\" fill=\"#000000\">samples = 52</text>\n<text text-anchor=\"middle\" x=\"3638.5\" y=\"-616.8\" font-family=\"Helvetica,sans-Serif\" font-size=\"14.00\" fill=\"#000000\">value = [48, 4]</text>\n</g>\n<!-- 214&#45;&gt;234 -->\n<g id=\"edge234\" class=\"edge\">\n<title>214&#45;&gt;234</title>\n<path fill=\"none\" stroke=\"#000000\" d=\"M3594.1109,-712.9465C3599.6378,-704.2373 3605.6506,-694.7626 3611.4146,-685.6801\"/>\n<polygon fill=\"#000000\" stroke=\"#000000\" points=\"3614.4374,-687.4487 3616.8406,-677.13 3608.5271,-683.6979 3614.4374,-687.4487\"/>\n</g>\n<!-- 216 -->\n<g id=\"node217\" class=\"node\">\n<title>216</title>\n<polygon fill=\"none\" stroke=\"#000000\" points=\"3447,-573 3340,-573 3340,-505 3447,-505 3447,-573\"/>\n<text text-anchor=\"middle\" x=\"3393.5\" y=\"-557.8\" font-family=\"Helvetica,sans-Serif\" font-size=\"14.00\" fill=\"#000000\">X[4] &lt;= 7.91</text>\n<text text-anchor=\"middle\" x=\"3393.5\" y=\"-542.8\" font-family=\"Helvetica,sans-Serif\" font-size=\"14.00\" fill=\"#000000\">gini = 0.34</text>\n<text text-anchor=\"middle\" x=\"3393.5\" y=\"-527.8\" font-family=\"Helvetica,sans-Serif\" font-size=\"14.00\" fill=\"#000000\">samples = 23</text>\n<text text-anchor=\"middle\" x=\"3393.5\" y=\"-512.8\" font-family=\"Helvetica,sans-Serif\" font-size=\"14.00\" fill=\"#000000\">value = [18, 5]</text>\n</g>\n<!-- 215&#45;&gt;216 -->\n<g id=\"edge216\" class=\"edge\">\n<title>215&#45;&gt;216</title>\n<path fill=\"none\" stroke=\"#000000\" d=\"M3474.2075,-608.9465C3463.4333,-599.6088 3451.6436,-589.3911 3440.485,-579.7203\"/>\n<polygon fill=\"#000000\" stroke=\"#000000\" points=\"3442.7299,-577.0344 3432.8808,-573.13 3438.1454,-582.3243 3442.7299,-577.0344\"/>\n</g>\n<!-- 233 -->\n<g id=\"node234\" class=\"node\">\n<title>233</title>\n<polygon fill=\"none\" stroke=\"#000000\" points=\"3564,-565.5 3465,-565.5 3465,-512.5 3564,-512.5 3564,-565.5\"/>\n<text text-anchor=\"middle\" x=\"3514.5\" y=\"-550.3\" font-family=\"Helvetica,sans-Serif\" font-size=\"14.00\" fill=\"#000000\">gini = 0.0</text>\n<text text-anchor=\"middle\" x=\"3514.5\" y=\"-535.3\" font-family=\"Helvetica,sans-Serif\" font-size=\"14.00\" fill=\"#000000\">samples = 9</text>\n<text text-anchor=\"middle\" x=\"3514.5\" y=\"-520.3\" font-family=\"Helvetica,sans-Serif\" font-size=\"14.00\" fill=\"#000000\">value = [9, 0]</text>\n</g>\n<!-- 215&#45;&gt;233 -->\n<g id=\"edge233\" class=\"edge\">\n<title>215&#45;&gt;233</title>\n<path fill=\"none\" stroke=\"#000000\" d=\"M3513.8274,-608.9465C3513.9302,-598.2621 3514.044,-586.4254 3514.1483,-575.5742\"/>\n<polygon fill=\"#000000\" stroke=\"#000000\" points=\"3517.6484,-575.5754 3514.2448,-565.5422 3510.6487,-575.508 3517.6484,-575.5754\"/>\n</g>\n<!-- 217 -->\n<g id=\"node218\" class=\"node\">\n<title>217</title>\n<polygon fill=\"none\" stroke=\"#000000\" points=\"3327,-469 3220,-469 3220,-401 3327,-401 3327,-469\"/>\n<text text-anchor=\"middle\" x=\"3273.5\" y=\"-453.8\" font-family=\"Helvetica,sans-Serif\" font-size=\"14.00\" fill=\"#000000\">X[1] &lt;= 19.5</text>\n<text text-anchor=\"middle\" x=\"3273.5\" y=\"-438.8\" font-family=\"Helvetica,sans-Serif\" font-size=\"14.00\" fill=\"#000000\">gini = 0.117</text>\n<text text-anchor=\"middle\" x=\"3273.5\" y=\"-423.8\" font-family=\"Helvetica,sans-Serif\" font-size=\"14.00\" fill=\"#000000\">samples = 16</text>\n<text text-anchor=\"middle\" x=\"3273.5\" y=\"-408.8\" font-family=\"Helvetica,sans-Serif\" font-size=\"14.00\" fill=\"#000000\">value = [15, 1]</text>\n</g>\n<!-- 216&#45;&gt;217 -->\n<g id=\"edge217\" class=\"edge\">\n<title>216&#45;&gt;217</title>\n<path fill=\"none\" stroke=\"#000000\" d=\"M3354.2075,-504.9465C3343.4333,-495.6088 3331.6436,-485.3911 3320.485,-475.7203\"/>\n<polygon fill=\"#000000\" stroke=\"#000000\" points=\"3322.7299,-473.0344 3312.8808,-469.13 3318.1454,-478.3243 3322.7299,-473.0344\"/>\n</g>\n<!-- 224 -->\n<g id=\"node225\" class=\"node\">\n<title>224</title>\n<polygon fill=\"none\" stroke=\"#000000\" points=\"3444,-469 3345,-469 3345,-401 3444,-401 3444,-469\"/>\n<text text-anchor=\"middle\" x=\"3394.5\" y=\"-453.8\" font-family=\"Helvetica,sans-Serif\" font-size=\"14.00\" fill=\"#000000\">X[3] &lt;= 0.5</text>\n<text text-anchor=\"middle\" x=\"3394.5\" y=\"-438.8\" font-family=\"Helvetica,sans-Serif\" font-size=\"14.00\" fill=\"#000000\">gini = 0.49</text>\n<text text-anchor=\"middle\" x=\"3394.5\" y=\"-423.8\" font-family=\"Helvetica,sans-Serif\" font-size=\"14.00\" fill=\"#000000\">samples = 7</text>\n<text text-anchor=\"middle\" x=\"3394.5\" y=\"-408.8\" font-family=\"Helvetica,sans-Serif\" font-size=\"14.00\" fill=\"#000000\">value = [3, 4]</text>\n</g>\n<!-- 216&#45;&gt;224 -->\n<g id=\"edge224\" class=\"edge\">\n<title>216&#45;&gt;224</title>\n<path fill=\"none\" stroke=\"#000000\" d=\"M3393.8274,-504.9465C3393.906,-496.776 3393.991,-487.9318 3394.0734,-479.3697\"/>\n<polygon fill=\"#000000\" stroke=\"#000000\" points=\"3397.5754,-479.1632 3394.1718,-469.13 3390.5757,-479.0958 3397.5754,-479.1632\"/>\n</g>\n<!-- 218 -->\n<g id=\"node219\" class=\"node\">\n<title>218</title>\n<polygon fill=\"none\" stroke=\"#000000\" points=\"3206,-357.5 3099,-357.5 3099,-304.5 3206,-304.5 3206,-357.5\"/>\n<text text-anchor=\"middle\" x=\"3152.5\" y=\"-342.3\" font-family=\"Helvetica,sans-Serif\" font-size=\"14.00\" fill=\"#000000\">gini = 0.0</text>\n<text text-anchor=\"middle\" x=\"3152.5\" y=\"-327.3\" font-family=\"Helvetica,sans-Serif\" font-size=\"14.00\" fill=\"#000000\">samples = 13</text>\n<text text-anchor=\"middle\" x=\"3152.5\" y=\"-312.3\" font-family=\"Helvetica,sans-Serif\" font-size=\"14.00\" fill=\"#000000\">value = [13, 0]</text>\n</g>\n<!-- 217&#45;&gt;218 -->\n<g id=\"edge218\" class=\"edge\">\n<title>217&#45;&gt;218</title>\n<path fill=\"none\" stroke=\"#000000\" d=\"M3233.8801,-400.9465C3220.1676,-389.1606 3204.8239,-375.9726 3191.1873,-364.2519\"/>\n<polygon fill=\"#000000\" stroke=\"#000000\" points=\"3193.2459,-361.4061 3183.3808,-357.5422 3188.6831,-366.7147 3193.2459,-361.4061\"/>\n</g>\n<!-- 219 -->\n<g id=\"node220\" class=\"node\">\n<title>219</title>\n<polygon fill=\"none\" stroke=\"#000000\" points=\"3323,-365 3224,-365 3224,-297 3323,-297 3323,-365\"/>\n<text text-anchor=\"middle\" x=\"3273.5\" y=\"-349.8\" font-family=\"Helvetica,sans-Serif\" font-size=\"14.00\" fill=\"#000000\">X[4] &lt;= 7.14</text>\n<text text-anchor=\"middle\" x=\"3273.5\" y=\"-334.8\" font-family=\"Helvetica,sans-Serif\" font-size=\"14.00\" fill=\"#000000\">gini = 0.444</text>\n<text text-anchor=\"middle\" x=\"3273.5\" y=\"-319.8\" font-family=\"Helvetica,sans-Serif\" font-size=\"14.00\" fill=\"#000000\">samples = 3</text>\n<text text-anchor=\"middle\" x=\"3273.5\" y=\"-304.8\" font-family=\"Helvetica,sans-Serif\" font-size=\"14.00\" fill=\"#000000\">value = [2, 1]</text>\n</g>\n<!-- 217&#45;&gt;219 -->\n<g id=\"edge219\" class=\"edge\">\n<title>217&#45;&gt;219</title>\n<path fill=\"none\" stroke=\"#000000\" d=\"M3273.5,-400.9465C3273.5,-392.776 3273.5,-383.9318 3273.5,-375.3697\"/>\n<polygon fill=\"#000000\" stroke=\"#000000\" points=\"3277.0001,-375.13 3273.5,-365.13 3270.0001,-375.13 3277.0001,-375.13\"/>\n</g>\n<!-- 220 -->\n<g id=\"node221\" class=\"node\">\n<title>220</title>\n<polygon fill=\"none\" stroke=\"#000000\" points=\"3204,-253.5 3105,-253.5 3105,-200.5 3204,-200.5 3204,-253.5\"/>\n<text text-anchor=\"middle\" x=\"3154.5\" y=\"-238.3\" font-family=\"Helvetica,sans-Serif\" font-size=\"14.00\" fill=\"#000000\">gini = 0.0</text>\n<text text-anchor=\"middle\" x=\"3154.5\" y=\"-223.3\" font-family=\"Helvetica,sans-Serif\" font-size=\"14.00\" fill=\"#000000\">samples = 1</text>\n<text text-anchor=\"middle\" x=\"3154.5\" y=\"-208.3\" font-family=\"Helvetica,sans-Serif\" font-size=\"14.00\" fill=\"#000000\">value = [1, 0]</text>\n</g>\n<!-- 219&#45;&gt;220 -->\n<g id=\"edge220\" class=\"edge\">\n<title>219&#45;&gt;220</title>\n<path fill=\"none\" stroke=\"#000000\" d=\"M3234.5349,-296.9465C3221.0491,-285.1606 3205.9591,-271.9726 3192.5479,-260.2519\"/>\n<polygon fill=\"#000000\" stroke=\"#000000\" points=\"3194.7033,-257.4874 3184.8704,-253.5422 3190.0969,-262.7582 3194.7033,-257.4874\"/>\n</g>\n<!-- 221 -->\n<g id=\"node222\" class=\"node\">\n<title>221</title>\n<polygon fill=\"none\" stroke=\"#000000\" points=\"3325,-261 3222,-261 3222,-193 3325,-193 3325,-261\"/>\n<text text-anchor=\"middle\" x=\"3273.5\" y=\"-245.8\" font-family=\"Helvetica,sans-Serif\" font-size=\"14.00\" fill=\"#000000\">X[4] &lt;= 7.542</text>\n<text text-anchor=\"middle\" x=\"3273.5\" y=\"-230.8\" font-family=\"Helvetica,sans-Serif\" font-size=\"14.00\" fill=\"#000000\">gini = 0.5</text>\n<text text-anchor=\"middle\" x=\"3273.5\" y=\"-215.8\" font-family=\"Helvetica,sans-Serif\" font-size=\"14.00\" fill=\"#000000\">samples = 2</text>\n<text text-anchor=\"middle\" x=\"3273.5\" y=\"-200.8\" font-family=\"Helvetica,sans-Serif\" font-size=\"14.00\" fill=\"#000000\">value = [1, 1]</text>\n</g>\n<!-- 219&#45;&gt;221 -->\n<g id=\"edge221\" class=\"edge\">\n<title>219&#45;&gt;221</title>\n<path fill=\"none\" stroke=\"#000000\" d=\"M3273.5,-296.9465C3273.5,-288.776 3273.5,-279.9318 3273.5,-271.3697\"/>\n<polygon fill=\"#000000\" stroke=\"#000000\" points=\"3277.0001,-271.13 3273.5,-261.13 3270.0001,-271.13 3277.0001,-271.13\"/>\n</g>\n<!-- 222 -->\n<g id=\"node223\" class=\"node\">\n<title>222</title>\n<polygon fill=\"none\" stroke=\"#000000\" points=\"3207,-149.5 3108,-149.5 3108,-96.5 3207,-96.5 3207,-149.5\"/>\n<text text-anchor=\"middle\" x=\"3157.5\" y=\"-134.3\" font-family=\"Helvetica,sans-Serif\" font-size=\"14.00\" fill=\"#000000\">gini = 0.0</text>\n<text text-anchor=\"middle\" x=\"3157.5\" y=\"-119.3\" font-family=\"Helvetica,sans-Serif\" font-size=\"14.00\" fill=\"#000000\">samples = 1</text>\n<text text-anchor=\"middle\" x=\"3157.5\" y=\"-104.3\" font-family=\"Helvetica,sans-Serif\" font-size=\"14.00\" fill=\"#000000\">value = [0, 1]</text>\n</g>\n<!-- 221&#45;&gt;222 -->\n<g id=\"edge222\" class=\"edge\">\n<title>221&#45;&gt;222</title>\n<path fill=\"none\" stroke=\"#000000\" d=\"M3235.5173,-192.9465C3222.3714,-181.1606 3207.6618,-167.9726 3194.5887,-156.2519\"/>\n<polygon fill=\"#000000\" stroke=\"#000000\" points=\"3196.8869,-153.6116 3187.1047,-149.5422 3192.214,-158.8236 3196.8869,-153.6116\"/>\n</g>\n<!-- 223 -->\n<g id=\"node224\" class=\"node\">\n<title>223</title>\n<polygon fill=\"none\" stroke=\"#000000\" points=\"3324,-149.5 3225,-149.5 3225,-96.5 3324,-96.5 3324,-149.5\"/>\n<text text-anchor=\"middle\" x=\"3274.5\" y=\"-134.3\" font-family=\"Helvetica,sans-Serif\" font-size=\"14.00\" fill=\"#000000\">gini = 0.0</text>\n<text text-anchor=\"middle\" x=\"3274.5\" y=\"-119.3\" font-family=\"Helvetica,sans-Serif\" font-size=\"14.00\" fill=\"#000000\">samples = 1</text>\n<text text-anchor=\"middle\" x=\"3274.5\" y=\"-104.3\" font-family=\"Helvetica,sans-Serif\" font-size=\"14.00\" fill=\"#000000\">value = [1, 0]</text>\n</g>\n<!-- 221&#45;&gt;223 -->\n<g id=\"edge223\" class=\"edge\">\n<title>221&#45;&gt;223</title>\n<path fill=\"none\" stroke=\"#000000\" d=\"M3273.8274,-192.9465C3273.9302,-182.2621 3274.044,-170.4254 3274.1483,-159.5742\"/>\n<polygon fill=\"#000000\" stroke=\"#000000\" points=\"3277.6484,-159.5754 3274.2448,-149.5422 3270.6487,-159.508 3277.6484,-159.5754\"/>\n</g>\n<!-- 225 -->\n<g id=\"node226\" class=\"node\">\n<title>225</title>\n<polygon fill=\"none\" stroke=\"#000000\" points=\"3443,-365 3344,-365 3344,-297 3443,-297 3443,-365\"/>\n<text text-anchor=\"middle\" x=\"3393.5\" y=\"-349.8\" font-family=\"Helvetica,sans-Serif\" font-size=\"14.00\" fill=\"#000000\">X[1] &lt;= 19.5</text>\n<text text-anchor=\"middle\" x=\"3393.5\" y=\"-334.8\" font-family=\"Helvetica,sans-Serif\" font-size=\"14.00\" fill=\"#000000\">gini = 0.5</text>\n<text text-anchor=\"middle\" x=\"3393.5\" y=\"-319.8\" font-family=\"Helvetica,sans-Serif\" font-size=\"14.00\" fill=\"#000000\">samples = 6</text>\n<text text-anchor=\"middle\" x=\"3393.5\" y=\"-304.8\" font-family=\"Helvetica,sans-Serif\" font-size=\"14.00\" fill=\"#000000\">value = [3, 3]</text>\n</g>\n<!-- 224&#45;&gt;225 -->\n<g id=\"edge225\" class=\"edge\">\n<title>224&#45;&gt;225</title>\n<path fill=\"none\" stroke=\"#000000\" d=\"M3394.1726,-400.9465C3394.094,-392.776 3394.009,-383.9318 3393.9266,-375.3697\"/>\n<polygon fill=\"#000000\" stroke=\"#000000\" points=\"3397.4243,-375.0958 3393.8282,-365.13 3390.4246,-375.1632 3397.4243,-375.0958\"/>\n</g>\n<!-- 232 -->\n<g id=\"node233\" class=\"node\">\n<title>232</title>\n<polygon fill=\"none\" stroke=\"#000000\" points=\"3560,-357.5 3461,-357.5 3461,-304.5 3560,-304.5 3560,-357.5\"/>\n<text text-anchor=\"middle\" x=\"3510.5\" y=\"-342.3\" font-family=\"Helvetica,sans-Serif\" font-size=\"14.00\" fill=\"#000000\">gini = 0.0</text>\n<text text-anchor=\"middle\" x=\"3510.5\" y=\"-327.3\" font-family=\"Helvetica,sans-Serif\" font-size=\"14.00\" fill=\"#000000\">samples = 1</text>\n<text text-anchor=\"middle\" x=\"3510.5\" y=\"-312.3\" font-family=\"Helvetica,sans-Serif\" font-size=\"14.00\" fill=\"#000000\">value = [0, 1]</text>\n</g>\n<!-- 224&#45;&gt;232 -->\n<g id=\"edge232\" class=\"edge\">\n<title>224&#45;&gt;232</title>\n<path fill=\"none\" stroke=\"#000000\" d=\"M3432.4827,-400.9465C3445.6286,-389.1606 3460.3382,-375.9726 3473.4113,-364.2519\"/>\n<polygon fill=\"#000000\" stroke=\"#000000\" points=\"3475.786,-366.8236 3480.8953,-357.5422 3471.1131,-361.6116 3475.786,-366.8236\"/>\n</g>\n<!-- 226 -->\n<g id=\"node227\" class=\"node\">\n<title>226</title>\n<polygon fill=\"none\" stroke=\"#000000\" points=\"3443,-261 3344,-261 3344,-193 3443,-193 3443,-261\"/>\n<text text-anchor=\"middle\" x=\"3393.5\" y=\"-245.8\" font-family=\"Helvetica,sans-Serif\" font-size=\"14.00\" fill=\"#000000\">X[1] &lt;= 17.0</text>\n<text text-anchor=\"middle\" x=\"3393.5\" y=\"-230.8\" font-family=\"Helvetica,sans-Serif\" font-size=\"14.00\" fill=\"#000000\">gini = 0.48</text>\n<text text-anchor=\"middle\" x=\"3393.5\" y=\"-215.8\" font-family=\"Helvetica,sans-Serif\" font-size=\"14.00\" fill=\"#000000\">samples = 5</text>\n<text text-anchor=\"middle\" x=\"3393.5\" y=\"-200.8\" font-family=\"Helvetica,sans-Serif\" font-size=\"14.00\" fill=\"#000000\">value = [2, 3]</text>\n</g>\n<!-- 225&#45;&gt;226 -->\n<g id=\"edge226\" class=\"edge\">\n<title>225&#45;&gt;226</title>\n<path fill=\"none\" stroke=\"#000000\" d=\"M3393.5,-296.9465C3393.5,-288.776 3393.5,-279.9318 3393.5,-271.3697\"/>\n<polygon fill=\"#000000\" stroke=\"#000000\" points=\"3397.0001,-271.13 3393.5,-261.13 3390.0001,-271.13 3397.0001,-271.13\"/>\n</g>\n<!-- 231 -->\n<g id=\"node232\" class=\"node\">\n<title>231</title>\n<polygon fill=\"none\" stroke=\"#000000\" points=\"3560,-253.5 3461,-253.5 3461,-200.5 3560,-200.5 3560,-253.5\"/>\n<text text-anchor=\"middle\" x=\"3510.5\" y=\"-238.3\" font-family=\"Helvetica,sans-Serif\" font-size=\"14.00\" fill=\"#000000\">gini = 0.0</text>\n<text text-anchor=\"middle\" x=\"3510.5\" y=\"-223.3\" font-family=\"Helvetica,sans-Serif\" font-size=\"14.00\" fill=\"#000000\">samples = 1</text>\n<text text-anchor=\"middle\" x=\"3510.5\" y=\"-208.3\" font-family=\"Helvetica,sans-Serif\" font-size=\"14.00\" fill=\"#000000\">value = [1, 0]</text>\n</g>\n<!-- 225&#45;&gt;231 -->\n<g id=\"edge231\" class=\"edge\">\n<title>225&#45;&gt;231</title>\n<path fill=\"none\" stroke=\"#000000\" d=\"M3431.8102,-296.9465C3445.0694,-285.1606 3459.9058,-271.9726 3473.0916,-260.2519\"/>\n<polygon fill=\"#000000\" stroke=\"#000000\" points=\"3475.4912,-262.8018 3480.6401,-253.5422 3470.8407,-257.5699 3475.4912,-262.8018\"/>\n</g>\n<!-- 227 -->\n<g id=\"node228\" class=\"node\">\n<title>227</title>\n<polygon fill=\"none\" stroke=\"#000000\" points=\"3442,-149.5 3343,-149.5 3343,-96.5 3442,-96.5 3442,-149.5\"/>\n<text text-anchor=\"middle\" x=\"3392.5\" y=\"-134.3\" font-family=\"Helvetica,sans-Serif\" font-size=\"14.00\" fill=\"#000000\">gini = 0.5</text>\n<text text-anchor=\"middle\" x=\"3392.5\" y=\"-119.3\" font-family=\"Helvetica,sans-Serif\" font-size=\"14.00\" fill=\"#000000\">samples = 2</text>\n<text text-anchor=\"middle\" x=\"3392.5\" y=\"-104.3\" font-family=\"Helvetica,sans-Serif\" font-size=\"14.00\" fill=\"#000000\">value = [1, 1]</text>\n</g>\n<!-- 226&#45;&gt;227 -->\n<g id=\"edge227\" class=\"edge\">\n<title>226&#45;&gt;227</title>\n<path fill=\"none\" stroke=\"#000000\" d=\"M3393.1726,-192.9465C3393.0698,-182.2621 3392.956,-170.4254 3392.8517,-159.5742\"/>\n<polygon fill=\"#000000\" stroke=\"#000000\" points=\"3396.3513,-159.508 3392.7552,-149.5422 3389.3516,-159.5754 3396.3513,-159.508\"/>\n</g>\n<!-- 228 -->\n<g id=\"node229\" class=\"node\">\n<title>228</title>\n<polygon fill=\"none\" stroke=\"#000000\" points=\"3559,-157 3460,-157 3460,-89 3559,-89 3559,-157\"/>\n<text text-anchor=\"middle\" x=\"3509.5\" y=\"-141.8\" font-family=\"Helvetica,sans-Serif\" font-size=\"14.00\" fill=\"#000000\">X[1] &lt;= 18.5</text>\n<text text-anchor=\"middle\" x=\"3509.5\" y=\"-126.8\" font-family=\"Helvetica,sans-Serif\" font-size=\"14.00\" fill=\"#000000\">gini = 0.444</text>\n<text text-anchor=\"middle\" x=\"3509.5\" y=\"-111.8\" font-family=\"Helvetica,sans-Serif\" font-size=\"14.00\" fill=\"#000000\">samples = 3</text>\n<text text-anchor=\"middle\" x=\"3509.5\" y=\"-96.8\" font-family=\"Helvetica,sans-Serif\" font-size=\"14.00\" fill=\"#000000\">value = [1, 2]</text>\n</g>\n<!-- 226&#45;&gt;228 -->\n<g id=\"edge228\" class=\"edge\">\n<title>226&#45;&gt;228</title>\n<path fill=\"none\" stroke=\"#000000\" d=\"M3431.4827,-192.9465C3441.7977,-183.6986 3453.0754,-173.5876 3463.7699,-163.9994\"/>\n<polygon fill=\"#000000\" stroke=\"#000000\" points=\"3466.3226,-166.4115 3471.4319,-157.13 3461.6498,-161.1995 3466.3226,-166.4115\"/>\n</g>\n<!-- 229 -->\n<g id=\"node230\" class=\"node\">\n<title>229</title>\n<polygon fill=\"none\" stroke=\"#000000\" points=\"3500,-53 3401,-53 3401,0 3500,0 3500,-53\"/>\n<text text-anchor=\"middle\" x=\"3450.5\" y=\"-37.8\" font-family=\"Helvetica,sans-Serif\" font-size=\"14.00\" fill=\"#000000\">gini = 0.0</text>\n<text text-anchor=\"middle\" x=\"3450.5\" y=\"-22.8\" font-family=\"Helvetica,sans-Serif\" font-size=\"14.00\" fill=\"#000000\">samples = 1</text>\n<text text-anchor=\"middle\" x=\"3450.5\" y=\"-7.8\" font-family=\"Helvetica,sans-Serif\" font-size=\"14.00\" fill=\"#000000\">value = [0, 1]</text>\n</g>\n<!-- 228&#45;&gt;229 -->\n<g id=\"edge229\" class=\"edge\">\n<title>228&#45;&gt;229</title>\n<path fill=\"none\" stroke=\"#000000\" d=\"M3488.6988,-88.9777C3483.3242,-80.187 3477.5265,-70.7044 3472.1115,-61.8477\"/>\n<polygon fill=\"#000000\" stroke=\"#000000\" points=\"3475.0564,-59.9545 3466.854,-53.2485 3469.0842,-63.6059 3475.0564,-59.9545\"/>\n</g>\n<!-- 230 -->\n<g id=\"node231\" class=\"node\">\n<title>230</title>\n<polygon fill=\"none\" stroke=\"#000000\" points=\"3617,-53 3518,-53 3518,0 3617,0 3617,-53\"/>\n<text text-anchor=\"middle\" x=\"3567.5\" y=\"-37.8\" font-family=\"Helvetica,sans-Serif\" font-size=\"14.00\" fill=\"#000000\">gini = 0.5</text>\n<text text-anchor=\"middle\" x=\"3567.5\" y=\"-22.8\" font-family=\"Helvetica,sans-Serif\" font-size=\"14.00\" fill=\"#000000\">samples = 2</text>\n<text text-anchor=\"middle\" x=\"3567.5\" y=\"-7.8\" font-family=\"Helvetica,sans-Serif\" font-size=\"14.00\" fill=\"#000000\">value = [1, 1]</text>\n</g>\n<!-- 228&#45;&gt;230 -->\n<g id=\"edge230\" class=\"edge\">\n<title>228&#45;&gt;230</title>\n<path fill=\"none\" stroke=\"#000000\" d=\"M3529.9486,-88.9777C3535.2322,-80.187 3540.9316,-70.7044 3546.2548,-61.8477\"/>\n<polygon fill=\"#000000\" stroke=\"#000000\" points=\"3549.2715,-63.6225 3551.4232,-53.2485 3543.2718,-60.0165 3549.2715,-63.6225\"/>\n</g>\n<!-- 235 -->\n<g id=\"node236\" class=\"node\">\n<title>235</title>\n<polygon fill=\"none\" stroke=\"#000000\" points=\"3686,-573 3583,-573 3583,-505 3686,-505 3686,-573\"/>\n<text text-anchor=\"middle\" x=\"3634.5\" y=\"-557.8\" font-family=\"Helvetica,sans-Serif\" font-size=\"14.00\" fill=\"#000000\">X[4] &lt;= 7.133</text>\n<text text-anchor=\"middle\" x=\"3634.5\" y=\"-542.8\" font-family=\"Helvetica,sans-Serif\" font-size=\"14.00\" fill=\"#000000\">gini = 0.444</text>\n<text text-anchor=\"middle\" x=\"3634.5\" y=\"-527.8\" font-family=\"Helvetica,sans-Serif\" font-size=\"14.00\" fill=\"#000000\">samples = 3</text>\n<text text-anchor=\"middle\" x=\"3634.5\" y=\"-512.8\" font-family=\"Helvetica,sans-Serif\" font-size=\"14.00\" fill=\"#000000\">value = [2, 1]</text>\n</g>\n<!-- 234&#45;&gt;235 -->\n<g id=\"edge235\" class=\"edge\">\n<title>234&#45;&gt;235</title>\n<path fill=\"none\" stroke=\"#000000\" d=\"M3637.1903,-608.9465C3636.876,-600.776 3636.5358,-591.9318 3636.2065,-583.3697\"/>\n<polygon fill=\"#000000\" stroke=\"#000000\" points=\"3639.6945,-582.9881 3635.8127,-573.13 3632.6997,-583.2572 3639.6945,-582.9881\"/>\n</g>\n<!-- 238 -->\n<g id=\"node239\" class=\"node\">\n<title>238</title>\n<polygon fill=\"none\" stroke=\"#000000\" points=\"3811,-573 3704,-573 3704,-505 3811,-505 3811,-573\"/>\n<text text-anchor=\"middle\" x=\"3757.5\" y=\"-557.8\" font-family=\"Helvetica,sans-Serif\" font-size=\"14.00\" fill=\"#000000\">X[1] &lt;= 26.5</text>\n<text text-anchor=\"middle\" x=\"3757.5\" y=\"-542.8\" font-family=\"Helvetica,sans-Serif\" font-size=\"14.00\" fill=\"#000000\">gini = 0.115</text>\n<text text-anchor=\"middle\" x=\"3757.5\" y=\"-527.8\" font-family=\"Helvetica,sans-Serif\" font-size=\"14.00\" fill=\"#000000\">samples = 49</text>\n<text text-anchor=\"middle\" x=\"3757.5\" y=\"-512.8\" font-family=\"Helvetica,sans-Serif\" font-size=\"14.00\" fill=\"#000000\">value = [46, 3]</text>\n</g>\n<!-- 234&#45;&gt;238 -->\n<g id=\"edge238\" class=\"edge\">\n<title>234&#45;&gt;238</title>\n<path fill=\"none\" stroke=\"#000000\" d=\"M3677.4651,-608.9465C3688.1495,-599.6088 3699.8409,-589.3911 3710.9066,-579.7203\"/>\n<polygon fill=\"#000000\" stroke=\"#000000\" points=\"3713.2209,-582.346 3718.4474,-573.13 3708.6145,-577.0752 3713.2209,-582.346\"/>\n</g>\n<!-- 236 -->\n<g id=\"node237\" class=\"node\">\n<title>236</title>\n<polygon fill=\"none\" stroke=\"#000000\" points=\"3568,-461.5 3469,-461.5 3469,-408.5 3568,-408.5 3568,-461.5\"/>\n<text text-anchor=\"middle\" x=\"3518.5\" y=\"-446.3\" font-family=\"Helvetica,sans-Serif\" font-size=\"14.00\" fill=\"#000000\">gini = 0.0</text>\n<text text-anchor=\"middle\" x=\"3518.5\" y=\"-431.3\" font-family=\"Helvetica,sans-Serif\" font-size=\"14.00\" fill=\"#000000\">samples = 2</text>\n<text text-anchor=\"middle\" x=\"3518.5\" y=\"-416.3\" font-family=\"Helvetica,sans-Serif\" font-size=\"14.00\" fill=\"#000000\">value = [2, 0]</text>\n</g>\n<!-- 235&#45;&gt;236 -->\n<g id=\"edge236\" class=\"edge\">\n<title>235&#45;&gt;236</title>\n<path fill=\"none\" stroke=\"#000000\" d=\"M3596.5173,-504.9465C3583.3714,-493.1606 3568.6618,-479.9726 3555.5887,-468.2519\"/>\n<polygon fill=\"#000000\" stroke=\"#000000\" points=\"3557.8869,-465.6116 3548.1047,-461.5422 3553.214,-470.8236 3557.8869,-465.6116\"/>\n</g>\n<!-- 237 -->\n<g id=\"node238\" class=\"node\">\n<title>237</title>\n<polygon fill=\"none\" stroke=\"#000000\" points=\"3685,-461.5 3586,-461.5 3586,-408.5 3685,-408.5 3685,-461.5\"/>\n<text text-anchor=\"middle\" x=\"3635.5\" y=\"-446.3\" font-family=\"Helvetica,sans-Serif\" font-size=\"14.00\" fill=\"#000000\">gini = 0.0</text>\n<text text-anchor=\"middle\" x=\"3635.5\" y=\"-431.3\" font-family=\"Helvetica,sans-Serif\" font-size=\"14.00\" fill=\"#000000\">samples = 1</text>\n<text text-anchor=\"middle\" x=\"3635.5\" y=\"-416.3\" font-family=\"Helvetica,sans-Serif\" font-size=\"14.00\" fill=\"#000000\">value = [0, 1]</text>\n</g>\n<!-- 235&#45;&gt;237 -->\n<g id=\"edge237\" class=\"edge\">\n<title>235&#45;&gt;237</title>\n<path fill=\"none\" stroke=\"#000000\" d=\"M3634.8274,-504.9465C3634.9302,-494.2621 3635.044,-482.4254 3635.1483,-471.5742\"/>\n<polygon fill=\"#000000\" stroke=\"#000000\" points=\"3638.6484,-471.5754 3635.2448,-461.5422 3631.6487,-471.508 3638.6484,-471.5754\"/>\n</g>\n<!-- 239 -->\n<g id=\"node240\" class=\"node\">\n<title>239</title>\n<polygon fill=\"none\" stroke=\"#000000\" points=\"3811,-469 3704,-469 3704,-401 3811,-401 3811,-469\"/>\n<text text-anchor=\"middle\" x=\"3757.5\" y=\"-453.8\" font-family=\"Helvetica,sans-Serif\" font-size=\"14.00\" fill=\"#000000\">X[1] &lt;= 21.5</text>\n<text text-anchor=\"middle\" x=\"3757.5\" y=\"-438.8\" font-family=\"Helvetica,sans-Serif\" font-size=\"14.00\" fill=\"#000000\">gini = 0.05</text>\n<text text-anchor=\"middle\" x=\"3757.5\" y=\"-423.8\" font-family=\"Helvetica,sans-Serif\" font-size=\"14.00\" fill=\"#000000\">samples = 39</text>\n<text text-anchor=\"middle\" x=\"3757.5\" y=\"-408.8\" font-family=\"Helvetica,sans-Serif\" font-size=\"14.00\" fill=\"#000000\">value = [38, 1]</text>\n</g>\n<!-- 238&#45;&gt;239 -->\n<g id=\"edge239\" class=\"edge\">\n<title>238&#45;&gt;239</title>\n<path fill=\"none\" stroke=\"#000000\" d=\"M3757.5,-504.9465C3757.5,-496.776 3757.5,-487.9318 3757.5,-479.3697\"/>\n<polygon fill=\"#000000\" stroke=\"#000000\" points=\"3761.0001,-479.13 3757.5,-469.13 3754.0001,-479.13 3761.0001,-479.13\"/>\n</g>\n<!-- 246 -->\n<g id=\"node247\" class=\"node\">\n<title>246</title>\n<polygon fill=\"none\" stroke=\"#000000\" points=\"3933.5,-469 3829.5,-469 3829.5,-401 3933.5,-401 3933.5,-469\"/>\n<text text-anchor=\"middle\" x=\"3881.5\" y=\"-453.8\" font-family=\"Helvetica,sans-Serif\" font-size=\"14.00\" fill=\"#000000\">X[1] &lt;= 27.5</text>\n<text text-anchor=\"middle\" x=\"3881.5\" y=\"-438.8\" font-family=\"Helvetica,sans-Serif\" font-size=\"14.00\" fill=\"#000000\">gini = 0.32</text>\n<text text-anchor=\"middle\" x=\"3881.5\" y=\"-423.8\" font-family=\"Helvetica,sans-Serif\" font-size=\"14.00\" fill=\"#000000\">samples = 10</text>\n<text text-anchor=\"middle\" x=\"3881.5\" y=\"-408.8\" font-family=\"Helvetica,sans-Serif\" font-size=\"14.00\" fill=\"#000000\">value = [8, 2]</text>\n</g>\n<!-- 238&#45;&gt;246 -->\n<g id=\"edge246\" class=\"edge\">\n<title>238&#45;&gt;246</title>\n<path fill=\"none\" stroke=\"#000000\" d=\"M3798.1022,-504.9465C3809.2356,-495.6088 3821.4183,-485.3911 3832.9489,-475.7203\"/>\n<polygon fill=\"#000000\" stroke=\"#000000\" points=\"3835.3938,-478.2378 3840.8065,-469.13 3830.8954,-472.8745 3835.3938,-478.2378\"/>\n</g>\n<!-- 240 -->\n<g id=\"node241\" class=\"node\">\n<title>240</title>\n<polygon fill=\"none\" stroke=\"#000000\" points=\"3687,-365 3580,-365 3580,-297 3687,-297 3687,-365\"/>\n<text text-anchor=\"middle\" x=\"3633.5\" y=\"-349.8\" font-family=\"Helvetica,sans-Serif\" font-size=\"14.00\" fill=\"#000000\">X[4] &lt;= 7.798</text>\n<text text-anchor=\"middle\" x=\"3633.5\" y=\"-334.8\" font-family=\"Helvetica,sans-Serif\" font-size=\"14.00\" fill=\"#000000\">gini = 0.165</text>\n<text text-anchor=\"middle\" x=\"3633.5\" y=\"-319.8\" font-family=\"Helvetica,sans-Serif\" font-size=\"14.00\" fill=\"#000000\">samples = 11</text>\n<text text-anchor=\"middle\" x=\"3633.5\" y=\"-304.8\" font-family=\"Helvetica,sans-Serif\" font-size=\"14.00\" fill=\"#000000\">value = [10, 1]</text>\n</g>\n<!-- 239&#45;&gt;240 -->\n<g id=\"edge240\" class=\"edge\">\n<title>239&#45;&gt;240</title>\n<path fill=\"none\" stroke=\"#000000\" d=\"M3716.8978,-400.9465C3705.7644,-391.6088 3693.5817,-381.3911 3682.0511,-371.7203\"/>\n<polygon fill=\"#000000\" stroke=\"#000000\" points=\"3684.1046,-368.8745 3674.1935,-365.13 3679.6062,-374.2378 3684.1046,-368.8745\"/>\n</g>\n<!-- 245 -->\n<g id=\"node246\" class=\"node\">\n<title>245</title>\n<polygon fill=\"none\" stroke=\"#000000\" points=\"3812,-357.5 3705,-357.5 3705,-304.5 3812,-304.5 3812,-357.5\"/>\n<text text-anchor=\"middle\" x=\"3758.5\" y=\"-342.3\" font-family=\"Helvetica,sans-Serif\" font-size=\"14.00\" fill=\"#000000\">gini = 0.0</text>\n<text text-anchor=\"middle\" x=\"3758.5\" y=\"-327.3\" font-family=\"Helvetica,sans-Serif\" font-size=\"14.00\" fill=\"#000000\">samples = 28</text>\n<text text-anchor=\"middle\" x=\"3758.5\" y=\"-312.3\" font-family=\"Helvetica,sans-Serif\" font-size=\"14.00\" fill=\"#000000\">value = [28, 0]</text>\n</g>\n<!-- 239&#45;&gt;245 -->\n<g id=\"edge245\" class=\"edge\">\n<title>239&#45;&gt;245</title>\n<path fill=\"none\" stroke=\"#000000\" d=\"M3757.8274,-400.9465C3757.9302,-390.2621 3758.044,-378.4254 3758.1483,-367.5742\"/>\n<polygon fill=\"#000000\" stroke=\"#000000\" points=\"3761.6484,-367.5754 3758.2448,-357.5422 3754.6487,-367.508 3761.6484,-367.5754\"/>\n</g>\n<!-- 241 -->\n<g id=\"node242\" class=\"node\">\n<title>241</title>\n<polygon fill=\"none\" stroke=\"#000000\" points=\"3683,-261 3580,-261 3580,-193 3683,-193 3683,-261\"/>\n<text text-anchor=\"middle\" x=\"3631.5\" y=\"-245.8\" font-family=\"Helvetica,sans-Serif\" font-size=\"14.00\" fill=\"#000000\">X[4] &lt;= 7.785</text>\n<text text-anchor=\"middle\" x=\"3631.5\" y=\"-230.8\" font-family=\"Helvetica,sans-Serif\" font-size=\"14.00\" fill=\"#000000\">gini = 0.375</text>\n<text text-anchor=\"middle\" x=\"3631.5\" y=\"-215.8\" font-family=\"Helvetica,sans-Serif\" font-size=\"14.00\" fill=\"#000000\">samples = 4</text>\n<text text-anchor=\"middle\" x=\"3631.5\" y=\"-200.8\" font-family=\"Helvetica,sans-Serif\" font-size=\"14.00\" fill=\"#000000\">value = [3, 1]</text>\n</g>\n<!-- 240&#45;&gt;241 -->\n<g id=\"edge241\" class=\"edge\">\n<title>240&#45;&gt;241</title>\n<path fill=\"none\" stroke=\"#000000\" d=\"M3632.8451,-296.9465C3632.688,-288.776 3632.5179,-279.9318 3632.3533,-271.3697\"/>\n<polygon fill=\"#000000\" stroke=\"#000000\" points=\"3635.8481,-271.0608 3632.1563,-261.13 3628.8494,-271.1955 3635.8481,-271.0608\"/>\n</g>\n<!-- 244 -->\n<g id=\"node245\" class=\"node\">\n<title>244</title>\n<polygon fill=\"none\" stroke=\"#000000\" points=\"3800,-253.5 3701,-253.5 3701,-200.5 3800,-200.5 3800,-253.5\"/>\n<text text-anchor=\"middle\" x=\"3750.5\" y=\"-238.3\" font-family=\"Helvetica,sans-Serif\" font-size=\"14.00\" fill=\"#000000\">gini = 0.0</text>\n<text text-anchor=\"middle\" x=\"3750.5\" y=\"-223.3\" font-family=\"Helvetica,sans-Serif\" font-size=\"14.00\" fill=\"#000000\">samples = 7</text>\n<text text-anchor=\"middle\" x=\"3750.5\" y=\"-208.3\" font-family=\"Helvetica,sans-Serif\" font-size=\"14.00\" fill=\"#000000\">value = [7, 0]</text>\n</g>\n<!-- 240&#45;&gt;244 -->\n<g id=\"edge244\" class=\"edge\">\n<title>240&#45;&gt;244</title>\n<path fill=\"none\" stroke=\"#000000\" d=\"M3671.8102,-296.9465C3685.0694,-285.1606 3699.9058,-271.9726 3713.0916,-260.2519\"/>\n<polygon fill=\"#000000\" stroke=\"#000000\" points=\"3715.4912,-262.8018 3720.6401,-253.5422 3710.8407,-257.5699 3715.4912,-262.8018\"/>\n</g>\n<!-- 242 -->\n<g id=\"node243\" class=\"node\">\n<title>242</title>\n<polygon fill=\"none\" stroke=\"#000000\" points=\"3679,-149.5 3580,-149.5 3580,-96.5 3679,-96.5 3679,-149.5\"/>\n<text text-anchor=\"middle\" x=\"3629.5\" y=\"-134.3\" font-family=\"Helvetica,sans-Serif\" font-size=\"14.00\" fill=\"#000000\">gini = 0.0</text>\n<text text-anchor=\"middle\" x=\"3629.5\" y=\"-119.3\" font-family=\"Helvetica,sans-Serif\" font-size=\"14.00\" fill=\"#000000\">samples = 3</text>\n<text text-anchor=\"middle\" x=\"3629.5\" y=\"-104.3\" font-family=\"Helvetica,sans-Serif\" font-size=\"14.00\" fill=\"#000000\">value = [3, 0]</text>\n</g>\n<!-- 241&#45;&gt;242 -->\n<g id=\"edge242\" class=\"edge\">\n<title>241&#45;&gt;242</title>\n<path fill=\"none\" stroke=\"#000000\" d=\"M3630.8451,-192.9465C3630.6397,-182.2621 3630.412,-170.4254 3630.2034,-159.5742\"/>\n<polygon fill=\"#000000\" stroke=\"#000000\" points=\"3633.7021,-159.473 3630.0104,-149.5422 3626.7034,-159.6076 3633.7021,-159.473\"/>\n</g>\n<!-- 243 -->\n<g id=\"node244\" class=\"node\">\n<title>243</title>\n<polygon fill=\"none\" stroke=\"#000000\" points=\"3796,-149.5 3697,-149.5 3697,-96.5 3796,-96.5 3796,-149.5\"/>\n<text text-anchor=\"middle\" x=\"3746.5\" y=\"-134.3\" font-family=\"Helvetica,sans-Serif\" font-size=\"14.00\" fill=\"#000000\">gini = 0.0</text>\n<text text-anchor=\"middle\" x=\"3746.5\" y=\"-119.3\" font-family=\"Helvetica,sans-Serif\" font-size=\"14.00\" fill=\"#000000\">samples = 1</text>\n<text text-anchor=\"middle\" x=\"3746.5\" y=\"-104.3\" font-family=\"Helvetica,sans-Serif\" font-size=\"14.00\" fill=\"#000000\">value = [0, 1]</text>\n</g>\n<!-- 241&#45;&gt;243 -->\n<g id=\"edge243\" class=\"edge\">\n<title>241&#45;&gt;243</title>\n<path fill=\"none\" stroke=\"#000000\" d=\"M3669.1553,-192.9465C3682.1878,-181.1606 3696.7706,-167.9726 3709.7311,-156.2519\"/>\n<polygon fill=\"#000000\" stroke=\"#000000\" points=\"3712.0812,-158.8456 3717.1505,-149.5422 3707.386,-153.6537 3712.0812,-158.8456\"/>\n</g>\n<!-- 247 -->\n<g id=\"node248\" class=\"node\">\n<title>247</title>\n<polygon fill=\"none\" stroke=\"#000000\" points=\"3930,-365 3831,-365 3831,-297 3930,-297 3930,-365\"/>\n<text text-anchor=\"middle\" x=\"3880.5\" y=\"-349.8\" font-family=\"Helvetica,sans-Serif\" font-size=\"14.00\" fill=\"#000000\">X[3] &lt;= 0.5</text>\n<text text-anchor=\"middle\" x=\"3880.5\" y=\"-334.8\" font-family=\"Helvetica,sans-Serif\" font-size=\"14.00\" fill=\"#000000\">gini = 0.5</text>\n<text text-anchor=\"middle\" x=\"3880.5\" y=\"-319.8\" font-family=\"Helvetica,sans-Serif\" font-size=\"14.00\" fill=\"#000000\">samples = 4</text>\n<text text-anchor=\"middle\" x=\"3880.5\" y=\"-304.8\" font-family=\"Helvetica,sans-Serif\" font-size=\"14.00\" fill=\"#000000\">value = [2, 2]</text>\n</g>\n<!-- 246&#45;&gt;247 -->\n<g id=\"edge247\" class=\"edge\">\n<title>246&#45;&gt;247</title>\n<path fill=\"none\" stroke=\"#000000\" d=\"M3881.1726,-400.9465C3881.094,-392.776 3881.009,-383.9318 3880.9266,-375.3697\"/>\n<polygon fill=\"#000000\" stroke=\"#000000\" points=\"3884.4243,-375.0958 3880.8282,-365.13 3877.4246,-375.1632 3884.4243,-375.0958\"/>\n</g>\n<!-- 254 -->\n<g id=\"node255\" class=\"node\">\n<title>254</title>\n<polygon fill=\"none\" stroke=\"#000000\" points=\"4047,-357.5 3948,-357.5 3948,-304.5 4047,-304.5 4047,-357.5\"/>\n<text text-anchor=\"middle\" x=\"3997.5\" y=\"-342.3\" font-family=\"Helvetica,sans-Serif\" font-size=\"14.00\" fill=\"#000000\">gini = 0.0</text>\n<text text-anchor=\"middle\" x=\"3997.5\" y=\"-327.3\" font-family=\"Helvetica,sans-Serif\" font-size=\"14.00\" fill=\"#000000\">samples = 6</text>\n<text text-anchor=\"middle\" x=\"3997.5\" y=\"-312.3\" font-family=\"Helvetica,sans-Serif\" font-size=\"14.00\" fill=\"#000000\">value = [6, 0]</text>\n</g>\n<!-- 246&#45;&gt;254 -->\n<g id=\"edge254\" class=\"edge\">\n<title>246&#45;&gt;254</title>\n<path fill=\"none\" stroke=\"#000000\" d=\"M3919.4827,-400.9465C3932.6286,-389.1606 3947.3382,-375.9726 3960.4113,-364.2519\"/>\n<polygon fill=\"#000000\" stroke=\"#000000\" points=\"3962.786,-366.8236 3967.8953,-357.5422 3958.1131,-361.6116 3962.786,-366.8236\"/>\n</g>\n<!-- 248 -->\n<g id=\"node249\" class=\"node\">\n<title>248</title>\n<polygon fill=\"none\" stroke=\"#000000\" points=\"3925,-261 3822,-261 3822,-193 3925,-193 3925,-261\"/>\n<text text-anchor=\"middle\" x=\"3873.5\" y=\"-245.8\" font-family=\"Helvetica,sans-Serif\" font-size=\"14.00\" fill=\"#000000\">X[4] &lt;= 7.846</text>\n<text text-anchor=\"middle\" x=\"3873.5\" y=\"-230.8\" font-family=\"Helvetica,sans-Serif\" font-size=\"14.00\" fill=\"#000000\">gini = 0.444</text>\n<text text-anchor=\"middle\" x=\"3873.5\" y=\"-215.8\" font-family=\"Helvetica,sans-Serif\" font-size=\"14.00\" fill=\"#000000\">samples = 3</text>\n<text text-anchor=\"middle\" x=\"3873.5\" y=\"-200.8\" font-family=\"Helvetica,sans-Serif\" font-size=\"14.00\" fill=\"#000000\">value = [1, 2]</text>\n</g>\n<!-- 247&#45;&gt;248 -->\n<g id=\"edge248\" class=\"edge\">\n<title>247&#45;&gt;248</title>\n<path fill=\"none\" stroke=\"#000000\" d=\"M3878.2079,-296.9465C3877.658,-288.776 3877.0627,-279.9318 3876.4864,-271.3697\"/>\n<polygon fill=\"#000000\" stroke=\"#000000\" points=\"3879.961,-270.8723 3875.7972,-261.13 3872.9768,-271.3425 3879.961,-270.8723\"/>\n</g>\n<!-- 253 -->\n<g id=\"node254\" class=\"node\">\n<title>253</title>\n<polygon fill=\"none\" stroke=\"#000000\" points=\"4042,-253.5 3943,-253.5 3943,-200.5 4042,-200.5 4042,-253.5\"/>\n<text text-anchor=\"middle\" x=\"3992.5\" y=\"-238.3\" font-family=\"Helvetica,sans-Serif\" font-size=\"14.00\" fill=\"#000000\">gini = 0.0</text>\n<text text-anchor=\"middle\" x=\"3992.5\" y=\"-223.3\" font-family=\"Helvetica,sans-Serif\" font-size=\"14.00\" fill=\"#000000\">samples = 1</text>\n<text text-anchor=\"middle\" x=\"3992.5\" y=\"-208.3\" font-family=\"Helvetica,sans-Serif\" font-size=\"14.00\" fill=\"#000000\">value = [1, 0]</text>\n</g>\n<!-- 247&#45;&gt;253 -->\n<g id=\"edge253\" class=\"edge\">\n<title>247&#45;&gt;253</title>\n<path fill=\"none\" stroke=\"#000000\" d=\"M3917.173,-296.9465C3929.7469,-285.2707 3943.8026,-272.219 3956.3359,-260.5809\"/>\n<polygon fill=\"#000000\" stroke=\"#000000\" points=\"3958.9698,-262.9115 3963.9161,-253.5422 3954.2066,-257.7819 3958.9698,-262.9115\"/>\n</g>\n<!-- 249 -->\n<g id=\"node250\" class=\"node\">\n<title>249</title>\n<polygon fill=\"none\" stroke=\"#000000\" points=\"3915,-149.5 3816,-149.5 3816,-96.5 3915,-96.5 3915,-149.5\"/>\n<text text-anchor=\"middle\" x=\"3865.5\" y=\"-134.3\" font-family=\"Helvetica,sans-Serif\" font-size=\"14.00\" fill=\"#000000\">gini = 0.0</text>\n<text text-anchor=\"middle\" x=\"3865.5\" y=\"-119.3\" font-family=\"Helvetica,sans-Serif\" font-size=\"14.00\" fill=\"#000000\">samples = 1</text>\n<text text-anchor=\"middle\" x=\"3865.5\" y=\"-104.3\" font-family=\"Helvetica,sans-Serif\" font-size=\"14.00\" fill=\"#000000\">value = [0, 1]</text>\n</g>\n<!-- 248&#45;&gt;249 -->\n<g id=\"edge249\" class=\"edge\">\n<title>248&#45;&gt;249</title>\n<path fill=\"none\" stroke=\"#000000\" d=\"M3870.8805,-192.9465C3870.0586,-182.2621 3869.1481,-170.4254 3868.3134,-159.5742\"/>\n<polygon fill=\"#000000\" stroke=\"#000000\" points=\"3871.7985,-159.2442 3867.5417,-149.5422 3864.8191,-159.7812 3871.7985,-159.2442\"/>\n</g>\n<!-- 250 -->\n<g id=\"node251\" class=\"node\">\n<title>250</title>\n<polygon fill=\"none\" stroke=\"#000000\" points=\"4036,-157 3933,-157 3933,-89 4036,-89 4036,-157\"/>\n<text text-anchor=\"middle\" x=\"3984.5\" y=\"-141.8\" font-family=\"Helvetica,sans-Serif\" font-size=\"14.00\" fill=\"#000000\">X[4] &lt;= 8.279</text>\n<text text-anchor=\"middle\" x=\"3984.5\" y=\"-126.8\" font-family=\"Helvetica,sans-Serif\" font-size=\"14.00\" fill=\"#000000\">gini = 0.5</text>\n<text text-anchor=\"middle\" x=\"3984.5\" y=\"-111.8\" font-family=\"Helvetica,sans-Serif\" font-size=\"14.00\" fill=\"#000000\">samples = 2</text>\n<text text-anchor=\"middle\" x=\"3984.5\" y=\"-96.8\" font-family=\"Helvetica,sans-Serif\" font-size=\"14.00\" fill=\"#000000\">value = [1, 1]</text>\n</g>\n<!-- 248&#45;&gt;250 -->\n<g id=\"edge250\" class=\"edge\">\n<title>248&#45;&gt;250</title>\n<path fill=\"none\" stroke=\"#000000\" d=\"M3909.8456,-192.9465C3919.7159,-183.6986 3930.5075,-173.5876 3940.741,-163.9994\"/>\n<polygon fill=\"#000000\" stroke=\"#000000\" points=\"3943.1684,-166.5214 3948.0728,-157.13 3938.3823,-161.4131 3943.1684,-166.5214\"/>\n</g>\n<!-- 251 -->\n<g id=\"node252\" class=\"node\">\n<title>251</title>\n<polygon fill=\"none\" stroke=\"#000000\" points=\"3975,-53 3876,-53 3876,0 3975,0 3975,-53\"/>\n<text text-anchor=\"middle\" x=\"3925.5\" y=\"-37.8\" font-family=\"Helvetica,sans-Serif\" font-size=\"14.00\" fill=\"#000000\">gini = 0.0</text>\n<text text-anchor=\"middle\" x=\"3925.5\" y=\"-22.8\" font-family=\"Helvetica,sans-Serif\" font-size=\"14.00\" fill=\"#000000\">samples = 1</text>\n<text text-anchor=\"middle\" x=\"3925.5\" y=\"-7.8\" font-family=\"Helvetica,sans-Serif\" font-size=\"14.00\" fill=\"#000000\">value = [1, 0]</text>\n</g>\n<!-- 250&#45;&gt;251 -->\n<g id=\"edge251\" class=\"edge\">\n<title>250&#45;&gt;251</title>\n<path fill=\"none\" stroke=\"#000000\" d=\"M3963.6988,-88.9777C3958.3242,-80.187 3952.5265,-70.7044 3947.1115,-61.8477\"/>\n<polygon fill=\"#000000\" stroke=\"#000000\" points=\"3950.0564,-59.9545 3941.854,-53.2485 3944.0842,-63.6059 3950.0564,-59.9545\"/>\n</g>\n<!-- 252 -->\n<g id=\"node253\" class=\"node\">\n<title>252</title>\n<polygon fill=\"none\" stroke=\"#000000\" points=\"4092,-53 3993,-53 3993,0 4092,0 4092,-53\"/>\n<text text-anchor=\"middle\" x=\"4042.5\" y=\"-37.8\" font-family=\"Helvetica,sans-Serif\" font-size=\"14.00\" fill=\"#000000\">gini = 0.0</text>\n<text text-anchor=\"middle\" x=\"4042.5\" y=\"-22.8\" font-family=\"Helvetica,sans-Serif\" font-size=\"14.00\" fill=\"#000000\">samples = 1</text>\n<text text-anchor=\"middle\" x=\"4042.5\" y=\"-7.8\" font-family=\"Helvetica,sans-Serif\" font-size=\"14.00\" fill=\"#000000\">value = [0, 1]</text>\n</g>\n<!-- 250&#45;&gt;252 -->\n<g id=\"edge252\" class=\"edge\">\n<title>250&#45;&gt;252</title>\n<path fill=\"none\" stroke=\"#000000\" d=\"M4004.9486,-88.9777C4010.2322,-80.187 4015.9316,-70.7044 4021.2548,-61.8477\"/>\n<polygon fill=\"#000000\" stroke=\"#000000\" points=\"4024.2715,-63.6225 4026.4232,-53.2485 4018.2718,-60.0165 4024.2715,-63.6225\"/>\n</g>\n<!-- 256 -->\n<g id=\"node257\" class=\"node\">\n<title>256</title>\n<polygon fill=\"none\" stroke=\"#000000\" points=\"3809,-781 3706,-781 3706,-713 3809,-713 3809,-781\"/>\n<text text-anchor=\"middle\" x=\"3757.5\" y=\"-765.8\" font-family=\"Helvetica,sans-Serif\" font-size=\"14.00\" fill=\"#000000\">X[4] &lt;= 7.398</text>\n<text text-anchor=\"middle\" x=\"3757.5\" y=\"-750.8\" font-family=\"Helvetica,sans-Serif\" font-size=\"14.00\" fill=\"#000000\">gini = 0.444</text>\n<text text-anchor=\"middle\" x=\"3757.5\" y=\"-735.8\" font-family=\"Helvetica,sans-Serif\" font-size=\"14.00\" fill=\"#000000\">samples = 3</text>\n<text text-anchor=\"middle\" x=\"3757.5\" y=\"-720.8\" font-family=\"Helvetica,sans-Serif\" font-size=\"14.00\" fill=\"#000000\">value = [2, 1]</text>\n</g>\n<!-- 255&#45;&gt;256 -->\n<g id=\"edge256\" class=\"edge\">\n<title>255&#45;&gt;256</title>\n<path fill=\"none\" stroke=\"#000000\" d=\"M3758.8451,-816.9465C3758.688,-808.776 3758.5179,-799.9318 3758.3533,-791.3697\"/>\n<polygon fill=\"#000000\" stroke=\"#000000\" points=\"3761.8481,-791.0608 3758.1563,-781.13 3754.8494,-791.1955 3761.8481,-791.0608\"/>\n</g>\n<!-- 261 -->\n<g id=\"node262\" class=\"node\">\n<title>261</title>\n<polygon fill=\"none\" stroke=\"#000000\" points=\"3926,-773.5 3827,-773.5 3827,-720.5 3926,-720.5 3926,-773.5\"/>\n<text text-anchor=\"middle\" x=\"3876.5\" y=\"-758.3\" font-family=\"Helvetica,sans-Serif\" font-size=\"14.00\" fill=\"#000000\">gini = 0.0</text>\n<text text-anchor=\"middle\" x=\"3876.5\" y=\"-743.3\" font-family=\"Helvetica,sans-Serif\" font-size=\"14.00\" fill=\"#000000\">samples = 2</text>\n<text text-anchor=\"middle\" x=\"3876.5\" y=\"-728.3\" font-family=\"Helvetica,sans-Serif\" font-size=\"14.00\" fill=\"#000000\">value = [0, 2]</text>\n</g>\n<!-- 255&#45;&gt;261 -->\n<g id=\"edge261\" class=\"edge\">\n<title>255&#45;&gt;261</title>\n<path fill=\"none\" stroke=\"#000000\" d=\"M3797.8102,-816.9465C3811.0694,-805.1606 3825.9058,-791.9726 3839.0916,-780.2519\"/>\n<polygon fill=\"#000000\" stroke=\"#000000\" points=\"3841.4912,-782.8018 3846.6401,-773.5422 3836.8407,-777.5699 3841.4912,-782.8018\"/>\n</g>\n<!-- 257 -->\n<g id=\"node258\" class=\"node\">\n<title>257</title>\n<polygon fill=\"none\" stroke=\"#000000\" points=\"3809,-669.5 3710,-669.5 3710,-616.5 3809,-616.5 3809,-669.5\"/>\n<text text-anchor=\"middle\" x=\"3759.5\" y=\"-654.3\" font-family=\"Helvetica,sans-Serif\" font-size=\"14.00\" fill=\"#000000\">gini = 0.0</text>\n<text text-anchor=\"middle\" x=\"3759.5\" y=\"-639.3\" font-family=\"Helvetica,sans-Serif\" font-size=\"14.00\" fill=\"#000000\">samples = 1</text>\n<text text-anchor=\"middle\" x=\"3759.5\" y=\"-624.3\" font-family=\"Helvetica,sans-Serif\" font-size=\"14.00\" fill=\"#000000\">value = [1, 0]</text>\n</g>\n<!-- 256&#45;&gt;257 -->\n<g id=\"edge257\" class=\"edge\">\n<title>256&#45;&gt;257</title>\n<path fill=\"none\" stroke=\"#000000\" d=\"M3758.1549,-712.9465C3758.3603,-702.2621 3758.588,-690.4254 3758.7966,-679.5742\"/>\n<polygon fill=\"#000000\" stroke=\"#000000\" points=\"3762.2966,-679.6076 3758.9896,-669.5422 3755.2979,-679.473 3762.2966,-679.6076\"/>\n</g>\n<!-- 258 -->\n<g id=\"node259\" class=\"node\">\n<title>258</title>\n<polygon fill=\"none\" stroke=\"#000000\" points=\"3930,-677 3827,-677 3827,-609 3930,-609 3930,-677\"/>\n<text text-anchor=\"middle\" x=\"3878.5\" y=\"-661.8\" font-family=\"Helvetica,sans-Serif\" font-size=\"14.00\" fill=\"#000000\">X[4] &lt;= 7.763</text>\n<text text-anchor=\"middle\" x=\"3878.5\" y=\"-646.8\" font-family=\"Helvetica,sans-Serif\" font-size=\"14.00\" fill=\"#000000\">gini = 0.5</text>\n<text text-anchor=\"middle\" x=\"3878.5\" y=\"-631.8\" font-family=\"Helvetica,sans-Serif\" font-size=\"14.00\" fill=\"#000000\">samples = 2</text>\n<text text-anchor=\"middle\" x=\"3878.5\" y=\"-616.8\" font-family=\"Helvetica,sans-Serif\" font-size=\"14.00\" fill=\"#000000\">value = [1, 1]</text>\n</g>\n<!-- 256&#45;&gt;258 -->\n<g id=\"edge258\" class=\"edge\">\n<title>256&#45;&gt;258</title>\n<path fill=\"none\" stroke=\"#000000\" d=\"M3797.1199,-712.9465C3807.984,-703.6088 3819.8718,-693.3911 3831.1235,-683.7203\"/>\n<polygon fill=\"#000000\" stroke=\"#000000\" points=\"3833.4887,-686.3026 3838.7911,-677.13 3828.9259,-680.994 3833.4887,-686.3026\"/>\n</g>\n<!-- 259 -->\n<g id=\"node260\" class=\"node\">\n<title>259</title>\n<polygon fill=\"none\" stroke=\"#000000\" points=\"3928,-565.5 3829,-565.5 3829,-512.5 3928,-512.5 3928,-565.5\"/>\n<text text-anchor=\"middle\" x=\"3878.5\" y=\"-550.3\" font-family=\"Helvetica,sans-Serif\" font-size=\"14.00\" fill=\"#000000\">gini = 0.0</text>\n<text text-anchor=\"middle\" x=\"3878.5\" y=\"-535.3\" font-family=\"Helvetica,sans-Serif\" font-size=\"14.00\" fill=\"#000000\">samples = 1</text>\n<text text-anchor=\"middle\" x=\"3878.5\" y=\"-520.3\" font-family=\"Helvetica,sans-Serif\" font-size=\"14.00\" fill=\"#000000\">value = [0, 1]</text>\n</g>\n<!-- 258&#45;&gt;259 -->\n<g id=\"edge259\" class=\"edge\">\n<title>258&#45;&gt;259</title>\n<path fill=\"none\" stroke=\"#000000\" d=\"M3878.5,-608.9465C3878.5,-598.2621 3878.5,-586.4254 3878.5,-575.5742\"/>\n<polygon fill=\"#000000\" stroke=\"#000000\" points=\"3882.0001,-575.5421 3878.5,-565.5422 3875.0001,-575.5422 3882.0001,-575.5421\"/>\n</g>\n<!-- 260 -->\n<g id=\"node261\" class=\"node\">\n<title>260</title>\n<polygon fill=\"none\" stroke=\"#000000\" points=\"4045,-565.5 3946,-565.5 3946,-512.5 4045,-512.5 4045,-565.5\"/>\n<text text-anchor=\"middle\" x=\"3995.5\" y=\"-550.3\" font-family=\"Helvetica,sans-Serif\" font-size=\"14.00\" fill=\"#000000\">gini = 0.0</text>\n<text text-anchor=\"middle\" x=\"3995.5\" y=\"-535.3\" font-family=\"Helvetica,sans-Serif\" font-size=\"14.00\" fill=\"#000000\">samples = 1</text>\n<text text-anchor=\"middle\" x=\"3995.5\" y=\"-520.3\" font-family=\"Helvetica,sans-Serif\" font-size=\"14.00\" fill=\"#000000\">value = [1, 0]</text>\n</g>\n<!-- 258&#45;&gt;260 -->\n<g id=\"edge260\" class=\"edge\">\n<title>258&#45;&gt;260</title>\n<path fill=\"none\" stroke=\"#000000\" d=\"M3916.8102,-608.9465C3930.0694,-597.1606 3944.9058,-583.9726 3958.0916,-572.2519\"/>\n<polygon fill=\"#000000\" stroke=\"#000000\" points=\"3960.4912,-574.8018 3965.6401,-565.5422 3955.8407,-569.5699 3960.4912,-574.8018\"/>\n</g>\n<!-- 263 -->\n<g id=\"node264\" class=\"node\">\n<title>263</title>\n<polygon fill=\"none\" stroke=\"#000000\" points=\"4168,-885 4061,-885 4061,-817 4168,-817 4168,-885\"/>\n<text text-anchor=\"middle\" x=\"4114.5\" y=\"-869.8\" font-family=\"Helvetica,sans-Serif\" font-size=\"14.00\" fill=\"#000000\">X[4] &lt;= 7.763</text>\n<text text-anchor=\"middle\" x=\"4114.5\" y=\"-854.8\" font-family=\"Helvetica,sans-Serif\" font-size=\"14.00\" fill=\"#000000\">gini = 0.17</text>\n<text text-anchor=\"middle\" x=\"4114.5\" y=\"-839.8\" font-family=\"Helvetica,sans-Serif\" font-size=\"14.00\" fill=\"#000000\">samples = 32</text>\n<text text-anchor=\"middle\" x=\"4114.5\" y=\"-824.8\" font-family=\"Helvetica,sans-Serif\" font-size=\"14.00\" fill=\"#000000\">value = [29, 3]</text>\n</g>\n<!-- 262&#45;&gt;263 -->\n<g id=\"edge263\" class=\"edge\">\n<title>262&#45;&gt;263</title>\n<path fill=\"none\" stroke=\"#000000\" d=\"M4117.8628,-920.9465C4117.47,-912.776 4117.0448,-903.9318 4116.6332,-895.3697\"/>\n<polygon fill=\"#000000\" stroke=\"#000000\" points=\"4120.1171,-894.9504 4116.1409,-885.13 4113.1252,-895.2866 4120.1171,-894.9504\"/>\n</g>\n<!-- 278 -->\n<g id=\"node279\" class=\"node\">\n<title>278</title>\n<polygon fill=\"none\" stroke=\"#000000\" points=\"4293,-885 4186,-885 4186,-817 4293,-817 4293,-885\"/>\n<text text-anchor=\"middle\" x=\"4239.5\" y=\"-869.8\" font-family=\"Helvetica,sans-Serif\" font-size=\"14.00\" fill=\"#000000\">X[1] &lt;= 29.85</text>\n<text text-anchor=\"middle\" x=\"4239.5\" y=\"-854.8\" font-family=\"Helvetica,sans-Serif\" font-size=\"14.00\" fill=\"#000000\">gini = 0.051</text>\n<text text-anchor=\"middle\" x=\"4239.5\" y=\"-839.8\" font-family=\"Helvetica,sans-Serif\" font-size=\"14.00\" fill=\"#000000\">samples = 38</text>\n<text text-anchor=\"middle\" x=\"4239.5\" y=\"-824.8\" font-family=\"Helvetica,sans-Serif\" font-size=\"14.00\" fill=\"#000000\">value = [37, 1]</text>\n</g>\n<!-- 262&#45;&gt;278 -->\n<g id=\"edge278\" class=\"edge\">\n<title>262&#45;&gt;278</title>\n<path fill=\"none\" stroke=\"#000000\" d=\"M4158.7925,-920.9465C4169.5667,-911.6088 4181.3564,-901.3911 4192.515,-891.7203\"/>\n<polygon fill=\"#000000\" stroke=\"#000000\" points=\"4194.8546,-894.3243 4200.1192,-885.13 4190.2701,-889.0344 4194.8546,-894.3243\"/>\n</g>\n<!-- 264 -->\n<g id=\"node265\" class=\"node\">\n<title>264</title>\n<polygon fill=\"none\" stroke=\"#000000\" points=\"4051,-781 3944,-781 3944,-713 4051,-713 4051,-781\"/>\n<text text-anchor=\"middle\" x=\"3997.5\" y=\"-765.8\" font-family=\"Helvetica,sans-Serif\" font-size=\"14.00\" fill=\"#000000\">X[4] &lt;= 7.227</text>\n<text text-anchor=\"middle\" x=\"3997.5\" y=\"-750.8\" font-family=\"Helvetica,sans-Serif\" font-size=\"14.00\" fill=\"#000000\">gini = 0.121</text>\n<text text-anchor=\"middle\" x=\"3997.5\" y=\"-735.8\" font-family=\"Helvetica,sans-Serif\" font-size=\"14.00\" fill=\"#000000\">samples = 31</text>\n<text text-anchor=\"middle\" x=\"3997.5\" y=\"-720.8\" font-family=\"Helvetica,sans-Serif\" font-size=\"14.00\" fill=\"#000000\">value = [29, 2]</text>\n</g>\n<!-- 263&#45;&gt;264 -->\n<g id=\"edge264\" class=\"edge\">\n<title>263&#45;&gt;264</title>\n<path fill=\"none\" stroke=\"#000000\" d=\"M4076.1898,-816.9465C4065.7859,-807.6986 4054.411,-797.5876 4043.6243,-787.9994\"/>\n<polygon fill=\"#000000\" stroke=\"#000000\" points=\"4045.6956,-785.1577 4035.8962,-781.13 4041.0451,-790.3896 4045.6956,-785.1577\"/>\n</g>\n<!-- 277 -->\n<g id=\"node278\" class=\"node\">\n<title>277</title>\n<polygon fill=\"none\" stroke=\"#000000\" points=\"4168,-773.5 4069,-773.5 4069,-720.5 4168,-720.5 4168,-773.5\"/>\n<text text-anchor=\"middle\" x=\"4118.5\" y=\"-758.3\" font-family=\"Helvetica,sans-Serif\" font-size=\"14.00\" fill=\"#000000\">gini = 0.0</text>\n<text text-anchor=\"middle\" x=\"4118.5\" y=\"-743.3\" font-family=\"Helvetica,sans-Serif\" font-size=\"14.00\" fill=\"#000000\">samples = 1</text>\n<text text-anchor=\"middle\" x=\"4118.5\" y=\"-728.3\" font-family=\"Helvetica,sans-Serif\" font-size=\"14.00\" fill=\"#000000\">value = [0, 1]</text>\n</g>\n<!-- 263&#45;&gt;277 -->\n<g id=\"edge277\" class=\"edge\">\n<title>263&#45;&gt;277</title>\n<path fill=\"none\" stroke=\"#000000\" d=\"M4115.8097,-816.9465C4116.2207,-806.2621 4116.6759,-794.4254 4117.0933,-783.5742\"/>\n<polygon fill=\"#000000\" stroke=\"#000000\" points=\"4120.5921,-783.6693 4117.4791,-773.5422 4113.5973,-783.4002 4120.5921,-783.6693\"/>\n</g>\n<!-- 265 -->\n<g id=\"node266\" class=\"node\">\n<title>265</title>\n<polygon fill=\"none\" stroke=\"#000000\" points=\"4047,-669.5 3948,-669.5 3948,-616.5 4047,-616.5 4047,-669.5\"/>\n<text text-anchor=\"middle\" x=\"3997.5\" y=\"-654.3\" font-family=\"Helvetica,sans-Serif\" font-size=\"14.00\" fill=\"#000000\">gini = 0.0</text>\n<text text-anchor=\"middle\" x=\"3997.5\" y=\"-639.3\" font-family=\"Helvetica,sans-Serif\" font-size=\"14.00\" fill=\"#000000\">samples = 5</text>\n<text text-anchor=\"middle\" x=\"3997.5\" y=\"-624.3\" font-family=\"Helvetica,sans-Serif\" font-size=\"14.00\" fill=\"#000000\">value = [5, 0]</text>\n</g>\n<!-- 264&#45;&gt;265 -->\n<g id=\"edge265\" class=\"edge\">\n<title>264&#45;&gt;265</title>\n<path fill=\"none\" stroke=\"#000000\" d=\"M3997.5,-712.9465C3997.5,-702.2621 3997.5,-690.4254 3997.5,-679.5742\"/>\n<polygon fill=\"#000000\" stroke=\"#000000\" points=\"4001.0001,-679.5421 3997.5,-669.5422 3994.0001,-679.5422 4001.0001,-679.5421\"/>\n</g>\n<!-- 266 -->\n<g id=\"node267\" class=\"node\">\n<title>266</title>\n<polygon fill=\"none\" stroke=\"#000000\" points=\"4172,-677 4065,-677 4065,-609 4172,-609 4172,-677\"/>\n<text text-anchor=\"middle\" x=\"4118.5\" y=\"-661.8\" font-family=\"Helvetica,sans-Serif\" font-size=\"14.00\" fill=\"#000000\">X[4] &lt;= 7.24</text>\n<text text-anchor=\"middle\" x=\"4118.5\" y=\"-646.8\" font-family=\"Helvetica,sans-Serif\" font-size=\"14.00\" fill=\"#000000\">gini = 0.142</text>\n<text text-anchor=\"middle\" x=\"4118.5\" y=\"-631.8\" font-family=\"Helvetica,sans-Serif\" font-size=\"14.00\" fill=\"#000000\">samples = 26</text>\n<text text-anchor=\"middle\" x=\"4118.5\" y=\"-616.8\" font-family=\"Helvetica,sans-Serif\" font-size=\"14.00\" fill=\"#000000\">value = [24, 2]</text>\n</g>\n<!-- 264&#45;&gt;266 -->\n<g id=\"edge266\" class=\"edge\">\n<title>264&#45;&gt;266</title>\n<path fill=\"none\" stroke=\"#000000\" d=\"M4037.1199,-712.9465C4047.984,-703.6088 4059.8718,-693.3911 4071.1235,-683.7203\"/>\n<polygon fill=\"#000000\" stroke=\"#000000\" points=\"4073.4887,-686.3026 4078.7911,-677.13 4068.9259,-680.994 4073.4887,-686.3026\"/>\n</g>\n<!-- 267 -->\n<g id=\"node268\" class=\"node\">\n<title>267</title>\n<polygon fill=\"none\" stroke=\"#000000\" points=\"4168,-573 4065,-573 4065,-505 4168,-505 4168,-573\"/>\n<text text-anchor=\"middle\" x=\"4116.5\" y=\"-557.8\" font-family=\"Helvetica,sans-Serif\" font-size=\"14.00\" fill=\"#000000\">X[1] &lt;= 29.85</text>\n<text text-anchor=\"middle\" x=\"4116.5\" y=\"-542.8\" font-family=\"Helvetica,sans-Serif\" font-size=\"14.00\" fill=\"#000000\">gini = 0.278</text>\n<text text-anchor=\"middle\" x=\"4116.5\" y=\"-527.8\" font-family=\"Helvetica,sans-Serif\" font-size=\"14.00\" fill=\"#000000\">samples = 6</text>\n<text text-anchor=\"middle\" x=\"4116.5\" y=\"-512.8\" font-family=\"Helvetica,sans-Serif\" font-size=\"14.00\" fill=\"#000000\">value = [5, 1]</text>\n</g>\n<!-- 266&#45;&gt;267 -->\n<g id=\"edge267\" class=\"edge\">\n<title>266&#45;&gt;267</title>\n<path fill=\"none\" stroke=\"#000000\" d=\"M4117.8451,-608.9465C4117.688,-600.776 4117.5179,-591.9318 4117.3533,-583.3697\"/>\n<polygon fill=\"#000000\" stroke=\"#000000\" points=\"4120.8481,-583.0608 4117.1563,-573.13 4113.8494,-583.1955 4120.8481,-583.0608\"/>\n</g>\n<!-- 270 -->\n<g id=\"node271\" class=\"node\">\n<title>270</title>\n<polygon fill=\"none\" stroke=\"#000000\" points=\"4293,-573 4186,-573 4186,-505 4293,-505 4293,-573\"/>\n<text text-anchor=\"middle\" x=\"4239.5\" y=\"-557.8\" font-family=\"Helvetica,sans-Serif\" font-size=\"14.00\" fill=\"#000000\">X[4] &lt;= 7.744</text>\n<text text-anchor=\"middle\" x=\"4239.5\" y=\"-542.8\" font-family=\"Helvetica,sans-Serif\" font-size=\"14.00\" fill=\"#000000\">gini = 0.095</text>\n<text text-anchor=\"middle\" x=\"4239.5\" y=\"-527.8\" font-family=\"Helvetica,sans-Serif\" font-size=\"14.00\" fill=\"#000000\">samples = 20</text>\n<text text-anchor=\"middle\" x=\"4239.5\" y=\"-512.8\" font-family=\"Helvetica,sans-Serif\" font-size=\"14.00\" fill=\"#000000\">value = [19, 1]</text>\n</g>\n<!-- 266&#45;&gt;270 -->\n<g id=\"edge270\" class=\"edge\">\n<title>266&#45;&gt;270</title>\n<path fill=\"none\" stroke=\"#000000\" d=\"M4158.1199,-608.9465C4168.984,-599.6088 4180.8718,-589.3911 4192.1235,-579.7203\"/>\n<polygon fill=\"#000000\" stroke=\"#000000\" points=\"4194.4887,-582.3026 4199.7911,-573.13 4189.9259,-576.994 4194.4887,-582.3026\"/>\n</g>\n<!-- 268 -->\n<g id=\"node269\" class=\"node\">\n<title>268</title>\n<polygon fill=\"none\" stroke=\"#000000\" points=\"4052,-461.5 3953,-461.5 3953,-408.5 4052,-408.5 4052,-461.5\"/>\n<text text-anchor=\"middle\" x=\"4002.5\" y=\"-446.3\" font-family=\"Helvetica,sans-Serif\" font-size=\"14.00\" fill=\"#000000\">gini = 0.32</text>\n<text text-anchor=\"middle\" x=\"4002.5\" y=\"-431.3\" font-family=\"Helvetica,sans-Serif\" font-size=\"14.00\" fill=\"#000000\">samples = 5</text>\n<text text-anchor=\"middle\" x=\"4002.5\" y=\"-416.3\" font-family=\"Helvetica,sans-Serif\" font-size=\"14.00\" fill=\"#000000\">value = [4, 1]</text>\n</g>\n<!-- 267&#45;&gt;268 -->\n<g id=\"edge268\" class=\"edge\">\n<title>267&#45;&gt;268</title>\n<path fill=\"none\" stroke=\"#000000\" d=\"M4079.1721,-504.9465C4066.3737,-493.2707 4052.067,-480.219 4039.3099,-468.5809\"/>\n<polygon fill=\"#000000\" stroke=\"#000000\" points=\"4041.3409,-465.6961 4031.5943,-461.5422 4036.6231,-470.8675 4041.3409,-465.6961\"/>\n</g>\n<!-- 269 -->\n<g id=\"node270\" class=\"node\">\n<title>269</title>\n<polygon fill=\"none\" stroke=\"#000000\" points=\"4169,-461.5 4070,-461.5 4070,-408.5 4169,-408.5 4169,-461.5\"/>\n<text text-anchor=\"middle\" x=\"4119.5\" y=\"-446.3\" font-family=\"Helvetica,sans-Serif\" font-size=\"14.00\" fill=\"#000000\">gini = 0.0</text>\n<text text-anchor=\"middle\" x=\"4119.5\" y=\"-431.3\" font-family=\"Helvetica,sans-Serif\" font-size=\"14.00\" fill=\"#000000\">samples = 1</text>\n<text text-anchor=\"middle\" x=\"4119.5\" y=\"-416.3\" font-family=\"Helvetica,sans-Serif\" font-size=\"14.00\" fill=\"#000000\">value = [1, 0]</text>\n</g>\n<!-- 267&#45;&gt;269 -->\n<g id=\"edge269\" class=\"edge\">\n<title>267&#45;&gt;269</title>\n<path fill=\"none\" stroke=\"#000000\" d=\"M4117.4823,-504.9465C4117.7905,-494.2621 4118.132,-482.4254 4118.445,-471.5742\"/>\n<polygon fill=\"#000000\" stroke=\"#000000\" points=\"4121.9445,-471.639 4118.7344,-461.5422 4114.9474,-471.4371 4121.9445,-471.639\"/>\n</g>\n<!-- 271 -->\n<g id=\"node272\" class=\"node\">\n<title>271</title>\n<polygon fill=\"none\" stroke=\"#000000\" points=\"4286,-461.5 4187,-461.5 4187,-408.5 4286,-408.5 4286,-461.5\"/>\n<text text-anchor=\"middle\" x=\"4236.5\" y=\"-446.3\" font-family=\"Helvetica,sans-Serif\" font-size=\"14.00\" fill=\"#000000\">gini = 0.0</text>\n<text text-anchor=\"middle\" x=\"4236.5\" y=\"-431.3\" font-family=\"Helvetica,sans-Serif\" font-size=\"14.00\" fill=\"#000000\">samples = 8</text>\n<text text-anchor=\"middle\" x=\"4236.5\" y=\"-416.3\" font-family=\"Helvetica,sans-Serif\" font-size=\"14.00\" fill=\"#000000\">value = [8, 0]</text>\n</g>\n<!-- 270&#45;&gt;271 -->\n<g id=\"edge271\" class=\"edge\">\n<title>270&#45;&gt;271</title>\n<path fill=\"none\" stroke=\"#000000\" d=\"M4238.5177,-504.9465C4238.2095,-494.2621 4237.868,-482.4254 4237.555,-471.5742\"/>\n<polygon fill=\"#000000\" stroke=\"#000000\" points=\"4241.0526,-471.4371 4237.2656,-461.5422 4234.0555,-471.639 4241.0526,-471.4371\"/>\n</g>\n<!-- 272 -->\n<g id=\"node273\" class=\"node\">\n<title>272</title>\n<polygon fill=\"none\" stroke=\"#000000\" points=\"4411,-469 4304,-469 4304,-401 4411,-401 4411,-469\"/>\n<text text-anchor=\"middle\" x=\"4357.5\" y=\"-453.8\" font-family=\"Helvetica,sans-Serif\" font-size=\"14.00\" fill=\"#000000\">X[3] &lt;= 0.5</text>\n<text text-anchor=\"middle\" x=\"4357.5\" y=\"-438.8\" font-family=\"Helvetica,sans-Serif\" font-size=\"14.00\" fill=\"#000000\">gini = 0.153</text>\n<text text-anchor=\"middle\" x=\"4357.5\" y=\"-423.8\" font-family=\"Helvetica,sans-Serif\" font-size=\"14.00\" fill=\"#000000\">samples = 12</text>\n<text text-anchor=\"middle\" x=\"4357.5\" y=\"-408.8\" font-family=\"Helvetica,sans-Serif\" font-size=\"14.00\" fill=\"#000000\">value = [11, 1]</text>\n</g>\n<!-- 270&#45;&gt;272 -->\n<g id=\"edge272\" class=\"edge\">\n<title>270&#45;&gt;272</title>\n<path fill=\"none\" stroke=\"#000000\" d=\"M4278.1376,-504.9465C4288.6304,-495.6986 4300.1026,-485.5876 4310.9814,-475.9994\"/>\n<polygon fill=\"#000000\" stroke=\"#000000\" points=\"4313.5877,-478.3678 4318.7756,-469.13 4308.9593,-473.1163 4313.5877,-478.3678\"/>\n</g>\n<!-- 273 -->\n<g id=\"node274\" class=\"node\">\n<title>273</title>\n<polygon fill=\"none\" stroke=\"#000000\" points=\"4350,-365 4243,-365 4243,-297 4350,-297 4350,-365\"/>\n<text text-anchor=\"middle\" x=\"4296.5\" y=\"-349.8\" font-family=\"Helvetica,sans-Serif\" font-size=\"14.00\" fill=\"#000000\">X[1] &lt;= 30.35</text>\n<text text-anchor=\"middle\" x=\"4296.5\" y=\"-334.8\" font-family=\"Helvetica,sans-Serif\" font-size=\"14.00\" fill=\"#000000\">gini = 0.165</text>\n<text text-anchor=\"middle\" x=\"4296.5\" y=\"-319.8\" font-family=\"Helvetica,sans-Serif\" font-size=\"14.00\" fill=\"#000000\">samples = 11</text>\n<text text-anchor=\"middle\" x=\"4296.5\" y=\"-304.8\" font-family=\"Helvetica,sans-Serif\" font-size=\"14.00\" fill=\"#000000\">value = [10, 1]</text>\n</g>\n<!-- 272&#45;&gt;273 -->\n<g id=\"edge273\" class=\"edge\">\n<title>272&#45;&gt;273</title>\n<path fill=\"none\" stroke=\"#000000\" d=\"M4337.5263,-400.9465C4332.4707,-392.3271 4326.9753,-382.9579 4321.6983,-373.9611\"/>\n<polygon fill=\"#000000\" stroke=\"#000000\" points=\"4324.5969,-371.985 4316.5186,-365.13 4318.5589,-375.5265 4324.5969,-371.985\"/>\n</g>\n<!-- 276 -->\n<g id=\"node277\" class=\"node\">\n<title>276</title>\n<polygon fill=\"none\" stroke=\"#000000\" points=\"4467,-357.5 4368,-357.5 4368,-304.5 4467,-304.5 4467,-357.5\"/>\n<text text-anchor=\"middle\" x=\"4417.5\" y=\"-342.3\" font-family=\"Helvetica,sans-Serif\" font-size=\"14.00\" fill=\"#000000\">gini = 0.0</text>\n<text text-anchor=\"middle\" x=\"4417.5\" y=\"-327.3\" font-family=\"Helvetica,sans-Serif\" font-size=\"14.00\" fill=\"#000000\">samples = 1</text>\n<text text-anchor=\"middle\" x=\"4417.5\" y=\"-312.3\" font-family=\"Helvetica,sans-Serif\" font-size=\"14.00\" fill=\"#000000\">value = [1, 0]</text>\n</g>\n<!-- 272&#45;&gt;276 -->\n<g id=\"edge276\" class=\"edge\">\n<title>272&#45;&gt;276</title>\n<path fill=\"none\" stroke=\"#000000\" d=\"M4377.1462,-400.9465C4383.5645,-389.8215 4390.7035,-377.4473 4397.171,-366.237\"/>\n<polygon fill=\"#000000\" stroke=\"#000000\" points=\"4400.2216,-367.9531 4402.1872,-357.5422 4394.1583,-364.455 4400.2216,-367.9531\"/>\n</g>\n<!-- 274 -->\n<g id=\"node275\" class=\"node\">\n<title>274</title>\n<polygon fill=\"none\" stroke=\"#000000\" points=\"4288.5,-253.5 4184.5,-253.5 4184.5,-200.5 4288.5,-200.5 4288.5,-253.5\"/>\n<text text-anchor=\"middle\" x=\"4236.5\" y=\"-238.3\" font-family=\"Helvetica,sans-Serif\" font-size=\"14.00\" fill=\"#000000\">gini = 0.18</text>\n<text text-anchor=\"middle\" x=\"4236.5\" y=\"-223.3\" font-family=\"Helvetica,sans-Serif\" font-size=\"14.00\" fill=\"#000000\">samples = 10</text>\n<text text-anchor=\"middle\" x=\"4236.5\" y=\"-208.3\" font-family=\"Helvetica,sans-Serif\" font-size=\"14.00\" fill=\"#000000\">value = [9, 1]</text>\n</g>\n<!-- 273&#45;&gt;274 -->\n<g id=\"edge274\" class=\"edge\">\n<title>273&#45;&gt;274</title>\n<path fill=\"none\" stroke=\"#000000\" d=\"M4276.8538,-296.9465C4270.4355,-285.8215 4263.2965,-273.4473 4256.829,-262.237\"/>\n<polygon fill=\"#000000\" stroke=\"#000000\" points=\"4259.8417,-260.455 4251.8128,-253.5422 4253.7784,-263.9531 4259.8417,-260.455\"/>\n</g>\n<!-- 275 -->\n<g id=\"node276\" class=\"node\">\n<title>275</title>\n<polygon fill=\"none\" stroke=\"#000000\" points=\"4406,-253.5 4307,-253.5 4307,-200.5 4406,-200.5 4406,-253.5\"/>\n<text text-anchor=\"middle\" x=\"4356.5\" y=\"-238.3\" font-family=\"Helvetica,sans-Serif\" font-size=\"14.00\" fill=\"#000000\">gini = 0.0</text>\n<text text-anchor=\"middle\" x=\"4356.5\" y=\"-223.3\" font-family=\"Helvetica,sans-Serif\" font-size=\"14.00\" fill=\"#000000\">samples = 1</text>\n<text text-anchor=\"middle\" x=\"4356.5\" y=\"-208.3\" font-family=\"Helvetica,sans-Serif\" font-size=\"14.00\" fill=\"#000000\">value = [1, 0]</text>\n</g>\n<!-- 273&#45;&gt;275 -->\n<g id=\"edge275\" class=\"edge\">\n<title>273&#45;&gt;275</title>\n<path fill=\"none\" stroke=\"#000000\" d=\"M4316.1462,-296.9465C4322.5645,-285.8215 4329.7035,-273.4473 4336.171,-262.237\"/>\n<polygon fill=\"#000000\" stroke=\"#000000\" points=\"4339.2216,-263.9531 4341.1872,-253.5422 4333.1583,-260.455 4339.2216,-263.9531\"/>\n</g>\n<!-- 279 -->\n<g id=\"node280\" class=\"node\">\n<title>279</title>\n<polygon fill=\"none\" stroke=\"#000000\" points=\"4293,-773.5 4186,-773.5 4186,-720.5 4293,-720.5 4293,-773.5\"/>\n<text text-anchor=\"middle\" x=\"4239.5\" y=\"-758.3\" font-family=\"Helvetica,sans-Serif\" font-size=\"14.00\" fill=\"#000000\">gini = 0.0</text>\n<text text-anchor=\"middle\" x=\"4239.5\" y=\"-743.3\" font-family=\"Helvetica,sans-Serif\" font-size=\"14.00\" fill=\"#000000\">samples = 35</text>\n<text text-anchor=\"middle\" x=\"4239.5\" y=\"-728.3\" font-family=\"Helvetica,sans-Serif\" font-size=\"14.00\" fill=\"#000000\">value = [35, 0]</text>\n</g>\n<!-- 278&#45;&gt;279 -->\n<g id=\"edge279\" class=\"edge\">\n<title>278&#45;&gt;279</title>\n<path fill=\"none\" stroke=\"#000000\" d=\"M4239.5,-816.9465C4239.5,-806.2621 4239.5,-794.4254 4239.5,-783.5742\"/>\n<polygon fill=\"#000000\" stroke=\"#000000\" points=\"4243.0001,-783.5421 4239.5,-773.5422 4236.0001,-783.5422 4243.0001,-783.5421\"/>\n</g>\n<!-- 280 -->\n<g id=\"node281\" class=\"node\">\n<title>280</title>\n<polygon fill=\"none\" stroke=\"#000000\" points=\"4414,-781 4311,-781 4311,-713 4414,-713 4414,-781\"/>\n<text text-anchor=\"middle\" x=\"4362.5\" y=\"-765.8\" font-family=\"Helvetica,sans-Serif\" font-size=\"14.00\" fill=\"#000000\">X[4] &lt;= 8.775</text>\n<text text-anchor=\"middle\" x=\"4362.5\" y=\"-750.8\" font-family=\"Helvetica,sans-Serif\" font-size=\"14.00\" fill=\"#000000\">gini = 0.444</text>\n<text text-anchor=\"middle\" x=\"4362.5\" y=\"-735.8\" font-family=\"Helvetica,sans-Serif\" font-size=\"14.00\" fill=\"#000000\">samples = 3</text>\n<text text-anchor=\"middle\" x=\"4362.5\" y=\"-720.8\" font-family=\"Helvetica,sans-Serif\" font-size=\"14.00\" fill=\"#000000\">value = [2, 1]</text>\n</g>\n<!-- 278&#45;&gt;280 -->\n<g id=\"edge280\" class=\"edge\">\n<title>278&#45;&gt;280</title>\n<path fill=\"none\" stroke=\"#000000\" d=\"M4279.7748,-816.9465C4290.8184,-807.6088 4302.9028,-797.3911 4314.3404,-787.7203\"/>\n<polygon fill=\"#000000\" stroke=\"#000000\" points=\"4316.7583,-790.2594 4322.1347,-781.13 4312.2386,-784.914 4316.7583,-790.2594\"/>\n</g>\n<!-- 281 -->\n<g id=\"node282\" class=\"node\">\n<title>281</title>\n<polygon fill=\"none\" stroke=\"#000000\" points=\"4354,-669.5 4255,-669.5 4255,-616.5 4354,-616.5 4354,-669.5\"/>\n<text text-anchor=\"middle\" x=\"4304.5\" y=\"-654.3\" font-family=\"Helvetica,sans-Serif\" font-size=\"14.00\" fill=\"#000000\">gini = 0.0</text>\n<text text-anchor=\"middle\" x=\"4304.5\" y=\"-639.3\" font-family=\"Helvetica,sans-Serif\" font-size=\"14.00\" fill=\"#000000\">samples = 2</text>\n<text text-anchor=\"middle\" x=\"4304.5\" y=\"-624.3\" font-family=\"Helvetica,sans-Serif\" font-size=\"14.00\" fill=\"#000000\">value = [2, 0]</text>\n</g>\n<!-- 280&#45;&gt;281 -->\n<g id=\"edge281\" class=\"edge\">\n<title>280&#45;&gt;281</title>\n<path fill=\"none\" stroke=\"#000000\" d=\"M4343.5086,-712.9465C4337.3657,-701.9316 4330.5399,-689.6922 4324.3373,-678.5703\"/>\n<polygon fill=\"#000000\" stroke=\"#000000\" points=\"4327.2299,-676.5711 4319.3024,-669.5422 4321.1163,-679.9806 4327.2299,-676.5711\"/>\n</g>\n<!-- 282 -->\n<g id=\"node283\" class=\"node\">\n<title>282</title>\n<polygon fill=\"none\" stroke=\"#000000\" points=\"4471,-669.5 4372,-669.5 4372,-616.5 4471,-616.5 4471,-669.5\"/>\n<text text-anchor=\"middle\" x=\"4421.5\" y=\"-654.3\" font-family=\"Helvetica,sans-Serif\" font-size=\"14.00\" fill=\"#000000\">gini = 0.0</text>\n<text text-anchor=\"middle\" x=\"4421.5\" y=\"-639.3\" font-family=\"Helvetica,sans-Serif\" font-size=\"14.00\" fill=\"#000000\">samples = 1</text>\n<text text-anchor=\"middle\" x=\"4421.5\" y=\"-624.3\" font-family=\"Helvetica,sans-Serif\" font-size=\"14.00\" fill=\"#000000\">value = [0, 1]</text>\n</g>\n<!-- 280&#45;&gt;282 -->\n<g id=\"edge282\" class=\"edge\">\n<title>280&#45;&gt;282</title>\n<path fill=\"none\" stroke=\"#000000\" d=\"M4381.8188,-712.9465C4388.0676,-701.9316 4395.0112,-689.6922 4401.3207,-678.5703\"/>\n<polygon fill=\"#000000\" stroke=\"#000000\" points=\"4404.5523,-679.967 4406.4424,-669.5422 4398.4638,-676.513 4404.5523,-679.967\"/>\n</g>\n<!-- 284 -->\n<g id=\"node285\" class=\"node\">\n<title>284</title>\n<polygon fill=\"none\" stroke=\"#000000\" points=\"4469.5,-989 4365.5,-989 4365.5,-921 4469.5,-921 4469.5,-989\"/>\n<text text-anchor=\"middle\" x=\"4417.5\" y=\"-973.8\" font-family=\"Helvetica,sans-Serif\" font-size=\"14.00\" fill=\"#000000\">X[3] &lt;= 0.5</text>\n<text text-anchor=\"middle\" x=\"4417.5\" y=\"-958.8\" font-family=\"Helvetica,sans-Serif\" font-size=\"14.00\" fill=\"#000000\">gini = 0.298</text>\n<text text-anchor=\"middle\" x=\"4417.5\" y=\"-943.8\" font-family=\"Helvetica,sans-Serif\" font-size=\"14.00\" fill=\"#000000\">samples = 11</text>\n<text text-anchor=\"middle\" x=\"4417.5\" y=\"-928.8\" font-family=\"Helvetica,sans-Serif\" font-size=\"14.00\" fill=\"#000000\">value = [9, 2]</text>\n</g>\n<!-- 283&#45;&gt;284 -->\n<g id=\"edge284\" class=\"edge\">\n<title>283&#45;&gt;284</title>\n<path fill=\"none\" stroke=\"#000000\" d=\"M4417.5,-1024.9465C4417.5,-1016.776 4417.5,-1007.9318 4417.5,-999.3697\"/>\n<polygon fill=\"#000000\" stroke=\"#000000\" points=\"4421.0001,-999.13 4417.5,-989.13 4414.0001,-999.13 4421.0001,-999.13\"/>\n</g>\n<!-- 293 -->\n<g id=\"node294\" class=\"node\">\n<title>293</title>\n<polygon fill=\"none\" stroke=\"#000000\" points=\"4644,-989 4545,-989 4545,-921 4644,-921 4644,-989\"/>\n<text text-anchor=\"middle\" x=\"4594.5\" y=\"-973.8\" font-family=\"Helvetica,sans-Serif\" font-size=\"14.00\" fill=\"#000000\">X[4] &lt;= 23.7</text>\n<text text-anchor=\"middle\" x=\"4594.5\" y=\"-958.8\" font-family=\"Helvetica,sans-Serif\" font-size=\"14.00\" fill=\"#000000\">gini = 0.444</text>\n<text text-anchor=\"middle\" x=\"4594.5\" y=\"-943.8\" font-family=\"Helvetica,sans-Serif\" font-size=\"14.00\" fill=\"#000000\">samples = 3</text>\n<text text-anchor=\"middle\" x=\"4594.5\" y=\"-928.8\" font-family=\"Helvetica,sans-Serif\" font-size=\"14.00\" fill=\"#000000\">value = [1, 2]</text>\n</g>\n<!-- 283&#45;&gt;293 -->\n<g id=\"edge293\" class=\"edge\">\n<title>283&#45;&gt;293</title>\n<path fill=\"none\" stroke=\"#000000\" d=\"M4471.0862,-1027.5143C4491.5632,-1015.4826 4515.0102,-1001.7059 4535.9286,-989.4148\"/>\n<polygon fill=\"#000000\" stroke=\"#000000\" points=\"4537.874,-992.3313 4544.7228,-984.2476 4534.3278,-986.296 4537.874,-992.3313\"/>\n</g>\n<!-- 285 -->\n<g id=\"node286\" class=\"node\">\n<title>285</title>\n<polygon fill=\"none\" stroke=\"#000000\" points=\"4410,-885 4311,-885 4311,-817 4410,-817 4410,-885\"/>\n<text text-anchor=\"middle\" x=\"4360.5\" y=\"-869.8\" font-family=\"Helvetica,sans-Serif\" font-size=\"14.00\" fill=\"#000000\">X[1] &lt;= 18.5</text>\n<text text-anchor=\"middle\" x=\"4360.5\" y=\"-854.8\" font-family=\"Helvetica,sans-Serif\" font-size=\"14.00\" fill=\"#000000\">gini = 0.444</text>\n<text text-anchor=\"middle\" x=\"4360.5\" y=\"-839.8\" font-family=\"Helvetica,sans-Serif\" font-size=\"14.00\" fill=\"#000000\">samples = 6</text>\n<text text-anchor=\"middle\" x=\"4360.5\" y=\"-824.8\" font-family=\"Helvetica,sans-Serif\" font-size=\"14.00\" fill=\"#000000\">value = [4, 2]</text>\n</g>\n<!-- 284&#45;&gt;285 -->\n<g id=\"edge285\" class=\"edge\">\n<title>284&#45;&gt;285</title>\n<path fill=\"none\" stroke=\"#000000\" d=\"M4398.8361,-920.9465C4394.112,-912.3271 4388.9769,-902.9579 4384.046,-893.9611\"/>\n<polygon fill=\"#000000\" stroke=\"#000000\" points=\"4387.0814,-892.2171 4379.2059,-885.13 4380.9429,-895.5815 4387.0814,-892.2171\"/>\n</g>\n<!-- 292 -->\n<g id=\"node293\" class=\"node\">\n<title>292</title>\n<polygon fill=\"none\" stroke=\"#000000\" points=\"4527,-877.5 4428,-877.5 4428,-824.5 4527,-824.5 4527,-877.5\"/>\n<text text-anchor=\"middle\" x=\"4477.5\" y=\"-862.3\" font-family=\"Helvetica,sans-Serif\" font-size=\"14.00\" fill=\"#000000\">gini = 0.0</text>\n<text text-anchor=\"middle\" x=\"4477.5\" y=\"-847.3\" font-family=\"Helvetica,sans-Serif\" font-size=\"14.00\" fill=\"#000000\">samples = 5</text>\n<text text-anchor=\"middle\" x=\"4477.5\" y=\"-832.3\" font-family=\"Helvetica,sans-Serif\" font-size=\"14.00\" fill=\"#000000\">value = [5, 0]</text>\n</g>\n<!-- 284&#45;&gt;292 -->\n<g id=\"edge292\" class=\"edge\">\n<title>284&#45;&gt;292</title>\n<path fill=\"none\" stroke=\"#000000\" d=\"M4437.1462,-920.9465C4443.5645,-909.8215 4450.7035,-897.4473 4457.171,-886.237\"/>\n<polygon fill=\"#000000\" stroke=\"#000000\" points=\"4460.2216,-887.9531 4462.1872,-877.5422 4454.1583,-884.455 4460.2216,-887.9531\"/>\n</g>\n<!-- 286 -->\n<g id=\"node287\" class=\"node\">\n<title>286</title>\n<polygon fill=\"none\" stroke=\"#000000\" points=\"4531,-773.5 4432,-773.5 4432,-720.5 4531,-720.5 4531,-773.5\"/>\n<text text-anchor=\"middle\" x=\"4481.5\" y=\"-758.3\" font-family=\"Helvetica,sans-Serif\" font-size=\"14.00\" fill=\"#000000\">gini = 0.0</text>\n<text text-anchor=\"middle\" x=\"4481.5\" y=\"-743.3\" font-family=\"Helvetica,sans-Serif\" font-size=\"14.00\" fill=\"#000000\">samples = 1</text>\n<text text-anchor=\"middle\" x=\"4481.5\" y=\"-728.3\" font-family=\"Helvetica,sans-Serif\" font-size=\"14.00\" fill=\"#000000\">value = [1, 0]</text>\n</g>\n<!-- 285&#45;&gt;286 -->\n<g id=\"edge286\" class=\"edge\">\n<title>285&#45;&gt;286</title>\n<path fill=\"none\" stroke=\"#000000\" d=\"M4400.1199,-816.9465C4413.8324,-805.1606 4429.1761,-791.9726 4442.8127,-780.2519\"/>\n<polygon fill=\"#000000\" stroke=\"#000000\" points=\"4445.3169,-782.7147 4450.6192,-773.5422 4440.7541,-777.4061 4445.3169,-782.7147\"/>\n</g>\n<!-- 287 -->\n<g id=\"node288\" class=\"node\">\n<title>287</title>\n<polygon fill=\"none\" stroke=\"#000000\" points=\"4660,-781 4549,-781 4549,-713 4660,-713 4660,-781\"/>\n<text text-anchor=\"middle\" x=\"4604.5\" y=\"-765.8\" font-family=\"Helvetica,sans-Serif\" font-size=\"14.00\" fill=\"#000000\">X[4] &lt;= 20.656</text>\n<text text-anchor=\"middle\" x=\"4604.5\" y=\"-750.8\" font-family=\"Helvetica,sans-Serif\" font-size=\"14.00\" fill=\"#000000\">gini = 0.48</text>\n<text text-anchor=\"middle\" x=\"4604.5\" y=\"-735.8\" font-family=\"Helvetica,sans-Serif\" font-size=\"14.00\" fill=\"#000000\">samples = 5</text>\n<text text-anchor=\"middle\" x=\"4604.5\" y=\"-720.8\" font-family=\"Helvetica,sans-Serif\" font-size=\"14.00\" fill=\"#000000\">value = [3, 2]</text>\n</g>\n<!-- 285&#45;&gt;287 -->\n<g id=\"edge287\" class=\"edge\">\n<title>285&#45;&gt;287</title>\n<path fill=\"none\" stroke=\"#000000\" d=\"M4410.0861,-820.9082C4412.9,-819.5228 4415.7164,-818.2088 4418.5,-817 4469.9641,-794.6506 4487.5115,-802.1008 4539.5,-781 4539.5959,-780.9611 4539.6918,-780.9221 4539.7878,-780.883\"/>\n<polygon fill=\"#000000\" stroke=\"#000000\" points=\"4541.0021,-784.1708 4548.8048,-777.0036 4538.2357,-777.7406 4541.0021,-784.1708\"/>\n</g>\n<!-- 288 -->\n<g id=\"node289\" class=\"node\">\n<title>288</title>\n<polygon fill=\"none\" stroke=\"#000000\" points=\"4621,-669.5 4522,-669.5 4522,-616.5 4621,-616.5 4621,-669.5\"/>\n<text text-anchor=\"middle\" x=\"4571.5\" y=\"-654.3\" font-family=\"Helvetica,sans-Serif\" font-size=\"14.00\" fill=\"#000000\">gini = 0.0</text>\n<text text-anchor=\"middle\" x=\"4571.5\" y=\"-639.3\" font-family=\"Helvetica,sans-Serif\" font-size=\"14.00\" fill=\"#000000\">samples = 1</text>\n<text text-anchor=\"middle\" x=\"4571.5\" y=\"-624.3\" font-family=\"Helvetica,sans-Serif\" font-size=\"14.00\" fill=\"#000000\">value = [0, 1]</text>\n</g>\n<!-- 287&#45;&gt;288 -->\n<g id=\"edge288\" class=\"edge\">\n<title>287&#45;&gt;288</title>\n<path fill=\"none\" stroke=\"#000000\" d=\"M4593.6946,-712.9465C4590.2694,-702.1519 4586.471,-690.1813 4582.9989,-679.2389\"/>\n<polygon fill=\"#000000\" stroke=\"#000000\" points=\"4586.2827,-678.0152 4579.922,-669.5422 4579.6105,-680.1324 4586.2827,-678.0152\"/>\n</g>\n<!-- 289 -->\n<g id=\"node290\" class=\"node\">\n<title>289</title>\n<polygon fill=\"none\" stroke=\"#000000\" points=\"4750,-677 4639,-677 4639,-609 4750,-609 4750,-677\"/>\n<text text-anchor=\"middle\" x=\"4694.5\" y=\"-661.8\" font-family=\"Helvetica,sans-Serif\" font-size=\"14.00\" fill=\"#000000\">X[4] &lt;= 40.323</text>\n<text text-anchor=\"middle\" x=\"4694.5\" y=\"-646.8\" font-family=\"Helvetica,sans-Serif\" font-size=\"14.00\" fill=\"#000000\">gini = 0.375</text>\n<text text-anchor=\"middle\" x=\"4694.5\" y=\"-631.8\" font-family=\"Helvetica,sans-Serif\" font-size=\"14.00\" fill=\"#000000\">samples = 4</text>\n<text text-anchor=\"middle\" x=\"4694.5\" y=\"-616.8\" font-family=\"Helvetica,sans-Serif\" font-size=\"14.00\" fill=\"#000000\">value = [3, 1]</text>\n</g>\n<!-- 287&#45;&gt;289 -->\n<g id=\"edge289\" class=\"edge\">\n<title>287&#45;&gt;289</title>\n<path fill=\"none\" stroke=\"#000000\" d=\"M4633.9694,-712.9465C4641.7393,-703.968 4650.2132,-694.1758 4658.2936,-684.8385\"/>\n<polygon fill=\"#000000\" stroke=\"#000000\" points=\"4661.0672,-686.982 4664.9644,-677.13 4655.774,-682.4014 4661.0672,-686.982\"/>\n</g>\n<!-- 290 -->\n<g id=\"node291\" class=\"node\">\n<title>290</title>\n<polygon fill=\"none\" stroke=\"#000000\" points=\"4686,-565.5 4587,-565.5 4587,-512.5 4686,-512.5 4686,-565.5\"/>\n<text text-anchor=\"middle\" x=\"4636.5\" y=\"-550.3\" font-family=\"Helvetica,sans-Serif\" font-size=\"14.00\" fill=\"#000000\">gini = 0.0</text>\n<text text-anchor=\"middle\" x=\"4636.5\" y=\"-535.3\" font-family=\"Helvetica,sans-Serif\" font-size=\"14.00\" fill=\"#000000\">samples = 2</text>\n<text text-anchor=\"middle\" x=\"4636.5\" y=\"-520.3\" font-family=\"Helvetica,sans-Serif\" font-size=\"14.00\" fill=\"#000000\">value = [2, 0]</text>\n</g>\n<!-- 289&#45;&gt;290 -->\n<g id=\"edge290\" class=\"edge\">\n<title>289&#45;&gt;290</title>\n<path fill=\"none\" stroke=\"#000000\" d=\"M4675.5086,-608.9465C4669.3657,-597.9316 4662.5399,-585.6922 4656.3373,-574.5703\"/>\n<polygon fill=\"#000000\" stroke=\"#000000\" points=\"4659.2299,-572.5711 4651.3024,-565.5422 4653.1163,-575.9806 4659.2299,-572.5711\"/>\n</g>\n<!-- 291 -->\n<g id=\"node292\" class=\"node\">\n<title>291</title>\n<polygon fill=\"none\" stroke=\"#000000\" points=\"4803,-565.5 4704,-565.5 4704,-512.5 4803,-512.5 4803,-565.5\"/>\n<text text-anchor=\"middle\" x=\"4753.5\" y=\"-550.3\" font-family=\"Helvetica,sans-Serif\" font-size=\"14.00\" fill=\"#000000\">gini = 0.5</text>\n<text text-anchor=\"middle\" x=\"4753.5\" y=\"-535.3\" font-family=\"Helvetica,sans-Serif\" font-size=\"14.00\" fill=\"#000000\">samples = 2</text>\n<text text-anchor=\"middle\" x=\"4753.5\" y=\"-520.3\" font-family=\"Helvetica,sans-Serif\" font-size=\"14.00\" fill=\"#000000\">value = [1, 1]</text>\n</g>\n<!-- 289&#45;&gt;291 -->\n<g id=\"edge291\" class=\"edge\">\n<title>289&#45;&gt;291</title>\n<path fill=\"none\" stroke=\"#000000\" d=\"M4713.8188,-608.9465C4720.0676,-597.9316 4727.0112,-585.6922 4733.3207,-574.5703\"/>\n<polygon fill=\"#000000\" stroke=\"#000000\" points=\"4736.5523,-575.967 4738.4424,-565.5422 4730.4638,-572.513 4736.5523,-575.967\"/>\n</g>\n<!-- 294 -->\n<g id=\"node295\" class=\"node\">\n<title>294</title>\n<polygon fill=\"none\" stroke=\"#000000\" points=\"4644,-877.5 4545,-877.5 4545,-824.5 4644,-824.5 4644,-877.5\"/>\n<text text-anchor=\"middle\" x=\"4594.5\" y=\"-862.3\" font-family=\"Helvetica,sans-Serif\" font-size=\"14.00\" fill=\"#000000\">gini = 0.0</text>\n<text text-anchor=\"middle\" x=\"4594.5\" y=\"-847.3\" font-family=\"Helvetica,sans-Serif\" font-size=\"14.00\" fill=\"#000000\">samples = 2</text>\n<text text-anchor=\"middle\" x=\"4594.5\" y=\"-832.3\" font-family=\"Helvetica,sans-Serif\" font-size=\"14.00\" fill=\"#000000\">value = [0, 2]</text>\n</g>\n<!-- 293&#45;&gt;294 -->\n<g id=\"edge294\" class=\"edge\">\n<title>293&#45;&gt;294</title>\n<path fill=\"none\" stroke=\"#000000\" d=\"M4594.5,-920.9465C4594.5,-910.2621 4594.5,-898.4254 4594.5,-887.5742\"/>\n<polygon fill=\"#000000\" stroke=\"#000000\" points=\"4598.0001,-887.5421 4594.5,-877.5422 4591.0001,-887.5422 4598.0001,-887.5421\"/>\n</g>\n<!-- 295 -->\n<g id=\"node296\" class=\"node\">\n<title>295</title>\n<polygon fill=\"none\" stroke=\"#000000\" points=\"4761,-877.5 4662,-877.5 4662,-824.5 4761,-824.5 4761,-877.5\"/>\n<text text-anchor=\"middle\" x=\"4711.5\" y=\"-862.3\" font-family=\"Helvetica,sans-Serif\" font-size=\"14.00\" fill=\"#000000\">gini = 0.0</text>\n<text text-anchor=\"middle\" x=\"4711.5\" y=\"-847.3\" font-family=\"Helvetica,sans-Serif\" font-size=\"14.00\" fill=\"#000000\">samples = 1</text>\n<text text-anchor=\"middle\" x=\"4711.5\" y=\"-832.3\" font-family=\"Helvetica,sans-Serif\" font-size=\"14.00\" fill=\"#000000\">value = [1, 0]</text>\n</g>\n<!-- 293&#45;&gt;295 -->\n<g id=\"edge295\" class=\"edge\">\n<title>293&#45;&gt;295</title>\n<path fill=\"none\" stroke=\"#000000\" d=\"M4632.8102,-920.9465C4646.0694,-909.1606 4660.9058,-895.9726 4674.0916,-884.2519\"/>\n<polygon fill=\"#000000\" stroke=\"#000000\" points=\"4676.4912,-886.8018 4681.6401,-877.5422 4671.8407,-881.5699 4676.4912,-886.8018\"/>\n</g>\n<!-- 298 -->\n<g id=\"node299\" class=\"node\">\n<title>298</title>\n<polygon fill=\"none\" stroke=\"#000000\" points=\"4529,-1293.5 4430,-1293.5 4430,-1240.5 4529,-1240.5 4529,-1293.5\"/>\n<text text-anchor=\"middle\" x=\"4479.5\" y=\"-1278.3\" font-family=\"Helvetica,sans-Serif\" font-size=\"14.00\" fill=\"#000000\">gini = 0.0</text>\n<text text-anchor=\"middle\" x=\"4479.5\" y=\"-1263.3\" font-family=\"Helvetica,sans-Serif\" font-size=\"14.00\" fill=\"#000000\">samples = 2</text>\n<text text-anchor=\"middle\" x=\"4479.5\" y=\"-1248.3\" font-family=\"Helvetica,sans-Serif\" font-size=\"14.00\" fill=\"#000000\">value = [2, 0]</text>\n</g>\n<!-- 297&#45;&gt;298 -->\n<g id=\"edge298\" class=\"edge\">\n<title>297&#45;&gt;298</title>\n<path fill=\"none\" stroke=\"#000000\" d=\"M4479.5,-1336.9465C4479.5,-1326.2621 4479.5,-1314.4254 4479.5,-1303.5742\"/>\n<polygon fill=\"#000000\" stroke=\"#000000\" points=\"4483.0001,-1303.5421 4479.5,-1293.5422 4476.0001,-1303.5422 4483.0001,-1303.5421\"/>\n</g>\n<!-- 299 -->\n<g id=\"node300\" class=\"node\">\n<title>299</title>\n<polygon fill=\"none\" stroke=\"#000000\" points=\"4671,-1301 4568,-1301 4568,-1233 4671,-1233 4671,-1301\"/>\n<text text-anchor=\"middle\" x=\"4619.5\" y=\"-1285.8\" font-family=\"Helvetica,sans-Serif\" font-size=\"14.00\" fill=\"#000000\">X[4] &lt;= 7.802</text>\n<text text-anchor=\"middle\" x=\"4619.5\" y=\"-1270.8\" font-family=\"Helvetica,sans-Serif\" font-size=\"14.00\" fill=\"#000000\">gini = 0.469</text>\n<text text-anchor=\"middle\" x=\"4619.5\" y=\"-1255.8\" font-family=\"Helvetica,sans-Serif\" font-size=\"14.00\" fill=\"#000000\">samples = 8</text>\n<text text-anchor=\"middle\" x=\"4619.5\" y=\"-1240.8\" font-family=\"Helvetica,sans-Serif\" font-size=\"14.00\" fill=\"#000000\">value = [3, 5]</text>\n</g>\n<!-- 297&#45;&gt;299 -->\n<g id=\"edge299\" class=\"edge\">\n<title>297&#45;&gt;299</title>\n<path fill=\"none\" stroke=\"#000000\" d=\"M4525.3412,-1336.9465C4538.1529,-1327.4293 4552.1952,-1316.9978 4565.4344,-1307.163\"/>\n<polygon fill=\"#000000\" stroke=\"#000000\" points=\"4567.6155,-1309.9029 4573.5558,-1301.13 4563.4412,-1304.2837 4567.6155,-1309.9029\"/>\n</g>\n<!-- 300 -->\n<g id=\"node301\" class=\"node\">\n<title>300</title>\n<polygon fill=\"none\" stroke=\"#000000\" points=\"4669,-1189.5 4570,-1189.5 4570,-1136.5 4669,-1136.5 4669,-1189.5\"/>\n<text text-anchor=\"middle\" x=\"4619.5\" y=\"-1174.3\" font-family=\"Helvetica,sans-Serif\" font-size=\"14.00\" fill=\"#000000\">gini = 0.0</text>\n<text text-anchor=\"middle\" x=\"4619.5\" y=\"-1159.3\" font-family=\"Helvetica,sans-Serif\" font-size=\"14.00\" fill=\"#000000\">samples = 1</text>\n<text text-anchor=\"middle\" x=\"4619.5\" y=\"-1144.3\" font-family=\"Helvetica,sans-Serif\" font-size=\"14.00\" fill=\"#000000\">value = [1, 0]</text>\n</g>\n<!-- 299&#45;&gt;300 -->\n<g id=\"edge300\" class=\"edge\">\n<title>299&#45;&gt;300</title>\n<path fill=\"none\" stroke=\"#000000\" d=\"M4619.5,-1232.9465C4619.5,-1222.2621 4619.5,-1210.4254 4619.5,-1199.5742\"/>\n<polygon fill=\"#000000\" stroke=\"#000000\" points=\"4623.0001,-1199.5421 4619.5,-1189.5422 4616.0001,-1199.5422 4623.0001,-1199.5421\"/>\n</g>\n<!-- 301 -->\n<g id=\"node302\" class=\"node\">\n<title>301</title>\n<polygon fill=\"none\" stroke=\"#000000\" points=\"4881,-1197 4770,-1197 4770,-1129 4881,-1129 4881,-1197\"/>\n<text text-anchor=\"middle\" x=\"4825.5\" y=\"-1181.8\" font-family=\"Helvetica,sans-Serif\" font-size=\"14.00\" fill=\"#000000\">X[4] &lt;= 32.429</text>\n<text text-anchor=\"middle\" x=\"4825.5\" y=\"-1166.8\" font-family=\"Helvetica,sans-Serif\" font-size=\"14.00\" fill=\"#000000\">gini = 0.408</text>\n<text text-anchor=\"middle\" x=\"4825.5\" y=\"-1151.8\" font-family=\"Helvetica,sans-Serif\" font-size=\"14.00\" fill=\"#000000\">samples = 7</text>\n<text text-anchor=\"middle\" x=\"4825.5\" y=\"-1136.8\" font-family=\"Helvetica,sans-Serif\" font-size=\"14.00\" fill=\"#000000\">value = [2, 5]</text>\n</g>\n<!-- 299&#45;&gt;301 -->\n<g id=\"edge301\" class=\"edge\">\n<title>299&#45;&gt;301</title>\n<path fill=\"none\" stroke=\"#000000\" d=\"M4671.2166,-1240.8906C4698.3175,-1227.2087 4731.7777,-1210.3161 4760.6031,-1195.7635\"/>\n<polygon fill=\"#000000\" stroke=\"#000000\" points=\"4762.4358,-1198.7591 4769.7853,-1191.1278 4759.281,-1192.5102 4762.4358,-1198.7591\"/>\n</g>\n<!-- 302 -->\n<g id=\"node303\" class=\"node\">\n<title>302</title>\n<polygon fill=\"none\" stroke=\"#000000\" points=\"4877,-1093 4774,-1093 4774,-1025 4877,-1025 4877,-1093\"/>\n<text text-anchor=\"middle\" x=\"4825.5\" y=\"-1077.8\" font-family=\"Helvetica,sans-Serif\" font-size=\"14.00\" fill=\"#000000\">X[4] &lt;= 8.206</text>\n<text text-anchor=\"middle\" x=\"4825.5\" y=\"-1062.8\" font-family=\"Helvetica,sans-Serif\" font-size=\"14.00\" fill=\"#000000\">gini = 0.48</text>\n<text text-anchor=\"middle\" x=\"4825.5\" y=\"-1047.8\" font-family=\"Helvetica,sans-Serif\" font-size=\"14.00\" fill=\"#000000\">samples = 5</text>\n<text text-anchor=\"middle\" x=\"4825.5\" y=\"-1032.8\" font-family=\"Helvetica,sans-Serif\" font-size=\"14.00\" fill=\"#000000\">value = [2, 3]</text>\n</g>\n<!-- 301&#45;&gt;302 -->\n<g id=\"edge302\" class=\"edge\">\n<title>301&#45;&gt;302</title>\n<path fill=\"none\" stroke=\"#000000\" d=\"M4825.5,-1128.9465C4825.5,-1120.776 4825.5,-1111.9318 4825.5,-1103.3697\"/>\n<polygon fill=\"#000000\" stroke=\"#000000\" points=\"4829.0001,-1103.13 4825.5,-1093.13 4822.0001,-1103.13 4829.0001,-1103.13\"/>\n</g>\n<!-- 309 -->\n<g id=\"node310\" class=\"node\">\n<title>309</title>\n<polygon fill=\"none\" stroke=\"#000000\" points=\"4994,-1085.5 4895,-1085.5 4895,-1032.5 4994,-1032.5 4994,-1085.5\"/>\n<text text-anchor=\"middle\" x=\"4944.5\" y=\"-1070.3\" font-family=\"Helvetica,sans-Serif\" font-size=\"14.00\" fill=\"#000000\">gini = 0.0</text>\n<text text-anchor=\"middle\" x=\"4944.5\" y=\"-1055.3\" font-family=\"Helvetica,sans-Serif\" font-size=\"14.00\" fill=\"#000000\">samples = 2</text>\n<text text-anchor=\"middle\" x=\"4944.5\" y=\"-1040.3\" font-family=\"Helvetica,sans-Serif\" font-size=\"14.00\" fill=\"#000000\">value = [0, 2]</text>\n</g>\n<!-- 301&#45;&gt;309 -->\n<g id=\"edge309\" class=\"edge\">\n<title>301&#45;&gt;309</title>\n<path fill=\"none\" stroke=\"#000000\" d=\"M4864.4651,-1128.9465C4877.9509,-1117.1606 4893.0409,-1103.9726 4906.4521,-1092.2519\"/>\n<polygon fill=\"#000000\" stroke=\"#000000\" points=\"4908.9031,-1094.7582 4914.1296,-1085.5422 4904.2967,-1089.4874 4908.9031,-1094.7582\"/>\n</g>\n<!-- 303 -->\n<g id=\"node304\" class=\"node\">\n<title>303</title>\n<polygon fill=\"none\" stroke=\"#000000\" points=\"4877,-989 4778,-989 4778,-921 4877,-921 4877,-989\"/>\n<text text-anchor=\"middle\" x=\"4827.5\" y=\"-973.8\" font-family=\"Helvetica,sans-Serif\" font-size=\"14.00\" fill=\"#000000\">X[4] &lt;= 7.89</text>\n<text text-anchor=\"middle\" x=\"4827.5\" y=\"-958.8\" font-family=\"Helvetica,sans-Serif\" font-size=\"14.00\" fill=\"#000000\">gini = 0.375</text>\n<text text-anchor=\"middle\" x=\"4827.5\" y=\"-943.8\" font-family=\"Helvetica,sans-Serif\" font-size=\"14.00\" fill=\"#000000\">samples = 4</text>\n<text text-anchor=\"middle\" x=\"4827.5\" y=\"-928.8\" font-family=\"Helvetica,sans-Serif\" font-size=\"14.00\" fill=\"#000000\">value = [1, 3]</text>\n</g>\n<!-- 302&#45;&gt;303 -->\n<g id=\"edge303\" class=\"edge\">\n<title>302&#45;&gt;303</title>\n<path fill=\"none\" stroke=\"#000000\" d=\"M4826.1549,-1024.9465C4826.312,-1016.776 4826.4821,-1007.9318 4826.6467,-999.3697\"/>\n<polygon fill=\"#000000\" stroke=\"#000000\" points=\"4830.1506,-999.1955 4826.8437,-989.13 4823.1519,-999.0608 4830.1506,-999.1955\"/>\n</g>\n<!-- 308 -->\n<g id=\"node309\" class=\"node\">\n<title>308</title>\n<polygon fill=\"none\" stroke=\"#000000\" points=\"4994,-981.5 4895,-981.5 4895,-928.5 4994,-928.5 4994,-981.5\"/>\n<text text-anchor=\"middle\" x=\"4944.5\" y=\"-966.3\" font-family=\"Helvetica,sans-Serif\" font-size=\"14.00\" fill=\"#000000\">gini = 0.0</text>\n<text text-anchor=\"middle\" x=\"4944.5\" y=\"-951.3\" font-family=\"Helvetica,sans-Serif\" font-size=\"14.00\" fill=\"#000000\">samples = 1</text>\n<text text-anchor=\"middle\" x=\"4944.5\" y=\"-936.3\" font-family=\"Helvetica,sans-Serif\" font-size=\"14.00\" fill=\"#000000\">value = [1, 0]</text>\n</g>\n<!-- 302&#45;&gt;308 -->\n<g id=\"edge308\" class=\"edge\">\n<title>302&#45;&gt;308</title>\n<path fill=\"none\" stroke=\"#000000\" d=\"M4864.4651,-1024.9465C4877.9509,-1013.1606 4893.0409,-999.9726 4906.4521,-988.2519\"/>\n<polygon fill=\"#000000\" stroke=\"#000000\" points=\"4908.9031,-990.7582 4914.1296,-981.5422 4904.2967,-985.4874 4908.9031,-990.7582\"/>\n</g>\n<!-- 304 -->\n<g id=\"node305\" class=\"node\">\n<title>304</title>\n<polygon fill=\"none\" stroke=\"#000000\" points=\"4878,-877.5 4779,-877.5 4779,-824.5 4878,-824.5 4878,-877.5\"/>\n<text text-anchor=\"middle\" x=\"4828.5\" y=\"-862.3\" font-family=\"Helvetica,sans-Serif\" font-size=\"14.00\" fill=\"#000000\">gini = 0.0</text>\n<text text-anchor=\"middle\" x=\"4828.5\" y=\"-847.3\" font-family=\"Helvetica,sans-Serif\" font-size=\"14.00\" fill=\"#000000\">samples = 1</text>\n<text text-anchor=\"middle\" x=\"4828.5\" y=\"-832.3\" font-family=\"Helvetica,sans-Serif\" font-size=\"14.00\" fill=\"#000000\">value = [0, 1]</text>\n</g>\n<!-- 303&#45;&gt;304 -->\n<g id=\"edge304\" class=\"edge\">\n<title>303&#45;&gt;304</title>\n<path fill=\"none\" stroke=\"#000000\" d=\"M4827.8274,-920.9465C4827.9302,-910.2621 4828.044,-898.4254 4828.1483,-887.5742\"/>\n<polygon fill=\"#000000\" stroke=\"#000000\" points=\"4831.6484,-887.5754 4828.2448,-877.5422 4824.6487,-887.508 4831.6484,-887.5754\"/>\n</g>\n<!-- 305 -->\n<g id=\"node306\" class=\"node\">\n<title>305</title>\n<polygon fill=\"none\" stroke=\"#000000\" points=\"4999,-885 4896,-885 4896,-817 4999,-817 4999,-885\"/>\n<text text-anchor=\"middle\" x=\"4947.5\" y=\"-869.8\" font-family=\"Helvetica,sans-Serif\" font-size=\"14.00\" fill=\"#000000\">X[4] &lt;= 7.988</text>\n<text text-anchor=\"middle\" x=\"4947.5\" y=\"-854.8\" font-family=\"Helvetica,sans-Serif\" font-size=\"14.00\" fill=\"#000000\">gini = 0.444</text>\n<text text-anchor=\"middle\" x=\"4947.5\" y=\"-839.8\" font-family=\"Helvetica,sans-Serif\" font-size=\"14.00\" fill=\"#000000\">samples = 3</text>\n<text text-anchor=\"middle\" x=\"4947.5\" y=\"-824.8\" font-family=\"Helvetica,sans-Serif\" font-size=\"14.00\" fill=\"#000000\">value = [1, 2]</text>\n</g>\n<!-- 303&#45;&gt;305 -->\n<g id=\"edge305\" class=\"edge\">\n<title>303&#45;&gt;305</title>\n<path fill=\"none\" stroke=\"#000000\" d=\"M4866.7925,-920.9465C4877.5667,-911.6088 4889.3564,-901.3911 4900.515,-891.7203\"/>\n<polygon fill=\"#000000\" stroke=\"#000000\" points=\"4902.8546,-894.3243 4908.1192,-885.13 4898.2701,-889.0344 4902.8546,-894.3243\"/>\n</g>\n<!-- 306 -->\n<g id=\"node307\" class=\"node\">\n<title>306</title>\n<polygon fill=\"none\" stroke=\"#000000\" points=\"4881,-773.5 4782,-773.5 4782,-720.5 4881,-720.5 4881,-773.5\"/>\n<text text-anchor=\"middle\" x=\"4831.5\" y=\"-758.3\" font-family=\"Helvetica,sans-Serif\" font-size=\"14.00\" fill=\"#000000\">gini = 0.5</text>\n<text text-anchor=\"middle\" x=\"4831.5\" y=\"-743.3\" font-family=\"Helvetica,sans-Serif\" font-size=\"14.00\" fill=\"#000000\">samples = 2</text>\n<text text-anchor=\"middle\" x=\"4831.5\" y=\"-728.3\" font-family=\"Helvetica,sans-Serif\" font-size=\"14.00\" fill=\"#000000\">value = [1, 1]</text>\n</g>\n<!-- 305&#45;&gt;306 -->\n<g id=\"edge306\" class=\"edge\">\n<title>305&#45;&gt;306</title>\n<path fill=\"none\" stroke=\"#000000\" d=\"M4909.5173,-816.9465C4896.3714,-805.1606 4881.6618,-791.9726 4868.5887,-780.2519\"/>\n<polygon fill=\"#000000\" stroke=\"#000000\" points=\"4870.8869,-777.6116 4861.1047,-773.5422 4866.214,-782.8236 4870.8869,-777.6116\"/>\n</g>\n<!-- 307 -->\n<g id=\"node308\" class=\"node\">\n<title>307</title>\n<polygon fill=\"none\" stroke=\"#000000\" points=\"4998,-773.5 4899,-773.5 4899,-720.5 4998,-720.5 4998,-773.5\"/>\n<text text-anchor=\"middle\" x=\"4948.5\" y=\"-758.3\" font-family=\"Helvetica,sans-Serif\" font-size=\"14.00\" fill=\"#000000\">gini = 0.0</text>\n<text text-anchor=\"middle\" x=\"4948.5\" y=\"-743.3\" font-family=\"Helvetica,sans-Serif\" font-size=\"14.00\" fill=\"#000000\">samples = 1</text>\n<text text-anchor=\"middle\" x=\"4948.5\" y=\"-728.3\" font-family=\"Helvetica,sans-Serif\" font-size=\"14.00\" fill=\"#000000\">value = [0, 1]</text>\n</g>\n<!-- 305&#45;&gt;307 -->\n<g id=\"edge307\" class=\"edge\">\n<title>305&#45;&gt;307</title>\n<path fill=\"none\" stroke=\"#000000\" d=\"M4947.8274,-816.9465C4947.9302,-806.2621 4948.044,-794.4254 4948.1483,-783.5742\"/>\n<polygon fill=\"#000000\" stroke=\"#000000\" points=\"4951.6484,-783.5754 4948.2448,-773.5422 4944.6487,-783.508 4951.6484,-783.5754\"/>\n</g>\n<!-- 311 -->\n<g id=\"node312\" class=\"node\">\n<title>311</title>\n<polygon fill=\"none\" stroke=\"#000000\" points=\"5056,-1405 4949,-1405 4949,-1337 5056,-1337 5056,-1405\"/>\n<text text-anchor=\"middle\" x=\"5002.5\" y=\"-1389.8\" font-family=\"Helvetica,sans-Serif\" font-size=\"14.00\" fill=\"#000000\">X[1] &lt;= 38.5</text>\n<text text-anchor=\"middle\" x=\"5002.5\" y=\"-1374.8\" font-family=\"Helvetica,sans-Serif\" font-size=\"14.00\" fill=\"#000000\">gini = 0.07</text>\n<text text-anchor=\"middle\" x=\"5002.5\" y=\"-1359.8\" font-family=\"Helvetica,sans-Serif\" font-size=\"14.00\" fill=\"#000000\">samples = 83</text>\n<text text-anchor=\"middle\" x=\"5002.5\" y=\"-1344.8\" font-family=\"Helvetica,sans-Serif\" font-size=\"14.00\" fill=\"#000000\">value = [80, 3]</text>\n</g>\n<!-- 310&#45;&gt;311 -->\n<g id=\"edge311\" class=\"edge\">\n<title>310&#45;&gt;311</title>\n<path fill=\"none\" stroke=\"#000000\" d=\"M5002.5,-1440.9465C5002.5,-1432.776 5002.5,-1423.9318 5002.5,-1415.3697\"/>\n<polygon fill=\"#000000\" stroke=\"#000000\" points=\"5006.0001,-1415.13 5002.5,-1405.13 4999.0001,-1415.13 5006.0001,-1415.13\"/>\n</g>\n<!-- 330 -->\n<g id=\"node331\" class=\"node\">\n<title>330</title>\n<polygon fill=\"none\" stroke=\"#000000\" points=\"5236,-1405 5137,-1405 5137,-1337 5236,-1337 5236,-1405\"/>\n<text text-anchor=\"middle\" x=\"5186.5\" y=\"-1389.8\" font-family=\"Helvetica,sans-Serif\" font-size=\"14.00\" fill=\"#000000\">X[1] &lt;= 63.5</text>\n<text text-anchor=\"middle\" x=\"5186.5\" y=\"-1374.8\" font-family=\"Helvetica,sans-Serif\" font-size=\"14.00\" fill=\"#000000\">gini = 0.32</text>\n<text text-anchor=\"middle\" x=\"5186.5\" y=\"-1359.8\" font-family=\"Helvetica,sans-Serif\" font-size=\"14.00\" fill=\"#000000\">samples = 5</text>\n<text text-anchor=\"middle\" x=\"5186.5\" y=\"-1344.8\" font-family=\"Helvetica,sans-Serif\" font-size=\"14.00\" fill=\"#000000\">value = [4, 1]</text>\n</g>\n<!-- 310&#45;&gt;330 -->\n<g id=\"edge330\" class=\"edge\">\n<title>310&#45;&gt;330</title>\n<path fill=\"none\" stroke=\"#000000\" d=\"M5056.215,-1444.6393C5078.6896,-1431.9363 5104.8741,-1417.1364 5127.8494,-1404.1503\"/>\n<polygon fill=\"#000000\" stroke=\"#000000\" points=\"5129.8296,-1407.0515 5136.813,-1399.0839 5126.3852,-1400.9576 5129.8296,-1407.0515\"/>\n</g>\n<!-- 312 -->\n<g id=\"node313\" class=\"node\">\n<title>312</title>\n<polygon fill=\"none\" stroke=\"#000000\" points=\"4994,-1293.5 4887,-1293.5 4887,-1240.5 4994,-1240.5 4994,-1293.5\"/>\n<text text-anchor=\"middle\" x=\"4940.5\" y=\"-1278.3\" font-family=\"Helvetica,sans-Serif\" font-size=\"14.00\" fill=\"#000000\">gini = 0.0</text>\n<text text-anchor=\"middle\" x=\"4940.5\" y=\"-1263.3\" font-family=\"Helvetica,sans-Serif\" font-size=\"14.00\" fill=\"#000000\">samples = 33</text>\n<text text-anchor=\"middle\" x=\"4940.5\" y=\"-1248.3\" font-family=\"Helvetica,sans-Serif\" font-size=\"14.00\" fill=\"#000000\">value = [33, 0]</text>\n</g>\n<!-- 311&#45;&gt;312 -->\n<g id=\"edge312\" class=\"edge\">\n<title>311&#45;&gt;312</title>\n<path fill=\"none\" stroke=\"#000000\" d=\"M4982.1989,-1336.9465C4975.5666,-1325.8215 4968.1897,-1313.4473 4961.5067,-1302.237\"/>\n<polygon fill=\"#000000\" stroke=\"#000000\" points=\"4964.4502,-1300.3394 4956.3232,-1293.5422 4958.4376,-1303.9239 4964.4502,-1300.3394\"/>\n</g>\n<!-- 313 -->\n<g id=\"node314\" class=\"node\">\n<title>313</title>\n<polygon fill=\"none\" stroke=\"#000000\" points=\"5119,-1301 5012,-1301 5012,-1233 5119,-1233 5119,-1301\"/>\n<text text-anchor=\"middle\" x=\"5065.5\" y=\"-1285.8\" font-family=\"Helvetica,sans-Serif\" font-size=\"14.00\" fill=\"#000000\">X[1] &lt;= 44.5</text>\n<text text-anchor=\"middle\" x=\"5065.5\" y=\"-1270.8\" font-family=\"Helvetica,sans-Serif\" font-size=\"14.00\" fill=\"#000000\">gini = 0.113</text>\n<text text-anchor=\"middle\" x=\"5065.5\" y=\"-1255.8\" font-family=\"Helvetica,sans-Serif\" font-size=\"14.00\" fill=\"#000000\">samples = 50</text>\n<text text-anchor=\"middle\" x=\"5065.5\" y=\"-1240.8\" font-family=\"Helvetica,sans-Serif\" font-size=\"14.00\" fill=\"#000000\">value = [47, 3]</text>\n</g>\n<!-- 311&#45;&gt;313 -->\n<g id=\"edge313\" class=\"edge\">\n<title>311&#45;&gt;313</title>\n<path fill=\"none\" stroke=\"#000000\" d=\"M5023.1286,-1336.9465C5028.3499,-1328.3271 5034.0255,-1318.9579 5039.4755,-1309.9611\"/>\n<polygon fill=\"#000000\" stroke=\"#000000\" points=\"5042.6374,-1311.4965 5044.8251,-1301.13 5036.6503,-1307.8697 5042.6374,-1311.4965\"/>\n</g>\n<!-- 314 -->\n<g id=\"node315\" class=\"node\">\n<title>314</title>\n<polygon fill=\"none\" stroke=\"#000000\" points=\"5121,-1197 5010,-1197 5010,-1129 5121,-1129 5121,-1197\"/>\n<text text-anchor=\"middle\" x=\"5065.5\" y=\"-1181.8\" font-family=\"Helvetica,sans-Serif\" font-size=\"14.00\" fill=\"#000000\">X[4] &lt;= 13.554</text>\n<text text-anchor=\"middle\" x=\"5065.5\" y=\"-1166.8\" font-family=\"Helvetica,sans-Serif\" font-size=\"14.00\" fill=\"#000000\">gini = 0.198</text>\n<text text-anchor=\"middle\" x=\"5065.5\" y=\"-1151.8\" font-family=\"Helvetica,sans-Serif\" font-size=\"14.00\" fill=\"#000000\">samples = 27</text>\n<text text-anchor=\"middle\" x=\"5065.5\" y=\"-1136.8\" font-family=\"Helvetica,sans-Serif\" font-size=\"14.00\" fill=\"#000000\">value = [24, 3]</text>\n</g>\n<!-- 313&#45;&gt;314 -->\n<g id=\"edge314\" class=\"edge\">\n<title>313&#45;&gt;314</title>\n<path fill=\"none\" stroke=\"#000000\" d=\"M5065.5,-1232.9465C5065.5,-1224.776 5065.5,-1215.9318 5065.5,-1207.3697\"/>\n<polygon fill=\"#000000\" stroke=\"#000000\" points=\"5069.0001,-1207.13 5065.5,-1197.13 5062.0001,-1207.13 5069.0001,-1207.13\"/>\n</g>\n<!-- 329 -->\n<g id=\"node330\" class=\"node\">\n<title>329</title>\n<polygon fill=\"none\" stroke=\"#000000\" points=\"5246,-1189.5 5139,-1189.5 5139,-1136.5 5246,-1136.5 5246,-1189.5\"/>\n<text text-anchor=\"middle\" x=\"5192.5\" y=\"-1174.3\" font-family=\"Helvetica,sans-Serif\" font-size=\"14.00\" fill=\"#000000\">gini = 0.0</text>\n<text text-anchor=\"middle\" x=\"5192.5\" y=\"-1159.3\" font-family=\"Helvetica,sans-Serif\" font-size=\"14.00\" fill=\"#000000\">samples = 23</text>\n<text text-anchor=\"middle\" x=\"5192.5\" y=\"-1144.3\" font-family=\"Helvetica,sans-Serif\" font-size=\"14.00\" fill=\"#000000\">value = [23, 0]</text>\n</g>\n<!-- 313&#45;&gt;329 -->\n<g id=\"edge329\" class=\"edge\">\n<title>313&#45;&gt;329</title>\n<path fill=\"none\" stroke=\"#000000\" d=\"M5107.0845,-1232.9465C5121.6115,-1221.0504 5137.8827,-1207.726 5152.2951,-1195.9237\"/>\n<polygon fill=\"#000000\" stroke=\"#000000\" points=\"5154.5686,-1198.5858 5160.0879,-1189.5422 5150.1335,-1193.17 5154.5686,-1198.5858\"/>\n</g>\n<!-- 315 -->\n<g id=\"node316\" class=\"node\">\n<title>315</title>\n<polygon fill=\"none\" stroke=\"#000000\" points=\"5119,-1093 5012,-1093 5012,-1025 5119,-1025 5119,-1093\"/>\n<text text-anchor=\"middle\" x=\"5065.5\" y=\"-1077.8\" font-family=\"Helvetica,sans-Serif\" font-size=\"14.00\" fill=\"#000000\">X[4] &lt;= 7.91</text>\n<text text-anchor=\"middle\" x=\"5065.5\" y=\"-1062.8\" font-family=\"Helvetica,sans-Serif\" font-size=\"14.00\" fill=\"#000000\">gini = 0.291</text>\n<text text-anchor=\"middle\" x=\"5065.5\" y=\"-1047.8\" font-family=\"Helvetica,sans-Serif\" font-size=\"14.00\" fill=\"#000000\">samples = 17</text>\n<text text-anchor=\"middle\" x=\"5065.5\" y=\"-1032.8\" font-family=\"Helvetica,sans-Serif\" font-size=\"14.00\" fill=\"#000000\">value = [14, 3]</text>\n</g>\n<!-- 314&#45;&gt;315 -->\n<g id=\"edge315\" class=\"edge\">\n<title>314&#45;&gt;315</title>\n<path fill=\"none\" stroke=\"#000000\" d=\"M5065.5,-1128.9465C5065.5,-1120.776 5065.5,-1111.9318 5065.5,-1103.3697\"/>\n<polygon fill=\"#000000\" stroke=\"#000000\" points=\"5069.0001,-1103.13 5065.5,-1093.13 5062.0001,-1103.13 5069.0001,-1103.13\"/>\n</g>\n<!-- 328 -->\n<g id=\"node329\" class=\"node\">\n<title>328</title>\n<polygon fill=\"none\" stroke=\"#000000\" points=\"5244,-1085.5 5137,-1085.5 5137,-1032.5 5244,-1032.5 5244,-1085.5\"/>\n<text text-anchor=\"middle\" x=\"5190.5\" y=\"-1070.3\" font-family=\"Helvetica,sans-Serif\" font-size=\"14.00\" fill=\"#000000\">gini = 0.0</text>\n<text text-anchor=\"middle\" x=\"5190.5\" y=\"-1055.3\" font-family=\"Helvetica,sans-Serif\" font-size=\"14.00\" fill=\"#000000\">samples = 10</text>\n<text text-anchor=\"middle\" x=\"5190.5\" y=\"-1040.3\" font-family=\"Helvetica,sans-Serif\" font-size=\"14.00\" fill=\"#000000\">value = [10, 0]</text>\n</g>\n<!-- 314&#45;&gt;328 -->\n<g id=\"edge328\" class=\"edge\">\n<title>314&#45;&gt;328</title>\n<path fill=\"none\" stroke=\"#000000\" d=\"M5106.4297,-1128.9465C5120.5955,-1117.1606 5136.4463,-1103.9726 5150.5338,-1092.2519\"/>\n<polygon fill=\"#000000\" stroke=\"#000000\" points=\"5153.1496,-1094.6285 5158.5984,-1085.5422 5148.6725,-1089.2474 5153.1496,-1094.6285\"/>\n</g>\n<!-- 316 -->\n<g id=\"node317\" class=\"node\">\n<title>316</title>\n<polygon fill=\"none\" stroke=\"#000000\" points=\"5114,-981.5 5015,-981.5 5015,-928.5 5114,-928.5 5114,-981.5\"/>\n<text text-anchor=\"middle\" x=\"5064.5\" y=\"-966.3\" font-family=\"Helvetica,sans-Serif\" font-size=\"14.00\" fill=\"#000000\">gini = 0.0</text>\n<text text-anchor=\"middle\" x=\"5064.5\" y=\"-951.3\" font-family=\"Helvetica,sans-Serif\" font-size=\"14.00\" fill=\"#000000\">samples = 6</text>\n<text text-anchor=\"middle\" x=\"5064.5\" y=\"-936.3\" font-family=\"Helvetica,sans-Serif\" font-size=\"14.00\" fill=\"#000000\">value = [6, 0]</text>\n</g>\n<!-- 315&#45;&gt;316 -->\n<g id=\"edge316\" class=\"edge\">\n<title>315&#45;&gt;316</title>\n<path fill=\"none\" stroke=\"#000000\" d=\"M5065.1726,-1024.9465C5065.0698,-1014.2621 5064.956,-1002.4254 5064.8517,-991.5742\"/>\n<polygon fill=\"#000000\" stroke=\"#000000\" points=\"5068.3513,-991.508 5064.7552,-981.5422 5061.3516,-991.5754 5068.3513,-991.508\"/>\n</g>\n<!-- 317 -->\n<g id=\"node318\" class=\"node\">\n<title>317</title>\n<polygon fill=\"none\" stroke=\"#000000\" points=\"5236.5,-989 5132.5,-989 5132.5,-921 5236.5,-921 5236.5,-989\"/>\n<text text-anchor=\"middle\" x=\"5184.5\" y=\"-973.8\" font-family=\"Helvetica,sans-Serif\" font-size=\"14.00\" fill=\"#000000\">X[4] &lt;= 7.988</text>\n<text text-anchor=\"middle\" x=\"5184.5\" y=\"-958.8\" font-family=\"Helvetica,sans-Serif\" font-size=\"14.00\" fill=\"#000000\">gini = 0.397</text>\n<text text-anchor=\"middle\" x=\"5184.5\" y=\"-943.8\" font-family=\"Helvetica,sans-Serif\" font-size=\"14.00\" fill=\"#000000\">samples = 11</text>\n<text text-anchor=\"middle\" x=\"5184.5\" y=\"-928.8\" font-family=\"Helvetica,sans-Serif\" font-size=\"14.00\" fill=\"#000000\">value = [8, 3]</text>\n</g>\n<!-- 315&#45;&gt;317 -->\n<g id=\"edge317\" class=\"edge\">\n<title>315&#45;&gt;317</title>\n<path fill=\"none\" stroke=\"#000000\" d=\"M5104.4651,-1024.9465C5115.1495,-1015.6088 5126.8409,-1005.3911 5137.9066,-995.7203\"/>\n<polygon fill=\"#000000\" stroke=\"#000000\" points=\"5140.2209,-998.346 5145.4474,-989.13 5135.6145,-993.0752 5140.2209,-998.346\"/>\n</g>\n<!-- 318 -->\n<g id=\"node319\" class=\"node\">\n<title>318</title>\n<polygon fill=\"none\" stroke=\"#000000\" points=\"5232,-885 5133,-885 5133,-817 5232,-817 5232,-885\"/>\n<text text-anchor=\"middle\" x=\"5182.5\" y=\"-869.8\" font-family=\"Helvetica,sans-Serif\" font-size=\"14.00\" fill=\"#000000\">X[1] &lt;= 41.5</text>\n<text text-anchor=\"middle\" x=\"5182.5\" y=\"-854.8\" font-family=\"Helvetica,sans-Serif\" font-size=\"14.00\" fill=\"#000000\">gini = 0.444</text>\n<text text-anchor=\"middle\" x=\"5182.5\" y=\"-839.8\" font-family=\"Helvetica,sans-Serif\" font-size=\"14.00\" fill=\"#000000\">samples = 3</text>\n<text text-anchor=\"middle\" x=\"5182.5\" y=\"-824.8\" font-family=\"Helvetica,sans-Serif\" font-size=\"14.00\" fill=\"#000000\">value = [1, 2]</text>\n</g>\n<!-- 317&#45;&gt;318 -->\n<g id=\"edge318\" class=\"edge\">\n<title>317&#45;&gt;318</title>\n<path fill=\"none\" stroke=\"#000000\" d=\"M5183.8451,-920.9465C5183.688,-912.776 5183.5179,-903.9318 5183.3533,-895.3697\"/>\n<polygon fill=\"#000000\" stroke=\"#000000\" points=\"5186.8481,-895.0608 5183.1563,-885.13 5179.8494,-895.1955 5186.8481,-895.0608\"/>\n</g>\n<!-- 321 -->\n<g id=\"node322\" class=\"node\">\n<title>321</title>\n<polygon fill=\"none\" stroke=\"#000000\" points=\"5349,-885 5250,-885 5250,-817 5349,-817 5349,-885\"/>\n<text text-anchor=\"middle\" x=\"5299.5\" y=\"-869.8\" font-family=\"Helvetica,sans-Serif\" font-size=\"14.00\" fill=\"#000000\">X[0] &lt;= 2.5</text>\n<text text-anchor=\"middle\" x=\"5299.5\" y=\"-854.8\" font-family=\"Helvetica,sans-Serif\" font-size=\"14.00\" fill=\"#000000\">gini = 0.219</text>\n<text text-anchor=\"middle\" x=\"5299.5\" y=\"-839.8\" font-family=\"Helvetica,sans-Serif\" font-size=\"14.00\" fill=\"#000000\">samples = 8</text>\n<text text-anchor=\"middle\" x=\"5299.5\" y=\"-824.8\" font-family=\"Helvetica,sans-Serif\" font-size=\"14.00\" fill=\"#000000\">value = [7, 1]</text>\n</g>\n<!-- 317&#45;&gt;321 -->\n<g id=\"edge321\" class=\"edge\">\n<title>317&#45;&gt;321</title>\n<path fill=\"none\" stroke=\"#000000\" d=\"M5222.1553,-920.9465C5232.3813,-911.6986 5243.5618,-901.5876 5254.1641,-891.9994\"/>\n<polygon fill=\"#000000\" stroke=\"#000000\" points=\"5256.6908,-894.4334 5261.7601,-885.13 5251.9956,-889.2416 5256.6908,-894.4334\"/>\n</g>\n<!-- 319 -->\n<g id=\"node320\" class=\"node\">\n<title>319</title>\n<polygon fill=\"none\" stroke=\"#000000\" points=\"5115,-773.5 5016,-773.5 5016,-720.5 5115,-720.5 5115,-773.5\"/>\n<text text-anchor=\"middle\" x=\"5065.5\" y=\"-758.3\" font-family=\"Helvetica,sans-Serif\" font-size=\"14.00\" fill=\"#000000\">gini = 0.5</text>\n<text text-anchor=\"middle\" x=\"5065.5\" y=\"-743.3\" font-family=\"Helvetica,sans-Serif\" font-size=\"14.00\" fill=\"#000000\">samples = 2</text>\n<text text-anchor=\"middle\" x=\"5065.5\" y=\"-728.3\" font-family=\"Helvetica,sans-Serif\" font-size=\"14.00\" fill=\"#000000\">value = [1, 1]</text>\n</g>\n<!-- 318&#45;&gt;319 -->\n<g id=\"edge319\" class=\"edge\">\n<title>318&#45;&gt;319</title>\n<path fill=\"none\" stroke=\"#000000\" d=\"M5144.1898,-816.9465C5130.9306,-805.1606 5116.0942,-791.9726 5102.9084,-780.2519\"/>\n<polygon fill=\"#000000\" stroke=\"#000000\" points=\"5105.1593,-777.5699 5095.3599,-773.5422 5100.5088,-782.8018 5105.1593,-777.5699\"/>\n</g>\n<!-- 320 -->\n<g id=\"node321\" class=\"node\">\n<title>320</title>\n<polygon fill=\"none\" stroke=\"#000000\" points=\"5232,-773.5 5133,-773.5 5133,-720.5 5232,-720.5 5232,-773.5\"/>\n<text text-anchor=\"middle\" x=\"5182.5\" y=\"-758.3\" font-family=\"Helvetica,sans-Serif\" font-size=\"14.00\" fill=\"#000000\">gini = 0.0</text>\n<text text-anchor=\"middle\" x=\"5182.5\" y=\"-743.3\" font-family=\"Helvetica,sans-Serif\" font-size=\"14.00\" fill=\"#000000\">samples = 1</text>\n<text text-anchor=\"middle\" x=\"5182.5\" y=\"-728.3\" font-family=\"Helvetica,sans-Serif\" font-size=\"14.00\" fill=\"#000000\">value = [0, 1]</text>\n</g>\n<!-- 318&#45;&gt;320 -->\n<g id=\"edge320\" class=\"edge\">\n<title>318&#45;&gt;320</title>\n<path fill=\"none\" stroke=\"#000000\" d=\"M5182.5,-816.9465C5182.5,-806.2621 5182.5,-794.4254 5182.5,-783.5742\"/>\n<polygon fill=\"#000000\" stroke=\"#000000\" points=\"5186.0001,-783.5421 5182.5,-773.5422 5179.0001,-783.5422 5186.0001,-783.5421\"/>\n</g>\n<!-- 322 -->\n<g id=\"node323\" class=\"node\">\n<title>322</title>\n<polygon fill=\"none\" stroke=\"#000000\" points=\"5349,-781 5250,-781 5250,-713 5349,-713 5349,-781\"/>\n<text text-anchor=\"middle\" x=\"5299.5\" y=\"-765.8\" font-family=\"Helvetica,sans-Serif\" font-size=\"14.00\" fill=\"#000000\">X[5] &lt;= 2.5</text>\n<text text-anchor=\"middle\" x=\"5299.5\" y=\"-750.8\" font-family=\"Helvetica,sans-Serif\" font-size=\"14.00\" fill=\"#000000\">gini = 0.444</text>\n<text text-anchor=\"middle\" x=\"5299.5\" y=\"-735.8\" font-family=\"Helvetica,sans-Serif\" font-size=\"14.00\" fill=\"#000000\">samples = 3</text>\n<text text-anchor=\"middle\" x=\"5299.5\" y=\"-720.8\" font-family=\"Helvetica,sans-Serif\" font-size=\"14.00\" fill=\"#000000\">value = [2, 1]</text>\n</g>\n<!-- 321&#45;&gt;322 -->\n<g id=\"edge322\" class=\"edge\">\n<title>321&#45;&gt;322</title>\n<path fill=\"none\" stroke=\"#000000\" d=\"M5299.5,-816.9465C5299.5,-808.776 5299.5,-799.9318 5299.5,-791.3697\"/>\n<polygon fill=\"#000000\" stroke=\"#000000\" points=\"5303.0001,-791.13 5299.5,-781.13 5296.0001,-791.13 5303.0001,-791.13\"/>\n</g>\n<!-- 327 -->\n<g id=\"node328\" class=\"node\">\n<title>327</title>\n<polygon fill=\"none\" stroke=\"#000000\" points=\"5466,-773.5 5367,-773.5 5367,-720.5 5466,-720.5 5466,-773.5\"/>\n<text text-anchor=\"middle\" x=\"5416.5\" y=\"-758.3\" font-family=\"Helvetica,sans-Serif\" font-size=\"14.00\" fill=\"#000000\">gini = 0.0</text>\n<text text-anchor=\"middle\" x=\"5416.5\" y=\"-743.3\" font-family=\"Helvetica,sans-Serif\" font-size=\"14.00\" fill=\"#000000\">samples = 5</text>\n<text text-anchor=\"middle\" x=\"5416.5\" y=\"-728.3\" font-family=\"Helvetica,sans-Serif\" font-size=\"14.00\" fill=\"#000000\">value = [5, 0]</text>\n</g>\n<!-- 321&#45;&gt;327 -->\n<g id=\"edge327\" class=\"edge\">\n<title>321&#45;&gt;327</title>\n<path fill=\"none\" stroke=\"#000000\" d=\"M5337.8102,-816.9465C5351.0694,-805.1606 5365.9058,-791.9726 5379.0916,-780.2519\"/>\n<polygon fill=\"#000000\" stroke=\"#000000\" points=\"5381.4912,-782.8018 5386.6401,-773.5422 5376.8407,-777.5699 5381.4912,-782.8018\"/>\n</g>\n<!-- 323 -->\n<g id=\"node324\" class=\"node\">\n<title>323</title>\n<polygon fill=\"none\" stroke=\"#000000\" points=\"5290,-677 5191,-677 5191,-609 5290,-609 5290,-677\"/>\n<text text-anchor=\"middle\" x=\"5240.5\" y=\"-661.8\" font-family=\"Helvetica,sans-Serif\" font-size=\"14.00\" fill=\"#000000\">X[1] &lt;= 40.5</text>\n<text text-anchor=\"middle\" x=\"5240.5\" y=\"-646.8\" font-family=\"Helvetica,sans-Serif\" font-size=\"14.00\" fill=\"#000000\">gini = 0.5</text>\n<text text-anchor=\"middle\" x=\"5240.5\" y=\"-631.8\" font-family=\"Helvetica,sans-Serif\" font-size=\"14.00\" fill=\"#000000\">samples = 2</text>\n<text text-anchor=\"middle\" x=\"5240.5\" y=\"-616.8\" font-family=\"Helvetica,sans-Serif\" font-size=\"14.00\" fill=\"#000000\">value = [1, 1]</text>\n</g>\n<!-- 322&#45;&gt;323 -->\n<g id=\"edge323\" class=\"edge\">\n<title>322&#45;&gt;323</title>\n<path fill=\"none\" stroke=\"#000000\" d=\"M5280.1812,-712.9465C5275.2913,-704.3271 5269.9761,-694.9579 5264.8722,-685.9611\"/>\n<polygon fill=\"#000000\" stroke=\"#000000\" points=\"5267.8408,-684.1008 5259.8622,-677.13 5261.7524,-687.5549 5267.8408,-684.1008\"/>\n</g>\n<!-- 326 -->\n<g id=\"node327\" class=\"node\">\n<title>326</title>\n<polygon fill=\"none\" stroke=\"#000000\" points=\"5407,-669.5 5308,-669.5 5308,-616.5 5407,-616.5 5407,-669.5\"/>\n<text text-anchor=\"middle\" x=\"5357.5\" y=\"-654.3\" font-family=\"Helvetica,sans-Serif\" font-size=\"14.00\" fill=\"#000000\">gini = 0.0</text>\n<text text-anchor=\"middle\" x=\"5357.5\" y=\"-639.3\" font-family=\"Helvetica,sans-Serif\" font-size=\"14.00\" fill=\"#000000\">samples = 1</text>\n<text text-anchor=\"middle\" x=\"5357.5\" y=\"-624.3\" font-family=\"Helvetica,sans-Serif\" font-size=\"14.00\" fill=\"#000000\">value = [1, 0]</text>\n</g>\n<!-- 322&#45;&gt;326 -->\n<g id=\"edge326\" class=\"edge\">\n<title>322&#45;&gt;326</title>\n<path fill=\"none\" stroke=\"#000000\" d=\"M5318.4914,-712.9465C5324.6343,-701.9316 5331.4601,-689.6922 5337.6627,-678.5703\"/>\n<polygon fill=\"#000000\" stroke=\"#000000\" points=\"5340.8837,-679.9806 5342.6976,-669.5422 5334.7701,-676.5711 5340.8837,-679.9806\"/>\n</g>\n<!-- 324 -->\n<g id=\"node325\" class=\"node\">\n<title>324</title>\n<polygon fill=\"none\" stroke=\"#000000\" points=\"5231,-565.5 5132,-565.5 5132,-512.5 5231,-512.5 5231,-565.5\"/>\n<text text-anchor=\"middle\" x=\"5181.5\" y=\"-550.3\" font-family=\"Helvetica,sans-Serif\" font-size=\"14.00\" fill=\"#000000\">gini = 0.0</text>\n<text text-anchor=\"middle\" x=\"5181.5\" y=\"-535.3\" font-family=\"Helvetica,sans-Serif\" font-size=\"14.00\" fill=\"#000000\">samples = 1</text>\n<text text-anchor=\"middle\" x=\"5181.5\" y=\"-520.3\" font-family=\"Helvetica,sans-Serif\" font-size=\"14.00\" fill=\"#000000\">value = [1, 0]</text>\n</g>\n<!-- 323&#45;&gt;324 -->\n<g id=\"edge324\" class=\"edge\">\n<title>323&#45;&gt;324</title>\n<path fill=\"none\" stroke=\"#000000\" d=\"M5221.1812,-608.9465C5214.9324,-597.9316 5207.9888,-585.6922 5201.6793,-574.5703\"/>\n<polygon fill=\"#000000\" stroke=\"#000000\" points=\"5204.5362,-572.513 5196.5576,-565.5422 5198.4477,-575.967 5204.5362,-572.513\"/>\n</g>\n<!-- 325 -->\n<g id=\"node326\" class=\"node\">\n<title>325</title>\n<polygon fill=\"none\" stroke=\"#000000\" points=\"5348,-565.5 5249,-565.5 5249,-512.5 5348,-512.5 5348,-565.5\"/>\n<text text-anchor=\"middle\" x=\"5298.5\" y=\"-550.3\" font-family=\"Helvetica,sans-Serif\" font-size=\"14.00\" fill=\"#000000\">gini = 0.0</text>\n<text text-anchor=\"middle\" x=\"5298.5\" y=\"-535.3\" font-family=\"Helvetica,sans-Serif\" font-size=\"14.00\" fill=\"#000000\">samples = 1</text>\n<text text-anchor=\"middle\" x=\"5298.5\" y=\"-520.3\" font-family=\"Helvetica,sans-Serif\" font-size=\"14.00\" fill=\"#000000\">value = [0, 1]</text>\n</g>\n<!-- 323&#45;&gt;325 -->\n<g id=\"edge325\" class=\"edge\">\n<title>323&#45;&gt;325</title>\n<path fill=\"none\" stroke=\"#000000\" d=\"M5259.4914,-608.9465C5265.6343,-597.9316 5272.4601,-585.6922 5278.6627,-574.5703\"/>\n<polygon fill=\"#000000\" stroke=\"#000000\" points=\"5281.8837,-575.9806 5283.6976,-565.5422 5275.7701,-572.5711 5281.8837,-575.9806\"/>\n</g>\n<!-- 331 -->\n<g id=\"node332\" class=\"node\">\n<title>331</title>\n<polygon fill=\"none\" stroke=\"#000000\" points=\"5236,-1293.5 5137,-1293.5 5137,-1240.5 5236,-1240.5 5236,-1293.5\"/>\n<text text-anchor=\"middle\" x=\"5186.5\" y=\"-1278.3\" font-family=\"Helvetica,sans-Serif\" font-size=\"14.00\" fill=\"#000000\">gini = 0.0</text>\n<text text-anchor=\"middle\" x=\"5186.5\" y=\"-1263.3\" font-family=\"Helvetica,sans-Serif\" font-size=\"14.00\" fill=\"#000000\">samples = 1</text>\n<text text-anchor=\"middle\" x=\"5186.5\" y=\"-1248.3\" font-family=\"Helvetica,sans-Serif\" font-size=\"14.00\" fill=\"#000000\">value = [0, 1]</text>\n</g>\n<!-- 330&#45;&gt;331 -->\n<g id=\"edge331\" class=\"edge\">\n<title>330&#45;&gt;331</title>\n<path fill=\"none\" stroke=\"#000000\" d=\"M5186.5,-1336.9465C5186.5,-1326.2621 5186.5,-1314.4254 5186.5,-1303.5742\"/>\n<polygon fill=\"#000000\" stroke=\"#000000\" points=\"5190.0001,-1303.5421 5186.5,-1293.5422 5183.0001,-1303.5422 5190.0001,-1303.5421\"/>\n</g>\n<!-- 332 -->\n<g id=\"node333\" class=\"node\">\n<title>332</title>\n<polygon fill=\"none\" stroke=\"#000000\" points=\"5353,-1293.5 5254,-1293.5 5254,-1240.5 5353,-1240.5 5353,-1293.5\"/>\n<text text-anchor=\"middle\" x=\"5303.5\" y=\"-1278.3\" font-family=\"Helvetica,sans-Serif\" font-size=\"14.00\" fill=\"#000000\">gini = 0.0</text>\n<text text-anchor=\"middle\" x=\"5303.5\" y=\"-1263.3\" font-family=\"Helvetica,sans-Serif\" font-size=\"14.00\" fill=\"#000000\">samples = 4</text>\n<text text-anchor=\"middle\" x=\"5303.5\" y=\"-1248.3\" font-family=\"Helvetica,sans-Serif\" font-size=\"14.00\" fill=\"#000000\">value = [4, 0]</text>\n</g>\n<!-- 330&#45;&gt;332 -->\n<g id=\"edge332\" class=\"edge\">\n<title>330&#45;&gt;332</title>\n<path fill=\"none\" stroke=\"#000000\" d=\"M5224.8102,-1336.9465C5238.0694,-1325.1606 5252.9058,-1311.9726 5266.0916,-1300.2519\"/>\n<polygon fill=\"#000000\" stroke=\"#000000\" points=\"5268.4912,-1302.8018 5273.6401,-1293.5422 5263.8407,-1297.5699 5268.4912,-1302.8018\"/>\n</g>\n</g>\n</svg>\n"
          },
          "metadata": {},
          "execution_count": 54
        }
      ]
    },
    {
      "cell_type": "markdown",
      "source": [
        "The first line of each node (except those of the final row) shows the splitting condition in the form \"feature <= value\". Next, we find the Gini Impurity of the node, which quantifies the purity of the node/leaf. A Gini score greater than zero implies that samples contained within that node belong to different classes. \"Samples\" is simply the number of observations contained in the node. Lastly, \"Value\" shows the class distribution of the samples ([count non_survived, count survived]). \n",
        "  \n",
        "  The split that costs least is chosen since we always want to maximize our accuracy. In our example, the best split is the sex of the passenger. The tree first splits by sex, and then by class, since it has learned during the training phase that these are the two most important features for determining survival. Interestingly, after splitting by class, the main deciding factor determining the survival of women is the ticket fare that they paid, while the deciding factor for men is their age (with children being much more likely to survive).\n",
        "\n",
        "\n"
      ],
      "metadata": {
        "id": "sPTvRqZ8mT7y"
      }
    },
    {
      "cell_type": "markdown",
      "source": [
        "**Changing Decision Tree Parameters**"
      ],
      "metadata": {
        "id": "s7-POV9Em62B"
      }
    },
    {
      "cell_type": "code",
      "source": [
        "dtree= tree.DecisionTreeClassifier(criterion= \"gini\", splitter= \"random\",  max_leaf_nodes= 10, min_samples_leaf= 5, max_depth=10)"
      ],
      "metadata": {
        "id": "DHMsR7IQm8vo"
      },
      "execution_count": 55,
      "outputs": []
    },
    {
      "cell_type": "code",
      "source": [
        "model1= dtree.fit(X_train, y_train)"
      ],
      "metadata": {
        "id": "cku-XDCenAT3"
      },
      "execution_count": 56,
      "outputs": []
    },
    {
      "cell_type": "code",
      "source": [
        "y_pred= model1.predict(X_test)"
      ],
      "metadata": {
        "id": "qlVaJIvinGVw"
      },
      "execution_count": 57,
      "outputs": []
    },
    {
      "cell_type": "code",
      "source": [
        "print(\"score:{}\".format(accuracy_score(y_test, y_pred)))"
      ],
      "metadata": {
        "colab": {
          "base_uri": "https://localhost:8080/"
        },
        "id": "oFr5nf8fnIvi",
        "outputId": "e9bda27c-b174-4ae4-a67b-459253106854"
      },
      "execution_count": 58,
      "outputs": [
        {
          "output_type": "stream",
          "name": "stdout",
          "text": [
            "score:0.8044692737430168\n"
          ]
        }
      ]
    },
    {
      "cell_type": "markdown",
      "source": [
        "By changing some of the decision tree parameters, our overall accuracy increased from 76.5% to 80.4%."
      ],
      "metadata": {
        "id": "eDNc6kJWnZfq"
      }
    },
    {
      "cell_type": "code",
      "source": [
        "dot_data= tree.export_graphviz(model1 , out_file=None)\n",
        "graph= graphviz.Source(dot_data)\n",
        "graph.render(\"new_data\")\n",
        "graph"
      ],
      "metadata": {
        "colab": {
          "base_uri": "https://localhost:8080/",
          "height": 796
        },
        "id": "RJLBXcNInLQD",
        "outputId": "e531f48a-f901-4699-87f3-ba00d1bb33cc"
      },
      "execution_count": 59,
      "outputs": [
        {
          "output_type": "execute_result",
          "data": {
            "text/plain": [
              "<graphviz.files.Source at 0x7fd36e7d9290>"
            ],
            "image/svg+xml": "<?xml version=\"1.0\" encoding=\"UTF-8\" standalone=\"no\"?>\n<!DOCTYPE svg PUBLIC \"-//W3C//DTD SVG 1.1//EN\"\n \"http://www.w3.org/Graphics/SVG/1.1/DTD/svg11.dtd\">\n<!-- Generated by graphviz version 2.40.1 (20161225.0304)\n -->\n<!-- Title: Tree Pages: 1 -->\n<svg width=\"886pt\" height=\"581pt\"\n viewBox=\"0.00 0.00 886.00 581.00\" xmlns=\"http://www.w3.org/2000/svg\" xmlns:xlink=\"http://www.w3.org/1999/xlink\">\n<g id=\"graph0\" class=\"graph\" transform=\"scale(1 1) rotate(0) translate(4 577)\">\n<title>Tree</title>\n<polygon fill=\"#ffffff\" stroke=\"transparent\" points=\"-4,4 -4,-577 882,-577 882,4 -4,4\"/>\n<!-- 0 -->\n<g id=\"node1\" class=\"node\">\n<title>0</title>\n<polygon fill=\"none\" stroke=\"#000000\" points=\"386,-573 254,-573 254,-505 386,-505 386,-573\"/>\n<text text-anchor=\"middle\" x=\"320\" y=\"-557.8\" font-family=\"Helvetica,sans-Serif\" font-size=\"14.00\" fill=\"#000000\">X[2] &lt;= 0.468</text>\n<text text-anchor=\"middle\" x=\"320\" y=\"-542.8\" font-family=\"Helvetica,sans-Serif\" font-size=\"14.00\" fill=\"#000000\">gini = 0.469</text>\n<text text-anchor=\"middle\" x=\"320\" y=\"-527.8\" font-family=\"Helvetica,sans-Serif\" font-size=\"14.00\" fill=\"#000000\">samples = 712</text>\n<text text-anchor=\"middle\" x=\"320\" y=\"-512.8\" font-family=\"Helvetica,sans-Serif\" font-size=\"14.00\" fill=\"#000000\">value = [444, 268]</text>\n</g>\n<!-- 1 -->\n<g id=\"node2\" class=\"node\">\n<title>1</title>\n<polygon fill=\"none\" stroke=\"#000000\" points=\"311,-469 187,-469 187,-401 311,-401 311,-469\"/>\n<text text-anchor=\"middle\" x=\"249\" y=\"-453.8\" font-family=\"Helvetica,sans-Serif\" font-size=\"14.00\" fill=\"#000000\">X[0] &lt;= 2.123</text>\n<text text-anchor=\"middle\" x=\"249\" y=\"-438.8\" font-family=\"Helvetica,sans-Serif\" font-size=\"14.00\" fill=\"#000000\">gini = 0.39</text>\n<text text-anchor=\"middle\" x=\"249\" y=\"-423.8\" font-family=\"Helvetica,sans-Serif\" font-size=\"14.00\" fill=\"#000000\">samples = 252</text>\n<text text-anchor=\"middle\" x=\"249\" y=\"-408.8\" font-family=\"Helvetica,sans-Serif\" font-size=\"14.00\" fill=\"#000000\">value = [67, 185]</text>\n</g>\n<!-- 0&#45;&gt;1 -->\n<g id=\"edge1\" class=\"edge\">\n<title>0&#45;&gt;1</title>\n<path fill=\"none\" stroke=\"#000000\" d=\"M296.7519,-504.9465C290.745,-496.1475 284.2045,-486.5672 277.9457,-477.3993\"/>\n<polygon fill=\"#000000\" stroke=\"#000000\" points=\"280.8293,-475.4155 272.3003,-469.13 275.048,-479.3623 280.8293,-475.4155\"/>\n<text text-anchor=\"middle\" x=\"267.6676\" y=\"-489.997\" font-family=\"Helvetica,sans-Serif\" font-size=\"14.00\" fill=\"#000000\">True</text>\n</g>\n<!-- 2 -->\n<g id=\"node9\" class=\"node\">\n<title>2</title>\n<polygon fill=\"none\" stroke=\"#000000\" points=\"497,-469 373,-469 373,-401 497,-401 497,-469\"/>\n<text text-anchor=\"middle\" x=\"435\" y=\"-453.8\" font-family=\"Helvetica,sans-Serif\" font-size=\"14.00\" fill=\"#000000\">X[0] &lt;= 1.159</text>\n<text text-anchor=\"middle\" x=\"435\" y=\"-438.8\" font-family=\"Helvetica,sans-Serif\" font-size=\"14.00\" fill=\"#000000\">gini = 0.296</text>\n<text text-anchor=\"middle\" x=\"435\" y=\"-423.8\" font-family=\"Helvetica,sans-Serif\" font-size=\"14.00\" fill=\"#000000\">samples = 460</text>\n<text text-anchor=\"middle\" x=\"435\" y=\"-408.8\" font-family=\"Helvetica,sans-Serif\" font-size=\"14.00\" fill=\"#000000\">value = [377, 83]</text>\n</g>\n<!-- 0&#45;&gt;2 -->\n<g id=\"edge8\" class=\"edge\">\n<title>0&#45;&gt;2</title>\n<path fill=\"none\" stroke=\"#000000\" d=\"M357.6553,-504.9465C367.8813,-495.6986 379.0618,-485.5876 389.6641,-475.9994\"/>\n<polygon fill=\"#000000\" stroke=\"#000000\" points=\"392.1908,-478.4334 397.2601,-469.13 387.4956,-473.2416 392.1908,-478.4334\"/>\n<text text-anchor=\"middle\" x=\"396.006\" y=\"-490.3985\" font-family=\"Helvetica,sans-Serif\" font-size=\"14.00\" fill=\"#000000\">False</text>\n</g>\n<!-- 3 -->\n<g id=\"node3\" class=\"node\">\n<title>3</title>\n<polygon fill=\"none\" stroke=\"#000000\" points=\"173,-357.5 57,-357.5 57,-304.5 173,-304.5 173,-357.5\"/>\n<text text-anchor=\"middle\" x=\"115\" y=\"-342.3\" font-family=\"Helvetica,sans-Serif\" font-size=\"14.00\" fill=\"#000000\">gini = 0.1</text>\n<text text-anchor=\"middle\" x=\"115\" y=\"-327.3\" font-family=\"Helvetica,sans-Serif\" font-size=\"14.00\" fill=\"#000000\">samples = 133</text>\n<text text-anchor=\"middle\" x=\"115\" y=\"-312.3\" font-family=\"Helvetica,sans-Serif\" font-size=\"14.00\" fill=\"#000000\">value = [7, 126]</text>\n</g>\n<!-- 1&#45;&gt;3 -->\n<g id=\"edge2\" class=\"edge\">\n<title>1&#45;&gt;3</title>\n<path fill=\"none\" stroke=\"#000000\" d=\"M205.1234,-400.9465C189.7957,-389.0504 172.6277,-375.726 157.4209,-363.9237\"/>\n<polygon fill=\"#000000\" stroke=\"#000000\" points=\"159.2444,-360.9085 149.1986,-357.5422 154.9525,-366.4384 159.2444,-360.9085\"/>\n</g>\n<!-- 4 -->\n<g id=\"node4\" class=\"node\">\n<title>4</title>\n<polygon fill=\"none\" stroke=\"#000000\" points=\"307,-365 191,-365 191,-297 307,-297 307,-365\"/>\n<text text-anchor=\"middle\" x=\"249\" y=\"-349.8\" font-family=\"Helvetica,sans-Serif\" font-size=\"14.00\" fill=\"#000000\">X[4] &lt;= 39.004</text>\n<text text-anchor=\"middle\" x=\"249\" y=\"-334.8\" font-family=\"Helvetica,sans-Serif\" font-size=\"14.00\" fill=\"#000000\">gini = 0.5</text>\n<text text-anchor=\"middle\" x=\"249\" y=\"-319.8\" font-family=\"Helvetica,sans-Serif\" font-size=\"14.00\" fill=\"#000000\">samples = 119</text>\n<text text-anchor=\"middle\" x=\"249\" y=\"-304.8\" font-family=\"Helvetica,sans-Serif\" font-size=\"14.00\" fill=\"#000000\">value = [60, 59]</text>\n</g>\n<!-- 1&#45;&gt;4 -->\n<g id=\"edge3\" class=\"edge\">\n<title>1&#45;&gt;4</title>\n<path fill=\"none\" stroke=\"#000000\" d=\"M249,-400.9465C249,-392.776 249,-383.9318 249,-375.3697\"/>\n<polygon fill=\"#000000\" stroke=\"#000000\" points=\"252.5001,-375.13 249,-365.13 245.5001,-375.13 252.5001,-375.13\"/>\n</g>\n<!-- 13 -->\n<g id=\"node5\" class=\"node\">\n<title>13</title>\n<polygon fill=\"none\" stroke=\"#000000\" points=\"181,-261 65,-261 65,-193 181,-193 181,-261\"/>\n<text text-anchor=\"middle\" x=\"123\" y=\"-245.8\" font-family=\"Helvetica,sans-Serif\" font-size=\"14.00\" fill=\"#000000\">X[4] &lt;= 22.346</text>\n<text text-anchor=\"middle\" x=\"123\" y=\"-230.8\" font-family=\"Helvetica,sans-Serif\" font-size=\"14.00\" fill=\"#000000\">gini = 0.499</text>\n<text text-anchor=\"middle\" x=\"123\" y=\"-215.8\" font-family=\"Helvetica,sans-Serif\" font-size=\"14.00\" fill=\"#000000\">samples = 114</text>\n<text text-anchor=\"middle\" x=\"123\" y=\"-200.8\" font-family=\"Helvetica,sans-Serif\" font-size=\"14.00\" fill=\"#000000\">value = [55, 59]</text>\n</g>\n<!-- 4&#45;&gt;13 -->\n<g id=\"edge4\" class=\"edge\">\n<title>4&#45;&gt;13</title>\n<path fill=\"none\" stroke=\"#000000\" d=\"M207.7429,-296.9465C196.4299,-287.6088 184.0508,-277.3911 172.3342,-267.7203\"/>\n<polygon fill=\"#000000\" stroke=\"#000000\" points=\"174.29,-264.7964 164.3498,-261.13 169.8341,-270.195 174.29,-264.7964\"/>\n</g>\n<!-- 14 -->\n<g id=\"node8\" class=\"node\">\n<title>14</title>\n<polygon fill=\"none\" stroke=\"#000000\" points=\"298.5,-253.5 199.5,-253.5 199.5,-200.5 298.5,-200.5 298.5,-253.5\"/>\n<text text-anchor=\"middle\" x=\"249\" y=\"-238.3\" font-family=\"Helvetica,sans-Serif\" font-size=\"14.00\" fill=\"#000000\">gini = 0.0</text>\n<text text-anchor=\"middle\" x=\"249\" y=\"-223.3\" font-family=\"Helvetica,sans-Serif\" font-size=\"14.00\" fill=\"#000000\">samples = 5</text>\n<text text-anchor=\"middle\" x=\"249\" y=\"-208.3\" font-family=\"Helvetica,sans-Serif\" font-size=\"14.00\" fill=\"#000000\">value = [5, 0]</text>\n</g>\n<!-- 4&#45;&gt;14 -->\n<g id=\"edge7\" class=\"edge\">\n<title>4&#45;&gt;14</title>\n<path fill=\"none\" stroke=\"#000000\" d=\"M249,-296.9465C249,-286.2621 249,-274.4254 249,-263.5742\"/>\n<polygon fill=\"#000000\" stroke=\"#000000\" points=\"252.5001,-263.5421 249,-253.5422 245.5001,-263.5422 252.5001,-263.5421\"/>\n</g>\n<!-- 15 -->\n<g id=\"node6\" class=\"node\">\n<title>15</title>\n<polygon fill=\"none\" stroke=\"#000000\" points=\"116,-149.5 0,-149.5 0,-96.5 116,-96.5 116,-149.5\"/>\n<text text-anchor=\"middle\" x=\"58\" y=\"-134.3\" font-family=\"Helvetica,sans-Serif\" font-size=\"14.00\" fill=\"#000000\">gini = 0.487</text>\n<text text-anchor=\"middle\" x=\"58\" y=\"-119.3\" font-family=\"Helvetica,sans-Serif\" font-size=\"14.00\" fill=\"#000000\">samples = 93</text>\n<text text-anchor=\"middle\" x=\"58\" y=\"-104.3\" font-family=\"Helvetica,sans-Serif\" font-size=\"14.00\" fill=\"#000000\">value = [39, 54]</text>\n</g>\n<!-- 13&#45;&gt;15 -->\n<g id=\"edge5\" class=\"edge\">\n<title>13&#45;&gt;15</title>\n<path fill=\"none\" stroke=\"#000000\" d=\"M101.7166,-192.9465C94.7634,-181.8215 87.0295,-169.4473 80.0231,-158.237\"/>\n<polygon fill=\"#000000\" stroke=\"#000000\" points=\"82.8569,-156.1671 74.5889,-149.5422 76.9209,-159.8772 82.8569,-156.1671\"/>\n</g>\n<!-- 16 -->\n<g id=\"node7\" class=\"node\">\n<title>16</title>\n<polygon fill=\"none\" stroke=\"#000000\" points=\"241.5,-149.5 134.5,-149.5 134.5,-96.5 241.5,-96.5 241.5,-149.5\"/>\n<text text-anchor=\"middle\" x=\"188\" y=\"-134.3\" font-family=\"Helvetica,sans-Serif\" font-size=\"14.00\" fill=\"#000000\">gini = 0.363</text>\n<text text-anchor=\"middle\" x=\"188\" y=\"-119.3\" font-family=\"Helvetica,sans-Serif\" font-size=\"14.00\" fill=\"#000000\">samples = 21</text>\n<text text-anchor=\"middle\" x=\"188\" y=\"-104.3\" font-family=\"Helvetica,sans-Serif\" font-size=\"14.00\" fill=\"#000000\">value = [16, 5]</text>\n</g>\n<!-- 13&#45;&gt;16 -->\n<g id=\"edge6\" class=\"edge\">\n<title>13&#45;&gt;16</title>\n<path fill=\"none\" stroke=\"#000000\" d=\"M144.2834,-192.9465C151.2366,-181.8215 158.9705,-169.4473 165.9769,-158.237\"/>\n<polygon fill=\"#000000\" stroke=\"#000000\" points=\"169.0791,-159.8772 171.4111,-149.5422 163.1431,-156.1671 169.0791,-159.8772\"/>\n</g>\n<!-- 5 -->\n<g id=\"node10\" class=\"node\">\n<title>5</title>\n<polygon fill=\"none\" stroke=\"#000000\" points=\"493,-365 377,-365 377,-297 493,-297 493,-365\"/>\n<text text-anchor=\"middle\" x=\"435\" y=\"-349.8\" font-family=\"Helvetica,sans-Serif\" font-size=\"14.00\" fill=\"#000000\">X[1] &lt;= 23.997</text>\n<text text-anchor=\"middle\" x=\"435\" y=\"-334.8\" font-family=\"Helvetica,sans-Serif\" font-size=\"14.00\" fill=\"#000000\">gini = 0.461</text>\n<text text-anchor=\"middle\" x=\"435\" y=\"-319.8\" font-family=\"Helvetica,sans-Serif\" font-size=\"14.00\" fill=\"#000000\">samples = 100</text>\n<text text-anchor=\"middle\" x=\"435\" y=\"-304.8\" font-family=\"Helvetica,sans-Serif\" font-size=\"14.00\" fill=\"#000000\">value = [64, 36]</text>\n</g>\n<!-- 2&#45;&gt;5 -->\n<g id=\"edge9\" class=\"edge\">\n<title>2&#45;&gt;5</title>\n<path fill=\"none\" stroke=\"#000000\" d=\"M435,-400.9465C435,-392.776 435,-383.9318 435,-375.3697\"/>\n<polygon fill=\"#000000\" stroke=\"#000000\" points=\"438.5001,-375.13 435,-365.13 431.5001,-375.13 438.5001,-375.13\"/>\n</g>\n<!-- 6 -->\n<g id=\"node13\" class=\"node\">\n<title>6</title>\n<polygon fill=\"none\" stroke=\"#000000\" points=\"680,-365 556,-365 556,-297 680,-297 680,-365\"/>\n<text text-anchor=\"middle\" x=\"618\" y=\"-349.8\" font-family=\"Helvetica,sans-Serif\" font-size=\"14.00\" fill=\"#000000\">X[1] &lt;= 1.84</text>\n<text text-anchor=\"middle\" x=\"618\" y=\"-334.8\" font-family=\"Helvetica,sans-Serif\" font-size=\"14.00\" fill=\"#000000\">gini = 0.227</text>\n<text text-anchor=\"middle\" x=\"618\" y=\"-319.8\" font-family=\"Helvetica,sans-Serif\" font-size=\"14.00\" fill=\"#000000\">samples = 360</text>\n<text text-anchor=\"middle\" x=\"618\" y=\"-304.8\" font-family=\"Helvetica,sans-Serif\" font-size=\"14.00\" fill=\"#000000\">value = [313, 47]</text>\n</g>\n<!-- 2&#45;&gt;6 -->\n<g id=\"edge12\" class=\"edge\">\n<title>2&#45;&gt;6</title>\n<path fill=\"none\" stroke=\"#000000\" d=\"M494.921,-400.9465C512.1417,-391.1599 531.0633,-380.4066 548.7954,-370.3294\"/>\n<polygon fill=\"#000000\" stroke=\"#000000\" points=\"550.9796,-373.1139 557.9443,-365.13 547.5209,-367.028 550.9796,-373.1139\"/>\n</g>\n<!-- 17 -->\n<g id=\"node11\" class=\"node\">\n<title>17</title>\n<polygon fill=\"none\" stroke=\"#000000\" points=\"415.5,-253.5 316.5,-253.5 316.5,-200.5 415.5,-200.5 415.5,-253.5\"/>\n<text text-anchor=\"middle\" x=\"366\" y=\"-238.3\" font-family=\"Helvetica,sans-Serif\" font-size=\"14.00\" fill=\"#000000\">gini = 0.49</text>\n<text text-anchor=\"middle\" x=\"366\" y=\"-223.3\" font-family=\"Helvetica,sans-Serif\" font-size=\"14.00\" fill=\"#000000\">samples = 7</text>\n<text text-anchor=\"middle\" x=\"366\" y=\"-208.3\" font-family=\"Helvetica,sans-Serif\" font-size=\"14.00\" fill=\"#000000\">value = [3, 4]</text>\n</g>\n<!-- 5&#45;&gt;17 -->\n<g id=\"edge10\" class=\"edge\">\n<title>5&#45;&gt;17</title>\n<path fill=\"none\" stroke=\"#000000\" d=\"M412.4068,-296.9465C404.9527,-285.7113 396.6533,-273.2021 389.1577,-261.9043\"/>\n<polygon fill=\"#000000\" stroke=\"#000000\" points=\"392.0547,-259.94 383.6097,-253.5422 386.2218,-263.81 392.0547,-259.94\"/>\n</g>\n<!-- 18 -->\n<g id=\"node12\" class=\"node\">\n<title>18</title>\n<polygon fill=\"none\" stroke=\"#000000\" points=\"550,-253.5 434,-253.5 434,-200.5 550,-200.5 550,-253.5\"/>\n<text text-anchor=\"middle\" x=\"492\" y=\"-238.3\" font-family=\"Helvetica,sans-Serif\" font-size=\"14.00\" fill=\"#000000\">gini = 0.451</text>\n<text text-anchor=\"middle\" x=\"492\" y=\"-223.3\" font-family=\"Helvetica,sans-Serif\" font-size=\"14.00\" fill=\"#000000\">samples = 93</text>\n<text text-anchor=\"middle\" x=\"492\" y=\"-208.3\" font-family=\"Helvetica,sans-Serif\" font-size=\"14.00\" fill=\"#000000\">value = [61, 32]</text>\n</g>\n<!-- 5&#45;&gt;18 -->\n<g id=\"edge11\" class=\"edge\">\n<title>5&#45;&gt;18</title>\n<path fill=\"none\" stroke=\"#000000\" d=\"M453.6639,-296.9465C459.7009,-285.9316 466.4091,-273.6922 472.5047,-262.5703\"/>\n<polygon fill=\"#000000\" stroke=\"#000000\" points=\"475.7158,-263.9936 477.4529,-253.5422 469.5773,-260.6292 475.7158,-263.9936\"/>\n</g>\n<!-- 7 -->\n<g id=\"node14\" class=\"node\">\n<title>7</title>\n<polygon fill=\"none\" stroke=\"#000000\" points=\"667.5,-253.5 568.5,-253.5 568.5,-200.5 667.5,-200.5 667.5,-253.5\"/>\n<text text-anchor=\"middle\" x=\"618\" y=\"-238.3\" font-family=\"Helvetica,sans-Serif\" font-size=\"14.00\" fill=\"#000000\">gini = 0.278</text>\n<text text-anchor=\"middle\" x=\"618\" y=\"-223.3\" font-family=\"Helvetica,sans-Serif\" font-size=\"14.00\" fill=\"#000000\">samples = 6</text>\n<text text-anchor=\"middle\" x=\"618\" y=\"-208.3\" font-family=\"Helvetica,sans-Serif\" font-size=\"14.00\" fill=\"#000000\">value = [1, 5]</text>\n</g>\n<!-- 6&#45;&gt;7 -->\n<g id=\"edge13\" class=\"edge\">\n<title>6&#45;&gt;7</title>\n<path fill=\"none\" stroke=\"#000000\" d=\"M618,-296.9465C618,-286.2621 618,-274.4254 618,-263.5742\"/>\n<polygon fill=\"#000000\" stroke=\"#000000\" points=\"621.5001,-263.5421 618,-253.5422 614.5001,-263.5422 621.5001,-263.5421\"/>\n</g>\n<!-- 8 -->\n<g id=\"node15\" class=\"node\">\n<title>8</title>\n<polygon fill=\"none\" stroke=\"#000000\" points=\"810,-261 686,-261 686,-193 810,-193 810,-261\"/>\n<text text-anchor=\"middle\" x=\"748\" y=\"-245.8\" font-family=\"Helvetica,sans-Serif\" font-size=\"14.00\" fill=\"#000000\">X[5] &lt;= 0.653</text>\n<text text-anchor=\"middle\" x=\"748\" y=\"-230.8\" font-family=\"Helvetica,sans-Serif\" font-size=\"14.00\" fill=\"#000000\">gini = 0.209</text>\n<text text-anchor=\"middle\" x=\"748\" y=\"-215.8\" font-family=\"Helvetica,sans-Serif\" font-size=\"14.00\" fill=\"#000000\">samples = 354</text>\n<text text-anchor=\"middle\" x=\"748\" y=\"-200.8\" font-family=\"Helvetica,sans-Serif\" font-size=\"14.00\" fill=\"#000000\">value = [312, 42]</text>\n</g>\n<!-- 6&#45;&gt;8 -->\n<g id=\"edge14\" class=\"edge\">\n<title>6&#45;&gt;8</title>\n<path fill=\"none\" stroke=\"#000000\" d=\"M660.5669,-296.9465C672.3512,-287.519 685.2568,-277.1946 697.4481,-267.4415\"/>\n<polygon fill=\"#000000\" stroke=\"#000000\" points=\"699.7152,-270.11 705.3375,-261.13 695.3423,-264.6439 699.7152,-270.11\"/>\n</g>\n<!-- 9 -->\n<g id=\"node16\" class=\"node\">\n<title>9</title>\n<polygon fill=\"none\" stroke=\"#000000\" points=\"735.5,-157 624.5,-157 624.5,-89 735.5,-89 735.5,-157\"/>\n<text text-anchor=\"middle\" x=\"680\" y=\"-141.8\" font-family=\"Helvetica,sans-Serif\" font-size=\"14.00\" fill=\"#000000\">X[4] &lt;= 23.548</text>\n<text text-anchor=\"middle\" x=\"680\" y=\"-126.8\" font-family=\"Helvetica,sans-Serif\" font-size=\"14.00\" fill=\"#000000\">gini = 0.463</text>\n<text text-anchor=\"middle\" x=\"680\" y=\"-111.8\" font-family=\"Helvetica,sans-Serif\" font-size=\"14.00\" fill=\"#000000\">samples = 22</text>\n<text text-anchor=\"middle\" x=\"680\" y=\"-96.8\" font-family=\"Helvetica,sans-Serif\" font-size=\"14.00\" fill=\"#000000\">value = [14, 8]</text>\n</g>\n<!-- 8&#45;&gt;9 -->\n<g id=\"edge15\" class=\"edge\">\n<title>8&#45;&gt;9</title>\n<path fill=\"none\" stroke=\"#000000\" d=\"M725.7343,-192.9465C720.0398,-184.2373 713.8448,-174.7626 707.9062,-165.6801\"/>\n<polygon fill=\"#000000\" stroke=\"#000000\" points=\"710.7177,-163.5843 702.3158,-157.13 704.8589,-167.4151 710.7177,-163.5843\"/>\n</g>\n<!-- 10 -->\n<g id=\"node19\" class=\"node\">\n<title>10</title>\n<polygon fill=\"none\" stroke=\"#000000\" points=\"878,-149.5 754,-149.5 754,-96.5 878,-96.5 878,-149.5\"/>\n<text text-anchor=\"middle\" x=\"816\" y=\"-134.3\" font-family=\"Helvetica,sans-Serif\" font-size=\"14.00\" fill=\"#000000\">gini = 0.184</text>\n<text text-anchor=\"middle\" x=\"816\" y=\"-119.3\" font-family=\"Helvetica,sans-Serif\" font-size=\"14.00\" fill=\"#000000\">samples = 332</text>\n<text text-anchor=\"middle\" x=\"816\" y=\"-104.3\" font-family=\"Helvetica,sans-Serif\" font-size=\"14.00\" fill=\"#000000\">value = [298, 34]</text>\n</g>\n<!-- 8&#45;&gt;10 -->\n<g id=\"edge18\" class=\"edge\">\n<title>8&#45;&gt;10</title>\n<path fill=\"none\" stroke=\"#000000\" d=\"M770.2657,-192.9465C777.5398,-181.8215 785.6306,-169.4473 792.9604,-158.237\"/>\n<polygon fill=\"#000000\" stroke=\"#000000\" points=\"796.1024,-159.8273 798.6455,-149.5422 790.2436,-155.9965 796.1024,-159.8273\"/>\n</g>\n<!-- 11 -->\n<g id=\"node17\" class=\"node\">\n<title>11</title>\n<polygon fill=\"none\" stroke=\"#000000\" points=\"668.5,-53 569.5,-53 569.5,0 668.5,0 668.5,-53\"/>\n<text text-anchor=\"middle\" x=\"619\" y=\"-37.8\" font-family=\"Helvetica,sans-Serif\" font-size=\"14.00\" fill=\"#000000\">gini = 0.245</text>\n<text text-anchor=\"middle\" x=\"619\" y=\"-22.8\" font-family=\"Helvetica,sans-Serif\" font-size=\"14.00\" fill=\"#000000\">samples = 7</text>\n<text text-anchor=\"middle\" x=\"619\" y=\"-7.8\" font-family=\"Helvetica,sans-Serif\" font-size=\"14.00\" fill=\"#000000\">value = [1, 6]</text>\n</g>\n<!-- 9&#45;&gt;11 -->\n<g id=\"edge16\" class=\"edge\">\n<title>9&#45;&gt;11</title>\n<path fill=\"none\" stroke=\"#000000\" d=\"M658.4937,-88.9777C652.9369,-80.187 646.9427,-70.7044 641.3441,-61.8477\"/>\n<polygon fill=\"#000000\" stroke=\"#000000\" points=\"644.2101,-59.8312 635.9084,-53.2485 638.2931,-63.5714 644.2101,-59.8312\"/>\n</g>\n<!-- 12 -->\n<g id=\"node18\" class=\"node\">\n<title>12</title>\n<polygon fill=\"none\" stroke=\"#000000\" points=\"793.5,-53 686.5,-53 686.5,0 793.5,0 793.5,-53\"/>\n<text text-anchor=\"middle\" x=\"740\" y=\"-37.8\" font-family=\"Helvetica,sans-Serif\" font-size=\"14.00\" fill=\"#000000\">gini = 0.231</text>\n<text text-anchor=\"middle\" x=\"740\" y=\"-22.8\" font-family=\"Helvetica,sans-Serif\" font-size=\"14.00\" fill=\"#000000\">samples = 15</text>\n<text text-anchor=\"middle\" x=\"740\" y=\"-7.8\" font-family=\"Helvetica,sans-Serif\" font-size=\"14.00\" fill=\"#000000\">value = [13, 2]</text>\n</g>\n<!-- 9&#45;&gt;12 -->\n<g id=\"edge17\" class=\"edge\">\n<title>9&#45;&gt;12</title>\n<path fill=\"none\" stroke=\"#000000\" d=\"M701.1538,-88.9777C706.6195,-80.187 712.5154,-70.7044 718.0222,-61.8477\"/>\n<polygon fill=\"#000000\" stroke=\"#000000\" points=\"721.0609,-63.5889 723.3688,-53.2485 715.1163,-59.8927 721.0609,-63.5889\"/>\n</g>\n</g>\n</svg>\n"
          },
          "metadata": {},
          "execution_count": 59
        }
      ]
    },
    {
      "cell_type": "markdown",
      "source": [
        "#**Random Forest**\n",
        "Creating a Random Forest"
      ],
      "metadata": {
        "id": "h6WyyDyWnwxH"
      }
    },
    {
      "cell_type": "code",
      "source": [
        "from sklearn.ensemble import RandomForestClassifier"
      ],
      "metadata": {
        "id": "M_PpRvUhnpNh"
      },
      "execution_count": 60,
      "outputs": []
    },
    {
      "cell_type": "code",
      "source": [
        "clf= RandomForestClassifier()"
      ],
      "metadata": {
        "id": "-aOM0Ouan59d"
      },
      "execution_count": 61,
      "outputs": []
    },
    {
      "cell_type": "code",
      "source": [
        "#Training our Model\n",
        "clf.fit(X_train, y_train)"
      ],
      "metadata": {
        "colab": {
          "base_uri": "https://localhost:8080/"
        },
        "id": "dL6olSDqn8Mi",
        "outputId": "1af14af2-99b6-401f-f3b8-b1aa096b24cd"
      },
      "execution_count": 62,
      "outputs": [
        {
          "output_type": "execute_result",
          "data": {
            "text/plain": [
              "RandomForestClassifier()"
            ]
          },
          "metadata": {},
          "execution_count": 62
        }
      ]
    },
    {
      "cell_type": "code",
      "source": [
        "#Testing our Model\n",
        "y_pred=clf.predict(X_test)"
      ],
      "metadata": {
        "id": "sEOI0JztoAct"
      },
      "execution_count": 63,
      "outputs": []
    },
    {
      "cell_type": "code",
      "source": [
        "#Testing our Model's accuracy\n",
        "from sklearn import metrics "
      ],
      "metadata": {
        "id": "iheDFxxGoFxh"
      },
      "execution_count": 64,
      "outputs": []
    },
    {
      "cell_type": "code",
      "source": [
        "print(\"Accuracy:\", metrics.accuracy_score(y_test, y_pred))"
      ],
      "metadata": {
        "colab": {
          "base_uri": "https://localhost:8080/"
        },
        "id": "8-QhGnMgoJwv",
        "outputId": "171f04e5-dc19-4deb-c8d6-d51d0467fedf"
      },
      "execution_count": 65,
      "outputs": [
        {
          "output_type": "stream",
          "name": "stdout",
          "text": [
            "Accuracy: 0.8435754189944135\n"
          ]
        }
      ]
    },
    {
      "cell_type": "code",
      "source": [
        "clf1= RandomForestClassifier(n_estimators=50)"
      ],
      "metadata": {
        "id": "hnhtDcPmoMfP"
      },
      "execution_count": 66,
      "outputs": []
    },
    {
      "cell_type": "code",
      "source": [
        "clf1.fit(X_train, y_train)"
      ],
      "metadata": {
        "colab": {
          "base_uri": "https://localhost:8080/"
        },
        "id": "6AxV6EiXoWr9",
        "outputId": "537e1e4f-fd8e-46e4-92b1-c98ac6b14133"
      },
      "execution_count": 67,
      "outputs": [
        {
          "output_type": "execute_result",
          "data": {
            "text/plain": [
              "RandomForestClassifier(n_estimators=50)"
            ]
          },
          "metadata": {},
          "execution_count": 67
        }
      ]
    },
    {
      "cell_type": "code",
      "source": [
        "y_pred=clf1.predict(X_test)"
      ],
      "metadata": {
        "id": "WO-MhgC6oZ2A"
      },
      "execution_count": 68,
      "outputs": []
    },
    {
      "cell_type": "code",
      "source": [
        "print(\"Accuracy:\", metrics.accuracy_score(y_test, y_pred))"
      ],
      "metadata": {
        "colab": {
          "base_uri": "https://localhost:8080/"
        },
        "id": "KhEzU23WogN8",
        "outputId": "6775bcae-8bd1-4acb-fd85-ec5d9db82543"
      },
      "execution_count": 70,
      "outputs": [
        {
          "output_type": "stream",
          "name": "stdout",
          "text": [
            "Accuracy: 0.8268156424581006\n"
          ]
        }
      ]
    },
    {
      "cell_type": "markdown",
      "source": [
        "By changing the number estimators, the result shows that our random forest classifier's overall accuracy decreased from 84.6% to 82.3%."
      ],
      "metadata": {
        "id": "hjjOhb3mo5Xj"
      }
    }
  ]
}